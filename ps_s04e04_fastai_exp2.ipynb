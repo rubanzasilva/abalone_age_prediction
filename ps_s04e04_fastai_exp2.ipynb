{
  "metadata": {
    "colab": {
      "provenance": [],
      "gpuType": "T4",
      "collapsed_sections": [
        "wAxP8zexuvkN",
        "b_6Dvh6nwBsd"
      ],
      "include_colab_link": true
    },
    "kernelspec": {
      "name": "python3",
      "display_name": "Python 3",
      "language": "python"
    },
    "language_info": {
      "name": "python",
      "version": "3.10.13",
      "mimetype": "text/x-python",
      "codemirror_mode": {
        "name": "ipython",
        "version": 3
      },
      "pygments_lexer": "ipython3",
      "nbconvert_exporter": "python",
      "file_extension": ".py"
    },
    "accelerator": "GPU",
    "kaggle": {
      "accelerator": "none",
      "dataSources": [
        {
          "sourceId": 72489,
          "databundleVersionId": 8096274,
          "sourceType": "competition"
        },
        {
          "sourceId": 8235698,
          "sourceType": "datasetVersion",
          "datasetId": 4884752
        }
      ],
      "dockerImageVersionId": 30683,
      "isInternetEnabled": true,
      "language": "python",
      "sourceType": "notebook",
      "isGpuEnabled": false
    }
  },
  "nbformat_minor": 0,
  "nbformat": 4,
  "cells": [
    {
      "cell_type": "markdown",
      "metadata": {
        "id": "view-in-github",
        "colab_type": "text"
      },
      "source": [
        "<a href=\"https://colab.research.google.com/github/rubanzasilva/abalone_age_prediction/blob/dev/ps_s04e04_fastai_exp2.ipynb\" target=\"_parent\"><img src=\"https://colab.research.google.com/assets/colab-badge.svg\" alt=\"Open In Colab\"/></a>"
      ]
    },
    {
      "source": [
        "\n",
        "# IMPORTANT: RUN THIS CELL IN ORDER TO IMPORT YOUR KAGGLE DATA SOURCES\n",
        "# TO THE CORRECT LOCATION (/kaggle/input) IN YOUR NOTEBOOK,\n",
        "# THEN FEEL FREE TO DELETE THIS CELL.\n",
        "# NOTE: THIS NOTEBOOK ENVIRONMENT DIFFERS FROM KAGGLE'S PYTHON\n",
        "# ENVIRONMENT SO THERE MAY BE MISSING LIBRARIES USED BY YOUR\n",
        "# NOTEBOOK.\n",
        "\n",
        "import os\n",
        "import sys\n",
        "from tempfile import NamedTemporaryFile\n",
        "from urllib.request import urlopen\n",
        "from urllib.parse import unquote, urlparse\n",
        "from urllib.error import HTTPError\n",
        "from zipfile import ZipFile\n",
        "import tarfile\n",
        "import shutil\n",
        "\n",
        "CHUNK_SIZE = 40960\n",
        "DATA_SOURCE_MAPPING = 'playground-series-s4e4:https%3A%2F%2Fstorage.googleapis.com%2Fkaggle-competitions-data%2Fkaggle-v2%2F72489%2F8096274%2Fbundle%2Farchive.zip%3FX-Goog-Algorithm%3DGOOG4-RSA-SHA256%26X-Goog-Credential%3Dgcp-kaggle-com%2540kaggle-161607.iam.gserviceaccount.com%252F20240427%252Fauto%252Fstorage%252Fgoog4_request%26X-Goog-Date%3D20240427T080434Z%26X-Goog-Expires%3D259200%26X-Goog-SignedHeaders%3Dhost%26X-Goog-Signature%3D2e6860094c8d08ebd9a77014c82612a2d29a737971dfc1d7ca7596e842eddb667a179a5bd0bc8e9650de18f725e0225a0dc28e51b4dff4026f7421cac35fc2037289e5b5064df73201c524aa4c4e69f67d55878f000c6dbdbac6e74e203477350e6169ef50119eef759030ac93f06c00875efee36ca8edd79f8ff872ac631f5f1041c339ca464a014c6fdd5c573d430a7625db1971e2e03269ad1a8b37f24e47b3ef203d0e74e7fcbf1c08e4a3a4aa6ef94fb4f1e0c8777ac7709678d5412d4e2576c48d33d52e6bd420590f947149a72ce4532bbb77491cd767d80f32e955414b466fc26b3369fe63017e60694fc23f52fe797c4654da1c5fea8feeec4823a4,abalone-original-dataset:https%3A%2F%2Fstorage.googleapis.com%2Fkaggle-data-sets%2F4884752%2F8235698%2Fbundle%2Farchive.zip%3FX-Goog-Algorithm%3DGOOG4-RSA-SHA256%26X-Goog-Credential%3Dgcp-kaggle-com%2540kaggle-161607.iam.gserviceaccount.com%252F20240427%252Fauto%252Fstorage%252Fgoog4_request%26X-Goog-Date%3D20240427T080435Z%26X-Goog-Expires%3D259200%26X-Goog-SignedHeaders%3Dhost%26X-Goog-Signature%3D982d2fa212d5a38ddf86fe7e28d43aa27850ccc6cec8cbdaa71f979d41384e1f201fb1706b17bc3b014a65b48baac02985b9a722ec5f885e5088b7c697eb5a6ab5a11f79702cd82400214ece77a70a9a737b80c9df530f9cdc3811541cdb69a6a6a595ea78de24d6722063300ca0f2b4e711f799990e11afdbc822ce74d578a865c4cc04a0b199a826fb2ac007fc9852b09d57c85ceb9613b1cfd09ecc01c798434e9c9d13d446de759a696f50fc899f3169c7e03020d785411edefa22356dd3fa966b058a00d57bb89477db31652d9ec13285076216dcd6c5cfed2a862afd753c83fcba01906b8b58683fe82430fa5995719ec80d9acd073544c6f37b4657db'\n",
        "\n",
        "KAGGLE_INPUT_PATH='/kaggle/input'\n",
        "KAGGLE_WORKING_PATH='/kaggle/working'\n",
        "KAGGLE_SYMLINK='kaggle'\n",
        "\n",
        "!umount /kaggle/input/ 2> /dev/null\n",
        "shutil.rmtree('/kaggle/input', ignore_errors=True)\n",
        "os.makedirs(KAGGLE_INPUT_PATH, 0o777, exist_ok=True)\n",
        "os.makedirs(KAGGLE_WORKING_PATH, 0o777, exist_ok=True)\n",
        "\n",
        "try:\n",
        "  os.symlink(KAGGLE_INPUT_PATH, os.path.join(\"..\", 'input'), target_is_directory=True)\n",
        "except FileExistsError:\n",
        "  pass\n",
        "try:\n",
        "  os.symlink(KAGGLE_WORKING_PATH, os.path.join(\"..\", 'working'), target_is_directory=True)\n",
        "except FileExistsError:\n",
        "  pass\n",
        "\n",
        "for data_source_mapping in DATA_SOURCE_MAPPING.split(','):\n",
        "    directory, download_url_encoded = data_source_mapping.split(':')\n",
        "    download_url = unquote(download_url_encoded)\n",
        "    filename = urlparse(download_url).path\n",
        "    destination_path = os.path.join(KAGGLE_INPUT_PATH, directory)\n",
        "    try:\n",
        "        with urlopen(download_url) as fileres, NamedTemporaryFile() as tfile:\n",
        "            total_length = fileres.headers['content-length']\n",
        "            print(f'Downloading {directory}, {total_length} bytes compressed')\n",
        "            dl = 0\n",
        "            data = fileres.read(CHUNK_SIZE)\n",
        "            while len(data) > 0:\n",
        "                dl += len(data)\n",
        "                tfile.write(data)\n",
        "                done = int(50 * dl / int(total_length))\n",
        "                sys.stdout.write(f\"\\r[{'=' * done}{' ' * (50-done)}] {dl} bytes downloaded\")\n",
        "                sys.stdout.flush()\n",
        "                data = fileres.read(CHUNK_SIZE)\n",
        "            if filename.endswith('.zip'):\n",
        "              with ZipFile(tfile) as zfile:\n",
        "                zfile.extractall(destination_path)\n",
        "            else:\n",
        "              with tarfile.open(tfile.name) as tarfile:\n",
        "                tarfile.extractall(destination_path)\n",
        "            print(f'\\nDownloaded and uncompressed: {directory}')\n",
        "    except HTTPError as e:\n",
        "        print(f'Failed to load (likely expired) {download_url} to path {destination_path}')\n",
        "        continue\n",
        "    except OSError as e:\n",
        "        print(f'Failed to load {download_url} to path {destination_path}')\n",
        "        continue\n",
        "\n",
        "print('Data source import complete.')\n"
      ],
      "metadata": {
        "id": "ZE1Fox2Zk6lI"
      },
      "cell_type": "code",
      "outputs": [],
      "execution_count": null
    },
    {
      "cell_type": "markdown",
      "source": [
        "<a href=\"https://colab.research.google.com/github/rubanzasilva/abalone_age_prediction/blob/dev/ps_s04e04.ipynb\" target=\"_parent\"><img src=\"https://colab.research.google.com/assets/colab-badge.svg\" alt=\"Open In Colab\"/></a>"
      ],
      "metadata": {
        "id": "view-in-github"
      }
    },
    {
      "cell_type": "markdown",
      "source": [
        "# Abalone Age Prediction\n",
        "\n",
        "Predicting the age of abalone from physical measurements.  The age of abalone is determined by cutting the shell through the cone, staining it, and counting the number of rings through a microscope -- a boring and time-consuming task.  Other measurements, which are easier to obtain, are used to predict the age.  Further information, such as weather patterns and location (hence food availability) may be required to solve the problem.\n",
        "\n",
        "From the original data examples with missing values were removed (the majority having the predicted value missing), and the ranges of the continuous values have been scaled for use with an ANN (by dividing by 200)."
      ],
      "metadata": {
        "id": "xEfGlnaO3niw"
      }
    },
    {
      "cell_type": "markdown",
      "source": [
        "### Imports"
      ],
      "metadata": {
        "id": "JoYkVKPPL01d"
      }
    },
    {
      "cell_type": "code",
      "source": [
        "!pip install catboost\n",
        "!pip install fastkaggle"
      ],
      "metadata": {
        "colab": {
          "base_uri": "https://localhost:8080/"
        },
        "id": "glc2PLbwn_0_",
        "outputId": "5131e329-88ff-4d0c-dbad-6b02ec049d5b"
      },
      "execution_count": 7,
      "outputs": [
        {
          "output_type": "stream",
          "name": "stdout",
          "text": [
            "Requirement already satisfied: catboost in /usr/local/lib/python3.10/dist-packages (1.2.5)\n",
            "Requirement already satisfied: graphviz in /usr/local/lib/python3.10/dist-packages (from catboost) (0.20.3)\n",
            "Requirement already satisfied: matplotlib in /usr/local/lib/python3.10/dist-packages (from catboost) (3.7.1)\n",
            "Requirement already satisfied: numpy>=1.16.0 in /usr/local/lib/python3.10/dist-packages (from catboost) (1.25.2)\n",
            "Requirement already satisfied: pandas>=0.24 in /usr/local/lib/python3.10/dist-packages (from catboost) (2.0.3)\n",
            "Requirement already satisfied: scipy in /usr/local/lib/python3.10/dist-packages (from catboost) (1.11.4)\n",
            "Requirement already satisfied: plotly in /usr/local/lib/python3.10/dist-packages (from catboost) (5.15.0)\n",
            "Requirement already satisfied: six in /usr/local/lib/python3.10/dist-packages (from catboost) (1.16.0)\n",
            "Requirement already satisfied: python-dateutil>=2.8.2 in /usr/local/lib/python3.10/dist-packages (from pandas>=0.24->catboost) (2.8.2)\n",
            "Requirement already satisfied: pytz>=2020.1 in /usr/local/lib/python3.10/dist-packages (from pandas>=0.24->catboost) (2023.4)\n",
            "Requirement already satisfied: tzdata>=2022.1 in /usr/local/lib/python3.10/dist-packages (from pandas>=0.24->catboost) (2024.1)\n",
            "Requirement already satisfied: contourpy>=1.0.1 in /usr/local/lib/python3.10/dist-packages (from matplotlib->catboost) (1.2.1)\n",
            "Requirement already satisfied: cycler>=0.10 in /usr/local/lib/python3.10/dist-packages (from matplotlib->catboost) (0.12.1)\n",
            "Requirement already satisfied: fonttools>=4.22.0 in /usr/local/lib/python3.10/dist-packages (from matplotlib->catboost) (4.51.0)\n",
            "Requirement already satisfied: kiwisolver>=1.0.1 in /usr/local/lib/python3.10/dist-packages (from matplotlib->catboost) (1.4.5)\n",
            "Requirement already satisfied: packaging>=20.0 in /usr/local/lib/python3.10/dist-packages (from matplotlib->catboost) (24.0)\n",
            "Requirement already satisfied: pillow>=6.2.0 in /usr/local/lib/python3.10/dist-packages (from matplotlib->catboost) (9.4.0)\n",
            "Requirement already satisfied: pyparsing>=2.3.1 in /usr/local/lib/python3.10/dist-packages (from matplotlib->catboost) (3.1.2)\n",
            "Requirement already satisfied: tenacity>=6.2.0 in /usr/local/lib/python3.10/dist-packages (from plotly->catboost) (8.2.3)\n",
            "Collecting fastkaggle\n",
            "  Downloading fastkaggle-0.0.8-py3-none-any.whl (11 kB)\n",
            "Requirement already satisfied: fastcore>=1.4.5 in /usr/local/lib/python3.10/dist-packages (from fastkaggle) (1.5.29)\n",
            "Requirement already satisfied: kaggle in /usr/local/lib/python3.10/dist-packages (from fastkaggle) (1.5.16)\n",
            "Requirement already satisfied: pip in /usr/local/lib/python3.10/dist-packages (from fastcore>=1.4.5->fastkaggle) (23.1.2)\n",
            "Requirement already satisfied: packaging in /usr/local/lib/python3.10/dist-packages (from fastcore>=1.4.5->fastkaggle) (24.0)\n",
            "Requirement already satisfied: six>=1.10 in /usr/local/lib/python3.10/dist-packages (from kaggle->fastkaggle) (1.16.0)\n",
            "Requirement already satisfied: certifi in /usr/local/lib/python3.10/dist-packages (from kaggle->fastkaggle) (2024.2.2)\n",
            "Requirement already satisfied: python-dateutil in /usr/local/lib/python3.10/dist-packages (from kaggle->fastkaggle) (2.8.2)\n",
            "Requirement already satisfied: requests in /usr/local/lib/python3.10/dist-packages (from kaggle->fastkaggle) (2.31.0)\n",
            "Requirement already satisfied: tqdm in /usr/local/lib/python3.10/dist-packages (from kaggle->fastkaggle) (4.66.2)\n",
            "Requirement already satisfied: python-slugify in /usr/local/lib/python3.10/dist-packages (from kaggle->fastkaggle) (8.0.4)\n",
            "Requirement already satisfied: urllib3 in /usr/local/lib/python3.10/dist-packages (from kaggle->fastkaggle) (2.0.7)\n",
            "Requirement already satisfied: bleach in /usr/local/lib/python3.10/dist-packages (from kaggle->fastkaggle) (6.1.0)\n",
            "Requirement already satisfied: webencodings in /usr/local/lib/python3.10/dist-packages (from bleach->kaggle->fastkaggle) (0.5.1)\n",
            "Requirement already satisfied: text-unidecode>=1.3 in /usr/local/lib/python3.10/dist-packages (from python-slugify->kaggle->fastkaggle) (1.3)\n",
            "Requirement already satisfied: charset-normalizer<4,>=2 in /usr/local/lib/python3.10/dist-packages (from requests->kaggle->fastkaggle) (3.3.2)\n",
            "Requirement already satisfied: idna<4,>=2.5 in /usr/local/lib/python3.10/dist-packages (from requests->kaggle->fastkaggle) (3.7)\n",
            "Installing collected packages: fastkaggle\n",
            "Successfully installed fastkaggle-0.0.8\n"
          ]
        }
      ]
    },
    {
      "cell_type": "code",
      "source": [
        "#hide\n",
        "#! [ -e /content ]\n",
        "\n",
        "#hide\n",
        "#This imports and sets up everything you will need for this notebook\n",
        "#\n",
        "#!pip install -Uqq fastbook\n",
        "#import fastbook\n",
        "#fastbook.setup_book()\n",
        "\n",
        "#from fastbook import *\n",
        "#!pip install ucimlrepo\n",
        "from ucimlrepo import fetch_ucirepo\n",
        "\n",
        "from fastai.tabular.all import *\n",
        "import pandas as pd\n",
        "import matplotlib.pyplot as plt\n",
        "import seaborn as sns\n",
        "import numpy as np\n",
        "from numpy import random\n",
        "\n",
        "from fastai.imports import *\n",
        "np.set_printoptions(linewidth=130)\n",
        "\n",
        "\n",
        "from pathlib import Path\n",
        "import os\n",
        "\n",
        "\n",
        "from sklearn.ensemble import RandomForestClassifier\n",
        "from sklearn.metrics import roc_auc_score\n",
        "from sklearn.model_selection import train_test_split\n",
        "from sklearn.metrics import mean_absolute_error\n",
        "#from sklearn.metrics import root_mean_squared_error\n",
        "\n",
        "import xgboost as xgb\n",
        "from xgboost import plot_importance\n",
        "\n",
        "import lightgbm as lgb\n",
        "\n",
        "from catboost import CatBoostClassifier,CatBoostRegressor,Pool, metrics, cv\n",
        "\n",
        "from ipywidgets import interact\n",
        "\n",
        "\n",
        "matplotlib.rc('image', cmap='Greys')\n",
        "\n",
        "from fastkaggle import setup_comp"
      ],
      "metadata": {
        "id": "Bqsvj_4pzlnp",
        "execution": {
          "iopub.status.busy": "2024-04-27T07:32:24.424574Z",
          "iopub.execute_input": "2024-04-27T07:32:24.425202Z",
          "iopub.status.idle": "2024-04-27T07:32:51.566341Z",
          "shell.execute_reply.started": "2024-04-27T07:32:24.425164Z",
          "shell.execute_reply": "2024-04-27T07:32:51.565067Z"
        },
        "trusted": true
      },
      "execution_count": 9,
      "outputs": []
    },
    {
      "cell_type": "code",
      "source": [
        "from google.colab import files\n",
        "files.upload()"
      ],
      "metadata": {
        "colab": {
          "base_uri": "https://localhost:8080/",
          "height": 90
        },
        "id": "0sAbNQkfpGKG",
        "outputId": "cb3bf70c-ce66-4dc4-b76d-b36430c075da"
      },
      "execution_count": 14,
      "outputs": [
        {
          "output_type": "display_data",
          "data": {
            "text/plain": [
              "<IPython.core.display.HTML object>"
            ],
            "text/html": [
              "\n",
              "     <input type=\"file\" id=\"files-7dcedf76-3a67-4afb-8f1f-fbe2ff8355ce\" name=\"files[]\" multiple disabled\n",
              "        style=\"border:none\" />\n",
              "     <output id=\"result-7dcedf76-3a67-4afb-8f1f-fbe2ff8355ce\">\n",
              "      Upload widget is only available when the cell has been executed in the\n",
              "      current browser session. Please rerun this cell to enable.\n",
              "      </output>\n",
              "      <script>// Copyright 2017 Google LLC\n",
              "//\n",
              "// Licensed under the Apache License, Version 2.0 (the \"License\");\n",
              "// you may not use this file except in compliance with the License.\n",
              "// You may obtain a copy of the License at\n",
              "//\n",
              "//      http://www.apache.org/licenses/LICENSE-2.0\n",
              "//\n",
              "// Unless required by applicable law or agreed to in writing, software\n",
              "// distributed under the License is distributed on an \"AS IS\" BASIS,\n",
              "// WITHOUT WARRANTIES OR CONDITIONS OF ANY KIND, either express or implied.\n",
              "// See the License for the specific language governing permissions and\n",
              "// limitations under the License.\n",
              "\n",
              "/**\n",
              " * @fileoverview Helpers for google.colab Python module.\n",
              " */\n",
              "(function(scope) {\n",
              "function span(text, styleAttributes = {}) {\n",
              "  const element = document.createElement('span');\n",
              "  element.textContent = text;\n",
              "  for (const key of Object.keys(styleAttributes)) {\n",
              "    element.style[key] = styleAttributes[key];\n",
              "  }\n",
              "  return element;\n",
              "}\n",
              "\n",
              "// Max number of bytes which will be uploaded at a time.\n",
              "const MAX_PAYLOAD_SIZE = 100 * 1024;\n",
              "\n",
              "function _uploadFiles(inputId, outputId) {\n",
              "  const steps = uploadFilesStep(inputId, outputId);\n",
              "  const outputElement = document.getElementById(outputId);\n",
              "  // Cache steps on the outputElement to make it available for the next call\n",
              "  // to uploadFilesContinue from Python.\n",
              "  outputElement.steps = steps;\n",
              "\n",
              "  return _uploadFilesContinue(outputId);\n",
              "}\n",
              "\n",
              "// This is roughly an async generator (not supported in the browser yet),\n",
              "// where there are multiple asynchronous steps and the Python side is going\n",
              "// to poll for completion of each step.\n",
              "// This uses a Promise to block the python side on completion of each step,\n",
              "// then passes the result of the previous step as the input to the next step.\n",
              "function _uploadFilesContinue(outputId) {\n",
              "  const outputElement = document.getElementById(outputId);\n",
              "  const steps = outputElement.steps;\n",
              "\n",
              "  const next = steps.next(outputElement.lastPromiseValue);\n",
              "  return Promise.resolve(next.value.promise).then((value) => {\n",
              "    // Cache the last promise value to make it available to the next\n",
              "    // step of the generator.\n",
              "    outputElement.lastPromiseValue = value;\n",
              "    return next.value.response;\n",
              "  });\n",
              "}\n",
              "\n",
              "/**\n",
              " * Generator function which is called between each async step of the upload\n",
              " * process.\n",
              " * @param {string} inputId Element ID of the input file picker element.\n",
              " * @param {string} outputId Element ID of the output display.\n",
              " * @return {!Iterable<!Object>} Iterable of next steps.\n",
              " */\n",
              "function* uploadFilesStep(inputId, outputId) {\n",
              "  const inputElement = document.getElementById(inputId);\n",
              "  inputElement.disabled = false;\n",
              "\n",
              "  const outputElement = document.getElementById(outputId);\n",
              "  outputElement.innerHTML = '';\n",
              "\n",
              "  const pickedPromise = new Promise((resolve) => {\n",
              "    inputElement.addEventListener('change', (e) => {\n",
              "      resolve(e.target.files);\n",
              "    });\n",
              "  });\n",
              "\n",
              "  const cancel = document.createElement('button');\n",
              "  inputElement.parentElement.appendChild(cancel);\n",
              "  cancel.textContent = 'Cancel upload';\n",
              "  const cancelPromise = new Promise((resolve) => {\n",
              "    cancel.onclick = () => {\n",
              "      resolve(null);\n",
              "    };\n",
              "  });\n",
              "\n",
              "  // Wait for the user to pick the files.\n",
              "  const files = yield {\n",
              "    promise: Promise.race([pickedPromise, cancelPromise]),\n",
              "    response: {\n",
              "      action: 'starting',\n",
              "    }\n",
              "  };\n",
              "\n",
              "  cancel.remove();\n",
              "\n",
              "  // Disable the input element since further picks are not allowed.\n",
              "  inputElement.disabled = true;\n",
              "\n",
              "  if (!files) {\n",
              "    return {\n",
              "      response: {\n",
              "        action: 'complete',\n",
              "      }\n",
              "    };\n",
              "  }\n",
              "\n",
              "  for (const file of files) {\n",
              "    const li = document.createElement('li');\n",
              "    li.append(span(file.name, {fontWeight: 'bold'}));\n",
              "    li.append(span(\n",
              "        `(${file.type || 'n/a'}) - ${file.size} bytes, ` +\n",
              "        `last modified: ${\n",
              "            file.lastModifiedDate ? file.lastModifiedDate.toLocaleDateString() :\n",
              "                                    'n/a'} - `));\n",
              "    const percent = span('0% done');\n",
              "    li.appendChild(percent);\n",
              "\n",
              "    outputElement.appendChild(li);\n",
              "\n",
              "    const fileDataPromise = new Promise((resolve) => {\n",
              "      const reader = new FileReader();\n",
              "      reader.onload = (e) => {\n",
              "        resolve(e.target.result);\n",
              "      };\n",
              "      reader.readAsArrayBuffer(file);\n",
              "    });\n",
              "    // Wait for the data to be ready.\n",
              "    let fileData = yield {\n",
              "      promise: fileDataPromise,\n",
              "      response: {\n",
              "        action: 'continue',\n",
              "      }\n",
              "    };\n",
              "\n",
              "    // Use a chunked sending to avoid message size limits. See b/62115660.\n",
              "    let position = 0;\n",
              "    do {\n",
              "      const length = Math.min(fileData.byteLength - position, MAX_PAYLOAD_SIZE);\n",
              "      const chunk = new Uint8Array(fileData, position, length);\n",
              "      position += length;\n",
              "\n",
              "      const base64 = btoa(String.fromCharCode.apply(null, chunk));\n",
              "      yield {\n",
              "        response: {\n",
              "          action: 'append',\n",
              "          file: file.name,\n",
              "          data: base64,\n",
              "        },\n",
              "      };\n",
              "\n",
              "      let percentDone = fileData.byteLength === 0 ?\n",
              "          100 :\n",
              "          Math.round((position / fileData.byteLength) * 100);\n",
              "      percent.textContent = `${percentDone}% done`;\n",
              "\n",
              "    } while (position < fileData.byteLength);\n",
              "  }\n",
              "\n",
              "  // All done.\n",
              "  yield {\n",
              "    response: {\n",
              "      action: 'complete',\n",
              "    }\n",
              "  };\n",
              "}\n",
              "\n",
              "scope.google = scope.google || {};\n",
              "scope.google.colab = scope.google.colab || {};\n",
              "scope.google.colab._files = {\n",
              "  _uploadFiles,\n",
              "  _uploadFilesContinue,\n",
              "};\n",
              "})(self);\n",
              "</script> "
            ]
          },
          "metadata": {}
        },
        {
          "output_type": "stream",
          "name": "stdout",
          "text": [
            "Saving kaggle.json to kaggle.json\n"
          ]
        },
        {
          "output_type": "execute_result",
          "data": {
            "text/plain": [
              "{'kaggle.json': b'{\"username\":\"rubanzasilva\",\"key\":\"3c109650146efc9c92fc9e8bfe70d487\"}'}"
            ]
          },
          "metadata": {},
          "execution_count": 14
        }
      ]
    },
    {
      "cell_type": "code",
      "source": [
        "! mkdir ~/.kaggle\n",
        "\n",
        "! cp kaggle.json ~/.kaggle/\n",
        "\n",
        "#chmod 600 /root/.kaggle/kaggle.json"
      ],
      "metadata": {
        "colab": {
          "base_uri": "https://localhost:8080/"
        },
        "id": "W02VKbbXp0El",
        "outputId": "c45a4571-cae4-4971-9d29-3ad602d967b8"
      },
      "execution_count": 15,
      "outputs": [
        {
          "output_type": "stream",
          "name": "stdout",
          "text": [
            "mkdir: cannot create directory ‘/root/.kaggle’: File exists\n"
          ]
        }
      ]
    },
    {
      "cell_type": "code",
      "source": [
        "comp = 'playground-series-s4e4'\n",
        "\n",
        "path = setup_comp(comp, install='fastai \"timm>=0.6.2.dev0\"')"
      ],
      "metadata": {
        "colab": {
          "base_uri": "https://localhost:8080/"
        },
        "id": "7N--iTRVo-1J",
        "outputId": "e238d3e8-5d1b-451f-aca9-c2002a83cdd7"
      },
      "execution_count": 16,
      "outputs": [
        {
          "output_type": "stream",
          "name": "stdout",
          "text": [
            "Warning: Your Kaggle API key is readable by other users on this system! To fix this, you can run 'chmod 600 /root/.kaggle/kaggle.json'\n",
            "Downloading playground-series-s4e4.zip to /content\n"
          ]
        },
        {
          "output_type": "stream",
          "name": "stderr",
          "text": [
            "100%|██████████| 2.41M/2.41M [00:00<00:00, 119MB/s]"
          ]
        },
        {
          "output_type": "stream",
          "name": "stdout",
          "text": [
            "\n"
          ]
        },
        {
          "output_type": "stream",
          "name": "stderr",
          "text": [
            "\n"
          ]
        }
      ]
    },
    {
      "cell_type": "code",
      "source": [
        "path"
      ],
      "metadata": {
        "colab": {
          "base_uri": "https://localhost:8080/"
        },
        "id": "1gcnIF6Ip2Q7",
        "outputId": "4d6f364d-3abc-4ba5-cc4b-546b976352a0"
      },
      "execution_count": 17,
      "outputs": [
        {
          "output_type": "execute_result",
          "data": {
            "text/plain": [
              "Path('playground-series-s4e4')"
            ]
          },
          "metadata": {},
          "execution_count": 17
        }
      ]
    },
    {
      "cell_type": "code",
      "source": [
        "!ls playground-series-s4e4"
      ],
      "metadata": {
        "id": "WuVw90RT1cvf",
        "outputId": "b3f7aedf-815a-48aa-f30c-8b55c4138463",
        "execution": {
          "iopub.status.busy": "2024-04-27T07:32:51.576382Z",
          "iopub.execute_input": "2024-04-27T07:32:51.577024Z",
          "iopub.status.idle": "2024-04-27T07:32:52.705241Z",
          "shell.execute_reply.started": "2024-04-27T07:32:51.576971Z",
          "shell.execute_reply": "2024-04-27T07:32:52.703304Z"
        },
        "trusted": true,
        "colab": {
          "base_uri": "https://localhost:8080/"
        }
      },
      "execution_count": 72,
      "outputs": [
        {
          "output_type": "stream",
          "name": "stdout",
          "text": [
            "abalone.csv  sample_submission.csv  test.csv  train.csv\n"
          ]
        }
      ]
    },
    {
      "cell_type": "code",
      "source": [
        "#set_seed(42)"
      ],
      "metadata": {
        "id": "Dhj5C6C31csL",
        "execution": {
          "iopub.status.busy": "2024-04-27T05:06:11.638851Z",
          "iopub.execute_input": "2024-04-27T05:06:11.640059Z",
          "iopub.status.idle": "2024-04-27T05:06:11.644449Z",
          "shell.execute_reply.started": "2024-04-27T05:06:11.640015Z",
          "shell.execute_reply": "2024-04-27T05:06:11.643601Z"
        },
        "trusted": true
      },
      "execution_count": null,
      "outputs": []
    },
    {
      "cell_type": "code",
      "source": [
        "path = Path('playground-series-s4e4/')\n",
        "path"
      ],
      "metadata": {
        "id": "J0qhj9QG1cpV",
        "outputId": "a9c83c60-6510-486e-fafb-2107436f7083",
        "execution": {
          "iopub.status.busy": "2024-04-27T07:32:52.707784Z",
          "iopub.execute_input": "2024-04-27T07:32:52.708284Z",
          "iopub.status.idle": "2024-04-27T07:32:52.722769Z",
          "shell.execute_reply.started": "2024-04-27T07:32:52.708243Z",
          "shell.execute_reply": "2024-04-27T07:32:52.720792Z"
        },
        "trusted": true,
        "colab": {
          "base_uri": "https://localhost:8080/"
        }
      },
      "execution_count": 71,
      "outputs": [
        {
          "output_type": "execute_result",
          "data": {
            "text/plain": [
              "Path('playground-series-s4e4')"
            ]
          },
          "metadata": {},
          "execution_count": 71
        }
      ]
    },
    {
      "cell_type": "markdown",
      "source": [
        "### Index_col\n",
        "\n",
        "Removing the id column seems to slightly improve predictions so i go with a dataset with the id column set as the index."
      ],
      "metadata": {
        "id": "JYlE9Iro6WFv"
      }
    },
    {
      "cell_type": "code",
      "source": [
        "train_df = pd.read_csv(path/'train.csv',index_col='id')\n",
        "test_df = pd.read_csv(path/'test.csv',index_col='id')\n",
        "sub_df = pd.read_csv(path/'sample_submission.csv',index_col='id')\n",
        "original_df = pd.read_csv(path/'abalone.csv')"
      ],
      "metadata": {
        "id": "ENldYptL1cna",
        "execution": {
          "iopub.status.busy": "2024-04-27T07:32:52.724888Z",
          "iopub.execute_input": "2024-04-27T07:32:52.725401Z",
          "iopub.status.idle": "2024-04-27T07:32:53.156631Z",
          "shell.execute_reply.started": "2024-04-27T07:32:52.725363Z",
          "shell.execute_reply": "2024-04-27T07:32:53.155627Z"
        },
        "trusted": true
      },
      "execution_count": 78,
      "outputs": []
    },
    {
      "cell_type": "code",
      "source": [
        "original_df = pd.read_csv(path/'abalone.csv')"
      ],
      "metadata": {
        "id": "3Y9on-9IzQjk"
      },
      "execution_count": 73,
      "outputs": []
    },
    {
      "cell_type": "code",
      "source": [
        "original_df.shape,train_df.shape"
      ],
      "metadata": {
        "colab": {
          "base_uri": "https://localhost:8080/"
        },
        "id": "7IcG1Z8ezSxr",
        "outputId": "05ec2ed5-6451-4633-baf2-a91bf109a58a"
      },
      "execution_count": 74,
      "outputs": [
        {
          "output_type": "execute_result",
          "data": {
            "text/plain": [
              "((4177, 9), (90615, 9))"
            ]
          },
          "metadata": {},
          "execution_count": 74
        }
      ]
    },
    {
      "cell_type": "code",
      "source": [
        "original_df.head()"
      ],
      "metadata": {
        "colab": {
          "base_uri": "https://localhost:8080/",
          "height": 206
        },
        "id": "gHQS2Q4Fzdto",
        "outputId": "e9a14858-d99b-4426-ef07-9ea5bd87d8e4"
      },
      "execution_count": 76,
      "outputs": [
        {
          "output_type": "execute_result",
          "data": {
            "text/plain": [
              "  Sex  Length  Diameter  Height  Whole weight  Shucked weight  Viscera weight  \\\n",
              "0   M   0.455     0.365   0.095        0.5140          0.2245          0.1010   \n",
              "1   M   0.350     0.265   0.090        0.2255          0.0995          0.0485   \n",
              "2   F   0.530     0.420   0.135        0.6770          0.2565          0.1415   \n",
              "3   M   0.440     0.365   0.125        0.5160          0.2155          0.1140   \n",
              "4   I   0.330     0.255   0.080        0.2050          0.0895          0.0395   \n",
              "\n",
              "   Shell weight  Rings  \n",
              "0         0.150     15  \n",
              "1         0.070      7  \n",
              "2         0.210      9  \n",
              "3         0.155     10  \n",
              "4         0.055      7  "
            ],
            "text/html": [
              "\n",
              "  <div id=\"df-a50710e3-504e-484f-b167-ee2083926311\" class=\"colab-df-container\">\n",
              "    <div>\n",
              "<style scoped>\n",
              "    .dataframe tbody tr th:only-of-type {\n",
              "        vertical-align: middle;\n",
              "    }\n",
              "\n",
              "    .dataframe tbody tr th {\n",
              "        vertical-align: top;\n",
              "    }\n",
              "\n",
              "    .dataframe thead th {\n",
              "        text-align: right;\n",
              "    }\n",
              "</style>\n",
              "<table border=\"1\" class=\"dataframe\">\n",
              "  <thead>\n",
              "    <tr style=\"text-align: right;\">\n",
              "      <th></th>\n",
              "      <th>Sex</th>\n",
              "      <th>Length</th>\n",
              "      <th>Diameter</th>\n",
              "      <th>Height</th>\n",
              "      <th>Whole weight</th>\n",
              "      <th>Shucked weight</th>\n",
              "      <th>Viscera weight</th>\n",
              "      <th>Shell weight</th>\n",
              "      <th>Rings</th>\n",
              "    </tr>\n",
              "  </thead>\n",
              "  <tbody>\n",
              "    <tr>\n",
              "      <th>0</th>\n",
              "      <td>M</td>\n",
              "      <td>0.455</td>\n",
              "      <td>0.365</td>\n",
              "      <td>0.095</td>\n",
              "      <td>0.5140</td>\n",
              "      <td>0.2245</td>\n",
              "      <td>0.1010</td>\n",
              "      <td>0.150</td>\n",
              "      <td>15</td>\n",
              "    </tr>\n",
              "    <tr>\n",
              "      <th>1</th>\n",
              "      <td>M</td>\n",
              "      <td>0.350</td>\n",
              "      <td>0.265</td>\n",
              "      <td>0.090</td>\n",
              "      <td>0.2255</td>\n",
              "      <td>0.0995</td>\n",
              "      <td>0.0485</td>\n",
              "      <td>0.070</td>\n",
              "      <td>7</td>\n",
              "    </tr>\n",
              "    <tr>\n",
              "      <th>2</th>\n",
              "      <td>F</td>\n",
              "      <td>0.530</td>\n",
              "      <td>0.420</td>\n",
              "      <td>0.135</td>\n",
              "      <td>0.6770</td>\n",
              "      <td>0.2565</td>\n",
              "      <td>0.1415</td>\n",
              "      <td>0.210</td>\n",
              "      <td>9</td>\n",
              "    </tr>\n",
              "    <tr>\n",
              "      <th>3</th>\n",
              "      <td>M</td>\n",
              "      <td>0.440</td>\n",
              "      <td>0.365</td>\n",
              "      <td>0.125</td>\n",
              "      <td>0.5160</td>\n",
              "      <td>0.2155</td>\n",
              "      <td>0.1140</td>\n",
              "      <td>0.155</td>\n",
              "      <td>10</td>\n",
              "    </tr>\n",
              "    <tr>\n",
              "      <th>4</th>\n",
              "      <td>I</td>\n",
              "      <td>0.330</td>\n",
              "      <td>0.255</td>\n",
              "      <td>0.080</td>\n",
              "      <td>0.2050</td>\n",
              "      <td>0.0895</td>\n",
              "      <td>0.0395</td>\n",
              "      <td>0.055</td>\n",
              "      <td>7</td>\n",
              "    </tr>\n",
              "  </tbody>\n",
              "</table>\n",
              "</div>\n",
              "    <div class=\"colab-df-buttons\">\n",
              "\n",
              "  <div class=\"colab-df-container\">\n",
              "    <button class=\"colab-df-convert\" onclick=\"convertToInteractive('df-a50710e3-504e-484f-b167-ee2083926311')\"\n",
              "            title=\"Convert this dataframe to an interactive table.\"\n",
              "            style=\"display:none;\">\n",
              "\n",
              "  <svg xmlns=\"http://www.w3.org/2000/svg\" height=\"24px\" viewBox=\"0 -960 960 960\">\n",
              "    <path d=\"M120-120v-720h720v720H120Zm60-500h600v-160H180v160Zm220 220h160v-160H400v160Zm0 220h160v-160H400v160ZM180-400h160v-160H180v160Zm440 0h160v-160H620v160ZM180-180h160v-160H180v160Zm440 0h160v-160H620v160Z\"/>\n",
              "  </svg>\n",
              "    </button>\n",
              "\n",
              "  <style>\n",
              "    .colab-df-container {\n",
              "      display:flex;\n",
              "      gap: 12px;\n",
              "    }\n",
              "\n",
              "    .colab-df-convert {\n",
              "      background-color: #E8F0FE;\n",
              "      border: none;\n",
              "      border-radius: 50%;\n",
              "      cursor: pointer;\n",
              "      display: none;\n",
              "      fill: #1967D2;\n",
              "      height: 32px;\n",
              "      padding: 0 0 0 0;\n",
              "      width: 32px;\n",
              "    }\n",
              "\n",
              "    .colab-df-convert:hover {\n",
              "      background-color: #E2EBFA;\n",
              "      box-shadow: 0px 1px 2px rgba(60, 64, 67, 0.3), 0px 1px 3px 1px rgba(60, 64, 67, 0.15);\n",
              "      fill: #174EA6;\n",
              "    }\n",
              "\n",
              "    .colab-df-buttons div {\n",
              "      margin-bottom: 4px;\n",
              "    }\n",
              "\n",
              "    [theme=dark] .colab-df-convert {\n",
              "      background-color: #3B4455;\n",
              "      fill: #D2E3FC;\n",
              "    }\n",
              "\n",
              "    [theme=dark] .colab-df-convert:hover {\n",
              "      background-color: #434B5C;\n",
              "      box-shadow: 0px 1px 3px 1px rgba(0, 0, 0, 0.15);\n",
              "      filter: drop-shadow(0px 1px 2px rgba(0, 0, 0, 0.3));\n",
              "      fill: #FFFFFF;\n",
              "    }\n",
              "  </style>\n",
              "\n",
              "    <script>\n",
              "      const buttonEl =\n",
              "        document.querySelector('#df-a50710e3-504e-484f-b167-ee2083926311 button.colab-df-convert');\n",
              "      buttonEl.style.display =\n",
              "        google.colab.kernel.accessAllowed ? 'block' : 'none';\n",
              "\n",
              "      async function convertToInteractive(key) {\n",
              "        const element = document.querySelector('#df-a50710e3-504e-484f-b167-ee2083926311');\n",
              "        const dataTable =\n",
              "          await google.colab.kernel.invokeFunction('convertToInteractive',\n",
              "                                                    [key], {});\n",
              "        if (!dataTable) return;\n",
              "\n",
              "        const docLinkHtml = 'Like what you see? Visit the ' +\n",
              "          '<a target=\"_blank\" href=https://colab.research.google.com/notebooks/data_table.ipynb>data table notebook</a>'\n",
              "          + ' to learn more about interactive tables.';\n",
              "        element.innerHTML = '';\n",
              "        dataTable['output_type'] = 'display_data';\n",
              "        await google.colab.output.renderOutput(dataTable, element);\n",
              "        const docLink = document.createElement('div');\n",
              "        docLink.innerHTML = docLinkHtml;\n",
              "        element.appendChild(docLink);\n",
              "      }\n",
              "    </script>\n",
              "  </div>\n",
              "\n",
              "\n",
              "<div id=\"df-decec6f5-7262-40f0-ada0-e802d9e68295\">\n",
              "  <button class=\"colab-df-quickchart\" onclick=\"quickchart('df-decec6f5-7262-40f0-ada0-e802d9e68295')\"\n",
              "            title=\"Suggest charts\"\n",
              "            style=\"display:none;\">\n",
              "\n",
              "<svg xmlns=\"http://www.w3.org/2000/svg\" height=\"24px\"viewBox=\"0 0 24 24\"\n",
              "     width=\"24px\">\n",
              "    <g>\n",
              "        <path d=\"M19 3H5c-1.1 0-2 .9-2 2v14c0 1.1.9 2 2 2h14c1.1 0 2-.9 2-2V5c0-1.1-.9-2-2-2zM9 17H7v-7h2v7zm4 0h-2V7h2v10zm4 0h-2v-4h2v4z\"/>\n",
              "    </g>\n",
              "</svg>\n",
              "  </button>\n",
              "\n",
              "<style>\n",
              "  .colab-df-quickchart {\n",
              "      --bg-color: #E8F0FE;\n",
              "      --fill-color: #1967D2;\n",
              "      --hover-bg-color: #E2EBFA;\n",
              "      --hover-fill-color: #174EA6;\n",
              "      --disabled-fill-color: #AAA;\n",
              "      --disabled-bg-color: #DDD;\n",
              "  }\n",
              "\n",
              "  [theme=dark] .colab-df-quickchart {\n",
              "      --bg-color: #3B4455;\n",
              "      --fill-color: #D2E3FC;\n",
              "      --hover-bg-color: #434B5C;\n",
              "      --hover-fill-color: #FFFFFF;\n",
              "      --disabled-bg-color: #3B4455;\n",
              "      --disabled-fill-color: #666;\n",
              "  }\n",
              "\n",
              "  .colab-df-quickchart {\n",
              "    background-color: var(--bg-color);\n",
              "    border: none;\n",
              "    border-radius: 50%;\n",
              "    cursor: pointer;\n",
              "    display: none;\n",
              "    fill: var(--fill-color);\n",
              "    height: 32px;\n",
              "    padding: 0;\n",
              "    width: 32px;\n",
              "  }\n",
              "\n",
              "  .colab-df-quickchart:hover {\n",
              "    background-color: var(--hover-bg-color);\n",
              "    box-shadow: 0 1px 2px rgba(60, 64, 67, 0.3), 0 1px 3px 1px rgba(60, 64, 67, 0.15);\n",
              "    fill: var(--button-hover-fill-color);\n",
              "  }\n",
              "\n",
              "  .colab-df-quickchart-complete:disabled,\n",
              "  .colab-df-quickchart-complete:disabled:hover {\n",
              "    background-color: var(--disabled-bg-color);\n",
              "    fill: var(--disabled-fill-color);\n",
              "    box-shadow: none;\n",
              "  }\n",
              "\n",
              "  .colab-df-spinner {\n",
              "    border: 2px solid var(--fill-color);\n",
              "    border-color: transparent;\n",
              "    border-bottom-color: var(--fill-color);\n",
              "    animation:\n",
              "      spin 1s steps(1) infinite;\n",
              "  }\n",
              "\n",
              "  @keyframes spin {\n",
              "    0% {\n",
              "      border-color: transparent;\n",
              "      border-bottom-color: var(--fill-color);\n",
              "      border-left-color: var(--fill-color);\n",
              "    }\n",
              "    20% {\n",
              "      border-color: transparent;\n",
              "      border-left-color: var(--fill-color);\n",
              "      border-top-color: var(--fill-color);\n",
              "    }\n",
              "    30% {\n",
              "      border-color: transparent;\n",
              "      border-left-color: var(--fill-color);\n",
              "      border-top-color: var(--fill-color);\n",
              "      border-right-color: var(--fill-color);\n",
              "    }\n",
              "    40% {\n",
              "      border-color: transparent;\n",
              "      border-right-color: var(--fill-color);\n",
              "      border-top-color: var(--fill-color);\n",
              "    }\n",
              "    60% {\n",
              "      border-color: transparent;\n",
              "      border-right-color: var(--fill-color);\n",
              "    }\n",
              "    80% {\n",
              "      border-color: transparent;\n",
              "      border-right-color: var(--fill-color);\n",
              "      border-bottom-color: var(--fill-color);\n",
              "    }\n",
              "    90% {\n",
              "      border-color: transparent;\n",
              "      border-bottom-color: var(--fill-color);\n",
              "    }\n",
              "  }\n",
              "</style>\n",
              "\n",
              "  <script>\n",
              "    async function quickchart(key) {\n",
              "      const quickchartButtonEl =\n",
              "        document.querySelector('#' + key + ' button');\n",
              "      quickchartButtonEl.disabled = true;  // To prevent multiple clicks.\n",
              "      quickchartButtonEl.classList.add('colab-df-spinner');\n",
              "      try {\n",
              "        const charts = await google.colab.kernel.invokeFunction(\n",
              "            'suggestCharts', [key], {});\n",
              "      } catch (error) {\n",
              "        console.error('Error during call to suggestCharts:', error);\n",
              "      }\n",
              "      quickchartButtonEl.classList.remove('colab-df-spinner');\n",
              "      quickchartButtonEl.classList.add('colab-df-quickchart-complete');\n",
              "    }\n",
              "    (() => {\n",
              "      let quickchartButtonEl =\n",
              "        document.querySelector('#df-decec6f5-7262-40f0-ada0-e802d9e68295 button');\n",
              "      quickchartButtonEl.style.display =\n",
              "        google.colab.kernel.accessAllowed ? 'block' : 'none';\n",
              "    })();\n",
              "  </script>\n",
              "</div>\n",
              "\n",
              "    </div>\n",
              "  </div>\n"
            ],
            "application/vnd.google.colaboratory.intrinsic+json": {
              "type": "dataframe",
              "variable_name": "original_df",
              "summary": "{\n  \"name\": \"original_df\",\n  \"rows\": 4177,\n  \"fields\": [\n    {\n      \"column\": \"Sex\",\n      \"properties\": {\n        \"dtype\": \"category\",\n        \"num_unique_values\": 3,\n        \"samples\": [\n          \"M\",\n          \"F\",\n          \"I\"\n        ],\n        \"semantic_type\": \"\",\n        \"description\": \"\"\n      }\n    },\n    {\n      \"column\": \"Length\",\n      \"properties\": {\n        \"dtype\": \"number\",\n        \"std\": 0.12009291256479956,\n        \"min\": 0.075,\n        \"max\": 0.815,\n        \"num_unique_values\": 134,\n        \"samples\": [\n          0.815,\n          0.65,\n          0.29\n        ],\n        \"semantic_type\": \"\",\n        \"description\": \"\"\n      }\n    },\n    {\n      \"column\": \"Diameter\",\n      \"properties\": {\n        \"dtype\": \"number\",\n        \"std\": 0.09923986613365945,\n        \"min\": 0.055,\n        \"max\": 0.65,\n        \"num_unique_values\": 111,\n        \"samples\": [\n          0.09,\n          0.35,\n          0.3\n        ],\n        \"semantic_type\": \"\",\n        \"description\": \"\"\n      }\n    },\n    {\n      \"column\": \"Height\",\n      \"properties\": {\n        \"dtype\": \"number\",\n        \"std\": 0.041827056607257274,\n        \"min\": 0.0,\n        \"max\": 1.13,\n        \"num_unique_values\": 51,\n        \"samples\": [\n          0.235,\n          0.035,\n          0.015\n        ],\n        \"semantic_type\": \"\",\n        \"description\": \"\"\n      }\n    },\n    {\n      \"column\": \"Whole weight\",\n      \"properties\": {\n        \"dtype\": \"number\",\n        \"std\": 0.4903890182309977,\n        \"min\": 0.002,\n        \"max\": 2.8255,\n        \"num_unique_values\": 2429,\n        \"samples\": [\n          1.2825,\n          1.09,\n          0.131\n        ],\n        \"semantic_type\": \"\",\n        \"description\": \"\"\n      }\n    },\n    {\n      \"column\": \"Shucked weight\",\n      \"properties\": {\n        \"dtype\": \"number\",\n        \"std\": 0.22196294903322014,\n        \"min\": 0.001,\n        \"max\": 1.488,\n        \"num_unique_values\": 1515,\n        \"samples\": [\n          0.2105,\n          0.0645,\n          0.476\n        ],\n        \"semantic_type\": \"\",\n        \"description\": \"\"\n      }\n    },\n    {\n      \"column\": \"Viscera weight\",\n      \"properties\": {\n        \"dtype\": \"number\",\n        \"std\": 0.10961425025968446,\n        \"min\": 0.0005,\n        \"max\": 0.76,\n        \"num_unique_values\": 880,\n        \"samples\": [\n          0.0645,\n          0.0095,\n          0.1115\n        ],\n        \"semantic_type\": \"\",\n        \"description\": \"\"\n      }\n    },\n    {\n      \"column\": \"Shell weight\",\n      \"properties\": {\n        \"dtype\": \"number\",\n        \"std\": 0.1392026695223861,\n        \"min\": 0.0015,\n        \"max\": 1.005,\n        \"num_unique_values\": 926,\n        \"samples\": [\n          0.3745,\n          0.2825,\n          0.49\n        ],\n        \"semantic_type\": \"\",\n        \"description\": \"\"\n      }\n    },\n    {\n      \"column\": \"Rings\",\n      \"properties\": {\n        \"dtype\": \"number\",\n        \"std\": 3,\n        \"min\": 1,\n        \"max\": 29,\n        \"num_unique_values\": 28,\n        \"samples\": [\n          11,\n          27,\n          14\n        ],\n        \"semantic_type\": \"\",\n        \"description\": \"\"\n      }\n    }\n  ]\n}"
            }
          },
          "metadata": {},
          "execution_count": 76
        }
      ]
    },
    {
      "cell_type": "code",
      "source": [
        "train_df.columns,original_df.columns"
      ],
      "metadata": {
        "execution": {
          "iopub.status.busy": "2024-04-27T07:32:53.158394Z",
          "iopub.execute_input": "2024-04-27T07:32:53.15918Z",
          "iopub.status.idle": "2024-04-27T07:32:53.167088Z",
          "shell.execute_reply.started": "2024-04-27T07:32:53.159146Z",
          "shell.execute_reply": "2024-04-27T07:32:53.16565Z"
        },
        "trusted": true,
        "id": "J3LjzODJk6lh",
        "outputId": "2c7b847a-5ba8-4401-e01c-f2d1afcef8d2",
        "colab": {
          "base_uri": "https://localhost:8080/"
        }
      },
      "execution_count": 75,
      "outputs": [
        {
          "output_type": "execute_result",
          "data": {
            "text/plain": [
              "(Index(['Sex', 'Length', 'Diameter', 'Height', 'Whole weight', 'Whole weight.1',\n",
              "        'Whole weight.2', 'Shell weight', 'Rings'],\n",
              "       dtype='object'),\n",
              " Index(['Sex', 'Length', 'Diameter', 'Height', 'Whole weight', 'Shucked weight',\n",
              "        'Viscera weight', 'Shell weight', 'Rings'],\n",
              "       dtype='object'))"
            ]
          },
          "metadata": {},
          "execution_count": 75
        }
      ]
    },
    {
      "cell_type": "code",
      "source": [
        "train=original_df.rename(columns={'Shucked weight':'Whole weight.1', 'Viscera weight':'Whole weight.2'})\n",
        "test=original_df.rename(columns={'Shucked weight':'Whole weight.1', 'Viscera weight':'Whole weight.2'})"
      ],
      "metadata": {
        "id": "ReAln7MEz_j5"
      },
      "execution_count": 79,
      "outputs": []
    },
    {
      "cell_type": "code",
      "source": [
        "train.head()"
      ],
      "metadata": {
        "colab": {
          "base_uri": "https://localhost:8080/",
          "height": 206
        },
        "id": "FTuU0AK50kPx",
        "outputId": "ebaebe2c-26f3-4c8c-a199-b28a3c55f780"
      },
      "execution_count": 81,
      "outputs": [
        {
          "output_type": "execute_result",
          "data": {
            "text/plain": [
              "  Sex  Length  Diameter  Height  Whole weight  Whole weight.1  Whole weight.2  \\\n",
              "0   M   0.455     0.365   0.095        0.5140          0.2245          0.1010   \n",
              "1   M   0.350     0.265   0.090        0.2255          0.0995          0.0485   \n",
              "2   F   0.530     0.420   0.135        0.6770          0.2565          0.1415   \n",
              "3   M   0.440     0.365   0.125        0.5160          0.2155          0.1140   \n",
              "4   I   0.330     0.255   0.080        0.2050          0.0895          0.0395   \n",
              "\n",
              "   Shell weight  Rings  \n",
              "0         0.150     15  \n",
              "1         0.070      7  \n",
              "2         0.210      9  \n",
              "3         0.155     10  \n",
              "4         0.055      7  "
            ],
            "text/html": [
              "\n",
              "  <div id=\"df-6e5548b0-4f2b-4462-afc9-66bb367aba4e\" class=\"colab-df-container\">\n",
              "    <div>\n",
              "<style scoped>\n",
              "    .dataframe tbody tr th:only-of-type {\n",
              "        vertical-align: middle;\n",
              "    }\n",
              "\n",
              "    .dataframe tbody tr th {\n",
              "        vertical-align: top;\n",
              "    }\n",
              "\n",
              "    .dataframe thead th {\n",
              "        text-align: right;\n",
              "    }\n",
              "</style>\n",
              "<table border=\"1\" class=\"dataframe\">\n",
              "  <thead>\n",
              "    <tr style=\"text-align: right;\">\n",
              "      <th></th>\n",
              "      <th>Sex</th>\n",
              "      <th>Length</th>\n",
              "      <th>Diameter</th>\n",
              "      <th>Height</th>\n",
              "      <th>Whole weight</th>\n",
              "      <th>Whole weight.1</th>\n",
              "      <th>Whole weight.2</th>\n",
              "      <th>Shell weight</th>\n",
              "      <th>Rings</th>\n",
              "    </tr>\n",
              "  </thead>\n",
              "  <tbody>\n",
              "    <tr>\n",
              "      <th>0</th>\n",
              "      <td>M</td>\n",
              "      <td>0.455</td>\n",
              "      <td>0.365</td>\n",
              "      <td>0.095</td>\n",
              "      <td>0.5140</td>\n",
              "      <td>0.2245</td>\n",
              "      <td>0.1010</td>\n",
              "      <td>0.150</td>\n",
              "      <td>15</td>\n",
              "    </tr>\n",
              "    <tr>\n",
              "      <th>1</th>\n",
              "      <td>M</td>\n",
              "      <td>0.350</td>\n",
              "      <td>0.265</td>\n",
              "      <td>0.090</td>\n",
              "      <td>0.2255</td>\n",
              "      <td>0.0995</td>\n",
              "      <td>0.0485</td>\n",
              "      <td>0.070</td>\n",
              "      <td>7</td>\n",
              "    </tr>\n",
              "    <tr>\n",
              "      <th>2</th>\n",
              "      <td>F</td>\n",
              "      <td>0.530</td>\n",
              "      <td>0.420</td>\n",
              "      <td>0.135</td>\n",
              "      <td>0.6770</td>\n",
              "      <td>0.2565</td>\n",
              "      <td>0.1415</td>\n",
              "      <td>0.210</td>\n",
              "      <td>9</td>\n",
              "    </tr>\n",
              "    <tr>\n",
              "      <th>3</th>\n",
              "      <td>M</td>\n",
              "      <td>0.440</td>\n",
              "      <td>0.365</td>\n",
              "      <td>0.125</td>\n",
              "      <td>0.5160</td>\n",
              "      <td>0.2155</td>\n",
              "      <td>0.1140</td>\n",
              "      <td>0.155</td>\n",
              "      <td>10</td>\n",
              "    </tr>\n",
              "    <tr>\n",
              "      <th>4</th>\n",
              "      <td>I</td>\n",
              "      <td>0.330</td>\n",
              "      <td>0.255</td>\n",
              "      <td>0.080</td>\n",
              "      <td>0.2050</td>\n",
              "      <td>0.0895</td>\n",
              "      <td>0.0395</td>\n",
              "      <td>0.055</td>\n",
              "      <td>7</td>\n",
              "    </tr>\n",
              "  </tbody>\n",
              "</table>\n",
              "</div>\n",
              "    <div class=\"colab-df-buttons\">\n",
              "\n",
              "  <div class=\"colab-df-container\">\n",
              "    <button class=\"colab-df-convert\" onclick=\"convertToInteractive('df-6e5548b0-4f2b-4462-afc9-66bb367aba4e')\"\n",
              "            title=\"Convert this dataframe to an interactive table.\"\n",
              "            style=\"display:none;\">\n",
              "\n",
              "  <svg xmlns=\"http://www.w3.org/2000/svg\" height=\"24px\" viewBox=\"0 -960 960 960\">\n",
              "    <path d=\"M120-120v-720h720v720H120Zm60-500h600v-160H180v160Zm220 220h160v-160H400v160Zm0 220h160v-160H400v160ZM180-400h160v-160H180v160Zm440 0h160v-160H620v160ZM180-180h160v-160H180v160Zm440 0h160v-160H620v160Z\"/>\n",
              "  </svg>\n",
              "    </button>\n",
              "\n",
              "  <style>\n",
              "    .colab-df-container {\n",
              "      display:flex;\n",
              "      gap: 12px;\n",
              "    }\n",
              "\n",
              "    .colab-df-convert {\n",
              "      background-color: #E8F0FE;\n",
              "      border: none;\n",
              "      border-radius: 50%;\n",
              "      cursor: pointer;\n",
              "      display: none;\n",
              "      fill: #1967D2;\n",
              "      height: 32px;\n",
              "      padding: 0 0 0 0;\n",
              "      width: 32px;\n",
              "    }\n",
              "\n",
              "    .colab-df-convert:hover {\n",
              "      background-color: #E2EBFA;\n",
              "      box-shadow: 0px 1px 2px rgba(60, 64, 67, 0.3), 0px 1px 3px 1px rgba(60, 64, 67, 0.15);\n",
              "      fill: #174EA6;\n",
              "    }\n",
              "\n",
              "    .colab-df-buttons div {\n",
              "      margin-bottom: 4px;\n",
              "    }\n",
              "\n",
              "    [theme=dark] .colab-df-convert {\n",
              "      background-color: #3B4455;\n",
              "      fill: #D2E3FC;\n",
              "    }\n",
              "\n",
              "    [theme=dark] .colab-df-convert:hover {\n",
              "      background-color: #434B5C;\n",
              "      box-shadow: 0px 1px 3px 1px rgba(0, 0, 0, 0.15);\n",
              "      filter: drop-shadow(0px 1px 2px rgba(0, 0, 0, 0.3));\n",
              "      fill: #FFFFFF;\n",
              "    }\n",
              "  </style>\n",
              "\n",
              "    <script>\n",
              "      const buttonEl =\n",
              "        document.querySelector('#df-6e5548b0-4f2b-4462-afc9-66bb367aba4e button.colab-df-convert');\n",
              "      buttonEl.style.display =\n",
              "        google.colab.kernel.accessAllowed ? 'block' : 'none';\n",
              "\n",
              "      async function convertToInteractive(key) {\n",
              "        const element = document.querySelector('#df-6e5548b0-4f2b-4462-afc9-66bb367aba4e');\n",
              "        const dataTable =\n",
              "          await google.colab.kernel.invokeFunction('convertToInteractive',\n",
              "                                                    [key], {});\n",
              "        if (!dataTable) return;\n",
              "\n",
              "        const docLinkHtml = 'Like what you see? Visit the ' +\n",
              "          '<a target=\"_blank\" href=https://colab.research.google.com/notebooks/data_table.ipynb>data table notebook</a>'\n",
              "          + ' to learn more about interactive tables.';\n",
              "        element.innerHTML = '';\n",
              "        dataTable['output_type'] = 'display_data';\n",
              "        await google.colab.output.renderOutput(dataTable, element);\n",
              "        const docLink = document.createElement('div');\n",
              "        docLink.innerHTML = docLinkHtml;\n",
              "        element.appendChild(docLink);\n",
              "      }\n",
              "    </script>\n",
              "  </div>\n",
              "\n",
              "\n",
              "<div id=\"df-51a88d70-26f1-4025-87d4-047b66a682b2\">\n",
              "  <button class=\"colab-df-quickchart\" onclick=\"quickchart('df-51a88d70-26f1-4025-87d4-047b66a682b2')\"\n",
              "            title=\"Suggest charts\"\n",
              "            style=\"display:none;\">\n",
              "\n",
              "<svg xmlns=\"http://www.w3.org/2000/svg\" height=\"24px\"viewBox=\"0 0 24 24\"\n",
              "     width=\"24px\">\n",
              "    <g>\n",
              "        <path d=\"M19 3H5c-1.1 0-2 .9-2 2v14c0 1.1.9 2 2 2h14c1.1 0 2-.9 2-2V5c0-1.1-.9-2-2-2zM9 17H7v-7h2v7zm4 0h-2V7h2v10zm4 0h-2v-4h2v4z\"/>\n",
              "    </g>\n",
              "</svg>\n",
              "  </button>\n",
              "\n",
              "<style>\n",
              "  .colab-df-quickchart {\n",
              "      --bg-color: #E8F0FE;\n",
              "      --fill-color: #1967D2;\n",
              "      --hover-bg-color: #E2EBFA;\n",
              "      --hover-fill-color: #174EA6;\n",
              "      --disabled-fill-color: #AAA;\n",
              "      --disabled-bg-color: #DDD;\n",
              "  }\n",
              "\n",
              "  [theme=dark] .colab-df-quickchart {\n",
              "      --bg-color: #3B4455;\n",
              "      --fill-color: #D2E3FC;\n",
              "      --hover-bg-color: #434B5C;\n",
              "      --hover-fill-color: #FFFFFF;\n",
              "      --disabled-bg-color: #3B4455;\n",
              "      --disabled-fill-color: #666;\n",
              "  }\n",
              "\n",
              "  .colab-df-quickchart {\n",
              "    background-color: var(--bg-color);\n",
              "    border: none;\n",
              "    border-radius: 50%;\n",
              "    cursor: pointer;\n",
              "    display: none;\n",
              "    fill: var(--fill-color);\n",
              "    height: 32px;\n",
              "    padding: 0;\n",
              "    width: 32px;\n",
              "  }\n",
              "\n",
              "  .colab-df-quickchart:hover {\n",
              "    background-color: var(--hover-bg-color);\n",
              "    box-shadow: 0 1px 2px rgba(60, 64, 67, 0.3), 0 1px 3px 1px rgba(60, 64, 67, 0.15);\n",
              "    fill: var(--button-hover-fill-color);\n",
              "  }\n",
              "\n",
              "  .colab-df-quickchart-complete:disabled,\n",
              "  .colab-df-quickchart-complete:disabled:hover {\n",
              "    background-color: var(--disabled-bg-color);\n",
              "    fill: var(--disabled-fill-color);\n",
              "    box-shadow: none;\n",
              "  }\n",
              "\n",
              "  .colab-df-spinner {\n",
              "    border: 2px solid var(--fill-color);\n",
              "    border-color: transparent;\n",
              "    border-bottom-color: var(--fill-color);\n",
              "    animation:\n",
              "      spin 1s steps(1) infinite;\n",
              "  }\n",
              "\n",
              "  @keyframes spin {\n",
              "    0% {\n",
              "      border-color: transparent;\n",
              "      border-bottom-color: var(--fill-color);\n",
              "      border-left-color: var(--fill-color);\n",
              "    }\n",
              "    20% {\n",
              "      border-color: transparent;\n",
              "      border-left-color: var(--fill-color);\n",
              "      border-top-color: var(--fill-color);\n",
              "    }\n",
              "    30% {\n",
              "      border-color: transparent;\n",
              "      border-left-color: var(--fill-color);\n",
              "      border-top-color: var(--fill-color);\n",
              "      border-right-color: var(--fill-color);\n",
              "    }\n",
              "    40% {\n",
              "      border-color: transparent;\n",
              "      border-right-color: var(--fill-color);\n",
              "      border-top-color: var(--fill-color);\n",
              "    }\n",
              "    60% {\n",
              "      border-color: transparent;\n",
              "      border-right-color: var(--fill-color);\n",
              "    }\n",
              "    80% {\n",
              "      border-color: transparent;\n",
              "      border-right-color: var(--fill-color);\n",
              "      border-bottom-color: var(--fill-color);\n",
              "    }\n",
              "    90% {\n",
              "      border-color: transparent;\n",
              "      border-bottom-color: var(--fill-color);\n",
              "    }\n",
              "  }\n",
              "</style>\n",
              "\n",
              "  <script>\n",
              "    async function quickchart(key) {\n",
              "      const quickchartButtonEl =\n",
              "        document.querySelector('#' + key + ' button');\n",
              "      quickchartButtonEl.disabled = true;  // To prevent multiple clicks.\n",
              "      quickchartButtonEl.classList.add('colab-df-spinner');\n",
              "      try {\n",
              "        const charts = await google.colab.kernel.invokeFunction(\n",
              "            'suggestCharts', [key], {});\n",
              "      } catch (error) {\n",
              "        console.error('Error during call to suggestCharts:', error);\n",
              "      }\n",
              "      quickchartButtonEl.classList.remove('colab-df-spinner');\n",
              "      quickchartButtonEl.classList.add('colab-df-quickchart-complete');\n",
              "    }\n",
              "    (() => {\n",
              "      let quickchartButtonEl =\n",
              "        document.querySelector('#df-51a88d70-26f1-4025-87d4-047b66a682b2 button');\n",
              "      quickchartButtonEl.style.display =\n",
              "        google.colab.kernel.accessAllowed ? 'block' : 'none';\n",
              "    })();\n",
              "  </script>\n",
              "</div>\n",
              "\n",
              "    </div>\n",
              "  </div>\n"
            ],
            "application/vnd.google.colaboratory.intrinsic+json": {
              "type": "dataframe",
              "variable_name": "train",
              "summary": "{\n  \"name\": \"train\",\n  \"rows\": 4177,\n  \"fields\": [\n    {\n      \"column\": \"Sex\",\n      \"properties\": {\n        \"dtype\": \"category\",\n        \"num_unique_values\": 3,\n        \"samples\": [\n          \"M\",\n          \"F\",\n          \"I\"\n        ],\n        \"semantic_type\": \"\",\n        \"description\": \"\"\n      }\n    },\n    {\n      \"column\": \"Length\",\n      \"properties\": {\n        \"dtype\": \"number\",\n        \"std\": 0.12009291256479956,\n        \"min\": 0.075,\n        \"max\": 0.815,\n        \"num_unique_values\": 134,\n        \"samples\": [\n          0.815,\n          0.65,\n          0.29\n        ],\n        \"semantic_type\": \"\",\n        \"description\": \"\"\n      }\n    },\n    {\n      \"column\": \"Diameter\",\n      \"properties\": {\n        \"dtype\": \"number\",\n        \"std\": 0.09923986613365945,\n        \"min\": 0.055,\n        \"max\": 0.65,\n        \"num_unique_values\": 111,\n        \"samples\": [\n          0.09,\n          0.35,\n          0.3\n        ],\n        \"semantic_type\": \"\",\n        \"description\": \"\"\n      }\n    },\n    {\n      \"column\": \"Height\",\n      \"properties\": {\n        \"dtype\": \"number\",\n        \"std\": 0.041827056607257274,\n        \"min\": 0.0,\n        \"max\": 1.13,\n        \"num_unique_values\": 51,\n        \"samples\": [\n          0.235,\n          0.035,\n          0.015\n        ],\n        \"semantic_type\": \"\",\n        \"description\": \"\"\n      }\n    },\n    {\n      \"column\": \"Whole weight\",\n      \"properties\": {\n        \"dtype\": \"number\",\n        \"std\": 0.4903890182309977,\n        \"min\": 0.002,\n        \"max\": 2.8255,\n        \"num_unique_values\": 2429,\n        \"samples\": [\n          1.2825,\n          1.09,\n          0.131\n        ],\n        \"semantic_type\": \"\",\n        \"description\": \"\"\n      }\n    },\n    {\n      \"column\": \"Whole weight.1\",\n      \"properties\": {\n        \"dtype\": \"number\",\n        \"std\": 0.22196294903322014,\n        \"min\": 0.001,\n        \"max\": 1.488,\n        \"num_unique_values\": 1515,\n        \"samples\": [\n          0.2105,\n          0.0645,\n          0.476\n        ],\n        \"semantic_type\": \"\",\n        \"description\": \"\"\n      }\n    },\n    {\n      \"column\": \"Whole weight.2\",\n      \"properties\": {\n        \"dtype\": \"number\",\n        \"std\": 0.10961425025968446,\n        \"min\": 0.0005,\n        \"max\": 0.76,\n        \"num_unique_values\": 880,\n        \"samples\": [\n          0.0645,\n          0.0095,\n          0.1115\n        ],\n        \"semantic_type\": \"\",\n        \"description\": \"\"\n      }\n    },\n    {\n      \"column\": \"Shell weight\",\n      \"properties\": {\n        \"dtype\": \"number\",\n        \"std\": 0.1392026695223861,\n        \"min\": 0.0015,\n        \"max\": 1.005,\n        \"num_unique_values\": 926,\n        \"samples\": [\n          0.3745,\n          0.2825,\n          0.49\n        ],\n        \"semantic_type\": \"\",\n        \"description\": \"\"\n      }\n    },\n    {\n      \"column\": \"Rings\",\n      \"properties\": {\n        \"dtype\": \"number\",\n        \"std\": 3,\n        \"min\": 1,\n        \"max\": 29,\n        \"num_unique_values\": 28,\n        \"samples\": [\n          11,\n          27,\n          14\n        ],\n        \"semantic_type\": \"\",\n        \"description\": \"\"\n      }\n    }\n  ]\n}"
            }
          },
          "metadata": {},
          "execution_count": 81
        }
      ]
    },
    {
      "cell_type": "code",
      "source": [
        "train_df.head()"
      ],
      "metadata": {
        "colab": {
          "base_uri": "https://localhost:8080/",
          "height": 237
        },
        "id": "unDdFVP70kMV",
        "outputId": "a73b2154-227b-4e59-95da-f81a820c0426"
      },
      "execution_count": 82,
      "outputs": [
        {
          "output_type": "execute_result",
          "data": {
            "text/plain": [
              "   Sex  Length  Diameter  Height  Whole weight  Whole weight.1  \\\n",
              "id                                                               \n",
              "0    F   0.550     0.430   0.150        0.7715          0.3285   \n",
              "1    F   0.630     0.490   0.145        1.1300          0.4580   \n",
              "2    I   0.160     0.110   0.025        0.0210          0.0055   \n",
              "3    M   0.595     0.475   0.150        0.9145          0.3755   \n",
              "4    I   0.555     0.425   0.130        0.7820          0.3695   \n",
              "\n",
              "    Whole weight.2  Shell weight  Rings  \n",
              "id                                       \n",
              "0           0.1465        0.2400     11  \n",
              "1           0.2765        0.3200     11  \n",
              "2           0.0030        0.0050      6  \n",
              "3           0.2055        0.2500     10  \n",
              "4           0.1600        0.1975      9  "
            ],
            "text/html": [
              "\n",
              "  <div id=\"df-e3a7744d-c29a-484c-9c08-c80d221b2d19\" class=\"colab-df-container\">\n",
              "    <div>\n",
              "<style scoped>\n",
              "    .dataframe tbody tr th:only-of-type {\n",
              "        vertical-align: middle;\n",
              "    }\n",
              "\n",
              "    .dataframe tbody tr th {\n",
              "        vertical-align: top;\n",
              "    }\n",
              "\n",
              "    .dataframe thead th {\n",
              "        text-align: right;\n",
              "    }\n",
              "</style>\n",
              "<table border=\"1\" class=\"dataframe\">\n",
              "  <thead>\n",
              "    <tr style=\"text-align: right;\">\n",
              "      <th></th>\n",
              "      <th>Sex</th>\n",
              "      <th>Length</th>\n",
              "      <th>Diameter</th>\n",
              "      <th>Height</th>\n",
              "      <th>Whole weight</th>\n",
              "      <th>Whole weight.1</th>\n",
              "      <th>Whole weight.2</th>\n",
              "      <th>Shell weight</th>\n",
              "      <th>Rings</th>\n",
              "    </tr>\n",
              "    <tr>\n",
              "      <th>id</th>\n",
              "      <th></th>\n",
              "      <th></th>\n",
              "      <th></th>\n",
              "      <th></th>\n",
              "      <th></th>\n",
              "      <th></th>\n",
              "      <th></th>\n",
              "      <th></th>\n",
              "      <th></th>\n",
              "    </tr>\n",
              "  </thead>\n",
              "  <tbody>\n",
              "    <tr>\n",
              "      <th>0</th>\n",
              "      <td>F</td>\n",
              "      <td>0.550</td>\n",
              "      <td>0.430</td>\n",
              "      <td>0.150</td>\n",
              "      <td>0.7715</td>\n",
              "      <td>0.3285</td>\n",
              "      <td>0.1465</td>\n",
              "      <td>0.2400</td>\n",
              "      <td>11</td>\n",
              "    </tr>\n",
              "    <tr>\n",
              "      <th>1</th>\n",
              "      <td>F</td>\n",
              "      <td>0.630</td>\n",
              "      <td>0.490</td>\n",
              "      <td>0.145</td>\n",
              "      <td>1.1300</td>\n",
              "      <td>0.4580</td>\n",
              "      <td>0.2765</td>\n",
              "      <td>0.3200</td>\n",
              "      <td>11</td>\n",
              "    </tr>\n",
              "    <tr>\n",
              "      <th>2</th>\n",
              "      <td>I</td>\n",
              "      <td>0.160</td>\n",
              "      <td>0.110</td>\n",
              "      <td>0.025</td>\n",
              "      <td>0.0210</td>\n",
              "      <td>0.0055</td>\n",
              "      <td>0.0030</td>\n",
              "      <td>0.0050</td>\n",
              "      <td>6</td>\n",
              "    </tr>\n",
              "    <tr>\n",
              "      <th>3</th>\n",
              "      <td>M</td>\n",
              "      <td>0.595</td>\n",
              "      <td>0.475</td>\n",
              "      <td>0.150</td>\n",
              "      <td>0.9145</td>\n",
              "      <td>0.3755</td>\n",
              "      <td>0.2055</td>\n",
              "      <td>0.2500</td>\n",
              "      <td>10</td>\n",
              "    </tr>\n",
              "    <tr>\n",
              "      <th>4</th>\n",
              "      <td>I</td>\n",
              "      <td>0.555</td>\n",
              "      <td>0.425</td>\n",
              "      <td>0.130</td>\n",
              "      <td>0.7820</td>\n",
              "      <td>0.3695</td>\n",
              "      <td>0.1600</td>\n",
              "      <td>0.1975</td>\n",
              "      <td>9</td>\n",
              "    </tr>\n",
              "  </tbody>\n",
              "</table>\n",
              "</div>\n",
              "    <div class=\"colab-df-buttons\">\n",
              "\n",
              "  <div class=\"colab-df-container\">\n",
              "    <button class=\"colab-df-convert\" onclick=\"convertToInteractive('df-e3a7744d-c29a-484c-9c08-c80d221b2d19')\"\n",
              "            title=\"Convert this dataframe to an interactive table.\"\n",
              "            style=\"display:none;\">\n",
              "\n",
              "  <svg xmlns=\"http://www.w3.org/2000/svg\" height=\"24px\" viewBox=\"0 -960 960 960\">\n",
              "    <path d=\"M120-120v-720h720v720H120Zm60-500h600v-160H180v160Zm220 220h160v-160H400v160Zm0 220h160v-160H400v160ZM180-400h160v-160H180v160Zm440 0h160v-160H620v160ZM180-180h160v-160H180v160Zm440 0h160v-160H620v160Z\"/>\n",
              "  </svg>\n",
              "    </button>\n",
              "\n",
              "  <style>\n",
              "    .colab-df-container {\n",
              "      display:flex;\n",
              "      gap: 12px;\n",
              "    }\n",
              "\n",
              "    .colab-df-convert {\n",
              "      background-color: #E8F0FE;\n",
              "      border: none;\n",
              "      border-radius: 50%;\n",
              "      cursor: pointer;\n",
              "      display: none;\n",
              "      fill: #1967D2;\n",
              "      height: 32px;\n",
              "      padding: 0 0 0 0;\n",
              "      width: 32px;\n",
              "    }\n",
              "\n",
              "    .colab-df-convert:hover {\n",
              "      background-color: #E2EBFA;\n",
              "      box-shadow: 0px 1px 2px rgba(60, 64, 67, 0.3), 0px 1px 3px 1px rgba(60, 64, 67, 0.15);\n",
              "      fill: #174EA6;\n",
              "    }\n",
              "\n",
              "    .colab-df-buttons div {\n",
              "      margin-bottom: 4px;\n",
              "    }\n",
              "\n",
              "    [theme=dark] .colab-df-convert {\n",
              "      background-color: #3B4455;\n",
              "      fill: #D2E3FC;\n",
              "    }\n",
              "\n",
              "    [theme=dark] .colab-df-convert:hover {\n",
              "      background-color: #434B5C;\n",
              "      box-shadow: 0px 1px 3px 1px rgba(0, 0, 0, 0.15);\n",
              "      filter: drop-shadow(0px 1px 2px rgba(0, 0, 0, 0.3));\n",
              "      fill: #FFFFFF;\n",
              "    }\n",
              "  </style>\n",
              "\n",
              "    <script>\n",
              "      const buttonEl =\n",
              "        document.querySelector('#df-e3a7744d-c29a-484c-9c08-c80d221b2d19 button.colab-df-convert');\n",
              "      buttonEl.style.display =\n",
              "        google.colab.kernel.accessAllowed ? 'block' : 'none';\n",
              "\n",
              "      async function convertToInteractive(key) {\n",
              "        const element = document.querySelector('#df-e3a7744d-c29a-484c-9c08-c80d221b2d19');\n",
              "        const dataTable =\n",
              "          await google.colab.kernel.invokeFunction('convertToInteractive',\n",
              "                                                    [key], {});\n",
              "        if (!dataTable) return;\n",
              "\n",
              "        const docLinkHtml = 'Like what you see? Visit the ' +\n",
              "          '<a target=\"_blank\" href=https://colab.research.google.com/notebooks/data_table.ipynb>data table notebook</a>'\n",
              "          + ' to learn more about interactive tables.';\n",
              "        element.innerHTML = '';\n",
              "        dataTable['output_type'] = 'display_data';\n",
              "        await google.colab.output.renderOutput(dataTable, element);\n",
              "        const docLink = document.createElement('div');\n",
              "        docLink.innerHTML = docLinkHtml;\n",
              "        element.appendChild(docLink);\n",
              "      }\n",
              "    </script>\n",
              "  </div>\n",
              "\n",
              "\n",
              "<div id=\"df-e3792f6b-8ceb-4db3-ae40-c217eb83dd54\">\n",
              "  <button class=\"colab-df-quickchart\" onclick=\"quickchart('df-e3792f6b-8ceb-4db3-ae40-c217eb83dd54')\"\n",
              "            title=\"Suggest charts\"\n",
              "            style=\"display:none;\">\n",
              "\n",
              "<svg xmlns=\"http://www.w3.org/2000/svg\" height=\"24px\"viewBox=\"0 0 24 24\"\n",
              "     width=\"24px\">\n",
              "    <g>\n",
              "        <path d=\"M19 3H5c-1.1 0-2 .9-2 2v14c0 1.1.9 2 2 2h14c1.1 0 2-.9 2-2V5c0-1.1-.9-2-2-2zM9 17H7v-7h2v7zm4 0h-2V7h2v10zm4 0h-2v-4h2v4z\"/>\n",
              "    </g>\n",
              "</svg>\n",
              "  </button>\n",
              "\n",
              "<style>\n",
              "  .colab-df-quickchart {\n",
              "      --bg-color: #E8F0FE;\n",
              "      --fill-color: #1967D2;\n",
              "      --hover-bg-color: #E2EBFA;\n",
              "      --hover-fill-color: #174EA6;\n",
              "      --disabled-fill-color: #AAA;\n",
              "      --disabled-bg-color: #DDD;\n",
              "  }\n",
              "\n",
              "  [theme=dark] .colab-df-quickchart {\n",
              "      --bg-color: #3B4455;\n",
              "      --fill-color: #D2E3FC;\n",
              "      --hover-bg-color: #434B5C;\n",
              "      --hover-fill-color: #FFFFFF;\n",
              "      --disabled-bg-color: #3B4455;\n",
              "      --disabled-fill-color: #666;\n",
              "  }\n",
              "\n",
              "  .colab-df-quickchart {\n",
              "    background-color: var(--bg-color);\n",
              "    border: none;\n",
              "    border-radius: 50%;\n",
              "    cursor: pointer;\n",
              "    display: none;\n",
              "    fill: var(--fill-color);\n",
              "    height: 32px;\n",
              "    padding: 0;\n",
              "    width: 32px;\n",
              "  }\n",
              "\n",
              "  .colab-df-quickchart:hover {\n",
              "    background-color: var(--hover-bg-color);\n",
              "    box-shadow: 0 1px 2px rgba(60, 64, 67, 0.3), 0 1px 3px 1px rgba(60, 64, 67, 0.15);\n",
              "    fill: var(--button-hover-fill-color);\n",
              "  }\n",
              "\n",
              "  .colab-df-quickchart-complete:disabled,\n",
              "  .colab-df-quickchart-complete:disabled:hover {\n",
              "    background-color: var(--disabled-bg-color);\n",
              "    fill: var(--disabled-fill-color);\n",
              "    box-shadow: none;\n",
              "  }\n",
              "\n",
              "  .colab-df-spinner {\n",
              "    border: 2px solid var(--fill-color);\n",
              "    border-color: transparent;\n",
              "    border-bottom-color: var(--fill-color);\n",
              "    animation:\n",
              "      spin 1s steps(1) infinite;\n",
              "  }\n",
              "\n",
              "  @keyframes spin {\n",
              "    0% {\n",
              "      border-color: transparent;\n",
              "      border-bottom-color: var(--fill-color);\n",
              "      border-left-color: var(--fill-color);\n",
              "    }\n",
              "    20% {\n",
              "      border-color: transparent;\n",
              "      border-left-color: var(--fill-color);\n",
              "      border-top-color: var(--fill-color);\n",
              "    }\n",
              "    30% {\n",
              "      border-color: transparent;\n",
              "      border-left-color: var(--fill-color);\n",
              "      border-top-color: var(--fill-color);\n",
              "      border-right-color: var(--fill-color);\n",
              "    }\n",
              "    40% {\n",
              "      border-color: transparent;\n",
              "      border-right-color: var(--fill-color);\n",
              "      border-top-color: var(--fill-color);\n",
              "    }\n",
              "    60% {\n",
              "      border-color: transparent;\n",
              "      border-right-color: var(--fill-color);\n",
              "    }\n",
              "    80% {\n",
              "      border-color: transparent;\n",
              "      border-right-color: var(--fill-color);\n",
              "      border-bottom-color: var(--fill-color);\n",
              "    }\n",
              "    90% {\n",
              "      border-color: transparent;\n",
              "      border-bottom-color: var(--fill-color);\n",
              "    }\n",
              "  }\n",
              "</style>\n",
              "\n",
              "  <script>\n",
              "    async function quickchart(key) {\n",
              "      const quickchartButtonEl =\n",
              "        document.querySelector('#' + key + ' button');\n",
              "      quickchartButtonEl.disabled = true;  // To prevent multiple clicks.\n",
              "      quickchartButtonEl.classList.add('colab-df-spinner');\n",
              "      try {\n",
              "        const charts = await google.colab.kernel.invokeFunction(\n",
              "            'suggestCharts', [key], {});\n",
              "      } catch (error) {\n",
              "        console.error('Error during call to suggestCharts:', error);\n",
              "      }\n",
              "      quickchartButtonEl.classList.remove('colab-df-spinner');\n",
              "      quickchartButtonEl.classList.add('colab-df-quickchart-complete');\n",
              "    }\n",
              "    (() => {\n",
              "      let quickchartButtonEl =\n",
              "        document.querySelector('#df-e3792f6b-8ceb-4db3-ae40-c217eb83dd54 button');\n",
              "      quickchartButtonEl.style.display =\n",
              "        google.colab.kernel.accessAllowed ? 'block' : 'none';\n",
              "    })();\n",
              "  </script>\n",
              "</div>\n",
              "\n",
              "    </div>\n",
              "  </div>\n"
            ],
            "application/vnd.google.colaboratory.intrinsic+json": {
              "type": "dataframe",
              "variable_name": "train_df",
              "summary": "{\n  \"name\": \"train_df\",\n  \"rows\": 90615,\n  \"fields\": [\n    {\n      \"column\": \"id\",\n      \"properties\": {\n        \"dtype\": \"number\",\n        \"std\": 26158,\n        \"min\": 0,\n        \"max\": 90614,\n        \"num_unique_values\": 90615,\n        \"samples\": [\n          3502,\n          76031,\n          49473\n        ],\n        \"semantic_type\": \"\",\n        \"description\": \"\"\n      }\n    },\n    {\n      \"column\": \"Sex\",\n      \"properties\": {\n        \"dtype\": \"category\",\n        \"num_unique_values\": 3,\n        \"samples\": [\n          \"F\",\n          \"I\",\n          \"M\"\n        ],\n        \"semantic_type\": \"\",\n        \"description\": \"\"\n      }\n    },\n    {\n      \"column\": \"Length\",\n      \"properties\": {\n        \"dtype\": \"number\",\n        \"std\": 0.11821670901526686,\n        \"min\": 0.075,\n        \"max\": 0.815,\n        \"num_unique_values\": 157,\n        \"samples\": [\n          0.77,\n          0.535,\n          0.09\n        ],\n        \"semantic_type\": \"\",\n        \"description\": \"\"\n      }\n    },\n    {\n      \"column\": \"Diameter\",\n      \"properties\": {\n        \"dtype\": \"number\",\n        \"std\": 0.09802631939013517,\n        \"min\": 0.055,\n        \"max\": 0.65,\n        \"num_unique_values\": 126,\n        \"samples\": [\n          0.57,\n          0.525,\n          0.308\n        ],\n        \"semantic_type\": \"\",\n        \"description\": \"\"\n      }\n    },\n    {\n      \"column\": \"Height\",\n      \"properties\": {\n        \"dtype\": \"number\",\n        \"std\": 0.03800756247879023,\n        \"min\": 0.0,\n        \"max\": 1.13,\n        \"num_unique_values\": 90,\n        \"samples\": [\n          0.21,\n          0.12,\n          1.13\n        ],\n        \"semantic_type\": \"\",\n        \"description\": \"\"\n      }\n    },\n    {\n      \"column\": \"Whole weight\",\n      \"properties\": {\n        \"dtype\": \"number\",\n        \"std\": 0.4576706970769096,\n        \"min\": 0.002,\n        \"max\": 2.8255,\n        \"num_unique_values\": 3175,\n        \"samples\": [\n          1.347,\n          0.196,\n          1.8045\n        ],\n        \"semantic_type\": \"\",\n        \"description\": \"\"\n      }\n    },\n    {\n      \"column\": \"Whole weight.1\",\n      \"properties\": {\n        \"dtype\": \"number\",\n        \"std\": 0.20442847843867115,\n        \"min\": 0.001,\n        \"max\": 1.488,\n        \"num_unique_values\": 1799,\n        \"samples\": [\n          0.1005,\n          0.5115,\n          1.012\n        ],\n        \"semantic_type\": \"\",\n        \"description\": \"\"\n      }\n    },\n    {\n      \"column\": \"Whole weight.2\",\n      \"properties\": {\n        \"dtype\": \"number\",\n        \"std\": 0.10090888847544377,\n        \"min\": 0.0005,\n        \"max\": 0.76,\n        \"num_unique_values\": 979,\n        \"samples\": [\n          0.1175,\n          0.2855,\n          0.171\n        ],\n        \"semantic_type\": \"\",\n        \"description\": \"\"\n      }\n    },\n    {\n      \"column\": \"Shell weight\",\n      \"properties\": {\n        \"dtype\": \"number\",\n        \"std\": 0.13020333874135173,\n        \"min\": 0.0015,\n        \"max\": 1.005,\n        \"num_unique_values\": 1129,\n        \"samples\": [\n          0.2695,\n          1.005,\n          0.4255\n        ],\n        \"semantic_type\": \"\",\n        \"description\": \"\"\n      }\n    },\n    {\n      \"column\": \"Rings\",\n      \"properties\": {\n        \"dtype\": \"number\",\n        \"std\": 3,\n        \"min\": 1,\n        \"max\": 29,\n        \"num_unique_values\": 28,\n        \"samples\": [\n          20,\n          27,\n          12\n        ],\n        \"semantic_type\": \"\",\n        \"description\": \"\"\n      }\n    }\n  ]\n}"
            }
          },
          "metadata": {},
          "execution_count": 82
        }
      ]
    },
    {
      "cell_type": "markdown",
      "source": [
        "Import the original dataset from the UC Irvine Machine Learning Repository into kaggle using their ucimlrepo package."
      ],
      "metadata": {
        "id": "Bx1upj7-k6li"
      }
    },
    {
      "cell_type": "code",
      "source": [
        "# fetch dataset\n",
        "abalone = fetch_ucirepo(id=1)\n",
        "\n",
        "#path = playground-series-s4e4/abalone\n",
        "\n",
        "#original_df = pd.read_csv(path,index_col='id')\n",
        "\n",
        "#original_df = pd.DataFrame(abalone['data'], columns=abalone['names'])\n",
        "#original_df.index.rename('id', inplace=True)\n"
      ],
      "metadata": {
        "execution": {
          "iopub.status.busy": "2024-04-27T05:06:11.988285Z",
          "iopub.execute_input": "2024-04-27T05:06:11.989037Z",
          "iopub.status.idle": "2024-04-27T05:06:11.9963Z",
          "shell.execute_reply.started": "2024-04-27T05:06:11.989002Z",
          "shell.execute_reply": "2024-04-27T05:06:11.995067Z"
        },
        "trusted": true,
        "id": "EUOrLrfwk6li"
      },
      "execution_count": 70,
      "outputs": []
    },
    {
      "cell_type": "markdown",
      "source": [
        "I import the abalone dataset from https://www.kaggle.com/code/aaachen/ps4e4-xgboost-lightgbm-catboost/input?select=abalone.csv as the file is already a csv. I shall try to manually import it from UCI later on."
      ],
      "metadata": {
        "id": "6Ze2g5zUylyJ"
      }
    },
    {
      "cell_type": "markdown",
      "source": [
        "# Model Architectures.\n",
        "\n",
        "Below, i try out various models.\n",
        "\n",
        "I have combined the steps for the different models in one codecell respectively, to see the breakdown, go through the breakdown section"
      ],
      "metadata": {
        "id": "SAt68H_Rk6li"
      }
    },
    {
      "cell_type": "code",
      "source": [
        "cont_names,cat_names = cont_cat_split(train_df, dep_var='Rings')\n",
        "splits = RandomSplitter(valid_pct=0.2)(range_of(train_df))\n",
        "to = TabularPandas(train_df, procs=[Categorify, FillMissing,Normalize],\n",
        "                   cat_names = cat_names,\n",
        "                   cont_names = cont_names,\n",
        "                   y_names='Rings',\n",
        "                   y_block=RegressionBlock(),\n",
        "                   splits=splits)\n",
        "\n",
        "X_train, y_train = to.train.xs, to.train.ys.values.ravel()\n",
        "X_test, y_test = to.valid.xs, to.valid.ys.values.ravel()"
      ],
      "metadata": {
        "execution": {
          "iopub.status.busy": "2024-04-27T07:33:00.843015Z",
          "iopub.execute_input": "2024-04-27T07:33:00.84349Z",
          "iopub.status.idle": "2024-04-27T07:33:01.024547Z",
          "shell.execute_reply.started": "2024-04-27T07:33:00.843456Z",
          "shell.execute_reply": "2024-04-27T07:33:01.022927Z"
        },
        "trusted": true,
        "id": "-w8scYiVk6lj"
      },
      "execution_count": 24,
      "outputs": []
    },
    {
      "cell_type": "code",
      "source": [
        "dls = to.dataloaders(bs=64)\n",
        "test_dl = dls.test_dl(test_df)"
      ],
      "metadata": {
        "execution": {
          "iopub.status.busy": "2024-04-27T07:33:05.832266Z",
          "iopub.execute_input": "2024-04-27T07:33:05.83274Z",
          "iopub.status.idle": "2024-04-27T07:33:05.900754Z",
          "shell.execute_reply.started": "2024-04-27T07:33:05.832707Z",
          "shell.execute_reply": "2024-04-27T07:33:05.899393Z"
        },
        "trusted": true,
        "id": "rwDmgRf7k6lj"
      },
      "execution_count": 25,
      "outputs": []
    },
    {
      "cell_type": "markdown",
      "source": [
        "# Neural Network"
      ],
      "metadata": {
        "id": "EF3FZwEMk6lj"
      }
    },
    {
      "cell_type": "code",
      "source": [
        "dls = to.dataloaders(bs=64)\n",
        "test_dl = dls.test_dl(test_df)\n",
        "\n",
        "learn = tabular_learner(dls, metrics=rmse)\n",
        "learn.lr_find(suggest_funcs=(slide,valley))"
      ],
      "metadata": {
        "execution": {
          "iopub.status.busy": "2024-04-27T07:33:08.67307Z",
          "iopub.execute_input": "2024-04-27T07:33:08.67356Z",
          "iopub.status.idle": "2024-04-27T07:33:11.190738Z",
          "shell.execute_reply.started": "2024-04-27T07:33:08.673503Z",
          "shell.execute_reply": "2024-04-27T07:33:11.189403Z"
        },
        "trusted": true,
        "id": "YO42G_8ik6lk",
        "outputId": "908d3c3e-b0e0-4cc3-a1d5-7e86ccf9ce22",
        "colab": {
          "base_uri": "https://localhost:8080/",
          "height": 471
        }
      },
      "execution_count": 26,
      "outputs": [
        {
          "output_type": "display_data",
          "data": {
            "text/plain": [
              "<IPython.core.display.HTML object>"
            ],
            "text/html": [
              "\n",
              "<style>\n",
              "    /* Turns off some styling */\n",
              "    progress {\n",
              "        /* gets rid of default border in Firefox and Opera. */\n",
              "        border: none;\n",
              "        /* Needs to be in here for Safari polyfill so background images work as expected. */\n",
              "        background-size: auto;\n",
              "    }\n",
              "    progress:not([value]), progress:not([value])::-webkit-progress-bar {\n",
              "        background: repeating-linear-gradient(45deg, #7e7e7e, #7e7e7e 10px, #5c5c5c 10px, #5c5c5c 20px);\n",
              "    }\n",
              "    .progress-bar-interrupted, .progress-bar-interrupted::-webkit-progress-bar {\n",
              "        background: #F44336;\n",
              "    }\n",
              "</style>\n"
            ]
          },
          "metadata": {}
        },
        {
          "output_type": "display_data",
          "data": {
            "text/plain": [
              "<IPython.core.display.HTML object>"
            ],
            "text/html": []
          },
          "metadata": {}
        },
        {
          "output_type": "execute_result",
          "data": {
            "text/plain": [
              "SuggestedLRs(slide=6.309573450380412e-07, valley=0.0063095735386013985)"
            ]
          },
          "metadata": {},
          "execution_count": 26
        },
        {
          "output_type": "display_data",
          "data": {
            "text/plain": [
              "<Figure size 640x480 with 1 Axes>"
            ],
            "image/png": "[encoded data removed]"
          },
          "metadata": {}
        }
      ]
    },
    {
      "cell_type": "markdown",
      "source": [
        "Neural Network Ensemble\n",
        "\n",
        "The Neural network ensemble results in slighty better results."
      ],
      "metadata": {
        "id": "WUfle0Dpk6lk"
      }
    },
    {
      "cell_type": "code",
      "source": [
        "learn.fit_one_cycle(10,0.005)\n",
        "dl = learn.dls.test_dl(test_df)\n",
        "nn_preds = learn.get_preds(dl=dl)\n",
        "nn_preds_x = learn.get_preds()[0]\n",
        "a_preds, _ = learn.get_preds(dl=dl)\n",
        "nn_preds_y = a_preds.squeeze(1)\n",
        "\n",
        "mse = mean_absolute_error(y_test, nn_preds_x)\n",
        "rmse = np.sqrt(mse)\n",
        "rmse"
      ],
      "metadata": {
        "execution": {
          "iopub.status.busy": "2024-04-27T07:33:20.936087Z",
          "iopub.execute_input": "2024-04-27T07:33:20.936873Z",
          "iopub.status.idle": "2024-04-27T07:35:57.266678Z",
          "shell.execute_reply.started": "2024-04-27T07:33:20.936835Z",
          "shell.execute_reply": "2024-04-27T07:35:57.264711Z"
        },
        "trusted": true,
        "id": "l3Dyg_KJk6lk",
        "outputId": "6ab50e2e-3dc7-4fbf-ef33-74c3f4784f9f",
        "colab": {
          "base_uri": "https://localhost:8080/",
          "height": 380
        }
      },
      "execution_count": 27,
      "outputs": [
        {
          "output_type": "display_data",
          "data": {
            "text/plain": [
              "<IPython.core.display.HTML object>"
            ],
            "text/html": [
              "\n",
              "<style>\n",
              "    /* Turns off some styling */\n",
              "    progress {\n",
              "        /* gets rid of default border in Firefox and Opera. */\n",
              "        border: none;\n",
              "        /* Needs to be in here for Safari polyfill so background images work as expected. */\n",
              "        background-size: auto;\n",
              "    }\n",
              "    progress:not([value]), progress:not([value])::-webkit-progress-bar {\n",
              "        background: repeating-linear-gradient(45deg, #7e7e7e, #7e7e7e 10px, #5c5c5c 10px, #5c5c5c 20px);\n",
              "    }\n",
              "    .progress-bar-interrupted, .progress-bar-interrupted::-webkit-progress-bar {\n",
              "        background: #F44336;\n",
              "    }\n",
              "</style>\n"
            ]
          },
          "metadata": {}
        },
        {
          "output_type": "display_data",
          "data": {
            "text/plain": [
              "<IPython.core.display.HTML object>"
            ],
            "text/html": [
              "<table border=\"1\" class=\"dataframe\">\n",
              "  <thead>\n",
              "    <tr style=\"text-align: left;\">\n",
              "      <th>epoch</th>\n",
              "      <th>train_loss</th>\n",
              "      <th>valid_loss</th>\n",
              "      <th>_rmse</th>\n",
              "      <th>time</th>\n",
              "    </tr>\n",
              "  </thead>\n",
              "  <tbody>\n",
              "    <tr>\n",
              "      <td>0</td>\n",
              "      <td>4.103111</td>\n",
              "      <td>3.565827</td>\n",
              "      <td>1.888340</td>\n",
              "      <td>00:10</td>\n",
              "    </tr>\n",
              "    <tr>\n",
              "      <td>1</td>\n",
              "      <td>4.080494</td>\n",
              "      <td>3.640285</td>\n",
              "      <td>1.907953</td>\n",
              "      <td>00:10</td>\n",
              "    </tr>\n",
              "    <tr>\n",
              "      <td>2</td>\n",
              "      <td>3.972114</td>\n",
              "      <td>3.539315</td>\n",
              "      <td>1.881306</td>\n",
              "      <td>00:20</td>\n",
              "    </tr>\n",
              "    <tr>\n",
              "      <td>3</td>\n",
              "      <td>3.923566</td>\n",
              "      <td>3.534753</td>\n",
              "      <td>1.880094</td>\n",
              "      <td>00:13</td>\n",
              "    </tr>\n",
              "    <tr>\n",
              "      <td>4</td>\n",
              "      <td>3.803539</td>\n",
              "      <td>3.586935</td>\n",
              "      <td>1.893920</td>\n",
              "      <td>00:10</td>\n",
              "    </tr>\n",
              "    <tr>\n",
              "      <td>5</td>\n",
              "      <td>3.584623</td>\n",
              "      <td>3.510607</td>\n",
              "      <td>1.873661</td>\n",
              "      <td>00:10</td>\n",
              "    </tr>\n",
              "    <tr>\n",
              "      <td>6</td>\n",
              "      <td>3.610348</td>\n",
              "      <td>3.439203</td>\n",
              "      <td>1.854509</td>\n",
              "      <td>00:10</td>\n",
              "    </tr>\n",
              "    <tr>\n",
              "      <td>7</td>\n",
              "      <td>3.930802</td>\n",
              "      <td>3.413936</td>\n",
              "      <td>1.847684</td>\n",
              "      <td>00:10</td>\n",
              "    </tr>\n",
              "    <tr>\n",
              "      <td>8</td>\n",
              "      <td>3.800343</td>\n",
              "      <td>3.439312</td>\n",
              "      <td>1.854538</td>\n",
              "      <td>00:10</td>\n",
              "    </tr>\n",
              "    <tr>\n",
              "      <td>9</td>\n",
              "      <td>3.708214</td>\n",
              "      <td>3.410764</td>\n",
              "      <td>1.846825</td>\n",
              "      <td>00:10</td>\n",
              "    </tr>\n",
              "  </tbody>\n",
              "</table>"
            ]
          },
          "metadata": {}
        },
        {
          "output_type": "display_data",
          "data": {
            "text/plain": [
              "<IPython.core.display.HTML object>"
            ],
            "text/html": [
              "\n",
              "<style>\n",
              "    /* Turns off some styling */\n",
              "    progress {\n",
              "        /* gets rid of default border in Firefox and Opera. */\n",
              "        border: none;\n",
              "        /* Needs to be in here for Safari polyfill so background images work as expected. */\n",
              "        background-size: auto;\n",
              "    }\n",
              "    progress:not([value]), progress:not([value])::-webkit-progress-bar {\n",
              "        background: repeating-linear-gradient(45deg, #7e7e7e, #7e7e7e 10px, #5c5c5c 10px, #5c5c5c 20px);\n",
              "    }\n",
              "    .progress-bar-interrupted, .progress-bar-interrupted::-webkit-progress-bar {\n",
              "        background: #F44336;\n",
              "    }\n",
              "</style>\n"
            ]
          },
          "metadata": {}
        },
        {
          "output_type": "display_data",
          "data": {
            "text/plain": [
              "<IPython.core.display.HTML object>"
            ],
            "text/html": []
          },
          "metadata": {}
        },
        {
          "output_type": "display_data",
          "data": {
            "text/plain": [
              "<IPython.core.display.HTML object>"
            ],
            "text/html": [
              "\n",
              "<style>\n",
              "    /* Turns off some styling */\n",
              "    progress {\n",
              "        /* gets rid of default border in Firefox and Opera. */\n",
              "        border: none;\n",
              "        /* Needs to be in here for Safari polyfill so background images work as expected. */\n",
              "        background-size: auto;\n",
              "    }\n",
              "    progress:not([value]), progress:not([value])::-webkit-progress-bar {\n",
              "        background: repeating-linear-gradient(45deg, #7e7e7e, #7e7e7e 10px, #5c5c5c 10px, #5c5c5c 20px);\n",
              "    }\n",
              "    .progress-bar-interrupted, .progress-bar-interrupted::-webkit-progress-bar {\n",
              "        background: #F44336;\n",
              "    }\n",
              "</style>\n"
            ]
          },
          "metadata": {}
        },
        {
          "output_type": "display_data",
          "data": {
            "text/plain": [
              "<IPython.core.display.HTML object>"
            ],
            "text/html": []
          },
          "metadata": {}
        },
        {
          "output_type": "display_data",
          "data": {
            "text/plain": [
              "<IPython.core.display.HTML object>"
            ],
            "text/html": [
              "\n",
              "<style>\n",
              "    /* Turns off some styling */\n",
              "    progress {\n",
              "        /* gets rid of default border in Firefox and Opera. */\n",
              "        border: none;\n",
              "        /* Needs to be in here for Safari polyfill so background images work as expected. */\n",
              "        background-size: auto;\n",
              "    }\n",
              "    progress:not([value]), progress:not([value])::-webkit-progress-bar {\n",
              "        background: repeating-linear-gradient(45deg, #7e7e7e, #7e7e7e 10px, #5c5c5c 10px, #5c5c5c 20px);\n",
              "    }\n",
              "    .progress-bar-interrupted, .progress-bar-interrupted::-webkit-progress-bar {\n",
              "        background: #F44336;\n",
              "    }\n",
              "</style>\n"
            ]
          },
          "metadata": {}
        },
        {
          "output_type": "display_data",
          "data": {
            "text/plain": [
              "<IPython.core.display.HTML object>"
            ],
            "text/html": []
          },
          "metadata": {}
        },
        {
          "output_type": "execute_result",
          "data": {
            "text/plain": [
              "1.1279778"
            ]
          },
          "metadata": {},
          "execution_count": 27
        }
      ]
    },
    {
      "cell_type": "code",
      "source": [
        "nn_preds_x.shape"
      ],
      "metadata": {
        "execution": {
          "iopub.status.busy": "2024-04-27T05:08:22.028467Z",
          "iopub.execute_input": "2024-04-27T05:08:22.028899Z",
          "iopub.status.idle": "2024-04-27T05:08:22.037662Z",
          "shell.execute_reply.started": "2024-04-27T05:08:22.028865Z",
          "shell.execute_reply": "2024-04-27T05:08:22.036496Z"
        },
        "trusted": true,
        "id": "67bfhF8ck6lk"
      },
      "execution_count": null,
      "outputs": []
    },
    {
      "cell_type": "code",
      "source": [
        "dl = learn.dls.test_dl(test_df)\n",
        "def ensemble():\n",
        "  learn = tabular_learner(dls, metrics=mae)\n",
        "  with learn.no_bar(), learn.no_logging():\n",
        "    learn.fit(7, 0.005)\n",
        "  return learn.get_preds(dl=dl)[0]\n",
        "\n",
        "learns = [ensemble() for _ in range(5)]"
      ],
      "metadata": {
        "execution": {
          "iopub.status.busy": "2024-04-27T05:05:38.724603Z",
          "iopub.execute_input": "2024-04-27T05:05:38.725267Z",
          "iopub.status.idle": "2024-04-27T05:05:38.751126Z",
          "shell.execute_reply.started": "2024-04-27T05:05:38.725234Z",
          "shell.execute_reply": "2024-04-27T05:05:38.749581Z"
        },
        "trusted": true,
        "id": "d994ikp9k6lk",
        "colab": {
          "base_uri": "https://localhost:8080/",
          "height": 17
        },
        "outputId": "7013654b-f950-44f2-8072-0b0b84cd7210"
      },
      "execution_count": 28,
      "outputs": [
        {
          "output_type": "display_data",
          "data": {
            "text/plain": [
              "<IPython.core.display.HTML object>"
            ],
            "text/html": [
              "\n",
              "<style>\n",
              "    /* Turns off some styling */\n",
              "    progress {\n",
              "        /* gets rid of default border in Firefox and Opera. */\n",
              "        border: none;\n",
              "        /* Needs to be in here for Safari polyfill so background images work as expected. */\n",
              "        background-size: auto;\n",
              "    }\n",
              "    progress:not([value]), progress:not([value])::-webkit-progress-bar {\n",
              "        background: repeating-linear-gradient(45deg, #7e7e7e, #7e7e7e 10px, #5c5c5c 10px, #5c5c5c 20px);\n",
              "    }\n",
              "    .progress-bar-interrupted, .progress-bar-interrupted::-webkit-progress-bar {\n",
              "        background: #F44336;\n",
              "    }\n",
              "</style>\n"
            ]
          },
          "metadata": {}
        },
        {
          "output_type": "display_data",
          "data": {
            "text/plain": [
              "<IPython.core.display.HTML object>"
            ],
            "text/html": []
          },
          "metadata": {}
        },
        {
          "output_type": "display_data",
          "data": {
            "text/plain": [
              "<IPython.core.display.HTML object>"
            ],
            "text/html": [
              "\n",
              "<style>\n",
              "    /* Turns off some styling */\n",
              "    progress {\n",
              "        /* gets rid of default border in Firefox and Opera. */\n",
              "        border: none;\n",
              "        /* Needs to be in here for Safari polyfill so background images work as expected. */\n",
              "        background-size: auto;\n",
              "    }\n",
              "    progress:not([value]), progress:not([value])::-webkit-progress-bar {\n",
              "        background: repeating-linear-gradient(45deg, #7e7e7e, #7e7e7e 10px, #5c5c5c 10px, #5c5c5c 20px);\n",
              "    }\n",
              "    .progress-bar-interrupted, .progress-bar-interrupted::-webkit-progress-bar {\n",
              "        background: #F44336;\n",
              "    }\n",
              "</style>\n"
            ]
          },
          "metadata": {}
        },
        {
          "output_type": "display_data",
          "data": {
            "text/plain": [
              "<IPython.core.display.HTML object>"
            ],
            "text/html": []
          },
          "metadata": {}
        },
        {
          "output_type": "display_data",
          "data": {
            "text/plain": [
              "<IPython.core.display.HTML object>"
            ],
            "text/html": [
              "\n",
              "<style>\n",
              "    /* Turns off some styling */\n",
              "    progress {\n",
              "        /* gets rid of default border in Firefox and Opera. */\n",
              "        border: none;\n",
              "        /* Needs to be in here for Safari polyfill so background images work as expected. */\n",
              "        background-size: auto;\n",
              "    }\n",
              "    progress:not([value]), progress:not([value])::-webkit-progress-bar {\n",
              "        background: repeating-linear-gradient(45deg, #7e7e7e, #7e7e7e 10px, #5c5c5c 10px, #5c5c5c 20px);\n",
              "    }\n",
              "    .progress-bar-interrupted, .progress-bar-interrupted::-webkit-progress-bar {\n",
              "        background: #F44336;\n",
              "    }\n",
              "</style>\n"
            ]
          },
          "metadata": {}
        },
        {
          "output_type": "display_data",
          "data": {
            "text/plain": [
              "<IPython.core.display.HTML object>"
            ],
            "text/html": []
          },
          "metadata": {}
        },
        {
          "output_type": "display_data",
          "data": {
            "text/plain": [
              "<IPython.core.display.HTML object>"
            ],
            "text/html": [
              "\n",
              "<style>\n",
              "    /* Turns off some styling */\n",
              "    progress {\n",
              "        /* gets rid of default border in Firefox and Opera. */\n",
              "        border: none;\n",
              "        /* Needs to be in here for Safari polyfill so background images work as expected. */\n",
              "        background-size: auto;\n",
              "    }\n",
              "    progress:not([value]), progress:not([value])::-webkit-progress-bar {\n",
              "        background: repeating-linear-gradient(45deg, #7e7e7e, #7e7e7e 10px, #5c5c5c 10px, #5c5c5c 20px);\n",
              "    }\n",
              "    .progress-bar-interrupted, .progress-bar-interrupted::-webkit-progress-bar {\n",
              "        background: #F44336;\n",
              "    }\n",
              "</style>\n"
            ]
          },
          "metadata": {}
        },
        {
          "output_type": "display_data",
          "data": {
            "text/plain": [
              "<IPython.core.display.HTML object>"
            ],
            "text/html": []
          },
          "metadata": {}
        },
        {
          "output_type": "display_data",
          "data": {
            "text/plain": [
              "<IPython.core.display.HTML object>"
            ],
            "text/html": [
              "\n",
              "<style>\n",
              "    /* Turns off some styling */\n",
              "    progress {\n",
              "        /* gets rid of default border in Firefox and Opera. */\n",
              "        border: none;\n",
              "        /* Needs to be in here for Safari polyfill so background images work as expected. */\n",
              "        background-size: auto;\n",
              "    }\n",
              "    progress:not([value]), progress:not([value])::-webkit-progress-bar {\n",
              "        background: repeating-linear-gradient(45deg, #7e7e7e, #7e7e7e 10px, #5c5c5c 10px, #5c5c5c 20px);\n",
              "    }\n",
              "    .progress-bar-interrupted, .progress-bar-interrupted::-webkit-progress-bar {\n",
              "        background: #F44336;\n",
              "    }\n",
              "</style>\n"
            ]
          },
          "metadata": {}
        },
        {
          "output_type": "display_data",
          "data": {
            "text/plain": [
              "<IPython.core.display.HTML object>"
            ],
            "text/html": []
          },
          "metadata": {}
        }
      ]
    },
    {
      "cell_type": "code",
      "source": [
        "ens_preds = torch.stack(learns).mean(0)"
      ],
      "metadata": {
        "execution": {
          "iopub.status.busy": "2024-04-27T04:22:10.80644Z",
          "iopub.execute_input": "2024-04-27T04:22:10.806995Z",
          "iopub.status.idle": "2024-04-27T04:22:10.812273Z",
          "shell.execute_reply.started": "2024-04-27T04:22:10.806963Z",
          "shell.execute_reply": "2024-04-27T04:22:10.810805Z"
        },
        "trusted": true,
        "id": "CEbbfOsek6ll"
      },
      "execution_count": 29,
      "outputs": []
    },
    {
      "cell_type": "code",
      "source": [
        "ens_preds_x = ens_preds.squeeze(1)\n",
        "ens_preds_x.shape"
      ],
      "metadata": {
        "execution": {
          "iopub.status.busy": "2024-04-27T04:22:10.814048Z",
          "iopub.execute_input": "2024-04-27T04:22:10.815031Z",
          "iopub.status.idle": "2024-04-27T04:22:10.826727Z",
          "shell.execute_reply.started": "2024-04-27T04:22:10.814995Z",
          "shell.execute_reply": "2024-04-27T04:22:10.825785Z"
        },
        "trusted": true,
        "id": "3GY2ytLYk6ll",
        "colab": {
          "base_uri": "https://localhost:8080/"
        },
        "outputId": "dfcc06f7-5dcc-4de6-b12c-5d643cd94395"
      },
      "execution_count": 30,
      "outputs": [
        {
          "output_type": "execute_result",
          "data": {
            "text/plain": [
              "torch.Size([60411])"
            ]
          },
          "metadata": {},
          "execution_count": 30
        }
      ]
    },
    {
      "cell_type": "code",
      "source": [
        "#target_preds = nn_preds[0]\n",
        "\n",
        "#test_df['Rings'] = target_preds\n",
        "\n",
        "#test_df.to_csv('submission.csv', columns=['Rings'], index=True)\n",
        "\n",
        "#submission = pd.read_csv('submission.csv')\n",
        "#submission.head()"
      ],
      "metadata": {
        "execution": {
          "iopub.status.busy": "2024-04-27T04:09:12.504105Z",
          "iopub.status.idle": "2024-04-27T04:09:12.504663Z",
          "shell.execute_reply.started": "2024-04-27T04:09:12.504398Z",
          "shell.execute_reply": "2024-04-27T04:09:12.504422Z"
        },
        "trusted": true,
        "id": "Es74ISYFk6ll"
      },
      "execution_count": null,
      "outputs": []
    },
    {
      "cell_type": "code",
      "source": [
        "#nn_preds_x.shape"
      ],
      "metadata": {
        "execution": {
          "iopub.status.busy": "2024-04-27T04:09:12.506835Z",
          "iopub.status.idle": "2024-04-27T04:09:12.507526Z",
          "shell.execute_reply.started": "2024-04-27T04:09:12.507239Z",
          "shell.execute_reply": "2024-04-27T04:09:12.507264Z"
        },
        "trusted": true,
        "id": "HyTREMFFk6ll"
      },
      "execution_count": null,
      "outputs": []
    },
    {
      "cell_type": "code",
      "source": [
        "ens_preds.shape"
      ],
      "metadata": {
        "execution": {
          "iopub.status.busy": "2024-04-27T04:09:12.509097Z",
          "iopub.status.idle": "2024-04-27T04:09:12.509657Z",
          "shell.execute_reply.started": "2024-04-27T04:09:12.509387Z",
          "shell.execute_reply": "2024-04-27T04:09:12.509411Z"
        },
        "trusted": true,
        "id": "zVE7FZOHk6ll"
      },
      "execution_count": null,
      "outputs": []
    },
    {
      "cell_type": "code",
      "source": [
        "#ens_new = learn.get_preds(dl=dl)\n",
        "#ens_new_preds, _ = learns.get_preds(dl=dl)\n",
        "#final_ens_preds = ens_new_preds.squeeze(1)\n",
        "#final_ens_preds"
      ],
      "metadata": {
        "execution": {
          "iopub.status.busy": "2024-04-27T04:09:12.51106Z",
          "iopub.status.idle": "2024-04-27T04:09:12.511628Z",
          "shell.execute_reply.started": "2024-04-27T04:09:12.511348Z",
          "shell.execute_reply": "2024-04-27T04:09:12.511371Z"
        },
        "trusted": true,
        "id": "u-0xLBGck6lm"
      },
      "execution_count": null,
      "outputs": []
    },
    {
      "cell_type": "code",
      "source": [
        "#ens_preds = torch.stack(learns).mean(0)\n",
        "#ens_target_preds = ens_preds\n",
        "#test_df['Rings'] = ens_target_preds\n",
        "\n",
        "#test_df.to_csv('submission.csv', columns=['Rings'], index=True)\n",
        "\n",
        "#submission = pd.read_csv('submission.csv')\n",
        "#submission.head()"
      ],
      "metadata": {
        "execution": {
          "iopub.status.busy": "2024-04-27T04:09:12.51583Z",
          "iopub.status.idle": "2024-04-27T04:09:12.51642Z",
          "shell.execute_reply.started": "2024-04-27T04:09:12.516105Z",
          "shell.execute_reply": "2024-04-27T04:09:12.516147Z"
        },
        "trusted": true,
        "id": "08owmzoNk6lm"
      },
      "execution_count": null,
      "outputs": []
    },
    {
      "cell_type": "code",
      "source": [
        "#mse = mean_absolute_error(y_test, ens_preds_y)\n",
        "#rmse = np.sqrt(mse)\n",
        "#rmse"
      ],
      "metadata": {
        "execution": {
          "iopub.status.busy": "2024-04-27T04:10:34.846746Z",
          "iopub.execute_input": "2024-04-27T04:10:34.847187Z",
          "iopub.status.idle": "2024-04-27T04:10:34.851714Z",
          "shell.execute_reply.started": "2024-04-27T04:10:34.847151Z",
          "shell.execute_reply": "2024-04-27T04:10:34.850719Z"
        },
        "trusted": true,
        "id": "3qmgvQPak6lm"
      },
      "execution_count": null,
      "outputs": []
    },
    {
      "cell_type": "markdown",
      "source": [
        "# CATBOOST"
      ],
      "metadata": {
        "id": "xfJ3Twcpk6ln"
      }
    },
    {
      "cell_type": "code",
      "source": [
        "cat_model = CatBoostRegressor(iterations=200, depth=6, learning_rate=0.3, random_strength=0.5)\n",
        "cat_model.fit(X_train, y_train, eval_set=(X_test, y_test), verbose=False)\n",
        "\n",
        "\n",
        "cat_preds = tensor(cat_model.predict(test_dl.xs))\n",
        "\n",
        "mse = mean_absolute_error(y_test, cat_model.predict(X_test))\n",
        "rmse = np.sqrt(mse)\n",
        "rmse"
      ],
      "metadata": {
        "execution": {
          "iopub.status.busy": "2024-04-27T07:35:57.269885Z",
          "iopub.execute_input": "2024-04-27T07:35:57.271309Z",
          "iopub.status.idle": "2024-04-27T07:35:59.542779Z",
          "shell.execute_reply.started": "2024-04-27T07:35:57.271252Z",
          "shell.execute_reply": "2024-04-27T07:35:59.541068Z"
        },
        "trusted": true,
        "id": "etDKZNGlk6ln",
        "outputId": "6b7092e3-91fe-4848-b871-0a687494b579",
        "colab": {
          "base_uri": "https://localhost:8080/"
        }
      },
      "execution_count": 31,
      "outputs": [
        {
          "output_type": "execute_result",
          "data": {
            "text/plain": [
              "1.1126430393429967"
            ]
          },
          "metadata": {},
          "execution_count": 31
        }
      ]
    },
    {
      "cell_type": "code",
      "source": [
        "!ls"
      ],
      "metadata": {
        "execution": {
          "iopub.status.busy": "2024-04-27T05:08:23.879354Z",
          "iopub.execute_input": "2024-04-27T05:08:23.879872Z",
          "iopub.status.idle": "2024-04-27T05:08:24.908516Z",
          "shell.execute_reply.started": "2024-04-27T05:08:23.87984Z",
          "shell.execute_reply": "2024-04-27T05:08:24.907099Z"
        },
        "trusted": true,
        "id": "aaeo_KjTk6ln"
      },
      "execution_count": null,
      "outputs": []
    },
    {
      "cell_type": "markdown",
      "source": [
        "# XGBoost"
      ],
      "metadata": {
        "id": "Ygh9Mckqk6ln"
      }
    },
    {
      "cell_type": "code",
      "source": [
        "model = xgb.XGBRegressor(n_estimators = 200, max_depth=7, learning_rate=0.08, subsample=0.5)\n",
        "xgb_model = model.fit(X_train, y_train)\n",
        "dls = to.dataloaders(bs=64)\n",
        "test_dl = dls.test_dl(test_df)\n",
        "xgb_preds = tensor(model.predict(test_dl.xs))\n",
        "\n",
        "mse = mean_absolute_error(y_test, model.predict(X_test))\n",
        "rmse = np.sqrt(mse)\n",
        "rmse"
      ],
      "metadata": {
        "execution": {
          "iopub.status.busy": "2024-04-27T07:35:59.54438Z",
          "iopub.execute_input": "2024-04-27T07:35:59.544801Z",
          "iopub.status.idle": "2024-04-27T07:36:01.413977Z",
          "shell.execute_reply.started": "2024-04-27T07:35:59.544768Z",
          "shell.execute_reply": "2024-04-27T07:36:01.412617Z"
        },
        "trusted": true,
        "id": "B3F4bdOWk6ln",
        "outputId": "fcfe1270-7432-4b3d-d6e9-2077a8ef6cb9",
        "colab": {
          "base_uri": "https://localhost:8080/"
        }
      },
      "execution_count": 32,
      "outputs": [
        {
          "output_type": "execute_result",
          "data": {
            "text/plain": [
              "1.1114287"
            ]
          },
          "metadata": {},
          "execution_count": 32
        }
      ]
    },
    {
      "cell_type": "markdown",
      "source": [
        "# LightGBM"
      ],
      "metadata": {
        "id": "FTt5bWnsk6lo"
      }
    },
    {
      "cell_type": "code",
      "source": [
        "new_model = lgb.LGBMRegressor(num_leaves=50, learning_rate=0.16, n_estimators=200)\n",
        "lgb_model = new_model.fit(X_train, y_train)\n",
        "\n",
        "\n",
        "lgb_preds = tensor(new_model.predict(test_dl.xs))\n",
        "\n",
        "\n",
        "mse = mean_absolute_error(y_test, new_model.predict(X_test))\n",
        "rmse = np.sqrt(mse)\n",
        "rmse"
      ],
      "metadata": {
        "execution": {
          "iopub.status.busy": "2024-04-27T07:36:01.416768Z",
          "iopub.execute_input": "2024-04-27T07:36:01.418225Z",
          "iopub.status.idle": "2024-04-27T07:36:03.198679Z",
          "shell.execute_reply.started": "2024-04-27T07:36:01.418171Z",
          "shell.execute_reply": "2024-04-27T07:36:03.197361Z"
        },
        "trusted": true,
        "id": "kcz5ow8Hk6lo",
        "outputId": "7cdba84d-82c3-4503-c106-2acfa6561102",
        "colab": {
          "base_uri": "https://localhost:8080/"
        }
      },
      "execution_count": 33,
      "outputs": [
        {
          "output_type": "stream",
          "name": "stdout",
          "text": [
            "[LightGBM] [Warning] Found whitespace in feature_names, replace with underlines\n",
            "[LightGBM] [Info] Auto-choosing row-wise multi-threading, the overhead of testing was 0.010183 seconds.\n",
            "You can set `force_row_wise=true` to remove the overhead.\n",
            "And if memory is not enough, you can set `force_col_wise=true`.\n",
            "[LightGBM] [Info] Total Bins 1331\n",
            "[LightGBM] [Info] Number of data points in the train set: 72492, number of used features: 8\n",
            "[LightGBM] [Info] Start training from score 9.702850\n"
          ]
        },
        {
          "output_type": "execute_result",
          "data": {
            "text/plain": [
              "1.1092100946846497"
            ]
          },
          "metadata": {},
          "execution_count": 33
        }
      ]
    },
    {
      "cell_type": "markdown",
      "source": [
        "# Random Forest"
      ],
      "metadata": {
        "id": "BZRmoxjgk6lt"
      }
    },
    {
      "cell_type": "code",
      "source": [
        "rf = RandomForestClassifier(100, min_samples_leaf=5)\n",
        "rf_model = rf.fit(X_train, y_train);\n",
        "\n",
        "rf_preds = tensor(rf_model.predict(test_dl.xs))\n",
        "\n",
        "mse = mean_absolute_error(y_test, rf_model.predict(X_test))\n",
        "rmse = np.sqrt(mse)\n",
        "rmse"
      ],
      "metadata": {
        "execution": {
          "iopub.status.busy": "2024-04-27T07:36:03.201141Z",
          "iopub.execute_input": "2024-04-27T07:36:03.201913Z",
          "iopub.status.idle": "2024-04-27T07:36:21.28269Z",
          "shell.execute_reply.started": "2024-04-27T07:36:03.201867Z",
          "shell.execute_reply": "2024-04-27T07:36:21.281218Z"
        },
        "trusted": true,
        "id": "GepmIbsjk6lt",
        "outputId": "41042467-1302-4d09-81b4-3f77563c1247",
        "colab": {
          "base_uri": "https://localhost:8080/"
        }
      },
      "execution_count": 34,
      "outputs": [
        {
          "output_type": "execute_result",
          "data": {
            "text/plain": [
              "1.1257128796419238"
            ]
          },
          "metadata": {},
          "execution_count": 34
        }
      ]
    },
    {
      "cell_type": "code",
      "source": [
        "lgb_preds.shape,xgb_preds.shape,cat_preds.shape,nn_preds_y.shape,ens_preds_x.shape"
      ],
      "metadata": {
        "execution": {
          "iopub.status.busy": "2024-04-27T07:44:01.21177Z",
          "iopub.execute_input": "2024-04-27T07:44:01.212319Z",
          "iopub.status.idle": "2024-04-27T07:44:01.222618Z",
          "shell.execute_reply.started": "2024-04-27T07:44:01.212284Z",
          "shell.execute_reply": "2024-04-27T07:44:01.220905Z"
        },
        "trusted": true,
        "id": "MkJxIdXkk6lt",
        "outputId": "21bb8798-970a-46a0-97d8-78474e675cc1",
        "colab": {
          "base_uri": "https://localhost:8080/"
        }
      },
      "execution_count": 41,
      "outputs": [
        {
          "output_type": "execute_result",
          "data": {
            "text/plain": [
              "(torch.Size([60411]),\n",
              " torch.Size([60411]),\n",
              " torch.Size([60411]),\n",
              " torch.Size([60411]),\n",
              " torch.Size([60411]))"
            ]
          },
          "metadata": {},
          "execution_count": 41
        }
      ]
    },
    {
      "cell_type": "code",
      "source": [
        "general_preds = ( xgb_preds + lgb_preds + cat_preds + ens_preds_x + rf_preds )/5\n",
        "general_preds"
      ],
      "metadata": {
        "execution": {
          "iopub.status.busy": "2024-04-27T04:22:34.24285Z",
          "iopub.execute_input": "2024-04-27T04:22:34.24331Z",
          "iopub.status.idle": "2024-04-27T04:22:34.261578Z",
          "shell.execute_reply.started": "2024-04-27T04:22:34.243279Z",
          "shell.execute_reply": "2024-04-27T04:22:34.260312Z"
        },
        "trusted": true,
        "id": "-Y0gdCnIk6lt",
        "colab": {
          "base_uri": "https://localhost:8080/"
        },
        "outputId": "737b6412-5dfd-439b-ad09-7d1fe0b0064d"
      },
      "execution_count": 42,
      "outputs": [
        {
          "output_type": "execute_result",
          "data": {
            "text/plain": [
              "tensor([ 9.5909,  9.5625,  9.9034,  ..., 12.2429, 13.5647,  8.3064])"
            ]
          },
          "metadata": {},
          "execution_count": 42
        }
      ]
    },
    {
      "cell_type": "code",
      "source": [
        "general_preds"
      ],
      "metadata": {
        "trusted": true,
        "id": "nzKu6tzlk6lu"
      },
      "execution_count": null,
      "outputs": []
    },
    {
      "cell_type": "code",
      "source": [
        "#adding ensemble preds\n",
        "general_preds = ( xgb_preds + lgb_preds + cat_preds + final_ens_preds)/4\n",
        "general_preds"
      ],
      "metadata": {
        "trusted": true,
        "id": "PObzMYPHk6lu"
      },
      "execution_count": null,
      "outputs": []
    },
    {
      "cell_type": "code",
      "source": [
        "#adding random forest preds\n",
        "general_preds = ( xgb_preds + lgb_preds + cat_preds + nn_preds_y + rf_preds)/5\n",
        "general_preds"
      ],
      "metadata": {
        "execution": {
          "iopub.status.busy": "2024-04-27T07:44:41.589769Z",
          "iopub.execute_input": "2024-04-27T07:44:41.590318Z",
          "iopub.status.idle": "2024-04-27T07:44:41.610366Z",
          "shell.execute_reply.started": "2024-04-27T07:44:41.590281Z",
          "shell.execute_reply": "2024-04-27T07:44:41.60906Z"
        },
        "trusted": true,
        "id": "zNsAmo7jk6lu",
        "outputId": "498498a5-3759-4df9-d59d-867e7994dc00",
        "colab": {
          "base_uri": "https://localhost:8080/"
        }
      },
      "execution_count": 35,
      "outputs": [
        {
          "output_type": "execute_result",
          "data": {
            "text/plain": [
              "tensor([ 9.6349,  9.5672,  9.9122,  ..., 12.3277, 13.5295,  8.2826])"
            ]
          },
          "metadata": {},
          "execution_count": 35
        }
      ]
    },
    {
      "cell_type": "code",
      "source": [
        "!rm submission.csv"
      ],
      "metadata": {
        "trusted": true,
        "id": "S8o46B1nk6lu"
      },
      "execution_count": 46,
      "outputs": []
    },
    {
      "cell_type": "code",
      "source": [
        "!ls"
      ],
      "metadata": {
        "execution": {
          "iopub.status.busy": "2024-04-27T07:44:44.871473Z",
          "iopub.execute_input": "2024-04-27T07:44:44.872482Z",
          "iopub.status.idle": "2024-04-27T07:44:46.00726Z",
          "shell.execute_reply.started": "2024-04-27T07:44:44.872434Z",
          "shell.execute_reply": "2024-04-27T07:44:46.005409Z"
        },
        "trusted": true,
        "id": "PmR5qS4Nk6lu",
        "outputId": "e668ede3-21a2-4ece-d4d2-74a2fe1c829a",
        "colab": {
          "base_uri": "https://localhost:8080/"
        }
      },
      "execution_count": 45,
      "outputs": [
        {
          "output_type": "stream",
          "name": "stdout",
          "text": [
            "catboost_info  models\t\t       playground-series-s4e4.zip  submission.csv\n",
            "kaggle.json    playground-series-s4e4  sample_data\n"
          ]
        }
      ]
    },
    {
      "cell_type": "markdown",
      "source": [
        "Find a way to test different variations of general_preds before kaggle submission."
      ],
      "metadata": {
        "id": "9op8C5Spk6lv"
      }
    },
    {
      "cell_type": "markdown",
      "source": [
        "# Submission"
      ],
      "metadata": {
        "id": "sr195ynDk6lv"
      }
    },
    {
      "cell_type": "code",
      "source": [
        "submit = pd.read_csv(path/'sample_submission.csv')\n",
        "submit['Rings'] = general_preds\n",
        "submit.to_csv('submission.csv', index=False)\n",
        "sub = pd.read_csv('submission.csv')\n",
        "sub"
      ],
      "metadata": {
        "execution": {
          "iopub.status.busy": "2024-04-27T07:44:50.010005Z",
          "iopub.execute_input": "2024-04-27T07:44:50.010487Z",
          "iopub.status.idle": "2024-04-27T07:44:50.247142Z",
          "shell.execute_reply.started": "2024-04-27T07:44:50.010448Z",
          "shell.execute_reply": "2024-04-27T07:44:50.245543Z"
        },
        "trusted": true,
        "id": "3aVfaqsWk6lv",
        "outputId": "f5131bfe-8211-4cfc-ab8a-b28801ba02da",
        "colab": {
          "base_uri": "https://localhost:8080/",
          "height": 423
        }
      },
      "execution_count": 43,
      "outputs": [
        {
          "output_type": "execute_result",
          "data": {
            "text/plain": [
              "           id      Rings\n",
              "0       90615   9.590894\n",
              "1       90616   9.562479\n",
              "2       90617   9.903421\n",
              "3       90618  10.278755\n",
              "4       90619   7.682407\n",
              "...       ...        ...\n",
              "60406  151021   6.244174\n",
              "60407  151022   9.389985\n",
              "60408  151023  12.242919\n",
              "60409  151024  13.564692\n",
              "60410  151025   8.306415\n",
              "\n",
              "[60411 rows x 2 columns]"
            ],
            "text/html": [
              "\n",
              "  <div id=\"df-85a00b87-d86c-471f-8a84-b641f4449911\" class=\"colab-df-container\">\n",
              "    <div>\n",
              "<style scoped>\n",
              "    .dataframe tbody tr th:only-of-type {\n",
              "        vertical-align: middle;\n",
              "    }\n",
              "\n",
              "    .dataframe tbody tr th {\n",
              "        vertical-align: top;\n",
              "    }\n",
              "\n",
              "    .dataframe thead th {\n",
              "        text-align: right;\n",
              "    }\n",
              "</style>\n",
              "<table border=\"1\" class=\"dataframe\">\n",
              "  <thead>\n",
              "    <tr style=\"text-align: right;\">\n",
              "      <th></th>\n",
              "      <th>id</th>\n",
              "      <th>Rings</th>\n",
              "    </tr>\n",
              "  </thead>\n",
              "  <tbody>\n",
              "    <tr>\n",
              "      <th>0</th>\n",
              "      <td>90615</td>\n",
              "      <td>9.590894</td>\n",
              "    </tr>\n",
              "    <tr>\n",
              "      <th>1</th>\n",
              "      <td>90616</td>\n",
              "      <td>9.562479</td>\n",
              "    </tr>\n",
              "    <tr>\n",
              "      <th>2</th>\n",
              "      <td>90617</td>\n",
              "      <td>9.903421</td>\n",
              "    </tr>\n",
              "    <tr>\n",
              "      <th>3</th>\n",
              "      <td>90618</td>\n",
              "      <td>10.278755</td>\n",
              "    </tr>\n",
              "    <tr>\n",
              "      <th>4</th>\n",
              "      <td>90619</td>\n",
              "      <td>7.682407</td>\n",
              "    </tr>\n",
              "    <tr>\n",
              "      <th>...</th>\n",
              "      <td>...</td>\n",
              "      <td>...</td>\n",
              "    </tr>\n",
              "    <tr>\n",
              "      <th>60406</th>\n",
              "      <td>151021</td>\n",
              "      <td>6.244174</td>\n",
              "    </tr>\n",
              "    <tr>\n",
              "      <th>60407</th>\n",
              "      <td>151022</td>\n",
              "      <td>9.389985</td>\n",
              "    </tr>\n",
              "    <tr>\n",
              "      <th>60408</th>\n",
              "      <td>151023</td>\n",
              "      <td>12.242919</td>\n",
              "    </tr>\n",
              "    <tr>\n",
              "      <th>60409</th>\n",
              "      <td>151024</td>\n",
              "      <td>13.564692</td>\n",
              "    </tr>\n",
              "    <tr>\n",
              "      <th>60410</th>\n",
              "      <td>151025</td>\n",
              "      <td>8.306415</td>\n",
              "    </tr>\n",
              "  </tbody>\n",
              "</table>\n",
              "<p>60411 rows × 2 columns</p>\n",
              "</div>\n",
              "    <div class=\"colab-df-buttons\">\n",
              "\n",
              "  <div class=\"colab-df-container\">\n",
              "    <button class=\"colab-df-convert\" onclick=\"convertToInteractive('df-85a00b87-d86c-471f-8a84-b641f4449911')\"\n",
              "            title=\"Convert this dataframe to an interactive table.\"\n",
              "            style=\"display:none;\">\n",
              "\n",
              "  <svg xmlns=\"http://www.w3.org/2000/svg\" height=\"24px\" viewBox=\"0 -960 960 960\">\n",
              "    <path d=\"M120-120v-720h720v720H120Zm60-500h600v-160H180v160Zm220 220h160v-160H400v160Zm0 220h160v-160H400v160ZM180-400h160v-160H180v160Zm440 0h160v-160H620v160ZM180-180h160v-160H180v160Zm440 0h160v-160H620v160Z\"/>\n",
              "  </svg>\n",
              "    </button>\n",
              "\n",
              "  <style>\n",
              "    .colab-df-container {\n",
              "      display:flex;\n",
              "      gap: 12px;\n",
              "    }\n",
              "\n",
              "    .colab-df-convert {\n",
              "      background-color: #E8F0FE;\n",
              "      border: none;\n",
              "      border-radius: 50%;\n",
              "      cursor: pointer;\n",
              "      display: none;\n",
              "      fill: #1967D2;\n",
              "      height: 32px;\n",
              "      padding: 0 0 0 0;\n",
              "      width: 32px;\n",
              "    }\n",
              "\n",
              "    .colab-df-convert:hover {\n",
              "      background-color: #E2EBFA;\n",
              "      box-shadow: 0px 1px 2px rgba(60, 64, 67, 0.3), 0px 1px 3px 1px rgba(60, 64, 67, 0.15);\n",
              "      fill: #174EA6;\n",
              "    }\n",
              "\n",
              "    .colab-df-buttons div {\n",
              "      margin-bottom: 4px;\n",
              "    }\n",
              "\n",
              "    [theme=dark] .colab-df-convert {\n",
              "      background-color: #3B4455;\n",
              "      fill: #D2E3FC;\n",
              "    }\n",
              "\n",
              "    [theme=dark] .colab-df-convert:hover {\n",
              "      background-color: #434B5C;\n",
              "      box-shadow: 0px 1px 3px 1px rgba(0, 0, 0, 0.15);\n",
              "      filter: drop-shadow(0px 1px 2px rgba(0, 0, 0, 0.3));\n",
              "      fill: #FFFFFF;\n",
              "    }\n",
              "  </style>\n",
              "\n",
              "    <script>\n",
              "      const buttonEl =\n",
              "        document.querySelector('#df-85a00b87-d86c-471f-8a84-b641f4449911 button.colab-df-convert');\n",
              "      buttonEl.style.display =\n",
              "        google.colab.kernel.accessAllowed ? 'block' : 'none';\n",
              "\n",
              "      async function convertToInteractive(key) {\n",
              "        const element = document.querySelector('#df-85a00b87-d86c-471f-8a84-b641f4449911');\n",
              "        const dataTable =\n",
              "          await google.colab.kernel.invokeFunction('convertToInteractive',\n",
              "                                                    [key], {});\n",
              "        if (!dataTable) return;\n",
              "\n",
              "        const docLinkHtml = 'Like what you see? Visit the ' +\n",
              "          '<a target=\"_blank\" href=https://colab.research.google.com/notebooks/data_table.ipynb>data table notebook</a>'\n",
              "          + ' to learn more about interactive tables.';\n",
              "        element.innerHTML = '';\n",
              "        dataTable['output_type'] = 'display_data';\n",
              "        await google.colab.output.renderOutput(dataTable, element);\n",
              "        const docLink = document.createElement('div');\n",
              "        docLink.innerHTML = docLinkHtml;\n",
              "        element.appendChild(docLink);\n",
              "      }\n",
              "    </script>\n",
              "  </div>\n",
              "\n",
              "\n",
              "<div id=\"df-a14de61a-fe25-40ef-93d9-d6e405344779\">\n",
              "  <button class=\"colab-df-quickchart\" onclick=\"quickchart('df-a14de61a-fe25-40ef-93d9-d6e405344779')\"\n",
              "            title=\"Suggest charts\"\n",
              "            style=\"display:none;\">\n",
              "\n",
              "<svg xmlns=\"http://www.w3.org/2000/svg\" height=\"24px\"viewBox=\"0 0 24 24\"\n",
              "     width=\"24px\">\n",
              "    <g>\n",
              "        <path d=\"M19 3H5c-1.1 0-2 .9-2 2v14c0 1.1.9 2 2 2h14c1.1 0 2-.9 2-2V5c0-1.1-.9-2-2-2zM9 17H7v-7h2v7zm4 0h-2V7h2v10zm4 0h-2v-4h2v4z\"/>\n",
              "    </g>\n",
              "</svg>\n",
              "  </button>\n",
              "\n",
              "<style>\n",
              "  .colab-df-quickchart {\n",
              "      --bg-color: #E8F0FE;\n",
              "      --fill-color: #1967D2;\n",
              "      --hover-bg-color: #E2EBFA;\n",
              "      --hover-fill-color: #174EA6;\n",
              "      --disabled-fill-color: #AAA;\n",
              "      --disabled-bg-color: #DDD;\n",
              "  }\n",
              "\n",
              "  [theme=dark] .colab-df-quickchart {\n",
              "      --bg-color: #3B4455;\n",
              "      --fill-color: #D2E3FC;\n",
              "      --hover-bg-color: #434B5C;\n",
              "      --hover-fill-color: #FFFFFF;\n",
              "      --disabled-bg-color: #3B4455;\n",
              "      --disabled-fill-color: #666;\n",
              "  }\n",
              "\n",
              "  .colab-df-quickchart {\n",
              "    background-color: var(--bg-color);\n",
              "    border: none;\n",
              "    border-radius: 50%;\n",
              "    cursor: pointer;\n",
              "    display: none;\n",
              "    fill: var(--fill-color);\n",
              "    height: 32px;\n",
              "    padding: 0;\n",
              "    width: 32px;\n",
              "  }\n",
              "\n",
              "  .colab-df-quickchart:hover {\n",
              "    background-color: var(--hover-bg-color);\n",
              "    box-shadow: 0 1px 2px rgba(60, 64, 67, 0.3), 0 1px 3px 1px rgba(60, 64, 67, 0.15);\n",
              "    fill: var(--button-hover-fill-color);\n",
              "  }\n",
              "\n",
              "  .colab-df-quickchart-complete:disabled,\n",
              "  .colab-df-quickchart-complete:disabled:hover {\n",
              "    background-color: var(--disabled-bg-color);\n",
              "    fill: var(--disabled-fill-color);\n",
              "    box-shadow: none;\n",
              "  }\n",
              "\n",
              "  .colab-df-spinner {\n",
              "    border: 2px solid var(--fill-color);\n",
              "    border-color: transparent;\n",
              "    border-bottom-color: var(--fill-color);\n",
              "    animation:\n",
              "      spin 1s steps(1) infinite;\n",
              "  }\n",
              "\n",
              "  @keyframes spin {\n",
              "    0% {\n",
              "      border-color: transparent;\n",
              "      border-bottom-color: var(--fill-color);\n",
              "      border-left-color: var(--fill-color);\n",
              "    }\n",
              "    20% {\n",
              "      border-color: transparent;\n",
              "      border-left-color: var(--fill-color);\n",
              "      border-top-color: var(--fill-color);\n",
              "    }\n",
              "    30% {\n",
              "      border-color: transparent;\n",
              "      border-left-color: var(--fill-color);\n",
              "      border-top-color: var(--fill-color);\n",
              "      border-right-color: var(--fill-color);\n",
              "    }\n",
              "    40% {\n",
              "      border-color: transparent;\n",
              "      border-right-color: var(--fill-color);\n",
              "      border-top-color: var(--fill-color);\n",
              "    }\n",
              "    60% {\n",
              "      border-color: transparent;\n",
              "      border-right-color: var(--fill-color);\n",
              "    }\n",
              "    80% {\n",
              "      border-color: transparent;\n",
              "      border-right-color: var(--fill-color);\n",
              "      border-bottom-color: var(--fill-color);\n",
              "    }\n",
              "    90% {\n",
              "      border-color: transparent;\n",
              "      border-bottom-color: var(--fill-color);\n",
              "    }\n",
              "  }\n",
              "</style>\n",
              "\n",
              "  <script>\n",
              "    async function quickchart(key) {\n",
              "      const quickchartButtonEl =\n",
              "        document.querySelector('#' + key + ' button');\n",
              "      quickchartButtonEl.disabled = true;  // To prevent multiple clicks.\n",
              "      quickchartButtonEl.classList.add('colab-df-spinner');\n",
              "      try {\n",
              "        const charts = await google.colab.kernel.invokeFunction(\n",
              "            'suggestCharts', [key], {});\n",
              "      } catch (error) {\n",
              "        console.error('Error during call to suggestCharts:', error);\n",
              "      }\n",
              "      quickchartButtonEl.classList.remove('colab-df-spinner');\n",
              "      quickchartButtonEl.classList.add('colab-df-quickchart-complete');\n",
              "    }\n",
              "    (() => {\n",
              "      let quickchartButtonEl =\n",
              "        document.querySelector('#df-a14de61a-fe25-40ef-93d9-d6e405344779 button');\n",
              "      quickchartButtonEl.style.display =\n",
              "        google.colab.kernel.accessAllowed ? 'block' : 'none';\n",
              "    })();\n",
              "  </script>\n",
              "</div>\n",
              "\n",
              "  <div id=\"id_4caa1f8e-6cba-43d5-8578-968dc71af9b2\">\n",
              "    <style>\n",
              "      .colab-df-generate {\n",
              "        background-color: #E8F0FE;\n",
              "        border: none;\n",
              "        border-radius: 50%;\n",
              "        cursor: pointer;\n",
              "        display: none;\n",
              "        fill: #1967D2;\n",
              "        height: 32px;\n",
              "        padding: 0 0 0 0;\n",
              "        width: 32px;\n",
              "      }\n",
              "\n",
              "      .colab-df-generate:hover {\n",
              "        background-color: #E2EBFA;\n",
              "        box-shadow: 0px 1px 2px rgba(60, 64, 67, 0.3), 0px 1px 3px 1px rgba(60, 64, 67, 0.15);\n",
              "        fill: #174EA6;\n",
              "      }\n",
              "\n",
              "      [theme=dark] .colab-df-generate {\n",
              "        background-color: #3B4455;\n",
              "        fill: #D2E3FC;\n",
              "      }\n",
              "\n",
              "      [theme=dark] .colab-df-generate:hover {\n",
              "        background-color: #434B5C;\n",
              "        box-shadow: 0px 1px 3px 1px rgba(0, 0, 0, 0.15);\n",
              "        filter: drop-shadow(0px 1px 2px rgba(0, 0, 0, 0.3));\n",
              "        fill: #FFFFFF;\n",
              "      }\n",
              "    </style>\n",
              "    <button class=\"colab-df-generate\" onclick=\"generateWithVariable('sub')\"\n",
              "            title=\"Generate code using this dataframe.\"\n",
              "            style=\"display:none;\">\n",
              "\n",
              "  <svg xmlns=\"http://www.w3.org/2000/svg\" height=\"24px\"viewBox=\"0 0 24 24\"\n",
              "       width=\"24px\">\n",
              "    <path d=\"M7,19H8.4L18.45,9,17,7.55,7,17.6ZM5,21V16.75L18.45,3.32a2,2,0,0,1,2.83,0l1.4,1.43a1.91,1.91,0,0,1,.58,1.4,1.91,1.91,0,0,1-.58,1.4L9.25,21ZM18.45,9,17,7.55Zm-12,3A5.31,5.31,0,0,0,4.9,8.1,5.31,5.31,0,0,0,1,6.5,5.31,5.31,0,0,0,4.9,4.9,5.31,5.31,0,0,0,6.5,1,5.31,5.31,0,0,0,8.1,4.9,5.31,5.31,0,0,0,12,6.5,5.46,5.46,0,0,0,6.5,12Z\"/>\n",
              "  </svg>\n",
              "    </button>\n",
              "    <script>\n",
              "      (() => {\n",
              "      const buttonEl =\n",
              "        document.querySelector('#id_4caa1f8e-6cba-43d5-8578-968dc71af9b2 button.colab-df-generate');\n",
              "      buttonEl.style.display =\n",
              "        google.colab.kernel.accessAllowed ? 'block' : 'none';\n",
              "\n",
              "      buttonEl.onclick = () => {\n",
              "        google.colab.notebook.generateWithVariable('sub');\n",
              "      }\n",
              "      })();\n",
              "    </script>\n",
              "  </div>\n",
              "\n",
              "    </div>\n",
              "  </div>\n"
            ],
            "application/vnd.google.colaboratory.intrinsic+json": {
              "type": "dataframe",
              "variable_name": "sub",
              "summary": "{\n  \"name\": \"sub\",\n  \"rows\": 60411,\n  \"fields\": [\n    {\n      \"column\": \"id\",\n      \"properties\": {\n        \"dtype\": \"number\",\n        \"std\": 17439,\n        \"min\": 90615,\n        \"max\": 151025,\n        \"num_unique_values\": 60411,\n        \"samples\": [\n          91344,\n          125524,\n          107704\n        ],\n        \"semantic_type\": \"\",\n        \"description\": \"\"\n      }\n    },\n    {\n      \"column\": \"Rings\",\n      \"properties\": {\n        \"dtype\": \"number\",\n        \"std\": 2.487289646046504,\n        \"min\": 3.9438374,\n        \"max\": 20.35855,\n        \"num_unique_values\": 60155,\n        \"samples\": [\n          9.824965,\n          14.229077,\n          7.4767075\n        ],\n        \"semantic_type\": \"\",\n        \"description\": \"\"\n      }\n    }\n  ]\n}"
            }
          },
          "metadata": {},
          "execution_count": 43
        }
      ]
    },
    {
      "cell_type": "code",
      "source": [
        "!kaggle competitions submit -c playground-series-s4e4 -f submission.csv -m \"xgb_preds + lgb_preds + cat_preds + ens_preds_x + rf_preds\""
      ],
      "metadata": {
        "colab": {
          "base_uri": "https://localhost:8080/"
        },
        "id": "d3-QxROWs0Nm",
        "outputId": "309ffcd8-e94d-4c1c-bbf1-b9a083532ac0"
      },
      "execution_count": 44,
      "outputs": [
        {
          "output_type": "stream",
          "name": "stdout",
          "text": [
            "Warning: Your Kaggle API key is readable by other users on this system! To fix this, you can run 'chmod 600 /root/.kaggle/kaggle.json'\n",
            "Warning: Looks like you're using an outdated API Version, please consider updating (server 1.6.12 / client 1.5.16)\n",
            "100% 961k/961k [00:00<00:00, 1.85MB/s]\n",
            "Successfully submitted to Regression with an Abalone Dataset"
          ]
        }
      ]
    },
    {
      "cell_type": "code",
      "source": [
        "!ls"
      ],
      "metadata": {
        "execution": {
          "iopub.status.busy": "2024-04-27T07:45:22.420145Z",
          "iopub.execute_input": "2024-04-27T07:45:22.420741Z",
          "iopub.status.idle": "2024-04-27T07:45:23.612965Z",
          "shell.execute_reply.started": "2024-04-27T07:45:22.4207Z",
          "shell.execute_reply": "2024-04-27T07:45:23.611579Z"
        },
        "trusted": true,
        "id": "vLokWpmIk6lw",
        "outputId": "c93d93ec-728b-4b9a-d42d-b8e897258cfe"
      },
      "execution_count": null,
      "outputs": [
        {
          "name": "stdout",
          "text": "catboost_info  models  submission.csv\n",
          "output_type": "stream"
        }
      ]
    },
    {
      "cell_type": "markdown",
      "source": [
        "# Breakdown"
      ],
      "metadata": {
        "id": "GDnoJNwyk6lw"
      }
    },
    {
      "cell_type": "markdown",
      "source": [
        "### Initial Exploratory Data Analysis"
      ],
      "metadata": {
        "id": "wAxP8zexuvkN"
      }
    },
    {
      "cell_type": "markdown",
      "source": [
        "**Variable description from the initial UCI dataset repository**\n",
        "\n",
        "![UCI Abalone data dictionary rsized.png](data:image/png;base64,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)\n"
      ],
      "metadata": {
        "id": "0_LAG8wtzoYw"
      }
    },
    {
      "cell_type": "code",
      "source": [
        "train_df.head()"
      ],
      "metadata": {
        "id": "vnoioJg21cjG",
        "execution": {
          "iopub.status.busy": "2024-04-15T20:02:35.314899Z",
          "iopub.execute_input": "2024-04-15T20:02:35.315304Z",
          "iopub.status.idle": "2024-04-15T20:02:35.338255Z",
          "shell.execute_reply.started": "2024-04-15T20:02:35.315274Z",
          "shell.execute_reply": "2024-04-15T20:02:35.337231Z"
        },
        "trusted": true
      },
      "execution_count": null,
      "outputs": []
    },
    {
      "cell_type": "markdown",
      "source": [
        "Categorical variable exploration"
      ],
      "metadata": {
        "id": "99nFZkrA8G8g"
      }
    },
    {
      "cell_type": "code",
      "source": [
        "train_df.describe(include=[object])"
      ],
      "metadata": {
        "id": "xY5w75psu7nz"
      },
      "execution_count": null,
      "outputs": []
    },
    {
      "cell_type": "code",
      "source": [
        "train_df['Sex'].unique()"
      ],
      "metadata": {
        "id": "LN_KOmGAuUPA"
      },
      "execution_count": null,
      "outputs": []
    },
    {
      "cell_type": "code",
      "source": [
        "train_df['Sex'].hist(figsize=(6,2));"
      ],
      "metadata": {
        "id": "_vEgufml28-Z"
      },
      "execution_count": null,
      "outputs": []
    },
    {
      "cell_type": "code",
      "source": [
        "sex_classes_count = train_df['Sex'].value_counts()\n",
        "sex_classes_count.plot(kind='pie',figsize=(10,4));"
      ],
      "metadata": {
        "id": "YuhWeYjz7bt_"
      },
      "execution_count": null,
      "outputs": []
    },
    {
      "cell_type": "markdown",
      "source": [
        "Sex has 3 values ??\n",
        "Turns out Abalone's sex can change with time or over their lifespans.\n",
        "\n",
        "The dataset categorises sex into 3 categories i.e. Male, Female and Infant.\n",
        "We also notice that infant has the most values."
      ],
      "metadata": {
        "id": "Jg-t0vS-wGhr"
      }
    },
    {
      "cell_type": "code",
      "source": [
        "train_df.describe()"
      ],
      "metadata": {
        "id": "geHRNc5oyV2_"
      },
      "execution_count": null,
      "outputs": []
    },
    {
      "cell_type": "code",
      "source": [
        "dep_classes_count = train_df['Rings'].value_counts()\n",
        "dep_classes_count"
      ],
      "metadata": {
        "id": "sFtXR-zLyo1t"
      },
      "execution_count": null,
      "outputs": []
    },
    {
      "cell_type": "code",
      "source": [
        "train_df['Rings'].hist()"
      ],
      "metadata": {
        "id": "soMKHDyhyxg3"
      },
      "execution_count": null,
      "outputs": []
    },
    {
      "cell_type": "code",
      "source": [
        "dep_classes_count = train_df['Diameter'].value_counts()\n",
        "dep_classes_count"
      ],
      "metadata": {
        "id": "AxA1UlUTytme"
      },
      "execution_count": null,
      "outputs": []
    },
    {
      "cell_type": "code",
      "source": [
        "train_df['Diameter'].hist()"
      ],
      "metadata": {
        "id": "-n6pQu4my023"
      },
      "execution_count": null,
      "outputs": []
    },
    {
      "cell_type": "code",
      "source": [
        "dep_classes_count.plot(kind='pie')"
      ],
      "metadata": {
        "id": "c_JqFhhDyu4V"
      },
      "execution_count": null,
      "outputs": []
    },
    {
      "cell_type": "code",
      "source": [
        "train_df.hist(figsize=(20,15));"
      ],
      "metadata": {
        "id": "orcIFoXFu7r8"
      },
      "execution_count": null,
      "outputs": []
    },
    {
      "cell_type": "markdown",
      "source": [
        "#### Feature Engineering"
      ],
      "metadata": {
        "id": "pEJXscIw8M7G"
      }
    },
    {
      "cell_type": "markdown",
      "source": [
        "Drop Sex"
      ],
      "metadata": {
        "id": "ahbhoJFr8Vm0"
      }
    },
    {
      "cell_type": "code",
      "source": [
        "!ls"
      ],
      "metadata": {
        "execution": {
          "iopub.status.busy": "2024-04-18T08:22:31.673363Z",
          "iopub.execute_input": "2024-04-18T08:22:31.67427Z",
          "iopub.status.idle": "2024-04-18T08:22:32.66423Z",
          "shell.execute_reply.started": "2024-04-18T08:22:31.674237Z",
          "shell.execute_reply": "2024-04-18T08:22:32.663093Z"
        },
        "trusted": true,
        "id": "J84f52vkk6l7"
      },
      "execution_count": null,
      "outputs": []
    },
    {
      "cell_type": "code",
      "source": [
        "train_df.drop('Sex', axis=1 , inplace=True)\n",
        "test_df.drop('Sex', axis=1 , inplace=True)"
      ],
      "metadata": {
        "id": "KUmhdV7d8UCo",
        "execution": {
          "iopub.status.busy": "2024-04-12T11:55:22.984123Z",
          "iopub.execute_input": "2024-04-12T11:55:22.984624Z",
          "iopub.status.idle": "2024-04-12T11:55:23.006818Z",
          "shell.execute_reply.started": "2024-04-12T11:55:22.984582Z",
          "shell.execute_reply": "2024-04-12T11:55:23.005639Z"
        },
        "trusted": true
      },
      "execution_count": null,
      "outputs": []
    },
    {
      "cell_type": "markdown",
      "source": [
        "### TabularPandas Object\n",
        "\n",
        "\n",
        "We create an instance of a TabularPandas Object,to which is a fastai dataframe wrapper that stores all the information about our dataset such as which columns are continous, categorical, and our dependent variables.\n",
        "\n",
        "This instance also stores and applies the set transformations to our data.\n",
        "\n",
        "cont_cat_split helps us split our data into continuos and categorical variables."
      ],
      "metadata": {
        "id": "NRQ8fC4jLu0l"
      }
    },
    {
      "cell_type": "code",
      "source": [
        "cont_names,cat_names = cont_cat_split(train_df, dep_var='Rings')"
      ],
      "metadata": {
        "id": "v4No0BKi8UQN",
        "execution": {
          "iopub.status.busy": "2024-04-20T08:52:50.420574Z",
          "iopub.execute_input": "2024-04-20T08:52:50.421008Z",
          "iopub.status.idle": "2024-04-20T08:52:50.427526Z",
          "shell.execute_reply.started": "2024-04-20T08:52:50.420978Z",
          "shell.execute_reply": "2024-04-20T08:52:50.425765Z"
        },
        "trusted": true
      },
      "execution_count": null,
      "outputs": []
    },
    {
      "cell_type": "markdown",
      "source": [
        "We split our data into training and validation with fastai's RandomSplitter which does an 80/20 random split."
      ],
      "metadata": {
        "id": "kzbOMKshk6l8"
      }
    },
    {
      "cell_type": "code",
      "source": [
        "splits = RandomSplitter(valid_pct=0.2)(range_of(train_df))"
      ],
      "metadata": {
        "id": "pOzWdDxV9AX-",
        "execution": {
          "iopub.status.busy": "2024-04-20T08:52:50.860202Z",
          "iopub.execute_input": "2024-04-20T08:52:50.860651Z",
          "iopub.status.idle": "2024-04-20T08:52:50.887573Z",
          "shell.execute_reply.started": "2024-04-20T08:52:50.860612Z",
          "shell.execute_reply": "2024-04-20T08:52:50.88586Z"
        },
        "trusted": true
      },
      "execution_count": null,
      "outputs": []
    },
    {
      "cell_type": "code",
      "source": [
        "to = TabularPandas(train_df, procs=[Categorify, FillMissing,Normalize],\n",
        "                   cat_names = cat_names,\n",
        "                   cont_names = cont_names,\n",
        "                   y_names='Rings',\n",
        "                   y_block=RegressionBlock(),\n",
        "                   splits=splits)"
      ],
      "metadata": {
        "id": "oPOhUlFs9AUS",
        "execution": {
          "iopub.status.busy": "2024-04-20T08:52:51.076328Z",
          "iopub.execute_input": "2024-04-20T08:52:51.076735Z",
          "iopub.status.idle": "2024-04-20T08:52:51.171506Z",
          "shell.execute_reply.started": "2024-04-20T08:52:51.076704Z",
          "shell.execute_reply": "2024-04-20T08:52:51.169974Z"
        },
        "trusted": true
      },
      "execution_count": null,
      "outputs": []
    },
    {
      "cell_type": "code",
      "source": [
        "to.xs.iloc[:2]"
      ],
      "metadata": {
        "id": "vZ2nqGjx9AQh",
        "execution": {
          "iopub.status.busy": "2024-04-20T08:52:52.047781Z",
          "iopub.execute_input": "2024-04-20T08:52:52.048224Z",
          "iopub.status.idle": "2024-04-20T08:52:52.072713Z",
          "shell.execute_reply.started": "2024-04-20T08:52:52.048192Z",
          "shell.execute_reply": "2024-04-20T08:52:52.070857Z"
        },
        "trusted": true
      },
      "execution_count": null,
      "outputs": []
    },
    {
      "cell_type": "code",
      "source": [
        "dls = to.dataloaders(bs=64)"
      ],
      "metadata": {
        "id": "DoRZdv3c9AM8",
        "execution": {
          "iopub.status.busy": "2024-04-20T08:52:52.663765Z",
          "iopub.execute_input": "2024-04-20T08:52:52.664247Z",
          "iopub.status.idle": "2024-04-20T08:52:52.684901Z",
          "shell.execute_reply.started": "2024-04-20T08:52:52.664214Z",
          "shell.execute_reply": "2024-04-20T08:52:52.68351Z"
        },
        "trusted": true
      },
      "execution_count": null,
      "outputs": []
    },
    {
      "cell_type": "code",
      "source": [
        "dls.show_batch()"
      ],
      "metadata": {
        "id": "BCkyMVMg9AKM",
        "execution": {
          "iopub.status.busy": "2024-04-20T08:52:53.235726Z",
          "iopub.execute_input": "2024-04-20T08:52:53.236149Z",
          "iopub.status.idle": "2024-04-20T08:52:53.328162Z",
          "shell.execute_reply.started": "2024-04-20T08:52:53.236105Z",
          "shell.execute_reply": "2024-04-20T08:52:53.326983Z"
        },
        "trusted": true
      },
      "execution_count": null,
      "outputs": []
    },
    {
      "cell_type": "code",
      "source": [
        "learn = tabular_learner(dls, metrics=rmse)"
      ],
      "metadata": {
        "id": "KCDGzTbl9AHn",
        "execution": {
          "iopub.status.busy": "2024-04-20T08:52:53.5704Z",
          "iopub.execute_input": "2024-04-20T08:52:53.570785Z",
          "iopub.status.idle": "2024-04-20T08:52:53.580067Z",
          "shell.execute_reply.started": "2024-04-20T08:52:53.570757Z",
          "shell.execute_reply": "2024-04-20T08:52:53.578794Z"
        },
        "trusted": true
      },
      "execution_count": null,
      "outputs": []
    },
    {
      "cell_type": "code",
      "source": [
        "learn.lr_find(suggest_funcs=(slide,valley))"
      ],
      "metadata": {
        "id": "lub3T_VfCR0J",
        "execution": {
          "iopub.status.busy": "2024-04-20T08:52:53.997321Z",
          "iopub.execute_input": "2024-04-20T08:52:53.997701Z",
          "iopub.status.idle": "2024-04-20T08:52:55.909896Z",
          "shell.execute_reply.started": "2024-04-20T08:52:53.997672Z",
          "shell.execute_reply": "2024-04-20T08:52:55.908662Z"
        },
        "trusted": true
      },
      "execution_count": null,
      "outputs": []
    },
    {
      "cell_type": "code",
      "source": [
        "learn.fit_one_cycle(10,0.02)"
      ],
      "metadata": {
        "id": "tlOis5H7SRf9",
        "execution": {
          "iopub.status.busy": "2024-04-20T08:52:55.911675Z",
          "iopub.execute_input": "2024-04-20T08:52:55.91205Z",
          "iopub.status.idle": "2024-04-20T08:53:06.776816Z",
          "shell.execute_reply.started": "2024-04-20T08:52:55.91202Z",
          "shell.execute_reply": "2024-04-20T08:53:06.775191Z"
        },
        "trusted": true
      },
      "execution_count": null,
      "outputs": []
    },
    {
      "cell_type": "code",
      "source": [
        "#learn.fit_one_cycle(9,0.11)"
      ],
      "metadata": {
        "execution": {
          "iopub.status.busy": "2024-04-16T09:00:47.872712Z",
          "iopub.execute_input": "2024-04-16T09:00:47.873124Z",
          "iopub.status.idle": "2024-04-16T09:02:27.849387Z",
          "shell.execute_reply.started": "2024-04-16T09:00:47.873094Z",
          "shell.execute_reply": "2024-04-16T09:02:27.848359Z"
        },
        "trusted": true,
        "id": "BAE6apYLk6l_"
      },
      "execution_count": null,
      "outputs": []
    },
    {
      "cell_type": "code",
      "source": [
        "learn.show_results()"
      ],
      "metadata": {
        "id": "KNrpALRKB4m0",
        "execution": {
          "iopub.status.busy": "2024-04-17T12:35:05.695857Z",
          "iopub.execute_input": "2024-04-17T12:35:05.696244Z",
          "iopub.status.idle": "2024-04-17T12:35:05.792358Z",
          "shell.execute_reply.started": "2024-04-17T12:35:05.696212Z",
          "shell.execute_reply": "2024-04-17T12:35:05.791251Z"
        },
        "trusted": true
      },
      "execution_count": null,
      "outputs": []
    },
    {
      "cell_type": "code",
      "source": [
        "dl = learn.dls.test_dl(test_df)"
      ],
      "metadata": {
        "id": "MjuqmZUrB4hU",
        "execution": {
          "iopub.status.busy": "2024-04-17T12:35:21.793865Z",
          "iopub.execute_input": "2024-04-17T12:35:21.794999Z",
          "iopub.status.idle": "2024-04-17T12:35:21.824581Z",
          "shell.execute_reply.started": "2024-04-17T12:35:21.794947Z",
          "shell.execute_reply": "2024-04-17T12:35:21.823635Z"
        },
        "trusted": true
      },
      "execution_count": null,
      "outputs": []
    },
    {
      "cell_type": "code",
      "source": [
        "nn_preds = learn.get_preds(dl=dl)"
      ],
      "metadata": {
        "id": "pU6LtuBUB4cv",
        "execution": {
          "iopub.status.busy": "2024-04-17T12:35:22.165752Z",
          "iopub.execute_input": "2024-04-17T12:35:22.166549Z",
          "iopub.status.idle": "2024-04-17T12:35:26.943761Z",
          "shell.execute_reply.started": "2024-04-17T12:35:22.166517Z",
          "shell.execute_reply": "2024-04-17T12:35:26.942608Z"
        },
        "trusted": true
      },
      "execution_count": null,
      "outputs": []
    },
    {
      "cell_type": "code",
      "source": [
        "a_preds, _ = learn.get_preds(dl=dl)\n",
        "nn_preds_y = a_preds.squeeze(1)"
      ],
      "metadata": {
        "id": "mvG8jUR2Tar0",
        "execution": {
          "iopub.status.busy": "2024-04-17T12:35:26.945609Z",
          "iopub.execute_input": "2024-04-17T12:35:26.945954Z",
          "iopub.status.idle": "2024-04-17T12:35:31.792467Z",
          "shell.execute_reply.started": "2024-04-17T12:35:26.945926Z",
          "shell.execute_reply": "2024-04-17T12:35:31.791478Z"
        },
        "trusted": true
      },
      "execution_count": null,
      "outputs": []
    },
    {
      "cell_type": "code",
      "source": [
        "nn_preds_x = learn.get_preds()[0]"
      ],
      "metadata": {
        "id": "YdCwtc3wB4aJ",
        "execution": {
          "iopub.status.busy": "2024-04-17T12:35:31.794045Z",
          "iopub.execute_input": "2024-04-17T12:35:31.794384Z",
          "iopub.status.idle": "2024-04-17T12:35:33.849774Z",
          "shell.execute_reply.started": "2024-04-17T12:35:31.794356Z",
          "shell.execute_reply": "2024-04-17T12:35:33.848629Z"
        },
        "trusted": true
      },
      "execution_count": null,
      "outputs": []
    },
    {
      "cell_type": "code",
      "source": [
        "X_train, y_train = to.train.xs, to.train.ys.values.ravel()\n",
        "X_test, y_test = to.valid.xs, to.valid.ys.values.ravel()"
      ],
      "metadata": {
        "id": "--vtzr750RQB",
        "execution": {
          "iopub.status.busy": "2024-04-17T12:35:33.852286Z",
          "iopub.execute_input": "2024-04-17T12:35:33.852667Z",
          "iopub.status.idle": "2024-04-17T12:35:33.873543Z",
          "shell.execute_reply.started": "2024-04-17T12:35:33.852635Z",
          "shell.execute_reply": "2024-04-17T12:35:33.872375Z"
        },
        "trusted": true
      },
      "execution_count": null,
      "outputs": []
    },
    {
      "cell_type": "code",
      "source": [
        "mse = mean_absolute_error(y_test, nn_preds_x)\n",
        "rmse = np.sqrt(mse)\n",
        "rmse"
      ],
      "metadata": {
        "execution": {
          "iopub.status.busy": "2024-04-17T12:35:33.875251Z",
          "iopub.execute_input": "2024-04-17T12:35:33.87615Z",
          "iopub.status.idle": "2024-04-17T12:35:33.885735Z",
          "shell.execute_reply.started": "2024-04-17T12:35:33.876036Z",
          "shell.execute_reply": "2024-04-17T12:35:33.88478Z"
        },
        "trusted": true,
        "id": "NbhuvReHk6mB"
      },
      "execution_count": null,
      "outputs": []
    },
    {
      "cell_type": "code",
      "source": [
        "learn = tabular_learner(dls, metrics=rmse)\n",
        "learn.lr_find(suggest_funcs=(slide,valley))"
      ],
      "metadata": {
        "execution": {
          "iopub.status.busy": "2024-04-17T12:40:56.060019Z",
          "iopub.execute_input": "2024-04-17T12:40:56.060476Z",
          "iopub.status.idle": "2024-04-17T12:40:58.233162Z",
          "shell.execute_reply.started": "2024-04-17T12:40:56.060442Z",
          "shell.execute_reply": "2024-04-17T12:40:58.231985Z"
        },
        "trusted": true,
        "id": "0goGfAVkk6mB"
      },
      "execution_count": null,
      "outputs": []
    },
    {
      "cell_type": "code",
      "source": [
        "#learn.fit_one_cycle(10,0.02)"
      ],
      "metadata": {
        "execution": {
          "iopub.status.busy": "2024-04-18T08:19:49.562622Z",
          "iopub.execute_input": "2024-04-18T08:19:49.563433Z",
          "iopub.status.idle": "2024-04-18T08:19:49.567389Z",
          "shell.execute_reply.started": "2024-04-18T08:19:49.563401Z",
          "shell.execute_reply": "2024-04-18T08:19:49.566351Z"
        },
        "trusted": true,
        "id": "eDWajPiDk6mB"
      },
      "execution_count": null,
      "outputs": []
    },
    {
      "cell_type": "code",
      "source": [
        "mse = mean_absolute_error(y_test, nn_preds_x)\n",
        "rmse = np.sqrt(mse)\n",
        "rmse"
      ],
      "metadata": {
        "execution": {
          "iopub.status.busy": "2024-04-16T08:26:53.718544Z",
          "iopub.execute_input": "2024-04-16T08:26:53.718885Z",
          "iopub.status.idle": "2024-04-16T08:26:53.728144Z",
          "shell.execute_reply.started": "2024-04-16T08:26:53.718849Z",
          "shell.execute_reply": "2024-04-16T08:26:53.727245Z"
        },
        "trusted": true,
        "id": "GKsq3RfUk6mC"
      },
      "execution_count": null,
      "outputs": []
    },
    {
      "cell_type": "code",
      "source": [
        "#rmse(nn_preds_x, tensor(y_test))"
      ],
      "metadata": {
        "id": "7JWyZBXtriYN",
        "execution": {
          "iopub.status.busy": "2024-04-16T13:37:55.967525Z",
          "iopub.execute_input": "2024-04-16T13:37:55.967933Z",
          "iopub.status.idle": "2024-04-16T13:37:55.97225Z",
          "shell.execute_reply.started": "2024-04-16T13:37:55.9679Z",
          "shell.execute_reply": "2024-04-16T13:37:55.971299Z"
        },
        "trusted": true
      },
      "execution_count": null,
      "outputs": []
    },
    {
      "cell_type": "code",
      "source": [
        "#rmse(nn_preds_x, tensor(y_test))"
      ],
      "metadata": {
        "id": "h_TMlhIXTMUZ"
      },
      "execution_count": null,
      "outputs": []
    },
    {
      "cell_type": "code",
      "source": [
        "!ls"
      ],
      "metadata": {
        "id": "Im-pZV8RIwzT"
      },
      "execution_count": null,
      "outputs": []
    },
    {
      "cell_type": "code",
      "source": [
        "#target_preds = nn_preds[0]"
      ],
      "metadata": {
        "id": "LpVoeZrGIpnE"
      },
      "execution_count": null,
      "outputs": []
    },
    {
      "cell_type": "code",
      "source": [
        "#test_df['Rings'] = target_preds\n",
        "\n",
        "#test_df.to_csv('submission.csv', columns=['id','Rings'], index=False)\n",
        "\n",
        "#submission = pd.read_csv('submission.csv')\n",
        "#submission.head()"
      ],
      "metadata": {
        "id": "k8YJqDliIrlP"
      },
      "execution_count": null,
      "outputs": []
    },
    {
      "cell_type": "code",
      "source": [
        "ls"
      ],
      "metadata": {
        "id": "0_oTp0VODblb"
      },
      "execution_count": null,
      "outputs": []
    },
    {
      "cell_type": "code",
      "source": [
        "#!kaggle competitions submit -c playground-series-s4e4 -f submission.csv -m \"Neural Network Sub 3 with id column + no random seed \""
      ],
      "metadata": {
        "id": "7HPfa0z4Kgza"
      },
      "execution_count": null,
      "outputs": []
    },
    {
      "cell_type": "markdown",
      "source": [
        "####Neural Network without id column"
      ],
      "metadata": {
        "id": "bl8mqqJMdxQ4"
      }
    },
    {
      "cell_type": "code",
      "source": [
        "target_preds = nn_preds[0]\n",
        "\n",
        "test_df['Rings'] = target_preds\n",
        "\n",
        "test_df.to_csv('submission.csv', columns=['Rings'], index=True, index_label='id')\n",
        "\n",
        "submission = pd.read_csv('submission.csv')\n",
        "submission.head()"
      ],
      "metadata": {
        "id": "CNc5kfORRvP_",
        "trusted": true
      },
      "execution_count": null,
      "outputs": []
    },
    {
      "cell_type": "code",
      "source": [
        "!ls"
      ],
      "metadata": {
        "trusted": true,
        "id": "FV8XtF5Pk6mH"
      },
      "execution_count": null,
      "outputs": []
    },
    {
      "cell_type": "code",
      "source": [
        "#!kaggle competitions submit -c playground-series-s4e4 -f submission.csv -m \"Neural Network Sub 7 with no id and sex column \""
      ],
      "metadata": {
        "id": "bl38TFm0Zvs7",
        "trusted": true
      },
      "execution_count": null,
      "outputs": []
    },
    {
      "cell_type": "markdown",
      "source": [
        "###Neural Network Ensemble"
      ],
      "metadata": {
        "id": "krUPKLXGC-0L"
      }
    },
    {
      "cell_type": "code",
      "source": [
        "learn.lr_find(suggest_funcs=(slide,valley))"
      ],
      "metadata": {
        "id": "MqfIgLrNCmcE",
        "execution": {
          "iopub.status.busy": "2024-04-17T12:41:14.183675Z",
          "iopub.execute_input": "2024-04-17T12:41:14.184386Z",
          "iopub.status.idle": "2024-04-17T12:41:16.368695Z",
          "shell.execute_reply.started": "2024-04-17T12:41:14.184354Z",
          "shell.execute_reply": "2024-04-17T12:41:16.367497Z"
        },
        "trusted": true
      },
      "execution_count": null,
      "outputs": []
    },
    {
      "cell_type": "code",
      "source": [
        "dl = learn.dls.test_dl(test_df)"
      ],
      "metadata": {
        "id": "ip78WNWECmZG",
        "execution": {
          "iopub.status.busy": "2024-04-17T12:41:16.371131Z",
          "iopub.execute_input": "2024-04-17T12:41:16.371944Z",
          "iopub.status.idle": "2024-04-17T12:41:16.40441Z",
          "shell.execute_reply.started": "2024-04-17T12:41:16.371901Z",
          "shell.execute_reply": "2024-04-17T12:41:16.403513Z"
        },
        "trusted": true
      },
      "execution_count": null,
      "outputs": []
    },
    {
      "cell_type": "code",
      "source": [
        "def ensemble():\n",
        "    learn = tabular_learner(dls, metrics=accuracy_multi, layers=[20,20,20,20], loss_func = BCEWithLogitsLossFlat())\n",
        "    with learn.no_bar(),learn.no_logging():\n",
        "        learn.fit(16, lr=0.07)\n",
        "        learn.fit_one_cycle(10, slice(0.05, 0.05/5))\n",
        "    return learn.get_preds(dl=tst_dl)[0]"
      ],
      "metadata": {
        "id": "9X-bcwPNk6mI"
      },
      "execution_count": null,
      "outputs": []
    },
    {
      "cell_type": "code",
      "source": [
        "def ensemble():\n",
        "    learn = tabular_learner(dls, metrics=rmse)\n",
        "    with learn.no_bar(),learn.no_logging(): learn.fit(9, slice(1e-1,1e-3))\n",
        "    return learn.get_preds(dl=dl)[0]"
      ],
      "metadata": {
        "id": "0GKXDJEuCmUA",
        "execution": {
          "iopub.status.busy": "2024-04-17T12:41:21.188321Z",
          "iopub.execute_input": "2024-04-17T12:41:21.188775Z",
          "iopub.status.idle": "2024-04-17T12:41:21.19512Z",
          "shell.execute_reply.started": "2024-04-17T12:41:21.188739Z",
          "shell.execute_reply": "2024-04-17T12:41:21.194012Z"
        },
        "trusted": true
      },
      "execution_count": null,
      "outputs": []
    },
    {
      "cell_type": "code",
      "source": [
        "#learns = [ensemble() for _ in range(5)]"
      ],
      "metadata": {
        "id": "ev-LufEYCmPg",
        "execution": {
          "iopub.status.busy": "2024-04-18T08:19:56.783405Z",
          "iopub.execute_input": "2024-04-18T08:19:56.784045Z",
          "iopub.status.idle": "2024-04-18T08:19:56.788395Z",
          "shell.execute_reply.started": "2024-04-18T08:19:56.784Z",
          "shell.execute_reply": "2024-04-18T08:19:56.787231Z"
        },
        "trusted": true
      },
      "execution_count": null,
      "outputs": []
    },
    {
      "cell_type": "code",
      "source": [
        "ens_preds = torch.stack(learns).mean(0)"
      ],
      "metadata": {
        "id": "Q_ym5aaxB4Uw",
        "execution": {
          "iopub.status.busy": "2024-04-12T20:08:29.879807Z",
          "iopub.status.idle": "2024-04-12T20:08:29.880272Z",
          "shell.execute_reply.started": "2024-04-12T20:08:29.880022Z",
          "shell.execute_reply": "2024-04-12T20:08:29.880041Z"
        },
        "trusted": true
      },
      "execution_count": null,
      "outputs": []
    },
    {
      "cell_type": "code",
      "source": [
        "ens_preds, _ = learn.get_preds(dl=dl)"
      ],
      "metadata": {
        "id": "s3C0RC1rI2CN",
        "execution": {
          "iopub.status.busy": "2024-04-12T20:08:29.881183Z",
          "iopub.status.idle": "2024-04-12T20:08:29.881628Z",
          "shell.execute_reply.started": "2024-04-12T20:08:29.881384Z",
          "shell.execute_reply": "2024-04-12T20:08:29.881401Z"
        },
        "trusted": true
      },
      "execution_count": null,
      "outputs": []
    },
    {
      "cell_type": "code",
      "source": [
        "ens_preds_y = ens_preds.squeeze(1)\n",
        "ens_preds_y"
      ],
      "metadata": {
        "id": "0oNVKGmWI886",
        "execution": {
          "iopub.status.busy": "2024-04-12T20:08:29.883079Z",
          "iopub.status.idle": "2024-04-12T20:08:29.883384Z",
          "shell.execute_reply.started": "2024-04-12T20:08:29.883232Z",
          "shell.execute_reply": "2024-04-12T20:08:29.883245Z"
        },
        "trusted": true
      },
      "execution_count": null,
      "outputs": []
    },
    {
      "cell_type": "code",
      "source": [
        "mse = mean_absolute_error(y_test, nn_preds_x)\n",
        "rmse = np.sqrt(mse)\n",
        "rmse"
      ],
      "metadata": {
        "id": "lMVDqh-mk6mK"
      },
      "execution_count": null,
      "outputs": []
    },
    {
      "cell_type": "code",
      "source": [
        "ens_preds_y[0]"
      ],
      "metadata": {
        "id": "G51mbIGM6Ed6"
      },
      "execution_count": null,
      "outputs": []
    },
    {
      "cell_type": "code",
      "source": [
        "#target_preds = ens_preds_y[0]\n",
        "\n",
        "#test_df['Rings'] = target_preds\n",
        "\n",
        "#test_df.to_csv('submission.csv', columns=['Rings'], index=True, index_label='id')\n",
        "\n",
        "#submission = pd.read_csv('submission.csv')\n",
        "#submission.head()"
      ],
      "metadata": {
        "id": "wKuwlRrEJHF3"
      },
      "execution_count": null,
      "outputs": []
    },
    {
      "cell_type": "code",
      "source": [
        "target_preds = ens_preds_y\n",
        "\n",
        "test_df['Rings'] = target_preds\n",
        "\n",
        "test_df.to_csv('submission.csv', columns=['Rings'], index=True, index_label='id')\n",
        "\n",
        "submission = pd.read_csv('submission.csv')\n",
        "submission.head()"
      ],
      "metadata": {
        "id": "qx2vQOQjUsBu"
      },
      "execution_count": null,
      "outputs": []
    },
    {
      "cell_type": "code",
      "source": [
        "!ls"
      ],
      "metadata": {
        "id": "CuVJ8NdChGGv"
      },
      "execution_count": null,
      "outputs": []
    },
    {
      "cell_type": "code",
      "source": [
        "!kaggle competitions submit -c playground-series-s4e4 -f submission.csv -m \"Neural Network ensemble preds Sub 2 with no id column + no random seed \""
      ],
      "metadata": {
        "id": "NPZteTEbKctP"
      },
      "execution_count": null,
      "outputs": []
    },
    {
      "cell_type": "code",
      "source": [
        "submission = pd.DataFrame({\n",
        "     # Assuming 'Id' is the identifier column\n",
        "    'target': ens_preds\n",
        "})\n",
        "\n",
        "# Save your submission to a CSV file\n",
        "submission.to_csv('submission.csv', index=False)"
      ],
      "metadata": {
        "id": "XjWsw3vfgjEp"
      },
      "execution_count": null,
      "outputs": []
    },
    {
      "cell_type": "code",
      "source": [
        "def subm(preds, suff):\n",
        "    test_df['Rings'] = preds\n",
        "    sub_df = test_df[['id','Rings']]\n",
        "    sub_df.to_csv(f'sub{suff}.csv', index=False)\n",
        "\n",
        "subm(ens_preds, 'mission')"
      ],
      "metadata": {
        "id": "v6akMbm9KTXC"
      },
      "execution_count": null,
      "outputs": []
    },
    {
      "cell_type": "code",
      "source": [
        "#sub_df = pd.DataFrame(ens_preds, columns='Rings')\n",
        "#sub_df['id'] = test_df['id']\n",
        "\n",
        "# Reorder the columns to match the submission format\n",
        "#sub_df = sub_df[['id', 'Pastry', 'Z_Scratch', 'K_Scatch', 'Stains', 'Dirtiness', 'Bumps', 'Other_Faults']]\n",
        "\n",
        "# Save the submission DataFrame as a CSV file\n",
        "#sub_df.to_csv('rf_submission.csv', index=False)"
      ],
      "metadata": {
        "id": "ax0xXvV6FlgV"
      },
      "execution_count": null,
      "outputs": []
    },
    {
      "cell_type": "code",
      "source": [
        "#targets ='Rings'\n",
        "#test_df[targets] = ens_preds\n",
        "#sub_df['id'] = test_df['id']\n",
        "\n",
        "#test_df.to_csv('submission.csv', columns=['Rings'], index=False)\n",
        "\n",
        "#ens_sub = pd.read_csv('submission.csv')\n",
        "#ens_sub.head()"
      ],
      "metadata": {
        "id": "VlCfZn9J_cWe"
      },
      "execution_count": null,
      "outputs": []
    },
    {
      "cell_type": "markdown",
      "source": [
        "### Random Forest"
      ],
      "metadata": {
        "id": "mNykFNyteIl1"
      }
    },
    {
      "cell_type": "code",
      "source": [
        "rf = RandomForestClassifier(100, min_samples_leaf=5)\n",
        "rf_model = rf.fit(X_train, y_train);\n",
        "\n",
        "#cont_names,cat_names = cont_cat_split(train_df, dep_var='Rings')\n",
        "#splits = RandomSplitter(valid_pct=0.2)(range_of(train_df))\n",
        "#to = TabularPandas(train_df, procs=[Categorify, FillMissing,Normalize],\n",
        "                  # cat_names = cat_names,\n",
        "                  # cont_names = cont_names,\n",
        "                  # y_names='Rings',\n",
        "                  # y_block=RegressionBlock(),\n",
        "                  # splits=splits)\n",
        "\n",
        "#X_train, y_train = to.train.xs, to.train.ys.values.ravel()\n",
        "#X_test, y_test = to.valid.xs, to.valid.ys.values.ravel()\n",
        "\n",
        "#dls = to.dataloaders(bs=64)\n",
        "#test_dl = dls.test_dl(test_df)\n",
        "#preds = (y_test, rf.predict(X_test))\n",
        "rf_preds = tensor(rf_model.predict(test_dl.xs))\n",
        "\n",
        "\n",
        "#submit = pd.read_csv(path/'sample_submission.csv')\n",
        "#submit['Rings'] = xgb_preds\n",
        "#submit.to_csv('submission.csv', index=False)\n",
        "#sub = pd.read_csv('submission.csv')\n",
        "mse = mean_absolute_error(y_test, rf_model.predict(X_test))\n",
        "rmse = np.sqrt(mse)\n",
        "rmse\n",
        "#mean_absolute_error(y_test, rf.predict(X_test))"
      ],
      "metadata": {
        "id": "UnF_-XBJk6mO"
      },
      "execution_count": null,
      "outputs": []
    },
    {
      "cell_type": "code",
      "source": [
        "!ls"
      ],
      "metadata": {
        "execution": {
          "iopub.status.busy": "2024-04-11T12:01:43.267241Z",
          "iopub.execute_input": "2024-04-11T12:01:43.267903Z",
          "iopub.status.idle": "2024-04-11T12:01:44.216866Z",
          "shell.execute_reply.started": "2024-04-11T12:01:43.267862Z",
          "shell.execute_reply": "2024-04-11T12:01:44.215681Z"
        },
        "trusted": true,
        "id": "NwXQL76Yk6mP"
      },
      "execution_count": null,
      "outputs": []
    },
    {
      "cell_type": "code",
      "source": [
        "X_train, y_train = to.train.xs, to.train.ys.values.ravel()\n",
        "X_test, y_test = to.valid.xs, to.valid.ys.values.ravel()"
      ],
      "metadata": {
        "id": "1D9MU7tqwa2O",
        "execution": {
          "iopub.status.busy": "2024-04-15T20:03:40.614134Z",
          "iopub.execute_input": "2024-04-15T20:03:40.615106Z",
          "iopub.status.idle": "2024-04-15T20:03:40.63745Z",
          "shell.execute_reply.started": "2024-04-15T20:03:40.615061Z",
          "shell.execute_reply": "2024-04-15T20:03:40.636528Z"
        },
        "trusted": true
      },
      "execution_count": null,
      "outputs": []
    },
    {
      "cell_type": "code",
      "source": [
        "rf = RandomForestClassifier(100, min_samples_leaf=5)\n",
        "rf.fit(X_train, y_train);\n",
        "#mean_absolute_error(y_test, rf.predict(X_test))"
      ],
      "metadata": {
        "id": "DdbuBzjCwa6H",
        "execution": {
          "iopub.status.busy": "2024-04-12T20:11:57.089705Z",
          "iopub.execute_input": "2024-04-12T20:11:57.090556Z",
          "iopub.status.idle": "2024-04-12T20:12:07.94957Z",
          "shell.execute_reply.started": "2024-04-12T20:11:57.090522Z",
          "shell.execute_reply": "2024-04-12T20:12:07.948772Z"
        },
        "trusted": true
      },
      "execution_count": null,
      "outputs": []
    },
    {
      "cell_type": "code",
      "source": [
        "mse = mean_absolute_error(y_test, rf.predict(X_test))\n",
        "rmse = np.sqrt(mse)\n",
        "rmse"
      ],
      "metadata": {
        "id": "ObOqYc7cgGf0",
        "execution": {
          "iopub.status.busy": "2024-04-12T20:12:07.95106Z",
          "iopub.execute_input": "2024-04-12T20:12:07.951341Z",
          "iopub.status.idle": "2024-04-12T20:12:08.517854Z",
          "shell.execute_reply.started": "2024-04-12T20:12:07.951316Z",
          "shell.execute_reply": "2024-04-12T20:12:08.516917Z"
        },
        "trusted": true
      },
      "execution_count": null,
      "outputs": []
    },
    {
      "cell_type": "code",
      "source": [
        "mse = mean_absolute_error(y_test, nn_preds_x)\n",
        "rmse = np.sqrt(mse)\n",
        "rmse"
      ],
      "metadata": {
        "id": "T9Pf-ELsk6mQ"
      },
      "execution_count": null,
      "outputs": []
    },
    {
      "cell_type": "code",
      "source": [
        "#rf_preds = rf.predict(X_test)"
      ],
      "metadata": {
        "id": "_6s6L6R4eznX"
      },
      "execution_count": null,
      "outputs": []
    },
    {
      "cell_type": "code",
      "source": [
        "#rmse(rf_preds, tensor(y_test))"
      ],
      "metadata": {
        "id": "jT9m8Lu9TGzQ"
      },
      "execution_count": null,
      "outputs": []
    },
    {
      "cell_type": "markdown",
      "source": [
        "#### Feature Importance"
      ],
      "metadata": {
        "id": "b_6Dvh6nwBsd"
      }
    },
    {
      "cell_type": "code",
      "source": [
        "def rf_feat_importance(m, df):\n",
        "    return pd.DataFrame({'cols':df.columns, 'imp':m.feature_importances_}\n",
        "                       ).sort_values('imp', ascending=False)"
      ],
      "metadata": {
        "id": "WA3e1wvyVDIo",
        "trusted": true
      },
      "execution_count": null,
      "outputs": []
    },
    {
      "cell_type": "code",
      "source": [
        "rf_feat_importance(rf, X_train)"
      ],
      "metadata": {
        "id": "e1o5PhpkVL37",
        "trusted": true
      },
      "execution_count": null,
      "outputs": []
    },
    {
      "cell_type": "code",
      "source": [
        "fi = rf_feat_importance(rf, X_train)\n",
        "fi[:10]"
      ],
      "metadata": {
        "id": "0bQ_vv_bVeZ_",
        "trusted": true
      },
      "execution_count": null,
      "outputs": []
    },
    {
      "cell_type": "code",
      "source": [
        "def plot_fi(fi):\n",
        "    return fi.plot('cols', 'imp', 'barh', figsize=(12,7), legend=False)\n",
        "\n",
        "plot_fi(fi[:30]);"
      ],
      "metadata": {
        "id": "lVl87QhFVZdy",
        "trusted": true
      },
      "execution_count": null,
      "outputs": []
    },
    {
      "cell_type": "code",
      "source": [
        "pd.DataFrame(dict(cols=X_train.columns, imp=rf.feature_importances_)).plot('cols', 'imp', 'barh');"
      ],
      "metadata": {
        "id": "qzGG6QhTwD5A",
        "trusted": true
      },
      "execution_count": null,
      "outputs": []
    },
    {
      "cell_type": "code",
      "source": [
        "fi = rf_feat_importance(rf, X_train)\n",
        "fi[:10]"
      ],
      "metadata": {
        "id": "IT9xZ0PCPp59"
      },
      "execution_count": null,
      "outputs": []
    },
    {
      "cell_type": "markdown",
      "source": [
        "#### Remove low importance variables"
      ],
      "metadata": {
        "id": "P8AqgF4cV0sM"
      }
    },
    {
      "cell_type": "code",
      "source": [
        "to_keep = fi[fi.imp>0.05].cols\n",
        "len(to_keep)\n"
      ],
      "metadata": {
        "id": "Z4taIHHFVzIF"
      },
      "execution_count": null,
      "outputs": []
    },
    {
      "cell_type": "code",
      "source": [
        "to_keep"
      ],
      "metadata": {
        "id": "nDBdDmdodfdP"
      },
      "execution_count": null,
      "outputs": []
    },
    {
      "cell_type": "code",
      "source": [
        "X_imp = X_train[to_keep]\n",
        "X_test_new = X_test[to_keep]"
      ],
      "metadata": {
        "id": "9wQXm431bJNs"
      },
      "execution_count": null,
      "outputs": []
    },
    {
      "cell_type": "code",
      "source": [
        "rf.fit(X_imp, y_train);\n",
        "#m = rf(X_imp, y)"
      ],
      "metadata": {
        "id": "POCaxgOtbXqd"
      },
      "execution_count": null,
      "outputs": []
    },
    {
      "cell_type": "code",
      "source": [
        "rf_preds = rf.predict(X_test_new)"
      ],
      "metadata": {
        "id": "bLJXB2NtfSIH"
      },
      "execution_count": null,
      "outputs": []
    },
    {
      "cell_type": "code",
      "source": [
        "mse = mean_absolute_error(y_test, rf.predict(X_test_new))\n",
        "mse"
      ],
      "metadata": {
        "id": "jF0PxbIGfxgp"
      },
      "execution_count": null,
      "outputs": []
    },
    {
      "cell_type": "code",
      "source": [
        "rmse = np.sqrt(mse)\n",
        "rmse"
      ],
      "metadata": {
        "id": "mQgoC8QTf2yl"
      },
      "execution_count": null,
      "outputs": []
    },
    {
      "cell_type": "code",
      "source": [
        "#rf_preds = rf.predict(X_test_new)\n",
        "#rmse(rf_preds, tensor(y_test))"
      ],
      "metadata": {
        "id": "_4sJhYdHdBgY"
      },
      "execution_count": null,
      "outputs": []
    },
    {
      "cell_type": "code",
      "source": [
        "X_test"
      ],
      "metadata": {
        "id": "tdAjEaPbdXqS"
      },
      "execution_count": null,
      "outputs": []
    },
    {
      "cell_type": "code",
      "source": [
        "rf = RandomForestClassifier(100, min_samples_leaf=5)\n",
        "rf.fit(X_train, y_train);\n",
        "#mean_absolute_error(y_test, rf.predict(X_test))\n",
        "\n",
        "def rf_feat_importance(m, df):\n",
        "    return pd.DataFrame({'cols':df.columns, 'imp':m.feature_importances_}\n",
        "                       ).sort_values('imp', ascending=False)\n",
        "\n",
        "fi = rf_feat_importance(rf, X_train)\n",
        "\n",
        "def plot_fi(fi):\n",
        "    return fi.plot('cols', 'imp', 'barh', figsize=(12,7), legend=False)\n",
        "\n",
        "to_keep = fi[fi.imp>0.005].cols"
      ],
      "metadata": {
        "id": "KA3OsMRIXOMW"
      },
      "execution_count": null,
      "outputs": []
    },
    {
      "cell_type": "code",
      "source": [
        "X_test_new\n"
      ],
      "metadata": {
        "id": "yPI_QI59dZFU"
      },
      "execution_count": null,
      "outputs": []
    },
    {
      "cell_type": "code",
      "source": [],
      "metadata": {
        "id": "iliBXjA9dzUB"
      },
      "execution_count": null,
      "outputs": []
    },
    {
      "cell_type": "markdown",
      "source": [
        "Shell weight and Whole weight seem to be the most importatant features closely followed by Whole Weight. 1 And Whole Weight. 2.\n",
        "\n",
        "Sex seems to be the least important predictor."
      ],
      "metadata": {
        "id": "ocWt7RSYweiR"
      }
    },
    {
      "cell_type": "code",
      "source": [
        "# Training dataset\n",
        "numeric_columns_train = X_train.select_dtypes(include=np.number)\n",
        "corr_train = numeric_columns_train.corr(method='pearson')\n",
        "mask_train = np.triu(np.ones_like(corr_train))\n",
        "sns.heatmap(corr_train, annot=True, fmt='.2f', mask=mask_train, cmap='Spectral', cbar=None, linewidth=2)\n",
        "plt.tight_layout()\n",
        "plt.show()"
      ],
      "metadata": {
        "id": "ZEdGIoyA0Epa"
      },
      "execution_count": null,
      "outputs": []
    },
    {
      "cell_type": "markdown",
      "source": [
        "Darker Colors: Indicate stronger correlations. The closer the color is to the maximum intensity (e.g., red or orange for positive correlations, blue or green for negative correlations), the stronger the correlation 1.\n",
        "\n",
        "\n",
        "Lighter Colors: Indicate weaker correlations. The closer the color is to the minimum intensity (e.g., white or light blue), the weaker the correlation 1."
      ],
      "metadata": {
        "id": "_LHZshr601je"
      }
    },
    {
      "cell_type": "markdown",
      "source": [
        "Try dropping sex column.\n",
        "or Diameter\n",
        "or diameter and whole weight"
      ],
      "metadata": {
        "id": "2oWB3RPY1Zwn"
      }
    },
    {
      "cell_type": "code",
      "source": [
        "from fastai.tabular.all import cluster_columns"
      ],
      "metadata": {
        "id": "K_f5v2Ev2zDw"
      },
      "execution_count": null,
      "outputs": []
    },
    {
      "cell_type": "code",
      "source": [
        "cluster_columns(xs_imp)"
      ],
      "metadata": {
        "id": "yaMWhS4CwD1C"
      },
      "execution_count": null,
      "outputs": []
    },
    {
      "cell_type": "markdown",
      "source": [
        "####  Making Predictions"
      ],
      "metadata": {
        "id": "xjSJznLLcnJg"
      }
    },
    {
      "cell_type": "code",
      "source": [
        "dls = to.dataloaders(bs=64)"
      ],
      "metadata": {
        "id": "o0fPW8_ae0VO",
        "execution": {
          "iopub.status.busy": "2024-04-11T12:01:56.650895Z",
          "iopub.execute_input": "2024-04-11T12:01:56.651163Z",
          "iopub.status.idle": "2024-04-11T12:01:56.665474Z",
          "shell.execute_reply.started": "2024-04-11T12:01:56.651141Z",
          "shell.execute_reply": "2024-04-11T12:01:56.664462Z"
        },
        "trusted": true
      },
      "execution_count": null,
      "outputs": []
    },
    {
      "cell_type": "code",
      "source": [
        "!ls"
      ],
      "metadata": {
        "id": "hJ8-k4mQfDD8",
        "execution": {
          "iopub.status.busy": "2024-04-11T12:03:09.069851Z",
          "iopub.execute_input": "2024-04-11T12:03:09.070967Z",
          "iopub.status.idle": "2024-04-11T12:03:10.068805Z",
          "shell.execute_reply.started": "2024-04-11T12:03:09.070933Z",
          "shell.execute_reply": "2024-04-11T12:03:10.067698Z"
        },
        "trusted": true
      },
      "execution_count": null,
      "outputs": []
    },
    {
      "cell_type": "code",
      "source": [
        "test_dl = dls.test_dl(test_df)"
      ],
      "metadata": {
        "id": "DFb27-ype0Rm",
        "execution": {
          "iopub.status.busy": "2024-04-11T12:02:02.992031Z",
          "iopub.execute_input": "2024-04-11T12:02:02.993051Z",
          "iopub.status.idle": "2024-04-11T12:02:03.016775Z",
          "shell.execute_reply.started": "2024-04-11T12:02:02.993014Z",
          "shell.execute_reply": "2024-04-11T12:02:03.016023Z"
        },
        "trusted": true
      },
      "execution_count": null,
      "outputs": []
    },
    {
      "cell_type": "code",
      "source": [
        "preds = tensor(rf.predict(test_dl.xs))\n",
        "rf_preds = preds"
      ],
      "metadata": {
        "id": "A-glLiWIe0Ot",
        "execution": {
          "iopub.status.busy": "2024-04-11T12:02:03.444165Z",
          "iopub.execute_input": "2024-04-11T12:02:03.444767Z",
          "iopub.status.idle": "2024-04-11T12:02:05.227126Z",
          "shell.execute_reply.started": "2024-04-11T12:02:03.444738Z",
          "shell.execute_reply": "2024-04-11T12:02:05.22623Z"
        },
        "trusted": true
      },
      "execution_count": null,
      "outputs": []
    },
    {
      "cell_type": "code",
      "source": [
        "#rmse(rf_preds, tensor(y_test))"
      ],
      "metadata": {
        "id": "wBzdu1ffctmX"
      },
      "execution_count": null,
      "outputs": []
    },
    {
      "cell_type": "markdown",
      "source": [
        "Kaggle submission code from\n",
        "\n",
        "\n",
        "https://www.kaggle.com/code/nguyncaoduy/fastai-tabular-regression-model-nn-xgb\n",
        "\n"
      ],
      "metadata": {
        "id": "0esqYPUre7Je"
      }
    },
    {
      "cell_type": "code",
      "source": [
        "submit = pd.read_csv(path/'sample_submission.csv')\n",
        "submit['Rings'] = rf_preds # nn_preds\n",
        "submit.head()"
      ],
      "metadata": {
        "id": "Wbikjn-Ve0MG",
        "execution": {
          "iopub.status.busy": "2024-04-11T12:03:15.812655Z",
          "iopub.execute_input": "2024-04-11T12:03:15.813597Z",
          "iopub.status.idle": "2024-04-11T12:03:15.845379Z",
          "shell.execute_reply.started": "2024-04-11T12:03:15.813558Z",
          "shell.execute_reply": "2024-04-11T12:03:15.844382Z"
        },
        "trusted": true
      },
      "execution_count": null,
      "outputs": []
    },
    {
      "cell_type": "code",
      "source": [
        "submit.to_csv('submission.csv', index=False)"
      ],
      "metadata": {
        "id": "YqNfPeLQfI2s",
        "execution": {
          "iopub.status.busy": "2024-04-11T12:03:15.846943Z",
          "iopub.execute_input": "2024-04-11T12:03:15.847263Z",
          "iopub.status.idle": "2024-04-11T12:03:15.927423Z",
          "shell.execute_reply.started": "2024-04-11T12:03:15.847239Z",
          "shell.execute_reply": "2024-04-11T12:03:15.926598Z"
        },
        "trusted": true
      },
      "execution_count": null,
      "outputs": []
    },
    {
      "cell_type": "code",
      "source": [
        "!rm submission.csv"
      ],
      "metadata": {
        "id": "22_vgDRufN7l",
        "execution": {
          "iopub.status.busy": "2024-04-11T12:21:48.931966Z",
          "iopub.execute_input": "2024-04-11T12:21:48.932897Z",
          "iopub.status.idle": "2024-04-11T12:21:49.934722Z",
          "shell.execute_reply.started": "2024-04-11T12:21:48.932862Z",
          "shell.execute_reply": "2024-04-11T12:21:49.933473Z"
        },
        "trusted": true
      },
      "execution_count": null,
      "outputs": []
    },
    {
      "cell_type": "code",
      "source": [
        "!ls"
      ],
      "metadata": {
        "execution": {
          "iopub.status.busy": "2024-04-11T12:21:57.488097Z",
          "iopub.execute_input": "2024-04-11T12:21:57.488965Z",
          "iopub.status.idle": "2024-04-11T12:21:58.45164Z",
          "shell.execute_reply.started": "2024-04-11T12:21:57.488928Z",
          "shell.execute_reply": "2024-04-11T12:21:58.450499Z"
        },
        "trusted": true,
        "id": "DneRUR_0k6md"
      },
      "execution_count": null,
      "outputs": []
    },
    {
      "cell_type": "code",
      "source": [
        "sub = pd.read_csv('submission.csv')\n",
        "sub.head()"
      ],
      "metadata": {
        "id": "SFxD5F8QfLtn",
        "execution": {
          "iopub.status.busy": "2024-04-11T12:03:17.45888Z",
          "iopub.execute_input": "2024-04-11T12:03:17.459198Z",
          "iopub.status.idle": "2024-04-11T12:03:17.48665Z",
          "shell.execute_reply.started": "2024-04-11T12:03:17.459167Z",
          "shell.execute_reply": "2024-04-11T12:03:17.485798Z"
        },
        "trusted": true
      },
      "execution_count": null,
      "outputs": []
    },
    {
      "cell_type": "code",
      "source": [
        "!kaggle competitions submit -c playground-series-s4e4 -f submission.csv -m \"random forest initial subm trial 3 with no id column in general model nb\""
      ],
      "metadata": {
        "id": "z1_fvd9rfOf7"
      },
      "execution_count": null,
      "outputs": []
    },
    {
      "cell_type": "markdown",
      "source": [
        "## XGBoost"
      ],
      "metadata": {
        "id": "JgJkgHN4frpq"
      }
    },
    {
      "cell_type": "code",
      "source": [
        "X_train, y_train = to.train.xs, to.train.ys.values.ravel()\n",
        "X_test, y_test = to.valid.xs, to.valid.ys.values.ravel()"
      ],
      "metadata": {
        "execution": {
          "iopub.status.busy": "2024-04-18T09:26:55.468407Z",
          "iopub.execute_input": "2024-04-18T09:26:55.469071Z",
          "iopub.status.idle": "2024-04-18T09:26:55.779458Z",
          "shell.execute_reply.started": "2024-04-18T09:26:55.469018Z",
          "shell.execute_reply": "2024-04-18T09:26:55.777802Z"
        },
        "trusted": true,
        "id": "Z1e_jhqOk6me"
      },
      "execution_count": null,
      "outputs": []
    },
    {
      "cell_type": "code",
      "source": [
        "model = xgb.XGBRegressor(n_estimators = 200, max_depth=6, learning_rate=0.15, subsample=0.5)"
      ],
      "metadata": {
        "id": "TEAH2_XUfVSf",
        "execution": {
          "iopub.status.busy": "2024-04-18T09:26:55.780892Z",
          "iopub.status.idle": "2024-04-18T09:26:55.784595Z",
          "shell.execute_reply.started": "2024-04-18T09:26:55.78428Z",
          "shell.execute_reply": "2024-04-18T09:26:55.784313Z"
        },
        "trusted": true
      },
      "execution_count": null,
      "outputs": []
    },
    {
      "cell_type": "code",
      "source": [
        "xgb_model = model.fit(X_train, y_train)"
      ],
      "metadata": {
        "id": "apmVNTpMftwS",
        "execution": {
          "iopub.status.busy": "2024-04-18T09:26:55.786052Z",
          "iopub.status.idle": "2024-04-18T09:26:55.786557Z",
          "shell.execute_reply.started": "2024-04-18T09:26:55.786336Z",
          "shell.execute_reply": "2024-04-18T09:26:55.786356Z"
        },
        "trusted": true
      },
      "execution_count": null,
      "outputs": []
    },
    {
      "cell_type": "markdown",
      "source": [
        "XGBoost Feature Importance"
      ],
      "metadata": {
        "id": "x_wrXSyRxH0c"
      }
    },
    {
      "cell_type": "code",
      "source": [
        "plot_importance(xgb_model);"
      ],
      "metadata": {
        "id": "nAcnKQfcxHgE",
        "execution": {
          "iopub.status.busy": "2024-04-18T08:30:24.639027Z",
          "iopub.execute_input": "2024-04-18T08:30:24.639393Z",
          "iopub.status.idle": "2024-04-18T08:30:24.644071Z",
          "shell.execute_reply.started": "2024-04-18T08:30:24.639362Z",
          "shell.execute_reply": "2024-04-18T08:30:24.642946Z"
        },
        "trusted": true
      },
      "execution_count": null,
      "outputs": []
    },
    {
      "cell_type": "code",
      "source": [],
      "metadata": {
        "id": "U3RQxExUk6mf"
      },
      "execution_count": null,
      "outputs": []
    },
    {
      "cell_type": "markdown",
      "source": [
        "Similar to the random forest, sex seems to be the least important predictor.\n",
        "Length seems to be the only differing facotr factor from the Random forst in importance."
      ],
      "metadata": {
        "id": "FUP0RGglxfE1"
      }
    },
    {
      "cell_type": "code",
      "source": [
        "#xgb_preds = tensor(model.predict(X_test))"
      ],
      "metadata": {
        "id": "txzILX7yfts1",
        "execution": {
          "iopub.status.busy": "2024-04-18T08:29:10.449912Z",
          "iopub.execute_input": "2024-04-18T08:29:10.450585Z",
          "iopub.status.idle": "2024-04-18T08:29:10.454713Z",
          "shell.execute_reply.started": "2024-04-18T08:29:10.450552Z",
          "shell.execute_reply": "2024-04-18T08:29:10.453685Z"
        },
        "trusted": true
      },
      "execution_count": null,
      "outputs": []
    },
    {
      "cell_type": "code",
      "source": [
        "#rmse(xgb_preds, tensor(y_test))"
      ],
      "metadata": {
        "id": "3lCBWTZ3ftqY",
        "execution": {
          "iopub.status.busy": "2024-04-18T08:29:11.669505Z",
          "iopub.execute_input": "2024-04-18T08:29:11.670256Z",
          "iopub.status.idle": "2024-04-18T08:29:11.674242Z",
          "shell.execute_reply.started": "2024-04-18T08:29:11.670225Z",
          "shell.execute_reply": "2024-04-18T08:29:11.673179Z"
        },
        "trusted": true
      },
      "execution_count": null,
      "outputs": []
    },
    {
      "cell_type": "code",
      "source": [
        "dls = to.dataloaders(bs=64)"
      ],
      "metadata": {
        "id": "StOdRRe_ftnj",
        "execution": {
          "iopub.status.busy": "2024-04-18T08:29:12.471304Z",
          "iopub.execute_input": "2024-04-18T08:29:12.471914Z",
          "iopub.status.idle": "2024-04-18T08:29:12.489817Z",
          "shell.execute_reply.started": "2024-04-18T08:29:12.471881Z",
          "shell.execute_reply": "2024-04-18T08:29:12.488618Z"
        },
        "trusted": true
      },
      "execution_count": null,
      "outputs": []
    },
    {
      "cell_type": "code",
      "source": [
        "test_dl = dls.test_dl(test_df)"
      ],
      "metadata": {
        "id": "u3mVzBK8ftk_",
        "execution": {
          "iopub.status.busy": "2024-04-18T08:29:13.85531Z",
          "iopub.execute_input": "2024-04-18T08:29:13.85612Z",
          "iopub.status.idle": "2024-04-18T08:29:13.888193Z",
          "shell.execute_reply.started": "2024-04-18T08:29:13.856087Z",
          "shell.execute_reply": "2024-04-18T08:29:13.887144Z"
        },
        "trusted": true
      },
      "execution_count": null,
      "outputs": []
    },
    {
      "cell_type": "code",
      "source": [
        "preds = tensor(model.predict(test_dl.xs))\n",
        "xgb_preds = preds"
      ],
      "metadata": {
        "id": "ZoqEG-dUfth9",
        "execution": {
          "iopub.status.busy": "2024-04-18T08:29:14.188238Z",
          "iopub.execute_input": "2024-04-18T08:29:14.188922Z",
          "iopub.status.idle": "2024-04-18T08:29:14.332248Z",
          "shell.execute_reply.started": "2024-04-18T08:29:14.188888Z",
          "shell.execute_reply": "2024-04-18T08:29:14.33118Z"
        },
        "trusted": true
      },
      "execution_count": null,
      "outputs": []
    },
    {
      "cell_type": "markdown",
      "source": [
        "rmse with train set with sex column removed."
      ],
      "metadata": {
        "id": "9G2QBi4Pk6mg"
      }
    },
    {
      "cell_type": "code",
      "source": [
        "xgb_preds"
      ],
      "metadata": {
        "execution": {
          "iopub.status.busy": "2024-04-18T08:29:16.049078Z",
          "iopub.execute_input": "2024-04-18T08:29:16.049989Z",
          "iopub.status.idle": "2024-04-18T08:29:16.12073Z",
          "shell.execute_reply.started": "2024-04-18T08:29:16.049953Z",
          "shell.execute_reply": "2024-04-18T08:29:16.119688Z"
        },
        "trusted": true,
        "id": "8m7-NF-Ik6mg"
      },
      "execution_count": null,
      "outputs": []
    },
    {
      "cell_type": "code",
      "source": [
        "mse = mean_absolute_error(y_test, model.predict(X_test))\n",
        "rmse = np.sqrt(mse)\n",
        "rmse"
      ],
      "metadata": {
        "execution": {
          "iopub.status.busy": "2024-04-18T08:29:16.809746Z",
          "iopub.execute_input": "2024-04-18T08:29:16.810424Z",
          "iopub.status.idle": "2024-04-18T08:29:16.863113Z",
          "shell.execute_reply.started": "2024-04-18T08:29:16.810389Z",
          "shell.execute_reply": "2024-04-18T08:29:16.862084Z"
        },
        "trusted": true,
        "id": "NZNAFRJ9k6mg"
      },
      "execution_count": null,
      "outputs": []
    },
    {
      "cell_type": "code",
      "source": [
        "!ls"
      ],
      "metadata": {
        "execution": {
          "iopub.status.busy": "2024-04-12T11:58:42.293075Z",
          "iopub.execute_input": "2024-04-12T11:58:42.294365Z",
          "iopub.status.idle": "2024-04-12T11:58:43.409525Z",
          "shell.execute_reply.started": "2024-04-12T11:58:42.294315Z",
          "shell.execute_reply": "2024-04-12T11:58:43.407757Z"
        },
        "trusted": true,
        "id": "fdEClRr5k6mg"
      },
      "execution_count": null,
      "outputs": []
    },
    {
      "cell_type": "markdown",
      "source": [
        "XGBoost Submission code"
      ],
      "metadata": {
        "id": "DIwRnOENhYGT"
      }
    },
    {
      "cell_type": "code",
      "source": [
        "X_train"
      ],
      "metadata": {
        "execution": {
          "iopub.status.busy": "2024-04-12T11:59:13.68619Z",
          "iopub.execute_input": "2024-04-12T11:59:13.686663Z",
          "iopub.status.idle": "2024-04-12T11:59:13.710073Z",
          "shell.execute_reply.started": "2024-04-12T11:59:13.686631Z",
          "shell.execute_reply": "2024-04-12T11:59:13.709033Z"
        },
        "trusted": true,
        "id": "Vyp0d8_Dk6mh"
      },
      "execution_count": null,
      "outputs": []
    },
    {
      "cell_type": "code",
      "source": [
        "submit = pd.read_csv(path/'sample_submission.csv')\n",
        "submit['Rings'] = xgb_preds # nn_preds\n",
        "submit.head()"
      ],
      "metadata": {
        "id": "aoYiyyrThioR",
        "execution": {
          "iopub.status.busy": "2024-04-18T08:24:54.175512Z",
          "iopub.execute_input": "2024-04-18T08:24:54.175991Z",
          "iopub.status.idle": "2024-04-18T08:24:54.204014Z",
          "shell.execute_reply.started": "2024-04-18T08:24:54.17596Z",
          "shell.execute_reply": "2024-04-18T08:24:54.202982Z"
        },
        "trusted": true
      },
      "execution_count": null,
      "outputs": []
    },
    {
      "cell_type": "code",
      "source": [
        "submit.to_csv('submission.csv', index=False)"
      ],
      "metadata": {
        "id": "Jy4_96Bxd78Y",
        "execution": {
          "iopub.status.busy": "2024-04-18T08:24:57.961924Z",
          "iopub.execute_input": "2024-04-18T08:24:57.962288Z",
          "iopub.status.idle": "2024-04-18T08:24:58.105024Z",
          "shell.execute_reply.started": "2024-04-18T08:24:57.962258Z",
          "shell.execute_reply": "2024-04-18T08:24:58.10416Z"
        },
        "trusted": true
      },
      "execution_count": null,
      "outputs": []
    },
    {
      "cell_type": "code",
      "source": [
        "!rm submission.csv"
      ],
      "metadata": {
        "id": "aRW5hqY4hiiZ",
        "execution": {
          "iopub.status.busy": "2024-04-18T08:28:51.621837Z",
          "iopub.execute_input": "2024-04-18T08:28:51.622555Z",
          "iopub.status.idle": "2024-04-18T08:28:52.626139Z",
          "shell.execute_reply.started": "2024-04-18T08:28:51.622522Z",
          "shell.execute_reply": "2024-04-18T08:28:52.624993Z"
        },
        "trusted": true
      },
      "execution_count": null,
      "outputs": []
    },
    {
      "cell_type": "code",
      "source": [
        "sub = pd.read_csv('submission.csv')\n",
        "sub.head()"
      ],
      "metadata": {
        "id": "oJnAn-xmhnwJ",
        "execution": {
          "iopub.status.busy": "2024-04-18T08:25:01.574267Z",
          "iopub.execute_input": "2024-04-18T08:25:01.574667Z",
          "iopub.status.idle": "2024-04-18T08:25:01.605027Z",
          "shell.execute_reply.started": "2024-04-18T08:25:01.574638Z",
          "shell.execute_reply": "2024-04-18T08:25:01.60404Z"
        },
        "trusted": true
      },
      "execution_count": null,
      "outputs": []
    },
    {
      "cell_type": "code",
      "source": [
        "#!kaggle competitions submit -c playground-series-s4e4 -f submission.csv -m \"xgboost initial subm trial 5 without id column\""
      ],
      "metadata": {
        "id": "kgCUkMRPhntD"
      },
      "execution_count": null,
      "outputs": []
    },
    {
      "cell_type": "markdown",
      "source": [
        "###General Model Ensemble"
      ],
      "metadata": {
        "id": "M_tZVhOkhw7G"
      }
    },
    {
      "cell_type": "markdown",
      "source": [
        "XGBoost + Random Forest"
      ],
      "metadata": {
        "id": "9ORmPBfQi9op"
      }
    },
    {
      "cell_type": "code",
      "source": [
        "avgs = (xgb_preds + rf_preds) / 2"
      ],
      "metadata": {
        "id": "bGBCMId7hnp0"
      },
      "execution_count": null,
      "outputs": []
    },
    {
      "cell_type": "code",
      "source": [
        "avgs = (xgb_preds + nn_preds_y) / 2"
      ],
      "metadata": {
        "id": "mzaF4TVTWZAl",
        "execution": {
          "iopub.status.busy": "2024-04-16T13:42:31.129095Z",
          "iopub.execute_input": "2024-04-16T13:42:31.129497Z",
          "iopub.status.idle": "2024-04-16T13:42:31.134506Z",
          "shell.execute_reply.started": "2024-04-16T13:42:31.129465Z",
          "shell.execute_reply": "2024-04-16T13:42:31.133615Z"
        },
        "trusted": true
      },
      "execution_count": null,
      "outputs": []
    },
    {
      "cell_type": "code",
      "source": [
        "avgs"
      ],
      "metadata": {
        "execution": {
          "iopub.status.busy": "2024-04-16T13:42:32.90484Z",
          "iopub.execute_input": "2024-04-16T13:42:32.905352Z",
          "iopub.status.idle": "2024-04-16T13:42:32.912518Z",
          "shell.execute_reply.started": "2024-04-16T13:42:32.90532Z",
          "shell.execute_reply": "2024-04-16T13:42:32.911553Z"
        },
        "trusted": true,
        "id": "7vtkQkhBk6mj"
      },
      "execution_count": null,
      "outputs": []
    },
    {
      "cell_type": "code",
      "source": [
        "xgb_preds.shape,rf_preds.shape,nn_preds_y.shape"
      ],
      "metadata": {
        "id": "dYF8xD8se8AB"
      },
      "execution_count": null,
      "outputs": []
    },
    {
      "cell_type": "code",
      "source": [
        "avgs = (xgb_preds + nn_preds_y + rf_preds) / 3"
      ],
      "metadata": {
        "id": "3zm_yu-XUlUz"
      },
      "execution_count": null,
      "outputs": []
    },
    {
      "cell_type": "code",
      "source": [
        "ens_preds_y"
      ],
      "metadata": {
        "id": "-6igstjLKixF"
      },
      "execution_count": null,
      "outputs": []
    },
    {
      "cell_type": "code",
      "source": [
        "avgs_ens = (xgb_preds + ens_preds_y + rf_preds) / 3"
      ],
      "metadata": {
        "id": "4qWqVNH2Kkk2"
      },
      "execution_count": null,
      "outputs": []
    },
    {
      "cell_type": "markdown",
      "source": [
        "avgs_ens submission"
      ],
      "metadata": {
        "id": "v-OjMY9QKwDT"
      }
    },
    {
      "cell_type": "code",
      "source": [
        "submit = pd.read_csv(path/'sample_submission.csv')\n",
        "submit['Rings'] = avgs_ens # nn_preds\n",
        "submit.head()"
      ],
      "metadata": {
        "id": "df6Yq7X1Kt7I"
      },
      "execution_count": null,
      "outputs": []
    },
    {
      "cell_type": "code",
      "source": [
        "submit.to_csv('submission.csv', index=False)"
      ],
      "metadata": {
        "id": "N6IDyRceK7Da"
      },
      "execution_count": null,
      "outputs": []
    },
    {
      "cell_type": "code",
      "source": [
        "!ls"
      ],
      "metadata": {
        "id": "SKs96EqgK_qd"
      },
      "execution_count": null,
      "outputs": []
    },
    {
      "cell_type": "code",
      "source": [
        "sub = pd.read_csv('submission.csv')\n",
        "sub.head()"
      ],
      "metadata": {
        "id": "fYLf5I0XK-8Z"
      },
      "execution_count": null,
      "outputs": []
    },
    {
      "cell_type": "code",
      "source": [
        "avgs.shape"
      ],
      "metadata": {
        "id": "oVXqmog7VKvL"
      },
      "execution_count": null,
      "outputs": []
    },
    {
      "cell_type": "code",
      "source": [
        "!ls"
      ],
      "metadata": {
        "id": "22iKBSkSV9iM"
      },
      "execution_count": null,
      "outputs": []
    },
    {
      "cell_type": "markdown",
      "source": [
        "avgs submission"
      ],
      "metadata": {
        "id": "8u1_trrGK011"
      }
    },
    {
      "cell_type": "code",
      "source": [
        "submit = pd.read_csv(path/'sample_submission.csv')\n",
        "submit['Rings'] = avgs # nn_preds\n",
        "submit.head()"
      ],
      "metadata": {
        "id": "BONnuZIpitBh",
        "execution": {
          "iopub.status.busy": "2024-04-16T13:42:39.004493Z",
          "iopub.execute_input": "2024-04-16T13:42:39.004869Z",
          "iopub.status.idle": "2024-04-16T13:42:39.036236Z",
          "shell.execute_reply.started": "2024-04-16T13:42:39.004837Z",
          "shell.execute_reply": "2024-04-16T13:42:39.035393Z"
        },
        "trusted": true
      },
      "execution_count": null,
      "outputs": []
    },
    {
      "cell_type": "code",
      "source": [
        "submit.to_csv('submission.csv', index=False)"
      ],
      "metadata": {
        "id": "8M6SbM3Qi8sJ",
        "execution": {
          "iopub.status.busy": "2024-04-16T13:42:39.404036Z",
          "iopub.execute_input": "2024-04-16T13:42:39.404868Z",
          "iopub.status.idle": "2024-04-16T13:42:39.538878Z",
          "shell.execute_reply.started": "2024-04-16T13:42:39.404838Z",
          "shell.execute_reply": "2024-04-16T13:42:39.537892Z"
        },
        "trusted": true
      },
      "execution_count": null,
      "outputs": []
    },
    {
      "cell_type": "code",
      "source": [
        "!ls"
      ],
      "metadata": {
        "id": "S5O1JC7MjFZ6",
        "execution": {
          "iopub.status.busy": "2024-04-16T13:42:42.024279Z",
          "iopub.execute_input": "2024-04-16T13:42:42.024666Z",
          "iopub.status.idle": "2024-04-16T13:42:43.014786Z",
          "shell.execute_reply.started": "2024-04-16T13:42:42.024631Z",
          "shell.execute_reply": "2024-04-16T13:42:43.013613Z"
        },
        "trusted": true
      },
      "execution_count": null,
      "outputs": []
    },
    {
      "cell_type": "code",
      "source": [
        "sub = pd.read_csv('submission.csv')\n",
        "sub.head()"
      ],
      "metadata": {
        "id": "Ify4ZcR1jGxx",
        "execution": {
          "iopub.status.busy": "2024-04-13T08:00:10.028058Z",
          "iopub.execute_input": "2024-04-13T08:00:10.028369Z",
          "iopub.status.idle": "2024-04-13T08:00:10.060975Z",
          "shell.execute_reply.started": "2024-04-13T08:00:10.028339Z",
          "shell.execute_reply": "2024-04-13T08:00:10.060066Z"
        },
        "trusted": true
      },
      "execution_count": null,
      "outputs": []
    },
    {
      "cell_type": "code",
      "source": [
        "!kaggle competitions submit -c playground-series-s4e4 -f submission.csv -m \"rf preds + xgb_preds sub 1 with no id column all adjustment to test set preds\""
      ],
      "metadata": {
        "id": "8XP9iPsoXnJy"
      },
      "execution_count": null,
      "outputs": []
    },
    {
      "cell_type": "code",
      "source": [
        "!kaggle competitions submit -c playground-series-s4e4 -f submission.csv -m \"xgboost preds, nn_preds sub 1 with no id column all adjustment to test set preds\""
      ],
      "metadata": {
        "id": "3U_EmvZzWr05"
      },
      "execution_count": null,
      "outputs": []
    },
    {
      "cell_type": "code",
      "source": [
        "#!kaggle competitions submit -c playground-series-s4e4 -f submission.csv -m \"xgboost preds, nn_preds + random forest preds sub 3 with no id column all adjustment to test set preds\""
      ],
      "metadata": {
        "id": "5ytbzIGhhie5"
      },
      "execution_count": null,
      "outputs": []
    },
    {
      "cell_type": "code",
      "source": [],
      "metadata": {
        "id": "P5dZkB7vhicV"
      },
      "execution_count": null,
      "outputs": []
    },
    {
      "cell_type": "markdown",
      "source": [
        "#### Full Notebook"
      ],
      "metadata": {
        "id": "mRJioJskk6mr"
      }
    },
    {
      "cell_type": "code",
      "source": [
        "cont_names,cat_names = cont_cat_split(train_df, dep_var='Rings')\n",
        "splits = RandomSplitter(valid_pct=0.2)(range_of(train_df))\n",
        "to = TabularPandas(train_df, procs=[Categorify, FillMissing,Normalize],\n",
        "                   cat_names = cat_names,\n",
        "                   cont_names = cont_names,\n",
        "                   y_names='Rings',\n",
        "                   y_block=RegressionBlock(),\n",
        "                   splits=splits)\n",
        "\n",
        "X_train, y_train = to.train.xs, to.train.ys.values.ravel()\n",
        "X_test, y_test = to.valid.xs, to.valid.ys.values.ravel()\n",
        "model = xgb.XGBRegressor(n_estimators = 200, max_depth=6, learning_rate=0.15, subsample=0.5)\n",
        "xgb_model = model.fit(X_train, y_train)\n",
        "dls = to.dataloaders(bs=64)\n",
        "test_dl = dls.test_dl(test_df)\n",
        "preds = tensor(model.predict(test_dl.xs))\n",
        "xgb_preds = preds\n",
        "submit = pd.read_csv(path/'sample_submission.csv')\n",
        "submit['Rings'] = xgb_preds\n",
        "submit.to_csv('submission.csv', index=False)\n",
        "sub = pd.read_csv('submission.csv')\n",
        "mse = mean_absolute_error(y_test, model.predict(X_test))\n",
        "rmse = np.sqrt(mse)\n",
        "rmse"
      ],
      "metadata": {
        "execution": {
          "iopub.status.busy": "2024-04-19T07:57:36.311222Z",
          "iopub.execute_input": "2024-04-19T07:57:36.312205Z",
          "iopub.status.idle": "2024-04-19T07:57:37.995516Z",
          "shell.execute_reply.started": "2024-04-19T07:57:36.312159Z",
          "shell.execute_reply": "2024-04-19T07:57:37.994416Z"
        },
        "trusted": true,
        "id": "-RSKn4UOk6ms"
      },
      "execution_count": null,
      "outputs": []
    },
    {
      "cell_type": "code",
      "source": [
        "cont_names,cat_names = cont_cat_split(train_df, dep_var='Rings')\n",
        "splits = RandomSplitter(valid_pct=0.2)(range_of(train_df))\n",
        "to = TabularPandas(train_df, procs=[Categorify, FillMissing,Normalize],\n",
        "                   cat_names = cat_names,\n",
        "                   cont_names = cont_names,\n",
        "                   y_names='Rings',\n",
        "                   y_block=RegressionBlock(),\n",
        "                   splits=splits)\n",
        "\n",
        "X_train, y_train = to.train.xs, to.train.ys.values.ravel()\n",
        "X_test, y_test = to.valid.xs, to.valid.ys.values.ravel()\n",
        "\n",
        "new_model = lgb.LGBMRegressor(num_leaves=31, learning_rate=0.1, n_estimators=200)\n",
        "lgb_model = new_model.fit(X_train, y_train)\n",
        "\n",
        "#dls = to.dataloaders(bs=64)\n",
        "#test_dl = dls.test_dl(test_df)\n",
        "\n",
        "new_preds = tensor(new_model.predict(test_dl.xs))\n",
        "lgb_preds = new_preds\n",
        "\n",
        "\n",
        "#submit = pd.read_csv(path/'sample_submission.csv')\n",
        "#submit['Rings'] = xgb_preds\n",
        "#submit.to_csv('submission.csv', index=False)\n",
        "#sub = pd.read_csv('submission.csv')\n",
        "mse = mean_absolute_error(y_test, new_model.predict(X_test))\n",
        "rmse = np.sqrt(mse)\n",
        "rmse"
      ],
      "metadata": {
        "execution": {
          "iopub.status.busy": "2024-04-19T07:46:49.922573Z",
          "iopub.execute_input": "2024-04-19T07:46:49.92303Z",
          "iopub.status.idle": "2024-04-19T07:46:51.483659Z",
          "shell.execute_reply.started": "2024-04-19T07:46:49.922995Z",
          "shell.execute_reply": "2024-04-19T07:46:51.482493Z"
        },
        "trusted": true,
        "id": "-8BWMtOCk6ms"
      },
      "execution_count": null,
      "outputs": []
    },
    {
      "cell_type": "code",
      "source": [],
      "metadata": {
        "id": "IRVdbnU6k6ms"
      },
      "execution_count": null,
      "outputs": []
    },
    {
      "cell_type": "code",
      "source": [],
      "metadata": {
        "id": "uldyb1zPk6ms"
      },
      "execution_count": null,
      "outputs": []
    },
    {
      "cell_type": "code",
      "source": [],
      "metadata": {
        "id": "10C9ZjbYk6ms"
      },
      "execution_count": null,
      "outputs": []
    }
  ]
}