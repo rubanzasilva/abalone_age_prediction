{
  "nbformat": 4,
  "nbformat_minor": 0,
  "metadata": {
    "colab": {
      "provenance": [],
      "gpuType": "T4",
      "collapsed_sections": [
        "wAxP8zexuvkN",
        "b_6Dvh6nwBsd"
      ],
      "authorship_tag": "ABX9TyOtSDbVKETSPi3Dxk+hQprg",
      "include_colab_link": true
    },
    "kernelspec": {
      "name": "python3",
      "display_name": "Python 3"
    },
    "language_info": {
      "name": "python"
    },
    "accelerator": "GPU"
  },
  "cells": [
    {
      "cell_type": "markdown",
      "metadata": {
        "id": "view-in-github",
        "colab_type": "text"
      },
      "source": [
        "<a href=\"https://colab.research.google.com/github/rubanzasilva/abalone_age_prediction/blob/dev/ps_s04e04.ipynb\" target=\"_parent\"><img src=\"https://colab.research.google.com/assets/colab-badge.svg\" alt=\"Open In Colab\"/></a>"
      ]
    },
    {
      "cell_type": "markdown",
      "source": [
        "# Abalone Age Prediction\n",
        "\n",
        "Predicting the age of abalone from physical measurements.  The age of abalone is determined by cutting the shell through the cone, staining it, and counting the number of rings through a microscope -- a boring and time-consuming task.  Other measurements, which are easier to obtain, are used to predict the age.  Further information, such as weather patterns and location (hence food availability) may be required to solve the problem.\n",
        "\n",
        "From the original data examples with missing values were removed (the majority having the predicted value missing), and the ranges of the continuous values have been scaled for use with an ANN (by dividing by 200)."
      ],
      "metadata": {
        "id": "xEfGlnaO3niw"
      }
    },
    {
      "cell_type": "markdown",
      "source": [
        "#### Imports"
      ],
      "metadata": {
        "id": "JoYkVKPPL01d"
      }
    },
    {
      "cell_type": "markdown",
      "source": [
        "#####FastKaggle dataset import"
      ],
      "metadata": {
        "id": "_dTz3NbTjKel"
      }
    },
    {
      "cell_type": "code",
      "execution_count": 1,
      "metadata": {
        "id": "aUs0z6h-waJf"
      },
      "outputs": [],
      "source": [
        "# install fastkaggle if not available\n",
        "try: import fastkaggle\n",
        "except ModuleNotFoundError:\n",
        "    !pip install -Uq fastkaggle\n",
        "\n",
        "from fastkaggle import *"
      ]
    },
    {
      "cell_type": "code",
      "source": [
        "creds = '{\"username\":\"rubanzasilva\",\"key\":\"a813913345e829b9b4019a3267ede370\"}'\n",
        "\n",
        "cred_path = Path('~/.kaggle/kaggle.json').expanduser()\n",
        "if not cred_path.exists():\n",
        "    cred_path.parent.mkdir(exist_ok=True)\n",
        "    cred_path.write_text(creds)\n",
        "    cred_path.chmod(0o600)"
      ],
      "metadata": {
        "id": "UbZxEbBwkTkF",
        "outputId": "63d0ec15-907f-40e2-9b83-40291dd20053",
        "colab": {
          "base_uri": "https://localhost:8080/",
          "height": 211
        }
      },
      "execution_count": null,
      "outputs": [
        {
          "output_type": "error",
          "ename": "NameError",
          "evalue": "name 'Path' is not defined",
          "traceback": [
            "\u001b[0;31m---------------------------------------------------------------------------\u001b[0m",
            "\u001b[0;31mNameError\u001b[0m                                 Traceback (most recent call last)",
            "\u001b[0;32m<ipython-input-2-8f0ea5c52f39>\u001b[0m in \u001b[0;36m<cell line: 3>\u001b[0;34m()\u001b[0m\n\u001b[1;32m      1\u001b[0m \u001b[0mcreds\u001b[0m \u001b[0;34m=\u001b[0m \u001b[0;34m'{\"username\":\"rubanzasilva\",\"key\":\"a813913345e829b9b4019a3267ede370\"}'\u001b[0m\u001b[0;34m\u001b[0m\u001b[0;34m\u001b[0m\u001b[0m\n\u001b[1;32m      2\u001b[0m \u001b[0;34m\u001b[0m\u001b[0m\n\u001b[0;32m----> 3\u001b[0;31m \u001b[0mcred_path\u001b[0m \u001b[0;34m=\u001b[0m \u001b[0mPath\u001b[0m\u001b[0;34m(\u001b[0m\u001b[0;34m'~/.kaggle/kaggle.json'\u001b[0m\u001b[0;34m)\u001b[0m\u001b[0;34m.\u001b[0m\u001b[0mexpanduser\u001b[0m\u001b[0;34m(\u001b[0m\u001b[0;34m)\u001b[0m\u001b[0;34m\u001b[0m\u001b[0;34m\u001b[0m\u001b[0m\n\u001b[0m\u001b[1;32m      4\u001b[0m \u001b[0;32mif\u001b[0m \u001b[0;32mnot\u001b[0m \u001b[0mcred_path\u001b[0m\u001b[0;34m.\u001b[0m\u001b[0mexists\u001b[0m\u001b[0;34m(\u001b[0m\u001b[0;34m)\u001b[0m\u001b[0;34m:\u001b[0m\u001b[0;34m\u001b[0m\u001b[0;34m\u001b[0m\u001b[0m\n\u001b[1;32m      5\u001b[0m     \u001b[0mcred_path\u001b[0m\u001b[0;34m.\u001b[0m\u001b[0mparent\u001b[0m\u001b[0;34m.\u001b[0m\u001b[0mmkdir\u001b[0m\u001b[0;34m(\u001b[0m\u001b[0mexist_ok\u001b[0m\u001b[0;34m=\u001b[0m\u001b[0;32mTrue\u001b[0m\u001b[0;34m)\u001b[0m\u001b[0;34m\u001b[0m\u001b[0;34m\u001b[0m\u001b[0m\n",
            "\u001b[0;31mNameError\u001b[0m: name 'Path' is not defined"
          ]
        }
      ]
    },
    {
      "cell_type": "code",
      "source": [
        "import os\n",
        "iskaggle = os.environ.get('KAGGLE_KERNEL_RUN_TYPE', '')\n",
        "\n",
        "if iskaggle: path = Path('../input/playground-series-s4e4')\n",
        "else:\n",
        "    import zipfile,kaggle\n",
        "    path = Path('playground-series-s4e4')\n",
        "    kaggle.api.competition_download_cli(str(path))\n",
        "    zipfile.ZipFile(f'{path}.zip').extractall(path)\n",
        "\n",
        "#train_df = pd.read_csv(path/'train.csv')\n",
        "#test_df = pd.read_csv(path/'test.csv')"
      ],
      "metadata": {
        "id": "0oAcqDsikWul"
      },
      "execution_count": null,
      "outputs": []
    },
    {
      "cell_type": "code",
      "source": [
        "comp = 'playground-series-s4e4'\n",
        "\n",
        "path = setup_comp(comp, install='fastai \"timm>=0.6.2.dev0\"')"
      ],
      "metadata": {
        "id": "pHmFLFY2jXVf"
      },
      "execution_count": null,
      "outputs": []
    },
    {
      "cell_type": "markdown",
      "source": [
        "#####Imports"
      ],
      "metadata": {
        "id": "KSQS3-Q_jP57"
      }
    },
    {
      "cell_type": "code",
      "source": [
        "#hide\n",
        "#! [ -e /content ]\n",
        "\n",
        "#hide\n",
        "#This imports and sets up everything you will need for this notebook\n",
        "#\n",
        "#!pip install -Uqq fastbook\n",
        "#import fastbook\n",
        "#fastbook.setup_book()\n",
        "\n",
        "#from fastbook import *\n",
        "from fastai.tabular.all import *\n",
        "import pandas as pd\n",
        "import matplotlib.pyplot as plt\n",
        "import seaborn as sns\n",
        "import numpy as np\n",
        "from numpy import random\n",
        "\n",
        "from fastai.imports import *\n",
        "np.set_printoptions(linewidth=130)\n",
        "\n",
        "\n",
        "from pathlib import Path\n",
        "import os\n",
        "\n",
        "\n",
        "from sklearn.ensemble import RandomForestClassifier\n",
        "from sklearn.metrics import roc_auc_score\n",
        "from sklearn.model_selection import train_test_split\n",
        "from sklearn.metrics import mean_absolute_error\n",
        "\n",
        "import xgboost as xgb\n",
        "from xgboost import plot_importance\n",
        "\n",
        "\n",
        "from ipywidgets import interact\n",
        "\n",
        "\n",
        "matplotlib.rc('image', cmap='Greys')"
      ],
      "metadata": {
        "id": "Bqsvj_4pzlnp"
      },
      "execution_count": 2,
      "outputs": []
    },
    {
      "cell_type": "code",
      "source": [
        "\n",
        "# IMPORTANT: RUN THIS CELL IN ORDER TO IMPORT YOUR KAGGLE DATA SOURCES\n",
        "# TO THE CORRECT LOCATION (/kaggle/input) IN YOUR NOTEBOOK,\n",
        "# THEN FEEL FREE TO DELETE THIS CELL.\n",
        "# NOTE: THIS NOTEBOOK ENVIRONMENT DIFFERS FROM KAGGLE'S PYTHON\n",
        "# ENVIRONMENT SO THERE MAY BE MISSING LIBRARIES USED BY YOUR\n",
        "# NOTEBOOK.\n",
        "\n",
        "import os\n",
        "import sys\n",
        "from tempfile import NamedTemporaryFile\n",
        "from urllib.request import urlopen\n",
        "from urllib.parse import unquote, urlparse\n",
        "from urllib.error import HTTPError\n",
        "from zipfile import ZipFile\n",
        "import tarfile\n",
        "import shutil\n",
        "\n",
        "CHUNK_SIZE = 40960\n",
        "DATA_SOURCE_MAPPING = 'playground-series-s4e4:https%3A%2F%2Fstorage.googleapis.com%2Fkaggle-competitions-data%2Fkaggle-v2%2F72489%2F8096274%2Fbundle%2Farchive.zip%3FX-Goog-Algorithm%3DGOOG4-RSA-SHA256%26X-Goog-Credential%3Dgcp-kaggle-com%2540kaggle-161607.iam.gserviceaccount.com%252F20240415%252Fauto%252Fstorage%252Fgoog4_request%26X-Goog-Date%3D20240415T201050Z%26X-Goog-Expires%3D259200%26X-Goog-SignedHeaders%3Dhost%26X-Goog-Signature%3Db6f11af31ea28d6e5c20d65b0615da82f81ca20cdde41b7e29fe7aaea730861ec0afe3456c1c57f7ecb2d36e055d9fa71f93ecf7363981b5ce53c4e31b529df139c6ffc3b43d0c1d9c17074210ff77970d7312d86b6f29c5184e8d29cc0273c6f9386b29cb19df06c61f036de7bbf5856cb1dc3797fa21e8dc7dd7d96b82308887ab91014972f3c883a2f24751d65d1505a564d951e4b8f832b285f45bdd017edc06059dc2e151ce3fb45042f2d478edd44236f805b55aae05cb2c215d4926dcf43591171e4a4eee7045078d8530fd5ef4ace177926dc0c18a5ea7bcb183ee064ba3f1cd914597fa3da8a0ec7218b1ce2ab77817c99c74241bba1ba710eca360'\n",
        "\n",
        "KAGGLE_INPUT_PATH='/kaggle/input'\n",
        "KAGGLE_WORKING_PATH='/kaggle/working'\n",
        "KAGGLE_SYMLINK='kaggle'\n",
        "\n",
        "!umount /kaggle/input/ 2> /dev/null\n",
        "shutil.rmtree('/kaggle/input', ignore_errors=True)\n",
        "os.makedirs(KAGGLE_INPUT_PATH, 0o777, exist_ok=True)\n",
        "os.makedirs(KAGGLE_WORKING_PATH, 0o777, exist_ok=True)\n",
        "\n",
        "try:\n",
        "  os.symlink(KAGGLE_INPUT_PATH, os.path.join(\"..\", 'input'), target_is_directory=True)\n",
        "except FileExistsError:\n",
        "  pass\n",
        "try:\n",
        "  os.symlink(KAGGLE_WORKING_PATH, os.path.join(\"..\", 'working'), target_is_directory=True)\n",
        "except FileExistsError:\n",
        "  pass\n",
        "\n",
        "for data_source_mapping in DATA_SOURCE_MAPPING.split(','):\n",
        "    directory, download_url_encoded = data_source_mapping.split(':')\n",
        "    download_url = unquote(download_url_encoded)\n",
        "    filename = urlparse(download_url).path\n",
        "    destination_path = os.path.join(KAGGLE_INPUT_PATH, directory)\n",
        "    try:\n",
        "        with urlopen(download_url) as fileres, NamedTemporaryFile() as tfile:\n",
        "            total_length = fileres.headers['content-length']\n",
        "            print(f'Downloading {directory}, {total_length} bytes compressed')\n",
        "            dl = 0\n",
        "            data = fileres.read(CHUNK_SIZE)\n",
        "            while len(data) > 0:\n",
        "                dl += len(data)\n",
        "                tfile.write(data)\n",
        "                done = int(50 * dl / int(total_length))\n",
        "                sys.stdout.write(f\"\\r[{'=' * done}{' ' * (50-done)}] {dl} bytes downloaded\")\n",
        "                sys.stdout.flush()\n",
        "                data = fileres.read(CHUNK_SIZE)\n",
        "            if filename.endswith('.zip'):\n",
        "              with ZipFile(tfile) as zfile:\n",
        "                zfile.extractall(destination_path)\n",
        "            else:\n",
        "              with tarfile.open(tfile.name) as tarfile:\n",
        "                tarfile.extractall(destination_path)\n",
        "            print(f'\\nDownloaded and uncompressed: {directory}')\n",
        "    except HTTPError as e:\n",
        "        print(f'Failed to load (likely expired) {download_url} to path {destination_path}')\n",
        "        continue\n",
        "    except OSError as e:\n",
        "        print(f'Failed to load {download_url} to path {destination_path}')\n",
        "        continue\n",
        "\n",
        "print('Data source import complete.')\n"
      ],
      "metadata": {
        "colab": {
          "base_uri": "https://localhost:8080/"
        },
        "id": "GKDOSYVFz3Hb",
        "outputId": "8e9f45f3-947b-40a4-d39c-9fcf9e217325"
      },
      "execution_count": 3,
      "outputs": [
        {
          "output_type": "stream",
          "name": "stdout",
          "text": [
            "Downloading playground-series-s4e4, 2529839 bytes compressed\n",
            "[==================================================] 2529839 bytes downloaded\n",
            "Downloaded and uncompressed: playground-series-s4e4\n",
            "Data source import complete.\n"
          ]
        }
      ]
    },
    {
      "cell_type": "code",
      "source": [
        "#comp = 'playground-series-s4e4'"
      ],
      "metadata": {
        "id": "NElm-MfQLP-D"
      },
      "execution_count": null,
      "outputs": []
    },
    {
      "cell_type": "code",
      "source": [
        "!ls /kaggle/input/playground-series-s4e4"
      ],
      "metadata": {
        "colab": {
          "base_uri": "https://localhost:8080/"
        },
        "id": "WuVw90RT1cvf",
        "outputId": "87e45e07-c731-4b1c-c8b3-770e4425b067"
      },
      "execution_count": 4,
      "outputs": [
        {
          "output_type": "stream",
          "name": "stdout",
          "text": [
            "sample_submission.csv  test.csv  train.csv\n"
          ]
        }
      ]
    },
    {
      "cell_type": "code",
      "source": [
        "!ls"
      ],
      "metadata": {
        "colab": {
          "base_uri": "https://localhost:8080/"
        },
        "id": "zcCuJ_OCyhT4",
        "outputId": "c936cf37-5bb5-4e82-9c3e-5560a82c6697"
      },
      "execution_count": 5,
      "outputs": [
        {
          "output_type": "stream",
          "name": "stdout",
          "text": [
            "sample_data\n"
          ]
        }
      ]
    },
    {
      "cell_type": "code",
      "source": [
        "# Next, install the Kaggle API client.\n",
        "#!pip install -q kaggle\n",
        "from google.colab import files\n",
        "files.upload()"
      ],
      "metadata": {
        "id": "sSv3NukYCmWh",
        "colab": {
          "base_uri": "https://localhost:8080/",
          "height": 90
        },
        "outputId": "84016491-14c5-4a27-959d-b3c8b82742bb"
      },
      "execution_count": 6,
      "outputs": [
        {
          "output_type": "display_data",
          "data": {
            "text/plain": [
              "<IPython.core.display.HTML object>"
            ],
            "text/html": [
              "\n",
              "     <input type=\"file\" id=\"files-65e10456-04ef-4764-b395-ff66a23c04fa\" name=\"files[]\" multiple disabled\n",
              "        style=\"border:none\" />\n",
              "     <output id=\"result-65e10456-04ef-4764-b395-ff66a23c04fa\">\n",
              "      Upload widget is only available when the cell has been executed in the\n",
              "      current browser session. Please rerun this cell to enable.\n",
              "      </output>\n",
              "      <script>// Copyright 2017 Google LLC\n",
              "//\n",
              "// Licensed under the Apache License, Version 2.0 (the \"License\");\n",
              "// you may not use this file except in compliance with the License.\n",
              "// You may obtain a copy of the License at\n",
              "//\n",
              "//      http://www.apache.org/licenses/LICENSE-2.0\n",
              "//\n",
              "// Unless required by applicable law or agreed to in writing, software\n",
              "// distributed under the License is distributed on an \"AS IS\" BASIS,\n",
              "// WITHOUT WARRANTIES OR CONDITIONS OF ANY KIND, either express or implied.\n",
              "// See the License for the specific language governing permissions and\n",
              "// limitations under the License.\n",
              "\n",
              "/**\n",
              " * @fileoverview Helpers for google.colab Python module.\n",
              " */\n",
              "(function(scope) {\n",
              "function span(text, styleAttributes = {}) {\n",
              "  const element = document.createElement('span');\n",
              "  element.textContent = text;\n",
              "  for (const key of Object.keys(styleAttributes)) {\n",
              "    element.style[key] = styleAttributes[key];\n",
              "  }\n",
              "  return element;\n",
              "}\n",
              "\n",
              "// Max number of bytes which will be uploaded at a time.\n",
              "const MAX_PAYLOAD_SIZE = 100 * 1024;\n",
              "\n",
              "function _uploadFiles(inputId, outputId) {\n",
              "  const steps = uploadFilesStep(inputId, outputId);\n",
              "  const outputElement = document.getElementById(outputId);\n",
              "  // Cache steps on the outputElement to make it available for the next call\n",
              "  // to uploadFilesContinue from Python.\n",
              "  outputElement.steps = steps;\n",
              "\n",
              "  return _uploadFilesContinue(outputId);\n",
              "}\n",
              "\n",
              "// This is roughly an async generator (not supported in the browser yet),\n",
              "// where there are multiple asynchronous steps and the Python side is going\n",
              "// to poll for completion of each step.\n",
              "// This uses a Promise to block the python side on completion of each step,\n",
              "// then passes the result of the previous step as the input to the next step.\n",
              "function _uploadFilesContinue(outputId) {\n",
              "  const outputElement = document.getElementById(outputId);\n",
              "  const steps = outputElement.steps;\n",
              "\n",
              "  const next = steps.next(outputElement.lastPromiseValue);\n",
              "  return Promise.resolve(next.value.promise).then((value) => {\n",
              "    // Cache the last promise value to make it available to the next\n",
              "    // step of the generator.\n",
              "    outputElement.lastPromiseValue = value;\n",
              "    return next.value.response;\n",
              "  });\n",
              "}\n",
              "\n",
              "/**\n",
              " * Generator function which is called between each async step of the upload\n",
              " * process.\n",
              " * @param {string} inputId Element ID of the input file picker element.\n",
              " * @param {string} outputId Element ID of the output display.\n",
              " * @return {!Iterable<!Object>} Iterable of next steps.\n",
              " */\n",
              "function* uploadFilesStep(inputId, outputId) {\n",
              "  const inputElement = document.getElementById(inputId);\n",
              "  inputElement.disabled = false;\n",
              "\n",
              "  const outputElement = document.getElementById(outputId);\n",
              "  outputElement.innerHTML = '';\n",
              "\n",
              "  const pickedPromise = new Promise((resolve) => {\n",
              "    inputElement.addEventListener('change', (e) => {\n",
              "      resolve(e.target.files);\n",
              "    });\n",
              "  });\n",
              "\n",
              "  const cancel = document.createElement('button');\n",
              "  inputElement.parentElement.appendChild(cancel);\n",
              "  cancel.textContent = 'Cancel upload';\n",
              "  const cancelPromise = new Promise((resolve) => {\n",
              "    cancel.onclick = () => {\n",
              "      resolve(null);\n",
              "    };\n",
              "  });\n",
              "\n",
              "  // Wait for the user to pick the files.\n",
              "  const files = yield {\n",
              "    promise: Promise.race([pickedPromise, cancelPromise]),\n",
              "    response: {\n",
              "      action: 'starting',\n",
              "    }\n",
              "  };\n",
              "\n",
              "  cancel.remove();\n",
              "\n",
              "  // Disable the input element since further picks are not allowed.\n",
              "  inputElement.disabled = true;\n",
              "\n",
              "  if (!files) {\n",
              "    return {\n",
              "      response: {\n",
              "        action: 'complete',\n",
              "      }\n",
              "    };\n",
              "  }\n",
              "\n",
              "  for (const file of files) {\n",
              "    const li = document.createElement('li');\n",
              "    li.append(span(file.name, {fontWeight: 'bold'}));\n",
              "    li.append(span(\n",
              "        `(${file.type || 'n/a'}) - ${file.size} bytes, ` +\n",
              "        `last modified: ${\n",
              "            file.lastModifiedDate ? file.lastModifiedDate.toLocaleDateString() :\n",
              "                                    'n/a'} - `));\n",
              "    const percent = span('0% done');\n",
              "    li.appendChild(percent);\n",
              "\n",
              "    outputElement.appendChild(li);\n",
              "\n",
              "    const fileDataPromise = new Promise((resolve) => {\n",
              "      const reader = new FileReader();\n",
              "      reader.onload = (e) => {\n",
              "        resolve(e.target.result);\n",
              "      };\n",
              "      reader.readAsArrayBuffer(file);\n",
              "    });\n",
              "    // Wait for the data to be ready.\n",
              "    let fileData = yield {\n",
              "      promise: fileDataPromise,\n",
              "      response: {\n",
              "        action: 'continue',\n",
              "      }\n",
              "    };\n",
              "\n",
              "    // Use a chunked sending to avoid message size limits. See b/62115660.\n",
              "    let position = 0;\n",
              "    do {\n",
              "      const length = Math.min(fileData.byteLength - position, MAX_PAYLOAD_SIZE);\n",
              "      const chunk = new Uint8Array(fileData, position, length);\n",
              "      position += length;\n",
              "\n",
              "      const base64 = btoa(String.fromCharCode.apply(null, chunk));\n",
              "      yield {\n",
              "        response: {\n",
              "          action: 'append',\n",
              "          file: file.name,\n",
              "          data: base64,\n",
              "        },\n",
              "      };\n",
              "\n",
              "      let percentDone = fileData.byteLength === 0 ?\n",
              "          100 :\n",
              "          Math.round((position / fileData.byteLength) * 100);\n",
              "      percent.textContent = `${percentDone}% done`;\n",
              "\n",
              "    } while (position < fileData.byteLength);\n",
              "  }\n",
              "\n",
              "  // All done.\n",
              "  yield {\n",
              "    response: {\n",
              "      action: 'complete',\n",
              "    }\n",
              "  };\n",
              "}\n",
              "\n",
              "scope.google = scope.google || {};\n",
              "scope.google.colab = scope.google.colab || {};\n",
              "scope.google.colab._files = {\n",
              "  _uploadFiles,\n",
              "  _uploadFilesContinue,\n",
              "};\n",
              "})(self);\n",
              "</script> "
            ]
          },
          "metadata": {}
        },
        {
          "output_type": "stream",
          "name": "stdout",
          "text": [
            "Saving kaggle.json to kaggle.json\n"
          ]
        },
        {
          "output_type": "execute_result",
          "data": {
            "text/plain": [
              "{'kaggle.json': b'{\"username\":\"rubanzasilva\",\"key\":\"a813913345e829b9b4019a3267ede370\"}'}"
            ]
          },
          "metadata": {},
          "execution_count": 6
        }
      ]
    },
    {
      "cell_type": "code",
      "source": [
        "\n",
        " ! mkdir ~/.kaggle\n",
        "\n",
        "! cp kaggle.json ~/.kaggle/\n",
        "\n",
        "!chmod 600 ~/.kaggle/kaggle.json\n",
        "\n",
        "# List available datasets.\n",
        "#!kaggle datasets list\n"
      ],
      "metadata": {
        "id": "QFlwZCkMCsp7"
      },
      "execution_count": 7,
      "outputs": []
    },
    {
      "cell_type": "markdown",
      "source": [
        "Set random seed for reproducibility."
      ],
      "metadata": {
        "id": "0NsP5z842YEN"
      }
    },
    {
      "cell_type": "code",
      "source": [
        "#set_seed(42)"
      ],
      "metadata": {
        "id": "Dhj5C6C31csL"
      },
      "execution_count": null,
      "outputs": []
    },
    {
      "cell_type": "code",
      "source": [
        "path = Path('/kaggle/input/playground-series-s4e4/')\n",
        "path"
      ],
      "metadata": {
        "colab": {
          "base_uri": "https://localhost:8080/"
        },
        "id": "J0qhj9QG1cpV",
        "outputId": "ff8fb9ea-5925-4428-90dc-6c73b5e6b7a6"
      },
      "execution_count": 8,
      "outputs": [
        {
          "output_type": "execute_result",
          "data": {
            "text/plain": [
              "Path('/kaggle/input/playground-series-s4e4')"
            ]
          },
          "metadata": {},
          "execution_count": 8
        }
      ]
    },
    {
      "cell_type": "markdown",
      "source": [
        "###Index_col\n",
        "\n",
        "With or without.\n",
        "\n",
        "I remove the index_col because it changes the shape of our original dataset.\n",
        "Later on we shall be able to investigate the effect of this action.\n",
        "\n",
        "Removing the id column seems to slightly improve predictions."
      ],
      "metadata": {
        "id": "JYlE9Iro6WFv"
      }
    },
    {
      "cell_type": "code",
      "source": [
        "#train_df = pd.read_csv(path/'train.csv',index_col='id')\n",
        "\n",
        "train_df = pd.read_csv(path/'train.csv',index_col='id')\n",
        "test_df = pd.read_csv(path/'test.csv',index_col='id')\n",
        "sub_df = pd.read_csv(path/'sample_submission.csv',index_col='id')\n"
      ],
      "metadata": {
        "id": "ENldYptL1cna"
      },
      "execution_count": 9,
      "outputs": []
    },
    {
      "cell_type": "code",
      "source": [
        "\n",
        "#train_df = pd.read_csv(path/'train.csv',index_col='id')\n",
        "\n",
        "#train_df = pd.read_csv(path/'train.csv')\n",
        "#test_df = pd.read_csv(path/'test.csv')\n",
        "#sub_df = pd.read_csv(path/'sample_submission.csv')\n"
      ],
      "metadata": {
        "id": "eSkeRlqUWDqC"
      },
      "execution_count": null,
      "outputs": []
    },
    {
      "cell_type": "markdown",
      "source": [
        "####Initial Exploratory Data Analysis"
      ],
      "metadata": {
        "id": "wAxP8zexuvkN"
      }
    },
    {
      "cell_type": "markdown",
      "source": [
        "**Variable description from the initial UCI dataset repository**\n",
        "\n",
        "![UCI Abalone data dictionary rsized.png](data:image/png;base64,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)\n"
      ],
      "metadata": {
        "id": "0_LAG8wtzoYw"
      }
    },
    {
      "cell_type": "code",
      "source": [
        "train_df.head()"
      ],
      "metadata": {
        "colab": {
          "base_uri": "https://localhost:8080/",
          "height": 237
        },
        "id": "vnoioJg21cjG",
        "outputId": "c0f75b6b-49b2-4b69-b9c1-e52bc3fe5bea"
      },
      "execution_count": null,
      "outputs": [
        {
          "output_type": "execute_result",
          "data": {
            "text/plain": [
              "   Sex  Length  Diameter  Height  Whole weight  Whole weight.1  \\\n",
              "id                                                               \n",
              "0    F   0.550     0.430   0.150        0.7715          0.3285   \n",
              "1    F   0.630     0.490   0.145        1.1300          0.4580   \n",
              "2    I   0.160     0.110   0.025        0.0210          0.0055   \n",
              "3    M   0.595     0.475   0.150        0.9145          0.3755   \n",
              "4    I   0.555     0.425   0.130        0.7820          0.3695   \n",
              "\n",
              "    Whole weight.2  Shell weight  Rings  \n",
              "id                                       \n",
              "0           0.1465        0.2400     11  \n",
              "1           0.2765        0.3200     11  \n",
              "2           0.0030        0.0050      6  \n",
              "3           0.2055        0.2500     10  \n",
              "4           0.1600        0.1975      9  "
            ],
            "text/html": [
              "\n",
              "  <div id=\"df-7ebc0349-0f86-404e-8796-4a2a0763e963\" class=\"colab-df-container\">\n",
              "    <div>\n",
              "<style scoped>\n",
              "    .dataframe tbody tr th:only-of-type {\n",
              "        vertical-align: middle;\n",
              "    }\n",
              "\n",
              "    .dataframe tbody tr th {\n",
              "        vertical-align: top;\n",
              "    }\n",
              "\n",
              "    .dataframe thead th {\n",
              "        text-align: right;\n",
              "    }\n",
              "</style>\n",
              "<table border=\"1\" class=\"dataframe\">\n",
              "  <thead>\n",
              "    <tr style=\"text-align: right;\">\n",
              "      <th></th>\n",
              "      <th>Sex</th>\n",
              "      <th>Length</th>\n",
              "      <th>Diameter</th>\n",
              "      <th>Height</th>\n",
              "      <th>Whole weight</th>\n",
              "      <th>Whole weight.1</th>\n",
              "      <th>Whole weight.2</th>\n",
              "      <th>Shell weight</th>\n",
              "      <th>Rings</th>\n",
              "    </tr>\n",
              "    <tr>\n",
              "      <th>id</th>\n",
              "      <th></th>\n",
              "      <th></th>\n",
              "      <th></th>\n",
              "      <th></th>\n",
              "      <th></th>\n",
              "      <th></th>\n",
              "      <th></th>\n",
              "      <th></th>\n",
              "      <th></th>\n",
              "    </tr>\n",
              "  </thead>\n",
              "  <tbody>\n",
              "    <tr>\n",
              "      <th>0</th>\n",
              "      <td>F</td>\n",
              "      <td>0.550</td>\n",
              "      <td>0.430</td>\n",
              "      <td>0.150</td>\n",
              "      <td>0.7715</td>\n",
              "      <td>0.3285</td>\n",
              "      <td>0.1465</td>\n",
              "      <td>0.2400</td>\n",
              "      <td>11</td>\n",
              "    </tr>\n",
              "    <tr>\n",
              "      <th>1</th>\n",
              "      <td>F</td>\n",
              "      <td>0.630</td>\n",
              "      <td>0.490</td>\n",
              "      <td>0.145</td>\n",
              "      <td>1.1300</td>\n",
              "      <td>0.4580</td>\n",
              "      <td>0.2765</td>\n",
              "      <td>0.3200</td>\n",
              "      <td>11</td>\n",
              "    </tr>\n",
              "    <tr>\n",
              "      <th>2</th>\n",
              "      <td>I</td>\n",
              "      <td>0.160</td>\n",
              "      <td>0.110</td>\n",
              "      <td>0.025</td>\n",
              "      <td>0.0210</td>\n",
              "      <td>0.0055</td>\n",
              "      <td>0.0030</td>\n",
              "      <td>0.0050</td>\n",
              "      <td>6</td>\n",
              "    </tr>\n",
              "    <tr>\n",
              "      <th>3</th>\n",
              "      <td>M</td>\n",
              "      <td>0.595</td>\n",
              "      <td>0.475</td>\n",
              "      <td>0.150</td>\n",
              "      <td>0.9145</td>\n",
              "      <td>0.3755</td>\n",
              "      <td>0.2055</td>\n",
              "      <td>0.2500</td>\n",
              "      <td>10</td>\n",
              "    </tr>\n",
              "    <tr>\n",
              "      <th>4</th>\n",
              "      <td>I</td>\n",
              "      <td>0.555</td>\n",
              "      <td>0.425</td>\n",
              "      <td>0.130</td>\n",
              "      <td>0.7820</td>\n",
              "      <td>0.3695</td>\n",
              "      <td>0.1600</td>\n",
              "      <td>0.1975</td>\n",
              "      <td>9</td>\n",
              "    </tr>\n",
              "  </tbody>\n",
              "</table>\n",
              "</div>\n",
              "    <div class=\"colab-df-buttons\">\n",
              "\n",
              "  <div class=\"colab-df-container\">\n",
              "    <button class=\"colab-df-convert\" onclick=\"convertToInteractive('df-7ebc0349-0f86-404e-8796-4a2a0763e963')\"\n",
              "            title=\"Convert this dataframe to an interactive table.\"\n",
              "            style=\"display:none;\">\n",
              "\n",
              "  <svg xmlns=\"http://www.w3.org/2000/svg\" height=\"24px\" viewBox=\"0 -960 960 960\">\n",
              "    <path d=\"M120-120v-720h720v720H120Zm60-500h600v-160H180v160Zm220 220h160v-160H400v160Zm0 220h160v-160H400v160ZM180-400h160v-160H180v160Zm440 0h160v-160H620v160ZM180-180h160v-160H180v160Zm440 0h160v-160H620v160Z\"/>\n",
              "  </svg>\n",
              "    </button>\n",
              "\n",
              "  <style>\n",
              "    .colab-df-container {\n",
              "      display:flex;\n",
              "      gap: 12px;\n",
              "    }\n",
              "\n",
              "    .colab-df-convert {\n",
              "      background-color: #E8F0FE;\n",
              "      border: none;\n",
              "      border-radius: 50%;\n",
              "      cursor: pointer;\n",
              "      display: none;\n",
              "      fill: #1967D2;\n",
              "      height: 32px;\n",
              "      padding: 0 0 0 0;\n",
              "      width: 32px;\n",
              "    }\n",
              "\n",
              "    .colab-df-convert:hover {\n",
              "      background-color: #E2EBFA;\n",
              "      box-shadow: 0px 1px 2px rgba(60, 64, 67, 0.3), 0px 1px 3px 1px rgba(60, 64, 67, 0.15);\n",
              "      fill: #174EA6;\n",
              "    }\n",
              "\n",
              "    .colab-df-buttons div {\n",
              "      margin-bottom: 4px;\n",
              "    }\n",
              "\n",
              "    [theme=dark] .colab-df-convert {\n",
              "      background-color: #3B4455;\n",
              "      fill: #D2E3FC;\n",
              "    }\n",
              "\n",
              "    [theme=dark] .colab-df-convert:hover {\n",
              "      background-color: #434B5C;\n",
              "      box-shadow: 0px 1px 3px 1px rgba(0, 0, 0, 0.15);\n",
              "      filter: drop-shadow(0px 1px 2px rgba(0, 0, 0, 0.3));\n",
              "      fill: #FFFFFF;\n",
              "    }\n",
              "  </style>\n",
              "\n",
              "    <script>\n",
              "      const buttonEl =\n",
              "        document.querySelector('#df-7ebc0349-0f86-404e-8796-4a2a0763e963 button.colab-df-convert');\n",
              "      buttonEl.style.display =\n",
              "        google.colab.kernel.accessAllowed ? 'block' : 'none';\n",
              "\n",
              "      async function convertToInteractive(key) {\n",
              "        const element = document.querySelector('#df-7ebc0349-0f86-404e-8796-4a2a0763e963');\n",
              "        const dataTable =\n",
              "          await google.colab.kernel.invokeFunction('convertToInteractive',\n",
              "                                                    [key], {});\n",
              "        if (!dataTable) return;\n",
              "\n",
              "        const docLinkHtml = 'Like what you see? Visit the ' +\n",
              "          '<a target=\"_blank\" href=https://colab.research.google.com/notebooks/data_table.ipynb>data table notebook</a>'\n",
              "          + ' to learn more about interactive tables.';\n",
              "        element.innerHTML = '';\n",
              "        dataTable['output_type'] = 'display_data';\n",
              "        await google.colab.output.renderOutput(dataTable, element);\n",
              "        const docLink = document.createElement('div');\n",
              "        docLink.innerHTML = docLinkHtml;\n",
              "        element.appendChild(docLink);\n",
              "      }\n",
              "    </script>\n",
              "  </div>\n",
              "\n",
              "\n",
              "<div id=\"df-271167a7-b03e-49c8-a547-8af9b1de2a5e\">\n",
              "  <button class=\"colab-df-quickchart\" onclick=\"quickchart('df-271167a7-b03e-49c8-a547-8af9b1de2a5e')\"\n",
              "            title=\"Suggest charts\"\n",
              "            style=\"display:none;\">\n",
              "\n",
              "<svg xmlns=\"http://www.w3.org/2000/svg\" height=\"24px\"viewBox=\"0 0 24 24\"\n",
              "     width=\"24px\">\n",
              "    <g>\n",
              "        <path d=\"M19 3H5c-1.1 0-2 .9-2 2v14c0 1.1.9 2 2 2h14c1.1 0 2-.9 2-2V5c0-1.1-.9-2-2-2zM9 17H7v-7h2v7zm4 0h-2V7h2v10zm4 0h-2v-4h2v4z\"/>\n",
              "    </g>\n",
              "</svg>\n",
              "  </button>\n",
              "\n",
              "<style>\n",
              "  .colab-df-quickchart {\n",
              "      --bg-color: #E8F0FE;\n",
              "      --fill-color: #1967D2;\n",
              "      --hover-bg-color: #E2EBFA;\n",
              "      --hover-fill-color: #174EA6;\n",
              "      --disabled-fill-color: #AAA;\n",
              "      --disabled-bg-color: #DDD;\n",
              "  }\n",
              "\n",
              "  [theme=dark] .colab-df-quickchart {\n",
              "      --bg-color: #3B4455;\n",
              "      --fill-color: #D2E3FC;\n",
              "      --hover-bg-color: #434B5C;\n",
              "      --hover-fill-color: #FFFFFF;\n",
              "      --disabled-bg-color: #3B4455;\n",
              "      --disabled-fill-color: #666;\n",
              "  }\n",
              "\n",
              "  .colab-df-quickchart {\n",
              "    background-color: var(--bg-color);\n",
              "    border: none;\n",
              "    border-radius: 50%;\n",
              "    cursor: pointer;\n",
              "    display: none;\n",
              "    fill: var(--fill-color);\n",
              "    height: 32px;\n",
              "    padding: 0;\n",
              "    width: 32px;\n",
              "  }\n",
              "\n",
              "  .colab-df-quickchart:hover {\n",
              "    background-color: var(--hover-bg-color);\n",
              "    box-shadow: 0 1px 2px rgba(60, 64, 67, 0.3), 0 1px 3px 1px rgba(60, 64, 67, 0.15);\n",
              "    fill: var(--button-hover-fill-color);\n",
              "  }\n",
              "\n",
              "  .colab-df-quickchart-complete:disabled,\n",
              "  .colab-df-quickchart-complete:disabled:hover {\n",
              "    background-color: var(--disabled-bg-color);\n",
              "    fill: var(--disabled-fill-color);\n",
              "    box-shadow: none;\n",
              "  }\n",
              "\n",
              "  .colab-df-spinner {\n",
              "    border: 2px solid var(--fill-color);\n",
              "    border-color: transparent;\n",
              "    border-bottom-color: var(--fill-color);\n",
              "    animation:\n",
              "      spin 1s steps(1) infinite;\n",
              "  }\n",
              "\n",
              "  @keyframes spin {\n",
              "    0% {\n",
              "      border-color: transparent;\n",
              "      border-bottom-color: var(--fill-color);\n",
              "      border-left-color: var(--fill-color);\n",
              "    }\n",
              "    20% {\n",
              "      border-color: transparent;\n",
              "      border-left-color: var(--fill-color);\n",
              "      border-top-color: var(--fill-color);\n",
              "    }\n",
              "    30% {\n",
              "      border-color: transparent;\n",
              "      border-left-color: var(--fill-color);\n",
              "      border-top-color: var(--fill-color);\n",
              "      border-right-color: var(--fill-color);\n",
              "    }\n",
              "    40% {\n",
              "      border-color: transparent;\n",
              "      border-right-color: var(--fill-color);\n",
              "      border-top-color: var(--fill-color);\n",
              "    }\n",
              "    60% {\n",
              "      border-color: transparent;\n",
              "      border-right-color: var(--fill-color);\n",
              "    }\n",
              "    80% {\n",
              "      border-color: transparent;\n",
              "      border-right-color: var(--fill-color);\n",
              "      border-bottom-color: var(--fill-color);\n",
              "    }\n",
              "    90% {\n",
              "      border-color: transparent;\n",
              "      border-bottom-color: var(--fill-color);\n",
              "    }\n",
              "  }\n",
              "</style>\n",
              "\n",
              "  <script>\n",
              "    async function quickchart(key) {\n",
              "      const quickchartButtonEl =\n",
              "        document.querySelector('#' + key + ' button');\n",
              "      quickchartButtonEl.disabled = true;  // To prevent multiple clicks.\n",
              "      quickchartButtonEl.classList.add('colab-df-spinner');\n",
              "      try {\n",
              "        const charts = await google.colab.kernel.invokeFunction(\n",
              "            'suggestCharts', [key], {});\n",
              "      } catch (error) {\n",
              "        console.error('Error during call to suggestCharts:', error);\n",
              "      }\n",
              "      quickchartButtonEl.classList.remove('colab-df-spinner');\n",
              "      quickchartButtonEl.classList.add('colab-df-quickchart-complete');\n",
              "    }\n",
              "    (() => {\n",
              "      let quickchartButtonEl =\n",
              "        document.querySelector('#df-271167a7-b03e-49c8-a547-8af9b1de2a5e button');\n",
              "      quickchartButtonEl.style.display =\n",
              "        google.colab.kernel.accessAllowed ? 'block' : 'none';\n",
              "    })();\n",
              "  </script>\n",
              "</div>\n",
              "\n",
              "    </div>\n",
              "  </div>\n"
            ],
            "application/vnd.google.colaboratory.intrinsic+json": {
              "type": "dataframe",
              "variable_name": "train_df",
              "summary": "{\n  \"name\": \"train_df\",\n  \"rows\": 90615,\n  \"fields\": [\n    {\n      \"column\": \"id\",\n      \"properties\": {\n        \"dtype\": \"number\",\n        \"std\": 26158,\n        \"min\": 0,\n        \"max\": 90614,\n        \"num_unique_values\": 90615,\n        \"samples\": [\n          3502,\n          76031,\n          49473\n        ],\n        \"semantic_type\": \"\",\n        \"description\": \"\"\n      }\n    },\n    {\n      \"column\": \"Sex\",\n      \"properties\": {\n        \"dtype\": \"category\",\n        \"num_unique_values\": 3,\n        \"samples\": [\n          \"F\",\n          \"I\",\n          \"M\"\n        ],\n        \"semantic_type\": \"\",\n        \"description\": \"\"\n      }\n    },\n    {\n      \"column\": \"Length\",\n      \"properties\": {\n        \"dtype\": \"number\",\n        \"std\": 0.11821670901526686,\n        \"min\": 0.075,\n        \"max\": 0.815,\n        \"num_unique_values\": 157,\n        \"samples\": [\n          0.77,\n          0.535,\n          0.09\n        ],\n        \"semantic_type\": \"\",\n        \"description\": \"\"\n      }\n    },\n    {\n      \"column\": \"Diameter\",\n      \"properties\": {\n        \"dtype\": \"number\",\n        \"std\": 0.09802631939013517,\n        \"min\": 0.055,\n        \"max\": 0.65,\n        \"num_unique_values\": 126,\n        \"samples\": [\n          0.57,\n          0.525,\n          0.308\n        ],\n        \"semantic_type\": \"\",\n        \"description\": \"\"\n      }\n    },\n    {\n      \"column\": \"Height\",\n      \"properties\": {\n        \"dtype\": \"number\",\n        \"std\": 0.03800756247879023,\n        \"min\": 0.0,\n        \"max\": 1.13,\n        \"num_unique_values\": 90,\n        \"samples\": [\n          0.21,\n          0.12,\n          1.13\n        ],\n        \"semantic_type\": \"\",\n        \"description\": \"\"\n      }\n    },\n    {\n      \"column\": \"Whole weight\",\n      \"properties\": {\n        \"dtype\": \"number\",\n        \"std\": 0.4576706970769096,\n        \"min\": 0.002,\n        \"max\": 2.8255,\n        \"num_unique_values\": 3175,\n        \"samples\": [\n          1.347,\n          0.196,\n          1.8045\n        ],\n        \"semantic_type\": \"\",\n        \"description\": \"\"\n      }\n    },\n    {\n      \"column\": \"Whole weight.1\",\n      \"properties\": {\n        \"dtype\": \"number\",\n        \"std\": 0.20442847843867115,\n        \"min\": 0.001,\n        \"max\": 1.488,\n        \"num_unique_values\": 1799,\n        \"samples\": [\n          0.1005,\n          0.5115,\n          1.012\n        ],\n        \"semantic_type\": \"\",\n        \"description\": \"\"\n      }\n    },\n    {\n      \"column\": \"Whole weight.2\",\n      \"properties\": {\n        \"dtype\": \"number\",\n        \"std\": 0.10090888847544377,\n        \"min\": 0.0005,\n        \"max\": 0.76,\n        \"num_unique_values\": 979,\n        \"samples\": [\n          0.1175,\n          0.2855,\n          0.171\n        ],\n        \"semantic_type\": \"\",\n        \"description\": \"\"\n      }\n    },\n    {\n      \"column\": \"Shell weight\",\n      \"properties\": {\n        \"dtype\": \"number\",\n        \"std\": 0.13020333874135173,\n        \"min\": 0.0015,\n        \"max\": 1.005,\n        \"num_unique_values\": 1129,\n        \"samples\": [\n          0.2695,\n          1.005,\n          0.4255\n        ],\n        \"semantic_type\": \"\",\n        \"description\": \"\"\n      }\n    },\n    {\n      \"column\": \"Rings\",\n      \"properties\": {\n        \"dtype\": \"number\",\n        \"std\": 3,\n        \"min\": 1,\n        \"max\": 29,\n        \"num_unique_values\": 28,\n        \"samples\": [\n          20,\n          27,\n          12\n        ],\n        \"semantic_type\": \"\",\n        \"description\": \"\"\n      }\n    }\n  ]\n}"
            }
          },
          "metadata": {},
          "execution_count": 13
        }
      ]
    },
    {
      "cell_type": "markdown",
      "source": [
        "Categorical variable exploration"
      ],
      "metadata": {
        "id": "99nFZkrA8G8g"
      }
    },
    {
      "cell_type": "code",
      "source": [
        "train_df.describe(include=[object])"
      ],
      "metadata": {
        "colab": {
          "base_uri": "https://localhost:8080/",
          "height": 174
        },
        "id": "xY5w75psu7nz",
        "outputId": "c9959c1e-9bf5-4649-d5d9-efc48e5f31d1"
      },
      "execution_count": null,
      "outputs": [
        {
          "output_type": "execute_result",
          "data": {
            "text/plain": [
              "          Sex\n",
              "count   90615\n",
              "unique      3\n",
              "top         I\n",
              "freq    33093"
            ],
            "text/html": [
              "\n",
              "  <div id=\"df-8ec0e8c9-3d58-435a-b5f7-cf4c431d5d89\" class=\"colab-df-container\">\n",
              "    <div>\n",
              "<style scoped>\n",
              "    .dataframe tbody tr th:only-of-type {\n",
              "        vertical-align: middle;\n",
              "    }\n",
              "\n",
              "    .dataframe tbody tr th {\n",
              "        vertical-align: top;\n",
              "    }\n",
              "\n",
              "    .dataframe thead th {\n",
              "        text-align: right;\n",
              "    }\n",
              "</style>\n",
              "<table border=\"1\" class=\"dataframe\">\n",
              "  <thead>\n",
              "    <tr style=\"text-align: right;\">\n",
              "      <th></th>\n",
              "      <th>Sex</th>\n",
              "    </tr>\n",
              "  </thead>\n",
              "  <tbody>\n",
              "    <tr>\n",
              "      <th>count</th>\n",
              "      <td>90615</td>\n",
              "    </tr>\n",
              "    <tr>\n",
              "      <th>unique</th>\n",
              "      <td>3</td>\n",
              "    </tr>\n",
              "    <tr>\n",
              "      <th>top</th>\n",
              "      <td>I</td>\n",
              "    </tr>\n",
              "    <tr>\n",
              "      <th>freq</th>\n",
              "      <td>33093</td>\n",
              "    </tr>\n",
              "  </tbody>\n",
              "</table>\n",
              "</div>\n",
              "    <div class=\"colab-df-buttons\">\n",
              "\n",
              "  <div class=\"colab-df-container\">\n",
              "    <button class=\"colab-df-convert\" onclick=\"convertToInteractive('df-8ec0e8c9-3d58-435a-b5f7-cf4c431d5d89')\"\n",
              "            title=\"Convert this dataframe to an interactive table.\"\n",
              "            style=\"display:none;\">\n",
              "\n",
              "  <svg xmlns=\"http://www.w3.org/2000/svg\" height=\"24px\" viewBox=\"0 -960 960 960\">\n",
              "    <path d=\"M120-120v-720h720v720H120Zm60-500h600v-160H180v160Zm220 220h160v-160H400v160Zm0 220h160v-160H400v160ZM180-400h160v-160H180v160Zm440 0h160v-160H620v160ZM180-180h160v-160H180v160Zm440 0h160v-160H620v160Z\"/>\n",
              "  </svg>\n",
              "    </button>\n",
              "\n",
              "  <style>\n",
              "    .colab-df-container {\n",
              "      display:flex;\n",
              "      gap: 12px;\n",
              "    }\n",
              "\n",
              "    .colab-df-convert {\n",
              "      background-color: #E8F0FE;\n",
              "      border: none;\n",
              "      border-radius: 50%;\n",
              "      cursor: pointer;\n",
              "      display: none;\n",
              "      fill: #1967D2;\n",
              "      height: 32px;\n",
              "      padding: 0 0 0 0;\n",
              "      width: 32px;\n",
              "    }\n",
              "\n",
              "    .colab-df-convert:hover {\n",
              "      background-color: #E2EBFA;\n",
              "      box-shadow: 0px 1px 2px rgba(60, 64, 67, 0.3), 0px 1px 3px 1px rgba(60, 64, 67, 0.15);\n",
              "      fill: #174EA6;\n",
              "    }\n",
              "\n",
              "    .colab-df-buttons div {\n",
              "      margin-bottom: 4px;\n",
              "    }\n",
              "\n",
              "    [theme=dark] .colab-df-convert {\n",
              "      background-color: #3B4455;\n",
              "      fill: #D2E3FC;\n",
              "    }\n",
              "\n",
              "    [theme=dark] .colab-df-convert:hover {\n",
              "      background-color: #434B5C;\n",
              "      box-shadow: 0px 1px 3px 1px rgba(0, 0, 0, 0.15);\n",
              "      filter: drop-shadow(0px 1px 2px rgba(0, 0, 0, 0.3));\n",
              "      fill: #FFFFFF;\n",
              "    }\n",
              "  </style>\n",
              "\n",
              "    <script>\n",
              "      const buttonEl =\n",
              "        document.querySelector('#df-8ec0e8c9-3d58-435a-b5f7-cf4c431d5d89 button.colab-df-convert');\n",
              "      buttonEl.style.display =\n",
              "        google.colab.kernel.accessAllowed ? 'block' : 'none';\n",
              "\n",
              "      async function convertToInteractive(key) {\n",
              "        const element = document.querySelector('#df-8ec0e8c9-3d58-435a-b5f7-cf4c431d5d89');\n",
              "        const dataTable =\n",
              "          await google.colab.kernel.invokeFunction('convertToInteractive',\n",
              "                                                    [key], {});\n",
              "        if (!dataTable) return;\n",
              "\n",
              "        const docLinkHtml = 'Like what you see? Visit the ' +\n",
              "          '<a target=\"_blank\" href=https://colab.research.google.com/notebooks/data_table.ipynb>data table notebook</a>'\n",
              "          + ' to learn more about interactive tables.';\n",
              "        element.innerHTML = '';\n",
              "        dataTable['output_type'] = 'display_data';\n",
              "        await google.colab.output.renderOutput(dataTable, element);\n",
              "        const docLink = document.createElement('div');\n",
              "        docLink.innerHTML = docLinkHtml;\n",
              "        element.appendChild(docLink);\n",
              "      }\n",
              "    </script>\n",
              "  </div>\n",
              "\n",
              "\n",
              "<div id=\"df-ab4656f1-f66f-44d2-b831-7f92bee844e9\">\n",
              "  <button class=\"colab-df-quickchart\" onclick=\"quickchart('df-ab4656f1-f66f-44d2-b831-7f92bee844e9')\"\n",
              "            title=\"Suggest charts\"\n",
              "            style=\"display:none;\">\n",
              "\n",
              "<svg xmlns=\"http://www.w3.org/2000/svg\" height=\"24px\"viewBox=\"0 0 24 24\"\n",
              "     width=\"24px\">\n",
              "    <g>\n",
              "        <path d=\"M19 3H5c-1.1 0-2 .9-2 2v14c0 1.1.9 2 2 2h14c1.1 0 2-.9 2-2V5c0-1.1-.9-2-2-2zM9 17H7v-7h2v7zm4 0h-2V7h2v10zm4 0h-2v-4h2v4z\"/>\n",
              "    </g>\n",
              "</svg>\n",
              "  </button>\n",
              "\n",
              "<style>\n",
              "  .colab-df-quickchart {\n",
              "      --bg-color: #E8F0FE;\n",
              "      --fill-color: #1967D2;\n",
              "      --hover-bg-color: #E2EBFA;\n",
              "      --hover-fill-color: #174EA6;\n",
              "      --disabled-fill-color: #AAA;\n",
              "      --disabled-bg-color: #DDD;\n",
              "  }\n",
              "\n",
              "  [theme=dark] .colab-df-quickchart {\n",
              "      --bg-color: #3B4455;\n",
              "      --fill-color: #D2E3FC;\n",
              "      --hover-bg-color: #434B5C;\n",
              "      --hover-fill-color: #FFFFFF;\n",
              "      --disabled-bg-color: #3B4455;\n",
              "      --disabled-fill-color: #666;\n",
              "  }\n",
              "\n",
              "  .colab-df-quickchart {\n",
              "    background-color: var(--bg-color);\n",
              "    border: none;\n",
              "    border-radius: 50%;\n",
              "    cursor: pointer;\n",
              "    display: none;\n",
              "    fill: var(--fill-color);\n",
              "    height: 32px;\n",
              "    padding: 0;\n",
              "    width: 32px;\n",
              "  }\n",
              "\n",
              "  .colab-df-quickchart:hover {\n",
              "    background-color: var(--hover-bg-color);\n",
              "    box-shadow: 0 1px 2px rgba(60, 64, 67, 0.3), 0 1px 3px 1px rgba(60, 64, 67, 0.15);\n",
              "    fill: var(--button-hover-fill-color);\n",
              "  }\n",
              "\n",
              "  .colab-df-quickchart-complete:disabled,\n",
              "  .colab-df-quickchart-complete:disabled:hover {\n",
              "    background-color: var(--disabled-bg-color);\n",
              "    fill: var(--disabled-fill-color);\n",
              "    box-shadow: none;\n",
              "  }\n",
              "\n",
              "  .colab-df-spinner {\n",
              "    border: 2px solid var(--fill-color);\n",
              "    border-color: transparent;\n",
              "    border-bottom-color: var(--fill-color);\n",
              "    animation:\n",
              "      spin 1s steps(1) infinite;\n",
              "  }\n",
              "\n",
              "  @keyframes spin {\n",
              "    0% {\n",
              "      border-color: transparent;\n",
              "      border-bottom-color: var(--fill-color);\n",
              "      border-left-color: var(--fill-color);\n",
              "    }\n",
              "    20% {\n",
              "      border-color: transparent;\n",
              "      border-left-color: var(--fill-color);\n",
              "      border-top-color: var(--fill-color);\n",
              "    }\n",
              "    30% {\n",
              "      border-color: transparent;\n",
              "      border-left-color: var(--fill-color);\n",
              "      border-top-color: var(--fill-color);\n",
              "      border-right-color: var(--fill-color);\n",
              "    }\n",
              "    40% {\n",
              "      border-color: transparent;\n",
              "      border-right-color: var(--fill-color);\n",
              "      border-top-color: var(--fill-color);\n",
              "    }\n",
              "    60% {\n",
              "      border-color: transparent;\n",
              "      border-right-color: var(--fill-color);\n",
              "    }\n",
              "    80% {\n",
              "      border-color: transparent;\n",
              "      border-right-color: var(--fill-color);\n",
              "      border-bottom-color: var(--fill-color);\n",
              "    }\n",
              "    90% {\n",
              "      border-color: transparent;\n",
              "      border-bottom-color: var(--fill-color);\n",
              "    }\n",
              "  }\n",
              "</style>\n",
              "\n",
              "  <script>\n",
              "    async function quickchart(key) {\n",
              "      const quickchartButtonEl =\n",
              "        document.querySelector('#' + key + ' button');\n",
              "      quickchartButtonEl.disabled = true;  // To prevent multiple clicks.\n",
              "      quickchartButtonEl.classList.add('colab-df-spinner');\n",
              "      try {\n",
              "        const charts = await google.colab.kernel.invokeFunction(\n",
              "            'suggestCharts', [key], {});\n",
              "      } catch (error) {\n",
              "        console.error('Error during call to suggestCharts:', error);\n",
              "      }\n",
              "      quickchartButtonEl.classList.remove('colab-df-spinner');\n",
              "      quickchartButtonEl.classList.add('colab-df-quickchart-complete');\n",
              "    }\n",
              "    (() => {\n",
              "      let quickchartButtonEl =\n",
              "        document.querySelector('#df-ab4656f1-f66f-44d2-b831-7f92bee844e9 button');\n",
              "      quickchartButtonEl.style.display =\n",
              "        google.colab.kernel.accessAllowed ? 'block' : 'none';\n",
              "    })();\n",
              "  </script>\n",
              "</div>\n",
              "\n",
              "    </div>\n",
              "  </div>\n"
            ],
            "application/vnd.google.colaboratory.intrinsic+json": {
              "type": "dataframe",
              "summary": "{\n  \"name\": \"train_df\",\n  \"rows\": 4,\n  \"fields\": [\n    {\n      \"column\": \"Sex\",\n      \"properties\": {\n        \"dtype\": \"string\",\n        \"num_unique_values\": 4,\n        \"samples\": [\n          3,\n          \"33093\",\n          \"90615\"\n        ],\n        \"semantic_type\": \"\",\n        \"description\": \"\"\n      }\n    }\n  ]\n}"
            }
          },
          "metadata": {},
          "execution_count": 10
        }
      ]
    },
    {
      "cell_type": "code",
      "source": [
        "train_df['Sex'].unique()"
      ],
      "metadata": {
        "colab": {
          "base_uri": "https://localhost:8080/"
        },
        "id": "LN_KOmGAuUPA",
        "outputId": "f8f268f0-7d69-4825-ae74-5fade30c7b8e"
      },
      "execution_count": null,
      "outputs": [
        {
          "output_type": "execute_result",
          "data": {
            "text/plain": [
              "array(['F', 'I', 'M'], dtype=object)"
            ]
          },
          "metadata": {},
          "execution_count": 11
        }
      ]
    },
    {
      "cell_type": "code",
      "source": [
        "train_df['Sex'].hist(figsize=(6,2));"
      ],
      "metadata": {
        "colab": {
          "base_uri": "https://localhost:8080/",
          "height": 214
        },
        "id": "_vEgufml28-Z",
        "outputId": "bd609658-bbb4-49bb-d75d-481a952ac1a7"
      },
      "execution_count": null,
      "outputs": [
        {
          "output_type": "display_data",
          "data": {
            "text/plain": [
              "<Figure size 600x200 with 1 Axes>"
            ],
            "image/png": "[encoded data removed]"
          },
          "metadata": {}
        }
      ]
    },
    {
      "cell_type": "code",
      "source": [
        "sex_classes_count = train_df['Sex'].value_counts()\n",
        "sex_classes_count.plot(kind='pie',figsize=(10,4));"
      ],
      "metadata": {
        "colab": {
          "base_uri": "https://localhost:8080/",
          "height": 345
        },
        "id": "YuhWeYjz7bt_",
        "outputId": "61e8f728-a8a3-4ac6-bdb3-855a7a4b1df0"
      },
      "execution_count": null,
      "outputs": [
        {
          "output_type": "display_data",
          "data": {
            "text/plain": [
              "<Figure size 1000x400 with 1 Axes>"
            ],
            "image/png": "[encoded data removed]"
          },
          "metadata": {}
        }
      ]
    },
    {
      "cell_type": "markdown",
      "source": [
        "Sex has 3 values ??\n",
        "Turns out Abalone's sex can change with time or over their lifespans.\n",
        "\n",
        "The dataset categorises sex into 3 categories i.e. Male, Female and Infant.\n",
        "We also notice that infant has the most values."
      ],
      "metadata": {
        "id": "Jg-t0vS-wGhr"
      }
    },
    {
      "cell_type": "code",
      "source": [
        "train_df.describe()"
      ],
      "metadata": {
        "colab": {
          "base_uri": "https://localhost:8080/",
          "height": 300
        },
        "id": "geHRNc5oyV2_",
        "outputId": "cc09398c-49bd-4309-ae02-d10a8a39a965"
      },
      "execution_count": null,
      "outputs": [
        {
          "output_type": "execute_result",
          "data": {
            "text/plain": [
              "             Length      Diameter        Height  Whole weight  Whole weight.1  \\\n",
              "count  90615.000000  90615.000000  90615.000000  90615.000000    90615.000000   \n",
              "mean       0.517098      0.401679      0.135464      0.789035        0.340778   \n",
              "std        0.118217      0.098026      0.038008      0.457671        0.204428   \n",
              "min        0.075000      0.055000      0.000000      0.002000        0.001000   \n",
              "25%        0.445000      0.345000      0.110000      0.419000        0.177500   \n",
              "50%        0.545000      0.425000      0.140000      0.799500        0.330000   \n",
              "75%        0.600000      0.470000      0.160000      1.067500        0.463000   \n",
              "max        0.815000      0.650000      1.130000      2.825500        1.488000   \n",
              "\n",
              "       Whole weight.2  Shell weight         Rings  \n",
              "count    90615.000000  90615.000000  90615.000000  \n",
              "mean         0.169422      0.225898      9.696794  \n",
              "std          0.100909      0.130203      3.176221  \n",
              "min          0.000500      0.001500      1.000000  \n",
              "25%          0.086500      0.120000      8.000000  \n",
              "50%          0.166000      0.225000      9.000000  \n",
              "75%          0.232500      0.305000     11.000000  \n",
              "max          0.760000      1.005000     29.000000  "
            ],
            "text/html": [
              "\n",
              "  <div id=\"df-625daa38-2896-4764-8a1a-b4a8de046587\" class=\"colab-df-container\">\n",
              "    <div>\n",
              "<style scoped>\n",
              "    .dataframe tbody tr th:only-of-type {\n",
              "        vertical-align: middle;\n",
              "    }\n",
              "\n",
              "    .dataframe tbody tr th {\n",
              "        vertical-align: top;\n",
              "    }\n",
              "\n",
              "    .dataframe thead th {\n",
              "        text-align: right;\n",
              "    }\n",
              "</style>\n",
              "<table border=\"1\" class=\"dataframe\">\n",
              "  <thead>\n",
              "    <tr style=\"text-align: right;\">\n",
              "      <th></th>\n",
              "      <th>Length</th>\n",
              "      <th>Diameter</th>\n",
              "      <th>Height</th>\n",
              "      <th>Whole weight</th>\n",
              "      <th>Whole weight.1</th>\n",
              "      <th>Whole weight.2</th>\n",
              "      <th>Shell weight</th>\n",
              "      <th>Rings</th>\n",
              "    </tr>\n",
              "  </thead>\n",
              "  <tbody>\n",
              "    <tr>\n",
              "      <th>count</th>\n",
              "      <td>90615.000000</td>\n",
              "      <td>90615.000000</td>\n",
              "      <td>90615.000000</td>\n",
              "      <td>90615.000000</td>\n",
              "      <td>90615.000000</td>\n",
              "      <td>90615.000000</td>\n",
              "      <td>90615.000000</td>\n",
              "      <td>90615.000000</td>\n",
              "    </tr>\n",
              "    <tr>\n",
              "      <th>mean</th>\n",
              "      <td>0.517098</td>\n",
              "      <td>0.401679</td>\n",
              "      <td>0.135464</td>\n",
              "      <td>0.789035</td>\n",
              "      <td>0.340778</td>\n",
              "      <td>0.169422</td>\n",
              "      <td>0.225898</td>\n",
              "      <td>9.696794</td>\n",
              "    </tr>\n",
              "    <tr>\n",
              "      <th>std</th>\n",
              "      <td>0.118217</td>\n",
              "      <td>0.098026</td>\n",
              "      <td>0.038008</td>\n",
              "      <td>0.457671</td>\n",
              "      <td>0.204428</td>\n",
              "      <td>0.100909</td>\n",
              "      <td>0.130203</td>\n",
              "      <td>3.176221</td>\n",
              "    </tr>\n",
              "    <tr>\n",
              "      <th>min</th>\n",
              "      <td>0.075000</td>\n",
              "      <td>0.055000</td>\n",
              "      <td>0.000000</td>\n",
              "      <td>0.002000</td>\n",
              "      <td>0.001000</td>\n",
              "      <td>0.000500</td>\n",
              "      <td>0.001500</td>\n",
              "      <td>1.000000</td>\n",
              "    </tr>\n",
              "    <tr>\n",
              "      <th>25%</th>\n",
              "      <td>0.445000</td>\n",
              "      <td>0.345000</td>\n",
              "      <td>0.110000</td>\n",
              "      <td>0.419000</td>\n",
              "      <td>0.177500</td>\n",
              "      <td>0.086500</td>\n",
              "      <td>0.120000</td>\n",
              "      <td>8.000000</td>\n",
              "    </tr>\n",
              "    <tr>\n",
              "      <th>50%</th>\n",
              "      <td>0.545000</td>\n",
              "      <td>0.425000</td>\n",
              "      <td>0.140000</td>\n",
              "      <td>0.799500</td>\n",
              "      <td>0.330000</td>\n",
              "      <td>0.166000</td>\n",
              "      <td>0.225000</td>\n",
              "      <td>9.000000</td>\n",
              "    </tr>\n",
              "    <tr>\n",
              "      <th>75%</th>\n",
              "      <td>0.600000</td>\n",
              "      <td>0.470000</td>\n",
              "      <td>0.160000</td>\n",
              "      <td>1.067500</td>\n",
              "      <td>0.463000</td>\n",
              "      <td>0.232500</td>\n",
              "      <td>0.305000</td>\n",
              "      <td>11.000000</td>\n",
              "    </tr>\n",
              "    <tr>\n",
              "      <th>max</th>\n",
              "      <td>0.815000</td>\n",
              "      <td>0.650000</td>\n",
              "      <td>1.130000</td>\n",
              "      <td>2.825500</td>\n",
              "      <td>1.488000</td>\n",
              "      <td>0.760000</td>\n",
              "      <td>1.005000</td>\n",
              "      <td>29.000000</td>\n",
              "    </tr>\n",
              "  </tbody>\n",
              "</table>\n",
              "</div>\n",
              "    <div class=\"colab-df-buttons\">\n",
              "\n",
              "  <div class=\"colab-df-container\">\n",
              "    <button class=\"colab-df-convert\" onclick=\"convertToInteractive('df-625daa38-2896-4764-8a1a-b4a8de046587')\"\n",
              "            title=\"Convert this dataframe to an interactive table.\"\n",
              "            style=\"display:none;\">\n",
              "\n",
              "  <svg xmlns=\"http://www.w3.org/2000/svg\" height=\"24px\" viewBox=\"0 -960 960 960\">\n",
              "    <path d=\"M120-120v-720h720v720H120Zm60-500h600v-160H180v160Zm220 220h160v-160H400v160Zm0 220h160v-160H400v160ZM180-400h160v-160H180v160Zm440 0h160v-160H620v160ZM180-180h160v-160H180v160Zm440 0h160v-160H620v160Z\"/>\n",
              "  </svg>\n",
              "    </button>\n",
              "\n",
              "  <style>\n",
              "    .colab-df-container {\n",
              "      display:flex;\n",
              "      gap: 12px;\n",
              "    }\n",
              "\n",
              "    .colab-df-convert {\n",
              "      background-color: #E8F0FE;\n",
              "      border: none;\n",
              "      border-radius: 50%;\n",
              "      cursor: pointer;\n",
              "      display: none;\n",
              "      fill: #1967D2;\n",
              "      height: 32px;\n",
              "      padding: 0 0 0 0;\n",
              "      width: 32px;\n",
              "    }\n",
              "\n",
              "    .colab-df-convert:hover {\n",
              "      background-color: #E2EBFA;\n",
              "      box-shadow: 0px 1px 2px rgba(60, 64, 67, 0.3), 0px 1px 3px 1px rgba(60, 64, 67, 0.15);\n",
              "      fill: #174EA6;\n",
              "    }\n",
              "\n",
              "    .colab-df-buttons div {\n",
              "      margin-bottom: 4px;\n",
              "    }\n",
              "\n",
              "    [theme=dark] .colab-df-convert {\n",
              "      background-color: #3B4455;\n",
              "      fill: #D2E3FC;\n",
              "    }\n",
              "\n",
              "    [theme=dark] .colab-df-convert:hover {\n",
              "      background-color: #434B5C;\n",
              "      box-shadow: 0px 1px 3px 1px rgba(0, 0, 0, 0.15);\n",
              "      filter: drop-shadow(0px 1px 2px rgba(0, 0, 0, 0.3));\n",
              "      fill: #FFFFFF;\n",
              "    }\n",
              "  </style>\n",
              "\n",
              "    <script>\n",
              "      const buttonEl =\n",
              "        document.querySelector('#df-625daa38-2896-4764-8a1a-b4a8de046587 button.colab-df-convert');\n",
              "      buttonEl.style.display =\n",
              "        google.colab.kernel.accessAllowed ? 'block' : 'none';\n",
              "\n",
              "      async function convertToInteractive(key) {\n",
              "        const element = document.querySelector('#df-625daa38-2896-4764-8a1a-b4a8de046587');\n",
              "        const dataTable =\n",
              "          await google.colab.kernel.invokeFunction('convertToInteractive',\n",
              "                                                    [key], {});\n",
              "        if (!dataTable) return;\n",
              "\n",
              "        const docLinkHtml = 'Like what you see? Visit the ' +\n",
              "          '<a target=\"_blank\" href=https://colab.research.google.com/notebooks/data_table.ipynb>data table notebook</a>'\n",
              "          + ' to learn more about interactive tables.';\n",
              "        element.innerHTML = '';\n",
              "        dataTable['output_type'] = 'display_data';\n",
              "        await google.colab.output.renderOutput(dataTable, element);\n",
              "        const docLink = document.createElement('div');\n",
              "        docLink.innerHTML = docLinkHtml;\n",
              "        element.appendChild(docLink);\n",
              "      }\n",
              "    </script>\n",
              "  </div>\n",
              "\n",
              "\n",
              "<div id=\"df-72e946b5-ed1d-4bce-bcb5-00d48ba83b8c\">\n",
              "  <button class=\"colab-df-quickchart\" onclick=\"quickchart('df-72e946b5-ed1d-4bce-bcb5-00d48ba83b8c')\"\n",
              "            title=\"Suggest charts\"\n",
              "            style=\"display:none;\">\n",
              "\n",
              "<svg xmlns=\"http://www.w3.org/2000/svg\" height=\"24px\"viewBox=\"0 0 24 24\"\n",
              "     width=\"24px\">\n",
              "    <g>\n",
              "        <path d=\"M19 3H5c-1.1 0-2 .9-2 2v14c0 1.1.9 2 2 2h14c1.1 0 2-.9 2-2V5c0-1.1-.9-2-2-2zM9 17H7v-7h2v7zm4 0h-2V7h2v10zm4 0h-2v-4h2v4z\"/>\n",
              "    </g>\n",
              "</svg>\n",
              "  </button>\n",
              "\n",
              "<style>\n",
              "  .colab-df-quickchart {\n",
              "      --bg-color: #E8F0FE;\n",
              "      --fill-color: #1967D2;\n",
              "      --hover-bg-color: #E2EBFA;\n",
              "      --hover-fill-color: #174EA6;\n",
              "      --disabled-fill-color: #AAA;\n",
              "      --disabled-bg-color: #DDD;\n",
              "  }\n",
              "\n",
              "  [theme=dark] .colab-df-quickchart {\n",
              "      --bg-color: #3B4455;\n",
              "      --fill-color: #D2E3FC;\n",
              "      --hover-bg-color: #434B5C;\n",
              "      --hover-fill-color: #FFFFFF;\n",
              "      --disabled-bg-color: #3B4455;\n",
              "      --disabled-fill-color: #666;\n",
              "  }\n",
              "\n",
              "  .colab-df-quickchart {\n",
              "    background-color: var(--bg-color);\n",
              "    border: none;\n",
              "    border-radius: 50%;\n",
              "    cursor: pointer;\n",
              "    display: none;\n",
              "    fill: var(--fill-color);\n",
              "    height: 32px;\n",
              "    padding: 0;\n",
              "    width: 32px;\n",
              "  }\n",
              "\n",
              "  .colab-df-quickchart:hover {\n",
              "    background-color: var(--hover-bg-color);\n",
              "    box-shadow: 0 1px 2px rgba(60, 64, 67, 0.3), 0 1px 3px 1px rgba(60, 64, 67, 0.15);\n",
              "    fill: var(--button-hover-fill-color);\n",
              "  }\n",
              "\n",
              "  .colab-df-quickchart-complete:disabled,\n",
              "  .colab-df-quickchart-complete:disabled:hover {\n",
              "    background-color: var(--disabled-bg-color);\n",
              "    fill: var(--disabled-fill-color);\n",
              "    box-shadow: none;\n",
              "  }\n",
              "\n",
              "  .colab-df-spinner {\n",
              "    border: 2px solid var(--fill-color);\n",
              "    border-color: transparent;\n",
              "    border-bottom-color: var(--fill-color);\n",
              "    animation:\n",
              "      spin 1s steps(1) infinite;\n",
              "  }\n",
              "\n",
              "  @keyframes spin {\n",
              "    0% {\n",
              "      border-color: transparent;\n",
              "      border-bottom-color: var(--fill-color);\n",
              "      border-left-color: var(--fill-color);\n",
              "    }\n",
              "    20% {\n",
              "      border-color: transparent;\n",
              "      border-left-color: var(--fill-color);\n",
              "      border-top-color: var(--fill-color);\n",
              "    }\n",
              "    30% {\n",
              "      border-color: transparent;\n",
              "      border-left-color: var(--fill-color);\n",
              "      border-top-color: var(--fill-color);\n",
              "      border-right-color: var(--fill-color);\n",
              "    }\n",
              "    40% {\n",
              "      border-color: transparent;\n",
              "      border-right-color: var(--fill-color);\n",
              "      border-top-color: var(--fill-color);\n",
              "    }\n",
              "    60% {\n",
              "      border-color: transparent;\n",
              "      border-right-color: var(--fill-color);\n",
              "    }\n",
              "    80% {\n",
              "      border-color: transparent;\n",
              "      border-right-color: var(--fill-color);\n",
              "      border-bottom-color: var(--fill-color);\n",
              "    }\n",
              "    90% {\n",
              "      border-color: transparent;\n",
              "      border-bottom-color: var(--fill-color);\n",
              "    }\n",
              "  }\n",
              "</style>\n",
              "\n",
              "  <script>\n",
              "    async function quickchart(key) {\n",
              "      const quickchartButtonEl =\n",
              "        document.querySelector('#' + key + ' button');\n",
              "      quickchartButtonEl.disabled = true;  // To prevent multiple clicks.\n",
              "      quickchartButtonEl.classList.add('colab-df-spinner');\n",
              "      try {\n",
              "        const charts = await google.colab.kernel.invokeFunction(\n",
              "            'suggestCharts', [key], {});\n",
              "      } catch (error) {\n",
              "        console.error('Error during call to suggestCharts:', error);\n",
              "      }\n",
              "      quickchartButtonEl.classList.remove('colab-df-spinner');\n",
              "      quickchartButtonEl.classList.add('colab-df-quickchart-complete');\n",
              "    }\n",
              "    (() => {\n",
              "      let quickchartButtonEl =\n",
              "        document.querySelector('#df-72e946b5-ed1d-4bce-bcb5-00d48ba83b8c button');\n",
              "      quickchartButtonEl.style.display =\n",
              "        google.colab.kernel.accessAllowed ? 'block' : 'none';\n",
              "    })();\n",
              "  </script>\n",
              "</div>\n",
              "\n",
              "    </div>\n",
              "  </div>\n"
            ],
            "application/vnd.google.colaboratory.intrinsic+json": {
              "type": "dataframe",
              "summary": "{\n  \"name\": \"train_df\",\n  \"rows\": 8,\n  \"fields\": [\n    {\n      \"column\": \"Length\",\n      \"properties\": {\n        \"dtype\": \"number\",\n        \"std\": 32037.083142370167,\n        \"min\": 0.075,\n        \"max\": 90615.0,\n        \"num_unique_values\": 8,\n        \"samples\": [\n          0.5170984218948298,\n          0.545,\n          90615.0\n        ],\n        \"semantic_type\": \"\",\n        \"description\": \"\"\n      }\n    },\n    {\n      \"column\": \"Diameter\",\n      \"properties\": {\n        \"dtype\": \"number\",\n        \"std\": 32037.117012923405,\n        \"min\": 0.055,\n        \"max\": 90615.0,\n        \"num_unique_values\": 8,\n        \"samples\": [\n          0.4016791590796226,\n          0.425,\n          90615.0\n        ],\n        \"semantic_type\": \"\",\n        \"description\": \"\"\n      }\n    },\n    {\n      \"column\": \"Height\",\n      \"properties\": {\n        \"dtype\": \"number\",\n        \"std\": 32037.153947307368,\n        \"min\": 0.0,\n        \"max\": 90615.0,\n        \"num_unique_values\": 8,\n        \"samples\": [\n          0.1354640567235005,\n          0.14,\n          90615.0\n        ],\n        \"semantic_type\": \"\",\n        \"description\": \"\"\n      }\n    },\n    {\n      \"column\": \"Whole weight\",\n      \"properties\": {\n        \"dtype\": \"number\",\n        \"std\": 32036.919260841136,\n        \"min\": 0.002,\n        \"max\": 90615.0,\n        \"num_unique_values\": 8,\n        \"samples\": [\n          0.7890349514429179,\n          0.7995,\n          90615.0\n        ],\n        \"semantic_type\": \"\",\n        \"description\": \"\"\n      }\n    },\n    {\n      \"column\": \"Whole weight.1\",\n      \"properties\": {\n        \"dtype\": \"number\",\n        \"std\": 32037.088731213436,\n        \"min\": 0.001,\n        \"max\": 90615.0,\n        \"num_unique_values\": 8,\n        \"samples\": [\n          0.34077810682558074,\n          0.33,\n          90615.0\n        ],\n        \"semantic_type\": \"\",\n        \"description\": \"\"\n      }\n    },\n    {\n      \"column\": \"Whole weight.2\",\n      \"properties\": {\n        \"dtype\": \"number\",\n        \"std\": 32037.16392843719,\n        \"min\": 0.0005,\n        \"max\": 90615.0,\n        \"num_unique_values\": 8,\n        \"samples\": [\n          0.16942184439662308,\n          0.166,\n          90615.0\n        ],\n        \"semantic_type\": \"\",\n        \"description\": \"\"\n      }\n    },\n    {\n      \"column\": \"Shell weight\",\n      \"properties\": {\n        \"dtype\": \"number\",\n        \"std\": 32037.138838364895,\n        \"min\": 0.0015,\n        \"max\": 90615.0,\n        \"num_unique_values\": 8,\n        \"samples\": [\n          0.22589784472769409,\n          0.225,\n          90615.0\n        ],\n        \"semantic_type\": \"\",\n        \"description\": \"\"\n      }\n    },\n    {\n      \"column\": \"Rings\",\n      \"properties\": {\n        \"dtype\": \"number\",\n        \"std\": 32033.66196352329,\n        \"min\": 1.0,\n        \"max\": 90615.0,\n        \"num_unique_values\": 8,\n        \"samples\": [\n          9.696794129007339,\n          9.0,\n          90615.0\n        ],\n        \"semantic_type\": \"\",\n        \"description\": \"\"\n      }\n    }\n  ]\n}"
            }
          },
          "metadata": {},
          "execution_count": 31
        }
      ]
    },
    {
      "cell_type": "code",
      "source": [
        "dep_classes_count = train_df['Rings'].value_counts()\n",
        "dep_classes_count"
      ],
      "metadata": {
        "colab": {
          "base_uri": "https://localhost:8080/"
        },
        "id": "sFtXR-zLyo1t",
        "outputId": "f045d631-2a63-446c-b548-93b2b2c5f801"
      },
      "execution_count": null,
      "outputs": [
        {
          "output_type": "execute_result",
          "data": {
            "text/plain": [
              "Rings\n",
              "9     17465\n",
              "8     14499\n",
              "10    12464\n",
              "7      9008\n",
              "11     8407\n",
              "6      5411\n",
              "12     4719\n",
              "13     4074\n",
              "5      2862\n",
              "14     2507\n",
              "15     2072\n",
              "16     1439\n",
              "4      1402\n",
              "17     1175\n",
              "18      848\n",
              "19      639\n",
              "20      507\n",
              "3       386\n",
              "21      255\n",
              "23      180\n",
              "22      108\n",
              "27       41\n",
              "2        29\n",
              "24       29\n",
              "1        25\n",
              "29       24\n",
              "25       22\n",
              "26       18\n",
              "Name: count, dtype: int64"
            ]
          },
          "metadata": {},
          "execution_count": 32
        }
      ]
    },
    {
      "cell_type": "code",
      "source": [
        "train_df['Rings'].hist()"
      ],
      "metadata": {
        "colab": {
          "base_uri": "https://localhost:8080/",
          "height": 447
        },
        "id": "soMKHDyhyxg3",
        "outputId": "7af76228-7eff-4f36-db0d-6fd7e4da4bba"
      },
      "execution_count": null,
      "outputs": [
        {
          "output_type": "execute_result",
          "data": {
            "text/plain": [
              "<Axes: >"
            ]
          },
          "metadata": {},
          "execution_count": 34
        },
        {
          "output_type": "display_data",
          "data": {
            "text/plain": [
              "<Figure size 640x480 with 1 Axes>"
            ],
            "image/png": "[encoded data removed]"
          },
          "metadata": {}
        }
      ]
    },
    {
      "cell_type": "code",
      "source": [
        "dep_classes_count = train_df['Diameter'].value_counts()\n",
        "dep_classes_count"
      ],
      "metadata": {
        "colab": {
          "base_uri": "https://localhost:8080/"
        },
        "id": "AxA1UlUTytme",
        "outputId": "6285a7de-f653-408c-95f6-6598f66c2503"
      },
      "execution_count": null,
      "outputs": [
        {
          "output_type": "execute_result",
          "data": {
            "text/plain": [
              "Diameter\n",
              "0.4500    4182\n",
              "0.4750    3307\n",
              "0.4550    2715\n",
              "0.4000    2667\n",
              "0.4700    2441\n",
              "          ... \n",
              "0.0750       1\n",
              "0.0550       1\n",
              "0.3755       1\n",
              "0.6500       1\n",
              "0.1130       1\n",
              "Name: count, Length: 126, dtype: int64"
            ]
          },
          "metadata": {},
          "execution_count": 36
        }
      ]
    },
    {
      "cell_type": "code",
      "source": [
        "train_df['Diameter'].hist()"
      ],
      "metadata": {
        "colab": {
          "base_uri": "https://localhost:8080/",
          "height": 451
        },
        "id": "-n6pQu4my023",
        "outputId": "bb600c2a-92f6-4bc5-9b17-b8b7b59f9eb7"
      },
      "execution_count": null,
      "outputs": [
        {
          "output_type": "execute_result",
          "data": {
            "text/plain": [
              "<Axes: >"
            ]
          },
          "metadata": {},
          "execution_count": 37
        },
        {
          "output_type": "display_data",
          "data": {
            "text/plain": [
              "<Figure size 640x480 with 1 Axes>"
            ],
            "image/png": "[encoded data removed]"
          },
          "metadata": {}
        }
      ]
    },
    {
      "cell_type": "code",
      "source": [
        "dep_classes_count.plot(kind='pie')"
      ],
      "metadata": {
        "colab": {
          "base_uri": "https://localhost:8080/",
          "height": 423
        },
        "id": "c_JqFhhDyu4V",
        "outputId": "ab8fe9c2-c8a4-4520-b47d-95642da2078b"
      },
      "execution_count": null,
      "outputs": [
        {
          "output_type": "execute_result",
          "data": {
            "text/plain": [
              "<Axes: ylabel='count'>"
            ]
          },
          "metadata": {},
          "execution_count": 33
        },
        {
          "output_type": "display_data",
          "data": {
            "text/plain": [
              "<Figure size 640x480 with 1 Axes>"
            ],
            "image/png": "[encoded data removed]"
          },
          "metadata": {}
        }
      ]
    },
    {
      "cell_type": "code",
      "source": [
        "train_df.hist(figsize=(20,15));"
      ],
      "metadata": {
        "colab": {
          "base_uri": "https://localhost:8080/",
          "height": 1000
        },
        "id": "orcIFoXFu7r8",
        "outputId": "34d724c5-8c11-4c5e-abc0-c5fd0cfc59b5"
      },
      "execution_count": null,
      "outputs": [
        {
          "output_type": "display_data",
          "data": {
            "text/plain": [
              "<Figure size 2000x1500 with 9 Axes>"
            ],
            "image/png": "[encoded data removed]"
          },
          "metadata": {}
        }
      ]
    },
    {
      "cell_type": "markdown",
      "source": [
        "#### Feature Engineering"
      ],
      "metadata": {
        "id": "pEJXscIw8M7G"
      }
    },
    {
      "cell_type": "markdown",
      "source": [
        "Drop Sex"
      ],
      "metadata": {
        "id": "ahbhoJFr8Vm0"
      }
    },
    {
      "cell_type": "code",
      "source": [
        "train_df.drop('Sex', axis=1 , inplace=True)\n",
        "test_df.drop('Sex', axis=1 , inplace=True)"
      ],
      "metadata": {
        "id": "KUmhdV7d8UCo"
      },
      "execution_count": null,
      "outputs": []
    },
    {
      "cell_type": "markdown",
      "source": [
        "#### TabularPandas Object\n",
        "\n",
        "\n",
        "We create an instance of a TabularPandas Object,to which is a fastai dataframe wrapper that stores all the information about our dataset such as which columns are continous, categorical, and our dependent variables.\n",
        "\n",
        "This instance also stores and applies the set transformations to our data."
      ],
      "metadata": {
        "id": "NRQ8fC4jLu0l"
      }
    },
    {
      "cell_type": "code",
      "source": [
        "cont_names,cat_names = cont_cat_split(train_df, dep_var='Rings')"
      ],
      "metadata": {
        "id": "v4No0BKi8UQN"
      },
      "execution_count": 10,
      "outputs": []
    },
    {
      "cell_type": "code",
      "source": [
        "splits = RandomSplitter(valid_pct=0.2)(range_of(train_df))"
      ],
      "metadata": {
        "id": "pOzWdDxV9AX-"
      },
      "execution_count": 11,
      "outputs": []
    },
    {
      "cell_type": "code",
      "source": [
        "to = TabularPandas(train_df, procs=[Categorify, FillMissing,Normalize],\n",
        "                   cat_names = cat_names,\n",
        "                   cont_names = cont_names,\n",
        "                   y_names='Rings',\n",
        "                   y_block=RegressionBlock(),\n",
        "                   splits=splits)"
      ],
      "metadata": {
        "id": "oPOhUlFs9AUS"
      },
      "execution_count": 12,
      "outputs": []
    },
    {
      "cell_type": "code",
      "source": [
        "to.xs.iloc[:2]"
      ],
      "metadata": {
        "colab": {
          "base_uri": "https://localhost:8080/",
          "height": 143
        },
        "id": "vZ2nqGjx9AQh",
        "outputId": "c9b5cf7c-6dba-4ab2-d709-103a04de1c6d"
      },
      "execution_count": 13,
      "outputs": [
        {
          "output_type": "execute_result",
          "data": {
            "text/plain": [
              "       Sex    Length  Diameter    Height  Whole weight  Whole weight.1  \\\n",
              "id                                                                       \n",
              "75954    2  0.237187  0.137155 -0.142060     -0.176769       -0.042129   \n",
              "27811    2 -1.705681 -1.747319 -1.846896     -1.447572       -1.475644   \n",
              "\n",
              "       Whole weight.2  Shell weight  \n",
              "id                                   \n",
              "75954       -0.285162     -0.339795  \n",
              "27811       -1.433145     -1.388216  "
            ],
            "text/html": [
              "\n",
              "  <div id=\"df-778ca81a-be27-4f02-b871-44a77262e0b1\" class=\"colab-df-container\">\n",
              "    <div>\n",
              "<style scoped>\n",
              "    .dataframe tbody tr th:only-of-type {\n",
              "        vertical-align: middle;\n",
              "    }\n",
              "\n",
              "    .dataframe tbody tr th {\n",
              "        vertical-align: top;\n",
              "    }\n",
              "\n",
              "    .dataframe thead th {\n",
              "        text-align: right;\n",
              "    }\n",
              "</style>\n",
              "<table border=\"1\" class=\"dataframe\">\n",
              "  <thead>\n",
              "    <tr style=\"text-align: right;\">\n",
              "      <th></th>\n",
              "      <th>Sex</th>\n",
              "      <th>Length</th>\n",
              "      <th>Diameter</th>\n",
              "      <th>Height</th>\n",
              "      <th>Whole weight</th>\n",
              "      <th>Whole weight.1</th>\n",
              "      <th>Whole weight.2</th>\n",
              "      <th>Shell weight</th>\n",
              "    </tr>\n",
              "    <tr>\n",
              "      <th>id</th>\n",
              "      <th></th>\n",
              "      <th></th>\n",
              "      <th></th>\n",
              "      <th></th>\n",
              "      <th></th>\n",
              "      <th></th>\n",
              "      <th></th>\n",
              "      <th></th>\n",
              "    </tr>\n",
              "  </thead>\n",
              "  <tbody>\n",
              "    <tr>\n",
              "      <th>75954</th>\n",
              "      <td>2</td>\n",
              "      <td>0.237187</td>\n",
              "      <td>0.137155</td>\n",
              "      <td>-0.142060</td>\n",
              "      <td>-0.176769</td>\n",
              "      <td>-0.042129</td>\n",
              "      <td>-0.285162</td>\n",
              "      <td>-0.339795</td>\n",
              "    </tr>\n",
              "    <tr>\n",
              "      <th>27811</th>\n",
              "      <td>2</td>\n",
              "      <td>-1.705681</td>\n",
              "      <td>-1.747319</td>\n",
              "      <td>-1.846896</td>\n",
              "      <td>-1.447572</td>\n",
              "      <td>-1.475644</td>\n",
              "      <td>-1.433145</td>\n",
              "      <td>-1.388216</td>\n",
              "    </tr>\n",
              "  </tbody>\n",
              "</table>\n",
              "</div>\n",
              "    <div class=\"colab-df-buttons\">\n",
              "\n",
              "  <div class=\"colab-df-container\">\n",
              "    <button class=\"colab-df-convert\" onclick=\"convertToInteractive('df-778ca81a-be27-4f02-b871-44a77262e0b1')\"\n",
              "            title=\"Convert this dataframe to an interactive table.\"\n",
              "            style=\"display:none;\">\n",
              "\n",
              "  <svg xmlns=\"http://www.w3.org/2000/svg\" height=\"24px\" viewBox=\"0 -960 960 960\">\n",
              "    <path d=\"M120-120v-720h720v720H120Zm60-500h600v-160H180v160Zm220 220h160v-160H400v160Zm0 220h160v-160H400v160ZM180-400h160v-160H180v160Zm440 0h160v-160H620v160ZM180-180h160v-160H180v160Zm440 0h160v-160H620v160Z\"/>\n",
              "  </svg>\n",
              "    </button>\n",
              "\n",
              "  <style>\n",
              "    .colab-df-container {\n",
              "      display:flex;\n",
              "      gap: 12px;\n",
              "    }\n",
              "\n",
              "    .colab-df-convert {\n",
              "      background-color: #E8F0FE;\n",
              "      border: none;\n",
              "      border-radius: 50%;\n",
              "      cursor: pointer;\n",
              "      display: none;\n",
              "      fill: #1967D2;\n",
              "      height: 32px;\n",
              "      padding: 0 0 0 0;\n",
              "      width: 32px;\n",
              "    }\n",
              "\n",
              "    .colab-df-convert:hover {\n",
              "      background-color: #E2EBFA;\n",
              "      box-shadow: 0px 1px 2px rgba(60, 64, 67, 0.3), 0px 1px 3px 1px rgba(60, 64, 67, 0.15);\n",
              "      fill: #174EA6;\n",
              "    }\n",
              "\n",
              "    .colab-df-buttons div {\n",
              "      margin-bottom: 4px;\n",
              "    }\n",
              "\n",
              "    [theme=dark] .colab-df-convert {\n",
              "      background-color: #3B4455;\n",
              "      fill: #D2E3FC;\n",
              "    }\n",
              "\n",
              "    [theme=dark] .colab-df-convert:hover {\n",
              "      background-color: #434B5C;\n",
              "      box-shadow: 0px 1px 3px 1px rgba(0, 0, 0, 0.15);\n",
              "      filter: drop-shadow(0px 1px 2px rgba(0, 0, 0, 0.3));\n",
              "      fill: #FFFFFF;\n",
              "    }\n",
              "  </style>\n",
              "\n",
              "    <script>\n",
              "      const buttonEl =\n",
              "        document.querySelector('#df-778ca81a-be27-4f02-b871-44a77262e0b1 button.colab-df-convert');\n",
              "      buttonEl.style.display =\n",
              "        google.colab.kernel.accessAllowed ? 'block' : 'none';\n",
              "\n",
              "      async function convertToInteractive(key) {\n",
              "        const element = document.querySelector('#df-778ca81a-be27-4f02-b871-44a77262e0b1');\n",
              "        const dataTable =\n",
              "          await google.colab.kernel.invokeFunction('convertToInteractive',\n",
              "                                                    [key], {});\n",
              "        if (!dataTable) return;\n",
              "\n",
              "        const docLinkHtml = 'Like what you see? Visit the ' +\n",
              "          '<a target=\"_blank\" href=https://colab.research.google.com/notebooks/data_table.ipynb>data table notebook</a>'\n",
              "          + ' to learn more about interactive tables.';\n",
              "        element.innerHTML = '';\n",
              "        dataTable['output_type'] = 'display_data';\n",
              "        await google.colab.output.renderOutput(dataTable, element);\n",
              "        const docLink = document.createElement('div');\n",
              "        docLink.innerHTML = docLinkHtml;\n",
              "        element.appendChild(docLink);\n",
              "      }\n",
              "    </script>\n",
              "  </div>\n",
              "\n",
              "\n",
              "<div id=\"df-558df4cd-d1d4-49c5-92c0-2ed5f3c38a8c\">\n",
              "  <button class=\"colab-df-quickchart\" onclick=\"quickchart('df-558df4cd-d1d4-49c5-92c0-2ed5f3c38a8c')\"\n",
              "            title=\"Suggest charts\"\n",
              "            style=\"display:none;\">\n",
              "\n",
              "<svg xmlns=\"http://www.w3.org/2000/svg\" height=\"24px\"viewBox=\"0 0 24 24\"\n",
              "     width=\"24px\">\n",
              "    <g>\n",
              "        <path d=\"M19 3H5c-1.1 0-2 .9-2 2v14c0 1.1.9 2 2 2h14c1.1 0 2-.9 2-2V5c0-1.1-.9-2-2-2zM9 17H7v-7h2v7zm4 0h-2V7h2v10zm4 0h-2v-4h2v4z\"/>\n",
              "    </g>\n",
              "</svg>\n",
              "  </button>\n",
              "\n",
              "<style>\n",
              "  .colab-df-quickchart {\n",
              "      --bg-color: #E8F0FE;\n",
              "      --fill-color: #1967D2;\n",
              "      --hover-bg-color: #E2EBFA;\n",
              "      --hover-fill-color: #174EA6;\n",
              "      --disabled-fill-color: #AAA;\n",
              "      --disabled-bg-color: #DDD;\n",
              "  }\n",
              "\n",
              "  [theme=dark] .colab-df-quickchart {\n",
              "      --bg-color: #3B4455;\n",
              "      --fill-color: #D2E3FC;\n",
              "      --hover-bg-color: #434B5C;\n",
              "      --hover-fill-color: #FFFFFF;\n",
              "      --disabled-bg-color: #3B4455;\n",
              "      --disabled-fill-color: #666;\n",
              "  }\n",
              "\n",
              "  .colab-df-quickchart {\n",
              "    background-color: var(--bg-color);\n",
              "    border: none;\n",
              "    border-radius: 50%;\n",
              "    cursor: pointer;\n",
              "    display: none;\n",
              "    fill: var(--fill-color);\n",
              "    height: 32px;\n",
              "    padding: 0;\n",
              "    width: 32px;\n",
              "  }\n",
              "\n",
              "  .colab-df-quickchart:hover {\n",
              "    background-color: var(--hover-bg-color);\n",
              "    box-shadow: 0 1px 2px rgba(60, 64, 67, 0.3), 0 1px 3px 1px rgba(60, 64, 67, 0.15);\n",
              "    fill: var(--button-hover-fill-color);\n",
              "  }\n",
              "\n",
              "  .colab-df-quickchart-complete:disabled,\n",
              "  .colab-df-quickchart-complete:disabled:hover {\n",
              "    background-color: var(--disabled-bg-color);\n",
              "    fill: var(--disabled-fill-color);\n",
              "    box-shadow: none;\n",
              "  }\n",
              "\n",
              "  .colab-df-spinner {\n",
              "    border: 2px solid var(--fill-color);\n",
              "    border-color: transparent;\n",
              "    border-bottom-color: var(--fill-color);\n",
              "    animation:\n",
              "      spin 1s steps(1) infinite;\n",
              "  }\n",
              "\n",
              "  @keyframes spin {\n",
              "    0% {\n",
              "      border-color: transparent;\n",
              "      border-bottom-color: var(--fill-color);\n",
              "      border-left-color: var(--fill-color);\n",
              "    }\n",
              "    20% {\n",
              "      border-color: transparent;\n",
              "      border-left-color: var(--fill-color);\n",
              "      border-top-color: var(--fill-color);\n",
              "    }\n",
              "    30% {\n",
              "      border-color: transparent;\n",
              "      border-left-color: var(--fill-color);\n",
              "      border-top-color: var(--fill-color);\n",
              "      border-right-color: var(--fill-color);\n",
              "    }\n",
              "    40% {\n",
              "      border-color: transparent;\n",
              "      border-right-color: var(--fill-color);\n",
              "      border-top-color: var(--fill-color);\n",
              "    }\n",
              "    60% {\n",
              "      border-color: transparent;\n",
              "      border-right-color: var(--fill-color);\n",
              "    }\n",
              "    80% {\n",
              "      border-color: transparent;\n",
              "      border-right-color: var(--fill-color);\n",
              "      border-bottom-color: var(--fill-color);\n",
              "    }\n",
              "    90% {\n",
              "      border-color: transparent;\n",
              "      border-bottom-color: var(--fill-color);\n",
              "    }\n",
              "  }\n",
              "</style>\n",
              "\n",
              "  <script>\n",
              "    async function quickchart(key) {\n",
              "      const quickchartButtonEl =\n",
              "        document.querySelector('#' + key + ' button');\n",
              "      quickchartButtonEl.disabled = true;  // To prevent multiple clicks.\n",
              "      quickchartButtonEl.classList.add('colab-df-spinner');\n",
              "      try {\n",
              "        const charts = await google.colab.kernel.invokeFunction(\n",
              "            'suggestCharts', [key], {});\n",
              "      } catch (error) {\n",
              "        console.error('Error during call to suggestCharts:', error);\n",
              "      }\n",
              "      quickchartButtonEl.classList.remove('colab-df-spinner');\n",
              "      quickchartButtonEl.classList.add('colab-df-quickchart-complete');\n",
              "    }\n",
              "    (() => {\n",
              "      let quickchartButtonEl =\n",
              "        document.querySelector('#df-558df4cd-d1d4-49c5-92c0-2ed5f3c38a8c button');\n",
              "      quickchartButtonEl.style.display =\n",
              "        google.colab.kernel.accessAllowed ? 'block' : 'none';\n",
              "    })();\n",
              "  </script>\n",
              "</div>\n",
              "\n",
              "    </div>\n",
              "  </div>\n"
            ],
            "application/vnd.google.colaboratory.intrinsic+json": {
              "type": "dataframe",
              "summary": "{\n  \"name\": \"to\",\n  \"rows\": 2,\n  \"fields\": [\n    {\n      \"column\": \"id\",\n      \"properties\": {\n        \"dtype\": \"number\",\n        \"std\": 34042,\n        \"min\": 27811,\n        \"max\": 75954,\n        \"num_unique_values\": 2,\n        \"samples\": [\n          27811,\n          75954\n        ],\n        \"semantic_type\": \"\",\n        \"description\": \"\"\n      }\n    },\n    {\n      \"column\": \"Sex\",\n      \"properties\": {\n        \"dtype\": \"int8\",\n        \"num_unique_values\": 1,\n        \"samples\": [\n          2\n        ],\n        \"semantic_type\": \"\",\n        \"description\": \"\"\n      }\n    },\n    {\n      \"column\": \"Length\",\n      \"properties\": {\n        \"dtype\": \"float32\",\n        \"num_unique_values\": 2,\n        \"samples\": [\n          -1.7056807279586792\n        ],\n        \"semantic_type\": \"\",\n        \"description\": \"\"\n      }\n    },\n    {\n      \"column\": \"Diameter\",\n      \"properties\": {\n        \"dtype\": \"float32\",\n        \"num_unique_values\": 2,\n        \"samples\": [\n          -1.747318983078003\n        ],\n        \"semantic_type\": \"\",\n        \"description\": \"\"\n      }\n    },\n    {\n      \"column\": \"Height\",\n      \"properties\": {\n        \"dtype\": \"float32\",\n        \"num_unique_values\": 2,\n        \"samples\": [\n          -1.8468959331512451\n        ],\n        \"semantic_type\": \"\",\n        \"description\": \"\"\n      }\n    },\n    {\n      \"column\": \"Whole weight\",\n      \"properties\": {\n        \"dtype\": \"float32\",\n        \"num_unique_values\": 2,\n        \"samples\": [\n          -1.447571873664856\n        ],\n        \"semantic_type\": \"\",\n        \"description\": \"\"\n      }\n    },\n    {\n      \"column\": \"Whole weight.1\",\n      \"properties\": {\n        \"dtype\": \"float32\",\n        \"num_unique_values\": 2,\n        \"samples\": [\n          -1.4756436347961426\n        ],\n        \"semantic_type\": \"\",\n        \"description\": \"\"\n      }\n    },\n    {\n      \"column\": \"Whole weight.2\",\n      \"properties\": {\n        \"dtype\": \"float32\",\n        \"num_unique_values\": 2,\n        \"samples\": [\n          -1.4331450462341309\n        ],\n        \"semantic_type\": \"\",\n        \"description\": \"\"\n      }\n    },\n    {\n      \"column\": \"Shell weight\",\n      \"properties\": {\n        \"dtype\": \"float32\",\n        \"num_unique_values\": 2,\n        \"samples\": [\n          -1.388216257095337\n        ],\n        \"semantic_type\": \"\",\n        \"description\": \"\"\n      }\n    }\n  ]\n}"
            }
          },
          "metadata": {},
          "execution_count": 13
        }
      ]
    },
    {
      "cell_type": "code",
      "source": [
        "dls = to.dataloaders(bs=64)"
      ],
      "metadata": {
        "id": "DoRZdv3c9AM8"
      },
      "execution_count": 14,
      "outputs": []
    },
    {
      "cell_type": "code",
      "source": [
        "dls.show_batch()"
      ],
      "metadata": {
        "colab": {
          "base_uri": "https://localhost:8080/",
          "height": 363
        },
        "id": "BCkyMVMg9AKM",
        "outputId": "f7185f4e-8dc3-4f6e-efe4-c1f322174794"
      },
      "execution_count": 15,
      "outputs": [
        {
          "output_type": "display_data",
          "data": {
            "text/plain": [
              "<IPython.core.display.HTML object>"
            ],
            "text/html": [
              "<table border=\"1\" class=\"dataframe\">\n",
              "  <thead>\n",
              "    <tr style=\"text-align: right;\">\n",
              "      <th></th>\n",
              "      <th>Sex</th>\n",
              "      <th>Length</th>\n",
              "      <th>Diameter</th>\n",
              "      <th>Height</th>\n",
              "      <th>Whole weight</th>\n",
              "      <th>Whole weight.1</th>\n",
              "      <th>Whole weight.2</th>\n",
              "      <th>Shell weight</th>\n",
              "      <th>Rings</th>\n",
              "    </tr>\n",
              "  </thead>\n",
              "  <tbody>\n",
              "    <tr>\n",
              "      <th>0</th>\n",
              "      <td>M</td>\n",
              "      <td>0.505</td>\n",
              "      <td>0.390</td>\n",
              "      <td>0.150</td>\n",
              "      <td>0.6295</td>\n",
              "      <td>0.2750</td>\n",
              "      <td>0.1390</td>\n",
              "      <td>0.2350</td>\n",
              "      <td>10.0</td>\n",
              "    </tr>\n",
              "    <tr>\n",
              "      <th>1</th>\n",
              "      <td>F</td>\n",
              "      <td>0.525</td>\n",
              "      <td>0.400</td>\n",
              "      <td>0.135</td>\n",
              "      <td>0.6965</td>\n",
              "      <td>0.3200</td>\n",
              "      <td>0.1385</td>\n",
              "      <td>0.1610</td>\n",
              "      <td>9.0</td>\n",
              "    </tr>\n",
              "    <tr>\n",
              "      <th>2</th>\n",
              "      <td>F</td>\n",
              "      <td>0.620</td>\n",
              "      <td>0.515</td>\n",
              "      <td>0.150</td>\n",
              "      <td>1.2060</td>\n",
              "      <td>0.5035</td>\n",
              "      <td>0.2425</td>\n",
              "      <td>0.3650</td>\n",
              "      <td>9.0</td>\n",
              "    </tr>\n",
              "    <tr>\n",
              "      <th>3</th>\n",
              "      <td>I</td>\n",
              "      <td>0.490</td>\n",
              "      <td>0.375</td>\n",
              "      <td>0.130</td>\n",
              "      <td>0.6295</td>\n",
              "      <td>0.2405</td>\n",
              "      <td>0.1545</td>\n",
              "      <td>0.1700</td>\n",
              "      <td>8.0</td>\n",
              "    </tr>\n",
              "    <tr>\n",
              "      <th>4</th>\n",
              "      <td>I</td>\n",
              "      <td>0.295</td>\n",
              "      <td>0.210</td>\n",
              "      <td>0.070</td>\n",
              "      <td>0.0955</td>\n",
              "      <td>0.0420</td>\n",
              "      <td>0.0235</td>\n",
              "      <td>0.0365</td>\n",
              "      <td>5.0</td>\n",
              "    </tr>\n",
              "    <tr>\n",
              "      <th>5</th>\n",
              "      <td>M</td>\n",
              "      <td>0.595</td>\n",
              "      <td>0.465</td>\n",
              "      <td>0.150</td>\n",
              "      <td>1.0045</td>\n",
              "      <td>0.4365</td>\n",
              "      <td>0.2095</td>\n",
              "      <td>0.2900</td>\n",
              "      <td>10.0</td>\n",
              "    </tr>\n",
              "    <tr>\n",
              "      <th>6</th>\n",
              "      <td>F</td>\n",
              "      <td>0.595</td>\n",
              "      <td>0.465</td>\n",
              "      <td>0.160</td>\n",
              "      <td>1.0835</td>\n",
              "      <td>0.4255</td>\n",
              "      <td>0.2325</td>\n",
              "      <td>0.3350</td>\n",
              "      <td>11.0</td>\n",
              "    </tr>\n",
              "    <tr>\n",
              "      <th>7</th>\n",
              "      <td>I</td>\n",
              "      <td>0.435</td>\n",
              "      <td>0.315</td>\n",
              "      <td>0.110</td>\n",
              "      <td>0.3425</td>\n",
              "      <td>0.1565</td>\n",
              "      <td>0.0725</td>\n",
              "      <td>0.0900</td>\n",
              "      <td>6.0</td>\n",
              "    </tr>\n",
              "    <tr>\n",
              "      <th>8</th>\n",
              "      <td>I</td>\n",
              "      <td>0.370</td>\n",
              "      <td>0.275</td>\n",
              "      <td>0.100</td>\n",
              "      <td>0.2400</td>\n",
              "      <td>0.1040</td>\n",
              "      <td>0.0425</td>\n",
              "      <td>0.0700</td>\n",
              "      <td>7.0</td>\n",
              "    </tr>\n",
              "    <tr>\n",
              "      <th>9</th>\n",
              "      <td>I</td>\n",
              "      <td>0.420</td>\n",
              "      <td>0.310</td>\n",
              "      <td>0.100</td>\n",
              "      <td>0.2895</td>\n",
              "      <td>0.1215</td>\n",
              "      <td>0.0630</td>\n",
              "      <td>0.1000</td>\n",
              "      <td>8.0</td>\n",
              "    </tr>\n",
              "  </tbody>\n",
              "</table>"
            ]
          },
          "metadata": {}
        }
      ]
    },
    {
      "cell_type": "code",
      "source": [
        "learn = tabular_learner(dls, metrics=rmse)"
      ],
      "metadata": {
        "id": "KCDGzTbl9AHn"
      },
      "execution_count": 16,
      "outputs": []
    },
    {
      "cell_type": "code",
      "source": [
        "learn.lr_find(suggest_funcs=(slide,valley))"
      ],
      "metadata": {
        "colab": {
          "base_uri": "https://localhost:8080/",
          "height": 471
        },
        "id": "lub3T_VfCR0J",
        "outputId": "4d6f619d-61ac-4676-f807-058d215260d4"
      },
      "execution_count": 17,
      "outputs": [
        {
          "output_type": "display_data",
          "data": {
            "text/plain": [
              "<IPython.core.display.HTML object>"
            ],
            "text/html": [
              "\n",
              "<style>\n",
              "    /* Turns off some styling */\n",
              "    progress {\n",
              "        /* gets rid of default border in Firefox and Opera. */\n",
              "        border: none;\n",
              "        /* Needs to be in here for Safari polyfill so background images work as expected. */\n",
              "        background-size: auto;\n",
              "    }\n",
              "    progress:not([value]), progress:not([value])::-webkit-progress-bar {\n",
              "        background: repeating-linear-gradient(45deg, #7e7e7e, #7e7e7e 10px, #5c5c5c 10px, #5c5c5c 20px);\n",
              "    }\n",
              "    .progress-bar-interrupted, .progress-bar-interrupted::-webkit-progress-bar {\n",
              "        background: #F44336;\n",
              "    }\n",
              "</style>\n"
            ]
          },
          "metadata": {}
        },
        {
          "output_type": "display_data",
          "data": {
            "text/plain": [
              "<IPython.core.display.HTML object>"
            ],
            "text/html": []
          },
          "metadata": {}
        },
        {
          "output_type": "execute_result",
          "data": {
            "text/plain": [
              "SuggestedLRs(slide=4.365158383734524e-05, valley=0.013182567432522774)"
            ]
          },
          "metadata": {},
          "execution_count": 17
        },
        {
          "output_type": "display_data",
          "data": {
            "text/plain": [
              "<Figure size 640x480 with 1 Axes>"
            ],
            "image/png": "[encoded data removed]"
          },
          "metadata": {}
        }
      ]
    },
    {
      "cell_type": "code",
      "source": [
        "learn.fit_one_cycle(12,0.02)"
      ],
      "metadata": {
        "colab": {
          "base_uri": "https://localhost:8080/",
          "height": 425
        },
        "id": "tlOis5H7SRf9",
        "outputId": "ed35a6f9-4ac6-4aef-a5d4-81837e3dc990"
      },
      "execution_count": 18,
      "outputs": [
        {
          "output_type": "display_data",
          "data": {
            "text/plain": [
              "<IPython.core.display.HTML object>"
            ],
            "text/html": [
              "\n",
              "<style>\n",
              "    /* Turns off some styling */\n",
              "    progress {\n",
              "        /* gets rid of default border in Firefox and Opera. */\n",
              "        border: none;\n",
              "        /* Needs to be in here for Safari polyfill so background images work as expected. */\n",
              "        background-size: auto;\n",
              "    }\n",
              "    progress:not([value]), progress:not([value])::-webkit-progress-bar {\n",
              "        background: repeating-linear-gradient(45deg, #7e7e7e, #7e7e7e 10px, #5c5c5c 10px, #5c5c5c 20px);\n",
              "    }\n",
              "    .progress-bar-interrupted, .progress-bar-interrupted::-webkit-progress-bar {\n",
              "        background: #F44336;\n",
              "    }\n",
              "</style>\n"
            ]
          },
          "metadata": {}
        },
        {
          "output_type": "display_data",
          "data": {
            "text/plain": [
              "<IPython.core.display.HTML object>"
            ],
            "text/html": [
              "<table border=\"1\" class=\"dataframe\">\n",
              "  <thead>\n",
              "    <tr style=\"text-align: left;\">\n",
              "      <th>epoch</th>\n",
              "      <th>train_loss</th>\n",
              "      <th>valid_loss</th>\n",
              "      <th>_rmse</th>\n",
              "      <th>time</th>\n",
              "    </tr>\n",
              "  </thead>\n",
              "  <tbody>\n",
              "    <tr>\n",
              "      <td>0</td>\n",
              "      <td>3.780800</td>\n",
              "      <td>3.747782</td>\n",
              "      <td>1.935918</td>\n",
              "      <td>00:12</td>\n",
              "    </tr>\n",
              "    <tr>\n",
              "      <td>1</td>\n",
              "      <td>4.188694</td>\n",
              "      <td>4.060536</td>\n",
              "      <td>2.015077</td>\n",
              "      <td>00:11</td>\n",
              "    </tr>\n",
              "    <tr>\n",
              "      <td>2</td>\n",
              "      <td>4.321964</td>\n",
              "      <td>3.726985</td>\n",
              "      <td>1.930540</td>\n",
              "      <td>00:11</td>\n",
              "    </tr>\n",
              "    <tr>\n",
              "      <td>3</td>\n",
              "      <td>3.901214</td>\n",
              "      <td>3.667973</td>\n",
              "      <td>1.915195</td>\n",
              "      <td>00:11</td>\n",
              "    </tr>\n",
              "    <tr>\n",
              "      <td>4</td>\n",
              "      <td>3.859148</td>\n",
              "      <td>3.624971</td>\n",
              "      <td>1.903935</td>\n",
              "      <td>00:11</td>\n",
              "    </tr>\n",
              "    <tr>\n",
              "      <td>5</td>\n",
              "      <td>3.976183</td>\n",
              "      <td>3.674559</td>\n",
              "      <td>1.916914</td>\n",
              "      <td>00:11</td>\n",
              "    </tr>\n",
              "    <tr>\n",
              "      <td>6</td>\n",
              "      <td>3.554746</td>\n",
              "      <td>3.596157</td>\n",
              "      <td>1.896353</td>\n",
              "      <td>00:11</td>\n",
              "    </tr>\n",
              "    <tr>\n",
              "      <td>7</td>\n",
              "      <td>3.472416</td>\n",
              "      <td>3.726081</td>\n",
              "      <td>1.930306</td>\n",
              "      <td>00:12</td>\n",
              "    </tr>\n",
              "    <tr>\n",
              "      <td>8</td>\n",
              "      <td>3.624951</td>\n",
              "      <td>3.522658</td>\n",
              "      <td>1.876875</td>\n",
              "      <td>00:11</td>\n",
              "    </tr>\n",
              "    <tr>\n",
              "      <td>9</td>\n",
              "      <td>3.678960</td>\n",
              "      <td>3.818571</td>\n",
              "      <td>1.954116</td>\n",
              "      <td>00:11</td>\n",
              "    </tr>\n",
              "    <tr>\n",
              "      <td>10</td>\n",
              "      <td>3.401570</td>\n",
              "      <td>4.368718</td>\n",
              "      <td>2.090148</td>\n",
              "      <td>00:12</td>\n",
              "    </tr>\n",
              "    <tr>\n",
              "      <td>11</td>\n",
              "      <td>3.560947</td>\n",
              "      <td>7.100403</td>\n",
              "      <td>2.664658</td>\n",
              "      <td>00:12</td>\n",
              "    </tr>\n",
              "  </tbody>\n",
              "</table>"
            ]
          },
          "metadata": {}
        }
      ]
    },
    {
      "cell_type": "code",
      "source": [
        "#learn.fit_one_cycle(10,0.02)"
      ],
      "metadata": {
        "colab": {
          "base_uri": "https://localhost:8080/",
          "height": 363
        },
        "id": "tdsDDZ1mc2wj",
        "outputId": "ece292d5-2de1-4324-e9ac-a8e7e640f238"
      },
      "execution_count": null,
      "outputs": [
        {
          "output_type": "display_data",
          "data": {
            "text/plain": [
              "<IPython.core.display.HTML object>"
            ],
            "text/html": [
              "\n",
              "<style>\n",
              "    /* Turns off some styling */\n",
              "    progress {\n",
              "        /* gets rid of default border in Firefox and Opera. */\n",
              "        border: none;\n",
              "        /* Needs to be in here for Safari polyfill so background images work as expected. */\n",
              "        background-size: auto;\n",
              "    }\n",
              "    progress:not([value]), progress:not([value])::-webkit-progress-bar {\n",
              "        background: repeating-linear-gradient(45deg, #7e7e7e, #7e7e7e 10px, #5c5c5c 10px, #5c5c5c 20px);\n",
              "    }\n",
              "    .progress-bar-interrupted, .progress-bar-interrupted::-webkit-progress-bar {\n",
              "        background: #F44336;\n",
              "    }\n",
              "</style>\n"
            ]
          },
          "metadata": {}
        },
        {
          "output_type": "display_data",
          "data": {
            "text/plain": [
              "<IPython.core.display.HTML object>"
            ],
            "text/html": [
              "<table border=\"1\" class=\"dataframe\">\n",
              "  <thead>\n",
              "    <tr style=\"text-align: left;\">\n",
              "      <th>epoch</th>\n",
              "      <th>train_loss</th>\n",
              "      <th>valid_loss</th>\n",
              "      <th>_rmse</th>\n",
              "      <th>time</th>\n",
              "    </tr>\n",
              "  </thead>\n",
              "  <tbody>\n",
              "    <tr>\n",
              "      <td>0</td>\n",
              "      <td>3.789805</td>\n",
              "      <td>3.585565</td>\n",
              "      <td>1.893559</td>\n",
              "      <td>00:10</td>\n",
              "    </tr>\n",
              "    <tr>\n",
              "      <td>1</td>\n",
              "      <td>3.931232</td>\n",
              "      <td>6.106197</td>\n",
              "      <td>2.471072</td>\n",
              "      <td>00:10</td>\n",
              "    </tr>\n",
              "    <tr>\n",
              "      <td>2</td>\n",
              "      <td>3.642898</td>\n",
              "      <td>39.116852</td>\n",
              "      <td>6.254347</td>\n",
              "      <td>00:10</td>\n",
              "    </tr>\n",
              "    <tr>\n",
              "      <td>3</td>\n",
              "      <td>3.885335</td>\n",
              "      <td>225.181717</td>\n",
              "      <td>15.006057</td>\n",
              "      <td>00:10</td>\n",
              "    </tr>\n",
              "    <tr>\n",
              "      <td>4</td>\n",
              "      <td>3.777934</td>\n",
              "      <td>182.996902</td>\n",
              "      <td>13.527634</td>\n",
              "      <td>00:10</td>\n",
              "    </tr>\n",
              "    <tr>\n",
              "      <td>5</td>\n",
              "      <td>3.849432</td>\n",
              "      <td>3291.948242</td>\n",
              "      <td>57.375504</td>\n",
              "      <td>00:10</td>\n",
              "    </tr>\n",
              "    <tr>\n",
              "      <td>6</td>\n",
              "      <td>3.754975</td>\n",
              "      <td>4.908739</td>\n",
              "      <td>2.215567</td>\n",
              "      <td>00:10</td>\n",
              "    </tr>\n",
              "    <tr>\n",
              "      <td>7</td>\n",
              "      <td>3.537551</td>\n",
              "      <td>3.608826</td>\n",
              "      <td>1.899691</td>\n",
              "      <td>00:10</td>\n",
              "    </tr>\n",
              "    <tr>\n",
              "      <td>8</td>\n",
              "      <td>3.778068</td>\n",
              "      <td>11.454970</td>\n",
              "      <td>3.384520</td>\n",
              "      <td>00:10</td>\n",
              "    </tr>\n",
              "    <tr>\n",
              "      <td>9</td>\n",
              "      <td>3.826638</td>\n",
              "      <td>8.407588</td>\n",
              "      <td>2.899584</td>\n",
              "      <td>00:13</td>\n",
              "    </tr>\n",
              "  </tbody>\n",
              "</table>"
            ]
          },
          "metadata": {}
        }
      ]
    },
    {
      "cell_type": "code",
      "source": [
        "#learn.fit_one_cycle(15,slice(6.309573450380412e-07, 0.019054606556892395))"
      ],
      "metadata": {
        "colab": {
          "base_uri": "https://localhost:8080/",
          "height": 143
        },
        "id": "dWKhrpcz9ADl",
        "outputId": "957454fb-0b0d-4c93-d8ab-ad448633a297"
      },
      "execution_count": null,
      "outputs": [
        {
          "output_type": "display_data",
          "data": {
            "text/plain": [
              "<IPython.core.display.HTML object>"
            ],
            "text/html": [
              "\n",
              "<style>\n",
              "    /* Turns off some styling */\n",
              "    progress {\n",
              "        /* gets rid of default border in Firefox and Opera. */\n",
              "        border: none;\n",
              "        /* Needs to be in here for Safari polyfill so background images work as expected. */\n",
              "        background-size: auto;\n",
              "    }\n",
              "    progress:not([value]), progress:not([value])::-webkit-progress-bar {\n",
              "        background: repeating-linear-gradient(45deg, #7e7e7e, #7e7e7e 10px, #5c5c5c 10px, #5c5c5c 20px);\n",
              "    }\n",
              "    .progress-bar-interrupted, .progress-bar-interrupted::-webkit-progress-bar {\n",
              "        background: #F44336;\n",
              "    }\n",
              "</style>\n"
            ]
          },
          "metadata": {}
        },
        {
          "output_type": "display_data",
          "data": {
            "text/plain": [
              "<IPython.core.display.HTML object>"
            ],
            "text/html": [
              "<table border=\"1\" class=\"dataframe\">\n",
              "  <thead>\n",
              "    <tr style=\"text-align: left;\">\n",
              "      <th>epoch</th>\n",
              "      <th>train_loss</th>\n",
              "      <th>valid_loss</th>\n",
              "      <th>_rmse</th>\n",
              "      <th>time</th>\n",
              "    </tr>\n",
              "  </thead>\n",
              "  <tbody>\n",
              "    <tr>\n",
              "      <td>0</td>\n",
              "      <td>3.926951</td>\n",
              "      <td>4.539420</td>\n",
              "      <td>2.130592</td>\n",
              "      <td>00:14</td>\n",
              "    </tr>\n",
              "    <tr>\n",
              "      <td>1</td>\n",
              "      <td>3.841202</td>\n",
              "      <td>3.569802</td>\n",
              "      <td>1.889392</td>\n",
              "      <td>00:17</td>\n",
              "    </tr>\n",
              "    <tr>\n",
              "      <td>2</td>\n",
              "      <td>3.627239</td>\n",
              "      <td>3.536179</td>\n",
              "      <td>1.880473</td>\n",
              "      <td>00:13</td>\n",
              "    </tr>\n",
              "  </tbody>\n",
              "</table>"
            ]
          },
          "metadata": {}
        }
      ]
    },
    {
      "cell_type": "code",
      "source": [
        "learn.show_results()"
      ],
      "metadata": {
        "colab": {
          "base_uri": "https://localhost:8080/",
          "height": 331
        },
        "id": "KNrpALRKB4m0",
        "outputId": "1f9987fc-959b-461f-81ea-14a6974b37f0"
      },
      "execution_count": null,
      "outputs": [
        {
          "output_type": "display_data",
          "data": {
            "text/plain": [
              "<IPython.core.display.HTML object>"
            ],
            "text/html": [
              "\n",
              "<style>\n",
              "    /* Turns off some styling */\n",
              "    progress {\n",
              "        /* gets rid of default border in Firefox and Opera. */\n",
              "        border: none;\n",
              "        /* Needs to be in here for Safari polyfill so background images work as expected. */\n",
              "        background-size: auto;\n",
              "    }\n",
              "    progress:not([value]), progress:not([value])::-webkit-progress-bar {\n",
              "        background: repeating-linear-gradient(45deg, #7e7e7e, #7e7e7e 10px, #5c5c5c 10px, #5c5c5c 20px);\n",
              "    }\n",
              "    .progress-bar-interrupted, .progress-bar-interrupted::-webkit-progress-bar {\n",
              "        background: #F44336;\n",
              "    }\n",
              "</style>\n"
            ]
          },
          "metadata": {}
        },
        {
          "output_type": "display_data",
          "data": {
            "text/plain": [
              "<IPython.core.display.HTML object>"
            ],
            "text/html": []
          },
          "metadata": {}
        },
        {
          "output_type": "display_data",
          "data": {
            "text/plain": [
              "<IPython.core.display.HTML object>"
            ],
            "text/html": [
              "<table border=\"1\" class=\"dataframe\">\n",
              "  <thead>\n",
              "    <tr style=\"text-align: right;\">\n",
              "      <th></th>\n",
              "      <th>Length</th>\n",
              "      <th>Diameter</th>\n",
              "      <th>Height</th>\n",
              "      <th>Whole weight</th>\n",
              "      <th>Whole weight.1</th>\n",
              "      <th>Whole weight.2</th>\n",
              "      <th>Shell weight</th>\n",
              "      <th>Rings</th>\n",
              "      <th>Rings_pred</th>\n",
              "    </tr>\n",
              "  </thead>\n",
              "  <tbody>\n",
              "    <tr>\n",
              "      <th>0</th>\n",
              "      <td>1.208659</td>\n",
              "      <td>1.309246</td>\n",
              "      <td>0.778420</td>\n",
              "      <td>1.268013</td>\n",
              "      <td>1.176924</td>\n",
              "      <td>0.952594</td>\n",
              "      <td>1.336184</td>\n",
              "      <td>11.0</td>\n",
              "      <td>11.496660</td>\n",
              "    </tr>\n",
              "    <tr>\n",
              "      <th>1</th>\n",
              "      <td>0.279622</td>\n",
              "      <td>0.392234</td>\n",
              "      <td>0.120440</td>\n",
              "      <td>0.138396</td>\n",
              "      <td>0.136287</td>\n",
              "      <td>-0.102184</td>\n",
              "      <td>0.185835</td>\n",
              "      <td>9.0</td>\n",
              "      <td>10.228415</td>\n",
              "    </tr>\n",
              "    <tr>\n",
              "      <th>2</th>\n",
              "      <td>-0.564957</td>\n",
              "      <td>-0.575722</td>\n",
              "      <td>-0.800731</td>\n",
              "      <td>-0.764207</td>\n",
              "      <td>-0.862822</td>\n",
              "      <td>-0.884601</td>\n",
              "      <td>-0.734444</td>\n",
              "      <td>12.0</td>\n",
              "      <td>8.598865</td>\n",
              "    </tr>\n",
              "    <tr>\n",
              "      <th>3</th>\n",
              "      <td>0.068477</td>\n",
              "      <td>-0.219107</td>\n",
              "      <td>-0.011155</td>\n",
              "      <td>-0.270886</td>\n",
              "      <td>-0.112880</td>\n",
              "      <td>-0.186368</td>\n",
              "      <td>0.032456</td>\n",
              "      <td>13.0</td>\n",
              "      <td>9.438976</td>\n",
              "    </tr>\n",
              "    <tr>\n",
              "      <th>4</th>\n",
              "      <td>-0.015981</td>\n",
              "      <td>0.035619</td>\n",
              "      <td>-0.011155</td>\n",
              "      <td>-0.341828</td>\n",
              "      <td>-0.181278</td>\n",
              "      <td>-0.473584</td>\n",
              "      <td>-0.324153</td>\n",
              "      <td>8.0</td>\n",
              "      <td>8.636414</td>\n",
              "    </tr>\n",
              "    <tr>\n",
              "      <th>5</th>\n",
              "      <td>-0.945018</td>\n",
              "      <td>-1.136118</td>\n",
              "      <td>-1.195518</td>\n",
              "      <td>-1.144020</td>\n",
              "      <td>-1.114432</td>\n",
              "      <td>-1.226289</td>\n",
              "      <td>-1.106390</td>\n",
              "      <td>8.0</td>\n",
              "      <td>7.126128</td>\n",
              "    </tr>\n",
              "    <tr>\n",
              "      <th>6</th>\n",
              "      <td>-0.100439</td>\n",
              "      <td>-0.168162</td>\n",
              "      <td>-0.800731</td>\n",
              "      <td>-0.504449</td>\n",
              "      <td>-0.288762</td>\n",
              "      <td>-0.686520</td>\n",
              "      <td>-0.554222</td>\n",
              "      <td>8.0</td>\n",
              "      <td>7.889451</td>\n",
              "    </tr>\n",
              "    <tr>\n",
              "      <th>7</th>\n",
              "      <td>-2.845321</td>\n",
              "      <td>-2.817306</td>\n",
              "      <td>-2.379880</td>\n",
              "      <td>-1.663535</td>\n",
              "      <td>-1.602994</td>\n",
              "      <td>-1.622449</td>\n",
              "      <td>-1.670061</td>\n",
              "      <td>5.0</td>\n",
              "      <td>4.317877</td>\n",
              "    </tr>\n",
              "    <tr>\n",
              "      <th>8</th>\n",
              "      <td>0.237393</td>\n",
              "      <td>0.188454</td>\n",
              "      <td>-0.142751</td>\n",
              "      <td>0.544403</td>\n",
              "      <td>0.981499</td>\n",
              "      <td>0.467297</td>\n",
              "      <td>0.235684</td>\n",
              "      <td>9.0</td>\n",
              "      <td>9.115192</td>\n",
              "    </tr>\n",
              "  </tbody>\n",
              "</table>"
            ]
          },
          "metadata": {}
        }
      ]
    },
    {
      "cell_type": "code",
      "source": [
        "#row, clas, probs = learn.predict(df.iloc[0])\n",
        "#row.show()"
      ],
      "metadata": {
        "id": "HLaJSnuFB4kW"
      },
      "execution_count": null,
      "outputs": []
    },
    {
      "cell_type": "code",
      "source": [
        "dl = learn.dls.test_dl(test_df)"
      ],
      "metadata": {
        "id": "MjuqmZUrB4hU"
      },
      "execution_count": null,
      "outputs": []
    },
    {
      "cell_type": "code",
      "source": [
        "nn_preds = learn.get_preds(dl=dl)\n",
        "nn_preds"
      ],
      "metadata": {
        "colab": {
          "base_uri": "https://localhost:8080/",
          "height": 156
        },
        "id": "pU6LtuBUB4cv",
        "outputId": "55ca0a60-a844-4598-f2e7-6e1e915bb8f2"
      },
      "execution_count": null,
      "outputs": [
        {
          "output_type": "display_data",
          "data": {
            "text/plain": [
              "<IPython.core.display.HTML object>"
            ],
            "text/html": [
              "\n",
              "<style>\n",
              "    /* Turns off some styling */\n",
              "    progress {\n",
              "        /* gets rid of default border in Firefox and Opera. */\n",
              "        border: none;\n",
              "        /* Needs to be in here for Safari polyfill so background images work as expected. */\n",
              "        background-size: auto;\n",
              "    }\n",
              "    progress:not([value]), progress:not([value])::-webkit-progress-bar {\n",
              "        background: repeating-linear-gradient(45deg, #7e7e7e, #7e7e7e 10px, #5c5c5c 10px, #5c5c5c 20px);\n",
              "    }\n",
              "    .progress-bar-interrupted, .progress-bar-interrupted::-webkit-progress-bar {\n",
              "        background: #F44336;\n",
              "    }\n",
              "</style>\n"
            ]
          },
          "metadata": {}
        },
        {
          "output_type": "display_data",
          "data": {
            "text/plain": [
              "<IPython.core.display.HTML object>"
            ],
            "text/html": []
          },
          "metadata": {}
        },
        {
          "output_type": "execute_result",
          "data": {
            "text/plain": [
              "(tensor([[ 9.5853],\n",
              "         [ 9.5587],\n",
              "         [10.1825],\n",
              "         ...,\n",
              "         [12.4846],\n",
              "         [12.7614],\n",
              "         [ 8.5504]]),\n",
              " None)"
            ]
          },
          "metadata": {},
          "execution_count": 114
        }
      ]
    },
    {
      "cell_type": "code",
      "source": [
        "a_preds, _ = learn.get_preds(dl=dl)"
      ],
      "metadata": {
        "colab": {
          "base_uri": "https://localhost:8080/",
          "height": 17
        },
        "id": "mvG8jUR2Tar0",
        "outputId": "ca83212e-4b71-4169-acd1-685c909428c0"
      },
      "execution_count": null,
      "outputs": [
        {
          "output_type": "display_data",
          "data": {
            "text/plain": [
              "<IPython.core.display.HTML object>"
            ],
            "text/html": [
              "\n",
              "<style>\n",
              "    /* Turns off some styling */\n",
              "    progress {\n",
              "        /* gets rid of default border in Firefox and Opera. */\n",
              "        border: none;\n",
              "        /* Needs to be in here for Safari polyfill so background images work as expected. */\n",
              "        background-size: auto;\n",
              "    }\n",
              "    progress:not([value]), progress:not([value])::-webkit-progress-bar {\n",
              "        background: repeating-linear-gradient(45deg, #7e7e7e, #7e7e7e 10px, #5c5c5c 10px, #5c5c5c 20px);\n",
              "    }\n",
              "    .progress-bar-interrupted, .progress-bar-interrupted::-webkit-progress-bar {\n",
              "        background: #F44336;\n",
              "    }\n",
              "</style>\n"
            ]
          },
          "metadata": {}
        },
        {
          "output_type": "display_data",
          "data": {
            "text/plain": [
              "<IPython.core.display.HTML object>"
            ],
            "text/html": []
          },
          "metadata": {}
        }
      ]
    },
    {
      "cell_type": "code",
      "source": [
        "nn_preds_y = a_preds.squeeze(1)\n",
        "nn_preds_y"
      ],
      "metadata": {
        "colab": {
          "base_uri": "https://localhost:8080/"
        },
        "id": "aeHk5kl6SjRl",
        "outputId": "430ffce8-da6f-4c95-eeda-904c5f9b8516"
      },
      "execution_count": null,
      "outputs": [
        {
          "output_type": "execute_result",
          "data": {
            "text/plain": [
              "tensor([ 9.5853,  9.5587, 10.1825,  ..., 12.4846, 12.7614,  8.5504])"
            ]
          },
          "metadata": {},
          "execution_count": 116
        }
      ]
    },
    {
      "cell_type": "code",
      "source": [
        "nn_preds_y.shape"
      ],
      "metadata": {
        "colab": {
          "base_uri": "https://localhost:8080/"
        },
        "id": "G2h2adETTjUy",
        "outputId": "75f50e3d-6fa1-40c1-b250-8d4b23cca760"
      },
      "execution_count": null,
      "outputs": [
        {
          "output_type": "execute_result",
          "data": {
            "text/plain": [
              "torch.Size([60411])"
            ]
          },
          "metadata": {},
          "execution_count": 117
        }
      ]
    },
    {
      "cell_type": "code",
      "source": [
        "nn_preds_x = learn.get_preds()[0]\n",
        "nn_preds_x"
      ],
      "metadata": {
        "colab": {
          "base_uri": "https://localhost:8080/",
          "height": 138
        },
        "id": "YdCwtc3wB4aJ",
        "outputId": "2b5baa41-68d8-4b55-b4ed-3dffaf6cc218"
      },
      "execution_count": null,
      "outputs": [
        {
          "output_type": "display_data",
          "data": {
            "text/plain": [
              "<IPython.core.display.HTML object>"
            ],
            "text/html": [
              "\n",
              "<style>\n",
              "    /* Turns off some styling */\n",
              "    progress {\n",
              "        /* gets rid of default border in Firefox and Opera. */\n",
              "        border: none;\n",
              "        /* Needs to be in here for Safari polyfill so background images work as expected. */\n",
              "        background-size: auto;\n",
              "    }\n",
              "    progress:not([value]), progress:not([value])::-webkit-progress-bar {\n",
              "        background: repeating-linear-gradient(45deg, #7e7e7e, #7e7e7e 10px, #5c5c5c 10px, #5c5c5c 20px);\n",
              "    }\n",
              "    .progress-bar-interrupted, .progress-bar-interrupted::-webkit-progress-bar {\n",
              "        background: #F44336;\n",
              "    }\n",
              "</style>\n"
            ]
          },
          "metadata": {}
        },
        {
          "output_type": "display_data",
          "data": {
            "text/plain": [
              "<IPython.core.display.HTML object>"
            ],
            "text/html": []
          },
          "metadata": {}
        },
        {
          "output_type": "execute_result",
          "data": {
            "text/plain": [
              "tensor([[10.9143],\n",
              "        [13.5291],\n",
              "        [ 7.9337],\n",
              "        ...,\n",
              "        [ 8.5056],\n",
              "        [ 7.7145],\n",
              "        [ 7.2903]])"
            ]
          },
          "metadata": {},
          "execution_count": 118
        }
      ]
    },
    {
      "cell_type": "code",
      "source": [
        "nn_preds_x.shape"
      ],
      "metadata": {
        "colab": {
          "base_uri": "https://localhost:8080/"
        },
        "id": "cmciCdQBToT6",
        "outputId": "c343bbc3-c232-4658-aff4-0bbb85e2c72e"
      },
      "execution_count": null,
      "outputs": [
        {
          "output_type": "execute_result",
          "data": {
            "text/plain": [
              "torch.Size([18123, 1])"
            ]
          },
          "metadata": {},
          "execution_count": 119
        }
      ]
    },
    {
      "cell_type": "code",
      "source": [
        "#nn_argmax = nn_preds_x.argmax(dim=1)\n",
        "#nn_argmax"
      ],
      "metadata": {
        "id": "k6_-StKaIG98"
      },
      "execution_count": null,
      "outputs": []
    },
    {
      "cell_type": "code",
      "source": [
        "X_train, y_train = to.train.xs, to.train.ys.values.ravel()\n",
        "X_test, y_test = to.valid.xs, to.valid.ys.values.ravel()"
      ],
      "metadata": {
        "id": "--vtzr750RQB"
      },
      "execution_count": null,
      "outputs": []
    },
    {
      "cell_type": "code",
      "source": [
        "rmse(nn_preds_x, tensor(y_test))"
      ],
      "metadata": {
        "colab": {
          "base_uri": "https://localhost:8080/"
        },
        "id": "7JWyZBXtriYN",
        "outputId": "3bac88f1-d178-472b-c16c-b7b067817cd1"
      },
      "execution_count": null,
      "outputs": [
        {
          "output_type": "execute_result",
          "data": {
            "text/plain": [
              "TensorBase(4.5677)"
            ]
          },
          "metadata": {},
          "execution_count": 120
        }
      ]
    },
    {
      "cell_type": "code",
      "source": [
        "mse = mean_absolute_error(y_test,nn_preds_x)\n",
        "rmse = np.sqrt(mse)\n",
        "rmse"
      ],
      "metadata": {
        "colab": {
          "base_uri": "https://localhost:8080/"
        },
        "id": "x_BHZPbrddIg",
        "outputId": "2bfadedc-af8f-406a-f3a7-6122f90d0d7e"
      },
      "execution_count": null,
      "outputs": [
        {
          "output_type": "execute_result",
          "data": {
            "text/plain": [
              "1.7473459"
            ]
          },
          "metadata": {},
          "execution_count": 121
        }
      ]
    },
    {
      "cell_type": "code",
      "source": [
        "#rmse(nn_preds_x, tensor(y_test))"
      ],
      "metadata": {
        "colab": {
          "base_uri": "https://localhost:8080/"
        },
        "id": "h_TMlhIXTMUZ",
        "outputId": "7f3f2c7a-a3f9-426b-db11-f48e1aec2549"
      },
      "execution_count": null,
      "outputs": [
        {
          "output_type": "execute_result",
          "data": {
            "text/plain": [
              "TensorBase(1.8922)"
            ]
          },
          "metadata": {},
          "execution_count": 43
        }
      ]
    },
    {
      "cell_type": "code",
      "source": [
        "!ls"
      ],
      "metadata": {
        "colab": {
          "base_uri": "https://localhost:8080/"
        },
        "id": "Im-pZV8RIwzT",
        "outputId": "3d9fa053-842f-4c2b-94cd-625d39fe8bc1"
      },
      "execution_count": null,
      "outputs": [
        {
          "output_type": "stream",
          "name": "stdout",
          "text": [
            "models\tsample_data\n"
          ]
        }
      ]
    },
    {
      "cell_type": "code",
      "source": [
        "#target_preds = nn_preds[0]"
      ],
      "metadata": {
        "id": "LpVoeZrGIpnE"
      },
      "execution_count": null,
      "outputs": []
    },
    {
      "cell_type": "code",
      "source": [
        "#test_df['Rings'] = target_preds\n",
        "\n",
        "#test_df.to_csv('submission.csv', columns=['id','Rings'], index=False)\n",
        "\n",
        "#submission = pd.read_csv('submission.csv')\n",
        "#submission.head()"
      ],
      "metadata": {
        "colab": {
          "base_uri": "https://localhost:8080/",
          "height": 356
        },
        "id": "k8YJqDliIrlP",
        "outputId": "6c9f187c-0b6e-46fa-dd82-2393241efc1e"
      },
      "execution_count": null,
      "outputs": [
        {
          "output_type": "error",
          "ename": "KeyError",
          "evalue": "\"['id'] not in index\"",
          "traceback": [
            "\u001b[0;31m---------------------------------------------------------------------------\u001b[0m",
            "\u001b[0;31mKeyError\u001b[0m                                  Traceback (most recent call last)",
            "\u001b[0;32m<ipython-input-124-995265bcbd0f>\u001b[0m in \u001b[0;36m<cell line: 3>\u001b[0;34m()\u001b[0m\n\u001b[1;32m      1\u001b[0m \u001b[0mtest_df\u001b[0m\u001b[0;34m[\u001b[0m\u001b[0;34m'Rings'\u001b[0m\u001b[0;34m]\u001b[0m \u001b[0;34m=\u001b[0m \u001b[0mtarget_preds\u001b[0m\u001b[0;34m\u001b[0m\u001b[0;34m\u001b[0m\u001b[0m\n\u001b[1;32m      2\u001b[0m \u001b[0;34m\u001b[0m\u001b[0m\n\u001b[0;32m----> 3\u001b[0;31m \u001b[0mtest_df\u001b[0m\u001b[0;34m.\u001b[0m\u001b[0mto_csv\u001b[0m\u001b[0;34m(\u001b[0m\u001b[0;34m'submission.csv'\u001b[0m\u001b[0;34m,\u001b[0m \u001b[0mcolumns\u001b[0m\u001b[0;34m=\u001b[0m\u001b[0;34m[\u001b[0m\u001b[0;34m'id'\u001b[0m\u001b[0;34m,\u001b[0m\u001b[0;34m'Rings'\u001b[0m\u001b[0;34m]\u001b[0m\u001b[0;34m,\u001b[0m \u001b[0mindex\u001b[0m\u001b[0;34m=\u001b[0m\u001b[0;32mFalse\u001b[0m\u001b[0;34m)\u001b[0m\u001b[0;34m\u001b[0m\u001b[0;34m\u001b[0m\u001b[0m\n\u001b[0m\u001b[1;32m      4\u001b[0m \u001b[0;34m\u001b[0m\u001b[0m\n\u001b[1;32m      5\u001b[0m \u001b[0;31m#submission = pd.read_csv('submission.csv')\u001b[0m\u001b[0;34m\u001b[0m\u001b[0;34m\u001b[0m\u001b[0m\n",
            "\u001b[0;32m/usr/local/lib/python3.10/dist-packages/pandas/core/generic.py\u001b[0m in \u001b[0;36mto_csv\u001b[0;34m(self, path_or_buf, sep, na_rep, float_format, columns, header, index, index_label, mode, encoding, compression, quoting, quotechar, lineterminator, chunksize, date_format, doublequote, escapechar, decimal, errors, storage_options)\u001b[0m\n\u001b[1;32m   3770\u001b[0m         )\n\u001b[1;32m   3771\u001b[0m \u001b[0;34m\u001b[0m\u001b[0m\n\u001b[0;32m-> 3772\u001b[0;31m         return DataFrameRenderer(formatter).to_csv(\n\u001b[0m\u001b[1;32m   3773\u001b[0m             \u001b[0mpath_or_buf\u001b[0m\u001b[0;34m,\u001b[0m\u001b[0;34m\u001b[0m\u001b[0;34m\u001b[0m\u001b[0m\n\u001b[1;32m   3774\u001b[0m             \u001b[0mlineterminator\u001b[0m\u001b[0;34m=\u001b[0m\u001b[0mlineterminator\u001b[0m\u001b[0;34m,\u001b[0m\u001b[0;34m\u001b[0m\u001b[0;34m\u001b[0m\u001b[0m\n",
            "\u001b[0;32m/usr/local/lib/python3.10/dist-packages/pandas/io/formats/format.py\u001b[0m in \u001b[0;36mto_csv\u001b[0;34m(self, path_or_buf, encoding, sep, columns, index_label, mode, compression, quoting, quotechar, lineterminator, chunksize, date_format, doublequote, escapechar, errors, storage_options)\u001b[0m\n\u001b[1;32m   1165\u001b[0m             \u001b[0mcreated_buffer\u001b[0m \u001b[0;34m=\u001b[0m \u001b[0;32mFalse\u001b[0m\u001b[0;34m\u001b[0m\u001b[0;34m\u001b[0m\u001b[0m\n\u001b[1;32m   1166\u001b[0m \u001b[0;34m\u001b[0m\u001b[0m\n\u001b[0;32m-> 1167\u001b[0;31m         csv_formatter = CSVFormatter(\n\u001b[0m\u001b[1;32m   1168\u001b[0m             \u001b[0mpath_or_buf\u001b[0m\u001b[0;34m=\u001b[0m\u001b[0mpath_or_buf\u001b[0m\u001b[0;34m,\u001b[0m\u001b[0;34m\u001b[0m\u001b[0;34m\u001b[0m\u001b[0m\n\u001b[1;32m   1169\u001b[0m             \u001b[0mlineterminator\u001b[0m\u001b[0;34m=\u001b[0m\u001b[0mlineterminator\u001b[0m\u001b[0;34m,\u001b[0m\u001b[0;34m\u001b[0m\u001b[0;34m\u001b[0m\u001b[0m\n",
            "\u001b[0;32m/usr/local/lib/python3.10/dist-packages/pandas/io/formats/csvs.py\u001b[0m in \u001b[0;36m__init__\u001b[0;34m(self, formatter, path_or_buf, sep, cols, index_label, mode, encoding, errors, compression, quoting, lineterminator, chunksize, quotechar, date_format, doublequote, escapechar, storage_options)\u001b[0m\n\u001b[1;32m     87\u001b[0m         \u001b[0mself\u001b[0m\u001b[0;34m.\u001b[0m\u001b[0mlineterminator\u001b[0m \u001b[0;34m=\u001b[0m \u001b[0mlineterminator\u001b[0m \u001b[0;32mor\u001b[0m \u001b[0mos\u001b[0m\u001b[0;34m.\u001b[0m\u001b[0mlinesep\u001b[0m\u001b[0;34m\u001b[0m\u001b[0;34m\u001b[0m\u001b[0m\n\u001b[1;32m     88\u001b[0m         \u001b[0mself\u001b[0m\u001b[0;34m.\u001b[0m\u001b[0mdate_format\u001b[0m \u001b[0;34m=\u001b[0m \u001b[0mdate_format\u001b[0m\u001b[0;34m\u001b[0m\u001b[0;34m\u001b[0m\u001b[0m\n\u001b[0;32m---> 89\u001b[0;31m         \u001b[0mself\u001b[0m\u001b[0;34m.\u001b[0m\u001b[0mcols\u001b[0m \u001b[0;34m=\u001b[0m \u001b[0mself\u001b[0m\u001b[0;34m.\u001b[0m\u001b[0m_initialize_columns\u001b[0m\u001b[0;34m(\u001b[0m\u001b[0mcols\u001b[0m\u001b[0;34m)\u001b[0m\u001b[0;34m\u001b[0m\u001b[0;34m\u001b[0m\u001b[0m\n\u001b[0m\u001b[1;32m     90\u001b[0m         \u001b[0mself\u001b[0m\u001b[0;34m.\u001b[0m\u001b[0mchunksize\u001b[0m \u001b[0;34m=\u001b[0m \u001b[0mself\u001b[0m\u001b[0;34m.\u001b[0m\u001b[0m_initialize_chunksize\u001b[0m\u001b[0;34m(\u001b[0m\u001b[0mchunksize\u001b[0m\u001b[0;34m)\u001b[0m\u001b[0;34m\u001b[0m\u001b[0;34m\u001b[0m\u001b[0m\n\u001b[1;32m     91\u001b[0m \u001b[0;34m\u001b[0m\u001b[0m\n",
            "\u001b[0;32m/usr/local/lib/python3.10/dist-packages/pandas/io/formats/csvs.py\u001b[0m in \u001b[0;36m_initialize_columns\u001b[0;34m(self, cols)\u001b[0m\n\u001b[1;32m    154\u001b[0m             \u001b[0;32melse\u001b[0m\u001b[0;34m:\u001b[0m\u001b[0;34m\u001b[0m\u001b[0;34m\u001b[0m\u001b[0m\n\u001b[1;32m    155\u001b[0m                 \u001b[0mcols\u001b[0m \u001b[0;34m=\u001b[0m \u001b[0mlist\u001b[0m\u001b[0;34m(\u001b[0m\u001b[0mcols\u001b[0m\u001b[0;34m)\u001b[0m\u001b[0;34m\u001b[0m\u001b[0;34m\u001b[0m\u001b[0m\n\u001b[0;32m--> 156\u001b[0;31m             \u001b[0mself\u001b[0m\u001b[0;34m.\u001b[0m\u001b[0mobj\u001b[0m \u001b[0;34m=\u001b[0m \u001b[0mself\u001b[0m\u001b[0;34m.\u001b[0m\u001b[0mobj\u001b[0m\u001b[0;34m.\u001b[0m\u001b[0mloc\u001b[0m\u001b[0;34m[\u001b[0m\u001b[0;34m:\u001b[0m\u001b[0;34m,\u001b[0m \u001b[0mcols\u001b[0m\u001b[0;34m]\u001b[0m\u001b[0;34m\u001b[0m\u001b[0;34m\u001b[0m\u001b[0m\n\u001b[0m\u001b[1;32m    157\u001b[0m \u001b[0;34m\u001b[0m\u001b[0m\n\u001b[1;32m    158\u001b[0m         \u001b[0;31m# update columns to include possible multiplicity of dupes\u001b[0m\u001b[0;34m\u001b[0m\u001b[0;34m\u001b[0m\u001b[0m\n",
            "\u001b[0;32m/usr/local/lib/python3.10/dist-packages/pandas/core/indexing.py\u001b[0m in \u001b[0;36m__getitem__\u001b[0;34m(self, key)\u001b[0m\n\u001b[1;32m   1095\u001b[0m             \u001b[0;32mif\u001b[0m \u001b[0mself\u001b[0m\u001b[0;34m.\u001b[0m\u001b[0m_is_scalar_access\u001b[0m\u001b[0;34m(\u001b[0m\u001b[0mkey\u001b[0m\u001b[0;34m)\u001b[0m\u001b[0;34m:\u001b[0m\u001b[0;34m\u001b[0m\u001b[0;34m\u001b[0m\u001b[0m\n\u001b[1;32m   1096\u001b[0m                 \u001b[0;32mreturn\u001b[0m \u001b[0mself\u001b[0m\u001b[0;34m.\u001b[0m\u001b[0mobj\u001b[0m\u001b[0;34m.\u001b[0m\u001b[0m_get_value\u001b[0m\u001b[0;34m(\u001b[0m\u001b[0;34m*\u001b[0m\u001b[0mkey\u001b[0m\u001b[0;34m,\u001b[0m \u001b[0mtakeable\u001b[0m\u001b[0;34m=\u001b[0m\u001b[0mself\u001b[0m\u001b[0;34m.\u001b[0m\u001b[0m_takeable\u001b[0m\u001b[0;34m)\u001b[0m\u001b[0;34m\u001b[0m\u001b[0;34m\u001b[0m\u001b[0m\n\u001b[0;32m-> 1097\u001b[0;31m             \u001b[0;32mreturn\u001b[0m \u001b[0mself\u001b[0m\u001b[0;34m.\u001b[0m\u001b[0m_getitem_tuple\u001b[0m\u001b[0;34m(\u001b[0m\u001b[0mkey\u001b[0m\u001b[0;34m)\u001b[0m\u001b[0;34m\u001b[0m\u001b[0;34m\u001b[0m\u001b[0m\n\u001b[0m\u001b[1;32m   1098\u001b[0m         \u001b[0;32melse\u001b[0m\u001b[0;34m:\u001b[0m\u001b[0;34m\u001b[0m\u001b[0;34m\u001b[0m\u001b[0m\n\u001b[1;32m   1099\u001b[0m             \u001b[0;31m# we by definition only have the 0th axis\u001b[0m\u001b[0;34m\u001b[0m\u001b[0;34m\u001b[0m\u001b[0m\n",
            "\u001b[0;32m/usr/local/lib/python3.10/dist-packages/pandas/core/indexing.py\u001b[0m in \u001b[0;36m_getitem_tuple\u001b[0;34m(self, tup)\u001b[0m\n\u001b[1;32m   1287\u001b[0m             \u001b[0;32mreturn\u001b[0m \u001b[0mself\u001b[0m\u001b[0;34m.\u001b[0m\u001b[0m_multi_take\u001b[0m\u001b[0;34m(\u001b[0m\u001b[0mtup\u001b[0m\u001b[0;34m)\u001b[0m\u001b[0;34m\u001b[0m\u001b[0;34m\u001b[0m\u001b[0m\n\u001b[1;32m   1288\u001b[0m \u001b[0;34m\u001b[0m\u001b[0m\n\u001b[0;32m-> 1289\u001b[0;31m         \u001b[0;32mreturn\u001b[0m \u001b[0mself\u001b[0m\u001b[0;34m.\u001b[0m\u001b[0m_getitem_tuple_same_dim\u001b[0m\u001b[0;34m(\u001b[0m\u001b[0mtup\u001b[0m\u001b[0;34m)\u001b[0m\u001b[0;34m\u001b[0m\u001b[0;34m\u001b[0m\u001b[0m\n\u001b[0m\u001b[1;32m   1290\u001b[0m \u001b[0;34m\u001b[0m\u001b[0m\n\u001b[1;32m   1291\u001b[0m     \u001b[0;32mdef\u001b[0m \u001b[0m_get_label\u001b[0m\u001b[0;34m(\u001b[0m\u001b[0mself\u001b[0m\u001b[0;34m,\u001b[0m \u001b[0mlabel\u001b[0m\u001b[0;34m,\u001b[0m \u001b[0maxis\u001b[0m\u001b[0;34m:\u001b[0m \u001b[0mAxisInt\u001b[0m\u001b[0;34m)\u001b[0m\u001b[0;34m:\u001b[0m\u001b[0;34m\u001b[0m\u001b[0;34m\u001b[0m\u001b[0m\n",
            "\u001b[0;32m/usr/local/lib/python3.10/dist-packages/pandas/core/indexing.py\u001b[0m in \u001b[0;36m_getitem_tuple_same_dim\u001b[0;34m(self, tup)\u001b[0m\n\u001b[1;32m    953\u001b[0m                 \u001b[0;32mcontinue\u001b[0m\u001b[0;34m\u001b[0m\u001b[0;34m\u001b[0m\u001b[0m\n\u001b[1;32m    954\u001b[0m \u001b[0;34m\u001b[0m\u001b[0m\n\u001b[0;32m--> 955\u001b[0;31m             \u001b[0mretval\u001b[0m \u001b[0;34m=\u001b[0m \u001b[0mgetattr\u001b[0m\u001b[0;34m(\u001b[0m\u001b[0mretval\u001b[0m\u001b[0;34m,\u001b[0m \u001b[0mself\u001b[0m\u001b[0;34m.\u001b[0m\u001b[0mname\u001b[0m\u001b[0;34m)\u001b[0m\u001b[0;34m.\u001b[0m\u001b[0m_getitem_axis\u001b[0m\u001b[0;34m(\u001b[0m\u001b[0mkey\u001b[0m\u001b[0;34m,\u001b[0m \u001b[0maxis\u001b[0m\u001b[0;34m=\u001b[0m\u001b[0mi\u001b[0m\u001b[0;34m)\u001b[0m\u001b[0;34m\u001b[0m\u001b[0;34m\u001b[0m\u001b[0m\n\u001b[0m\u001b[1;32m    956\u001b[0m             \u001b[0;31m# We should never have retval.ndim < self.ndim, as that should\u001b[0m\u001b[0;34m\u001b[0m\u001b[0;34m\u001b[0m\u001b[0m\n\u001b[1;32m    957\u001b[0m             \u001b[0;31m#  be handled by the _getitem_lowerdim call above.\u001b[0m\u001b[0;34m\u001b[0m\u001b[0;34m\u001b[0m\u001b[0m\n",
            "\u001b[0;32m/usr/local/lib/python3.10/dist-packages/pandas/core/indexing.py\u001b[0m in \u001b[0;36m_getitem_axis\u001b[0;34m(self, key, axis)\u001b[0m\n\u001b[1;32m   1330\u001b[0m                     \u001b[0;32mraise\u001b[0m \u001b[0mValueError\u001b[0m\u001b[0;34m(\u001b[0m\u001b[0;34m\"Cannot index with multidimensional key\"\u001b[0m\u001b[0;34m)\u001b[0m\u001b[0;34m\u001b[0m\u001b[0;34m\u001b[0m\u001b[0m\n\u001b[1;32m   1331\u001b[0m \u001b[0;34m\u001b[0m\u001b[0m\n\u001b[0;32m-> 1332\u001b[0;31m                 \u001b[0;32mreturn\u001b[0m \u001b[0mself\u001b[0m\u001b[0;34m.\u001b[0m\u001b[0m_getitem_iterable\u001b[0m\u001b[0;34m(\u001b[0m\u001b[0mkey\u001b[0m\u001b[0;34m,\u001b[0m \u001b[0maxis\u001b[0m\u001b[0;34m=\u001b[0m\u001b[0maxis\u001b[0m\u001b[0;34m)\u001b[0m\u001b[0;34m\u001b[0m\u001b[0;34m\u001b[0m\u001b[0m\n\u001b[0m\u001b[1;32m   1333\u001b[0m \u001b[0;34m\u001b[0m\u001b[0m\n\u001b[1;32m   1334\u001b[0m             \u001b[0;31m# nested tuple slicing\u001b[0m\u001b[0;34m\u001b[0m\u001b[0;34m\u001b[0m\u001b[0m\n",
            "\u001b[0;32m/usr/local/lib/python3.10/dist-packages/pandas/core/indexing.py\u001b[0m in \u001b[0;36m_getitem_iterable\u001b[0;34m(self, key, axis)\u001b[0m\n\u001b[1;32m   1270\u001b[0m \u001b[0;34m\u001b[0m\u001b[0m\n\u001b[1;32m   1271\u001b[0m         \u001b[0;31m# A collection of keys\u001b[0m\u001b[0;34m\u001b[0m\u001b[0;34m\u001b[0m\u001b[0m\n\u001b[0;32m-> 1272\u001b[0;31m         \u001b[0mkeyarr\u001b[0m\u001b[0;34m,\u001b[0m \u001b[0mindexer\u001b[0m \u001b[0;34m=\u001b[0m \u001b[0mself\u001b[0m\u001b[0;34m.\u001b[0m\u001b[0m_get_listlike_indexer\u001b[0m\u001b[0;34m(\u001b[0m\u001b[0mkey\u001b[0m\u001b[0;34m,\u001b[0m \u001b[0maxis\u001b[0m\u001b[0;34m)\u001b[0m\u001b[0;34m\u001b[0m\u001b[0;34m\u001b[0m\u001b[0m\n\u001b[0m\u001b[1;32m   1273\u001b[0m         return self.obj._reindex_with_indexers(\n\u001b[1;32m   1274\u001b[0m             \u001b[0;34m{\u001b[0m\u001b[0maxis\u001b[0m\u001b[0;34m:\u001b[0m \u001b[0;34m[\u001b[0m\u001b[0mkeyarr\u001b[0m\u001b[0;34m,\u001b[0m \u001b[0mindexer\u001b[0m\u001b[0;34m]\u001b[0m\u001b[0;34m}\u001b[0m\u001b[0;34m,\u001b[0m \u001b[0mcopy\u001b[0m\u001b[0;34m=\u001b[0m\u001b[0;32mTrue\u001b[0m\u001b[0;34m,\u001b[0m \u001b[0mallow_dups\u001b[0m\u001b[0;34m=\u001b[0m\u001b[0;32mTrue\u001b[0m\u001b[0;34m\u001b[0m\u001b[0;34m\u001b[0m\u001b[0m\n",
            "\u001b[0;32m/usr/local/lib/python3.10/dist-packages/pandas/core/indexing.py\u001b[0m in \u001b[0;36m_get_listlike_indexer\u001b[0;34m(self, key, axis)\u001b[0m\n\u001b[1;32m   1460\u001b[0m         \u001b[0maxis_name\u001b[0m \u001b[0;34m=\u001b[0m \u001b[0mself\u001b[0m\u001b[0;34m.\u001b[0m\u001b[0mobj\u001b[0m\u001b[0;34m.\u001b[0m\u001b[0m_get_axis_name\u001b[0m\u001b[0;34m(\u001b[0m\u001b[0maxis\u001b[0m\u001b[0;34m)\u001b[0m\u001b[0;34m\u001b[0m\u001b[0;34m\u001b[0m\u001b[0m\n\u001b[1;32m   1461\u001b[0m \u001b[0;34m\u001b[0m\u001b[0m\n\u001b[0;32m-> 1462\u001b[0;31m         \u001b[0mkeyarr\u001b[0m\u001b[0;34m,\u001b[0m \u001b[0mindexer\u001b[0m \u001b[0;34m=\u001b[0m \u001b[0max\u001b[0m\u001b[0;34m.\u001b[0m\u001b[0m_get_indexer_strict\u001b[0m\u001b[0;34m(\u001b[0m\u001b[0mkey\u001b[0m\u001b[0;34m,\u001b[0m \u001b[0maxis_name\u001b[0m\u001b[0;34m)\u001b[0m\u001b[0;34m\u001b[0m\u001b[0;34m\u001b[0m\u001b[0m\n\u001b[0m\u001b[1;32m   1463\u001b[0m \u001b[0;34m\u001b[0m\u001b[0m\n\u001b[1;32m   1464\u001b[0m         \u001b[0;32mreturn\u001b[0m \u001b[0mkeyarr\u001b[0m\u001b[0;34m,\u001b[0m \u001b[0mindexer\u001b[0m\u001b[0;34m\u001b[0m\u001b[0;34m\u001b[0m\u001b[0m\n",
            "\u001b[0;32m/usr/local/lib/python3.10/dist-packages/pandas/core/indexes/base.py\u001b[0m in \u001b[0;36m_get_indexer_strict\u001b[0;34m(self, key, axis_name)\u001b[0m\n\u001b[1;32m   5875\u001b[0m             \u001b[0mkeyarr\u001b[0m\u001b[0;34m,\u001b[0m \u001b[0mindexer\u001b[0m\u001b[0;34m,\u001b[0m \u001b[0mnew_indexer\u001b[0m \u001b[0;34m=\u001b[0m \u001b[0mself\u001b[0m\u001b[0;34m.\u001b[0m\u001b[0m_reindex_non_unique\u001b[0m\u001b[0;34m(\u001b[0m\u001b[0mkeyarr\u001b[0m\u001b[0;34m)\u001b[0m\u001b[0;34m\u001b[0m\u001b[0;34m\u001b[0m\u001b[0m\n\u001b[1;32m   5876\u001b[0m \u001b[0;34m\u001b[0m\u001b[0m\n\u001b[0;32m-> 5877\u001b[0;31m         \u001b[0mself\u001b[0m\u001b[0;34m.\u001b[0m\u001b[0m_raise_if_missing\u001b[0m\u001b[0;34m(\u001b[0m\u001b[0mkeyarr\u001b[0m\u001b[0;34m,\u001b[0m \u001b[0mindexer\u001b[0m\u001b[0;34m,\u001b[0m \u001b[0maxis_name\u001b[0m\u001b[0;34m)\u001b[0m\u001b[0;34m\u001b[0m\u001b[0;34m\u001b[0m\u001b[0m\n\u001b[0m\u001b[1;32m   5878\u001b[0m \u001b[0;34m\u001b[0m\u001b[0m\n\u001b[1;32m   5879\u001b[0m         \u001b[0mkeyarr\u001b[0m \u001b[0;34m=\u001b[0m \u001b[0mself\u001b[0m\u001b[0;34m.\u001b[0m\u001b[0mtake\u001b[0m\u001b[0;34m(\u001b[0m\u001b[0mindexer\u001b[0m\u001b[0;34m)\u001b[0m\u001b[0;34m\u001b[0m\u001b[0;34m\u001b[0m\u001b[0m\n",
            "\u001b[0;32m/usr/local/lib/python3.10/dist-packages/pandas/core/indexes/base.py\u001b[0m in \u001b[0;36m_raise_if_missing\u001b[0;34m(self, key, indexer, axis_name)\u001b[0m\n\u001b[1;32m   5939\u001b[0m \u001b[0;34m\u001b[0m\u001b[0m\n\u001b[1;32m   5940\u001b[0m             \u001b[0mnot_found\u001b[0m \u001b[0;34m=\u001b[0m \u001b[0mlist\u001b[0m\u001b[0;34m(\u001b[0m\u001b[0mensure_index\u001b[0m\u001b[0;34m(\u001b[0m\u001b[0mkey\u001b[0m\u001b[0;34m)\u001b[0m\u001b[0;34m[\u001b[0m\u001b[0mmissing_mask\u001b[0m\u001b[0;34m.\u001b[0m\u001b[0mnonzero\u001b[0m\u001b[0;34m(\u001b[0m\u001b[0;34m)\u001b[0m\u001b[0;34m[\u001b[0m\u001b[0;36m0\u001b[0m\u001b[0;34m]\u001b[0m\u001b[0;34m]\u001b[0m\u001b[0;34m.\u001b[0m\u001b[0munique\u001b[0m\u001b[0;34m(\u001b[0m\u001b[0;34m)\u001b[0m\u001b[0;34m)\u001b[0m\u001b[0;34m\u001b[0m\u001b[0;34m\u001b[0m\u001b[0m\n\u001b[0;32m-> 5941\u001b[0;31m             \u001b[0;32mraise\u001b[0m \u001b[0mKeyError\u001b[0m\u001b[0;34m(\u001b[0m\u001b[0;34mf\"{not_found} not in index\"\u001b[0m\u001b[0;34m)\u001b[0m\u001b[0;34m\u001b[0m\u001b[0;34m\u001b[0m\u001b[0m\n\u001b[0m\u001b[1;32m   5942\u001b[0m \u001b[0;34m\u001b[0m\u001b[0m\n\u001b[1;32m   5943\u001b[0m     \u001b[0;34m@\u001b[0m\u001b[0moverload\u001b[0m\u001b[0;34m\u001b[0m\u001b[0;34m\u001b[0m\u001b[0m\n",
            "\u001b[0;31mKeyError\u001b[0m: \"['id'] not in index\""
          ]
        }
      ]
    },
    {
      "cell_type": "code",
      "source": [
        "ls"
      ],
      "metadata": {
        "colab": {
          "base_uri": "https://localhost:8080/"
        },
        "id": "0_oTp0VODblb",
        "outputId": "519fd5c1-d3ce-4814-857d-cbda642aa271"
      },
      "execution_count": null,
      "outputs": [
        {
          "output_type": "stream",
          "name": "stdout",
          "text": [
            "kaggle.json  \u001b[0m\u001b[01;34mmodels\u001b[0m/  \u001b[01;34msample_data\u001b[0m/  submission.csv\n"
          ]
        }
      ]
    },
    {
      "cell_type": "code",
      "source": [
        "!kaggle competitions submit -c playground-series-s4e4 -f submission.csv -m \"Neural Network Sub \""
      ],
      "metadata": {
        "colab": {
          "base_uri": "https://localhost:8080/"
        },
        "id": "7HPfa0z4Kgza",
        "outputId": "c8de0fe0-83ca-489a-aa05-9d5ae3b68bb7"
      },
      "execution_count": null,
      "outputs": [
        {
          "output_type": "stream",
          "name": "stdout",
          "text": [
            "Traceback (most recent call last):\n",
            "  File \"/usr/local/bin/kaggle\", line 8, in <module>\n",
            "    sys.exit(main())\n",
            "  File \"/usr/local/lib/python3.10/dist-packages/kaggle/cli.py\", line 70, in main\n",
            "    out = args.func(**command_args)\n",
            "  File \"/usr/local/lib/python3.10/dist-packages/kaggle/api/kaggle_api_extended.py\", line 801, in competition_submit_cli\n",
            "    submit_result = self.competition_submit(file_name, message,\n",
            "  File \"/usr/local/lib/python3.10/dist-packages/kaggle/api/kaggle_api_extended.py\", line 752, in competition_submit\n",
            "    content_length=os.path.getsize(file_name),\n",
            "  File \"/usr/lib/python3.10/genericpath.py\", line 50, in getsize\n",
            "    return os.stat(filename).st_size\n",
            "FileNotFoundError: [Errno 2] No such file or directory: 'submission.csv'\n"
          ]
        }
      ]
    },
    {
      "cell_type": "markdown",
      "source": [
        "####Neural Network without id column"
      ],
      "metadata": {
        "id": "bl8mqqJMdxQ4"
      }
    },
    {
      "cell_type": "code",
      "source": [
        "target_preds = nn_preds[0]\n",
        "\n",
        "test_df['Rings'] = target_preds\n",
        "\n",
        "test_df.to_csv('submission.csv', columns=['Rings'], index=True, index_label='id')\n",
        "\n",
        "submission = pd.read_csv('submission.csv')\n",
        "submission.head()"
      ],
      "metadata": {
        "colab": {
          "base_uri": "https://localhost:8080/",
          "height": 206
        },
        "id": "CNc5kfORRvP_",
        "outputId": "2cc8d3ec-9b31-4868-8fd2-ebc42bf1f734"
      },
      "execution_count": null,
      "outputs": [
        {
          "output_type": "execute_result",
          "data": {
            "text/plain": [
              "      id      Rings\n",
              "0  90615   9.585294\n",
              "1  90616   9.558704\n",
              "2  90617  10.182476\n",
              "3  90618  10.097217\n",
              "4  90619   7.680708"
            ],
            "text/html": [
              "\n",
              "  <div id=\"df-4786d7ce-a4a8-4c2c-8d7f-6d2f10c2aa59\" class=\"colab-df-container\">\n",
              "    <div>\n",
              "<style scoped>\n",
              "    .dataframe tbody tr th:only-of-type {\n",
              "        vertical-align: middle;\n",
              "    }\n",
              "\n",
              "    .dataframe tbody tr th {\n",
              "        vertical-align: top;\n",
              "    }\n",
              "\n",
              "    .dataframe thead th {\n",
              "        text-align: right;\n",
              "    }\n",
              "</style>\n",
              "<table border=\"1\" class=\"dataframe\">\n",
              "  <thead>\n",
              "    <tr style=\"text-align: right;\">\n",
              "      <th></th>\n",
              "      <th>id</th>\n",
              "      <th>Rings</th>\n",
              "    </tr>\n",
              "  </thead>\n",
              "  <tbody>\n",
              "    <tr>\n",
              "      <th>0</th>\n",
              "      <td>90615</td>\n",
              "      <td>9.585294</td>\n",
              "    </tr>\n",
              "    <tr>\n",
              "      <th>1</th>\n",
              "      <td>90616</td>\n",
              "      <td>9.558704</td>\n",
              "    </tr>\n",
              "    <tr>\n",
              "      <th>2</th>\n",
              "      <td>90617</td>\n",
              "      <td>10.182476</td>\n",
              "    </tr>\n",
              "    <tr>\n",
              "      <th>3</th>\n",
              "      <td>90618</td>\n",
              "      <td>10.097217</td>\n",
              "    </tr>\n",
              "    <tr>\n",
              "      <th>4</th>\n",
              "      <td>90619</td>\n",
              "      <td>7.680708</td>\n",
              "    </tr>\n",
              "  </tbody>\n",
              "</table>\n",
              "</div>\n",
              "    <div class=\"colab-df-buttons\">\n",
              "\n",
              "  <div class=\"colab-df-container\">\n",
              "    <button class=\"colab-df-convert\" onclick=\"convertToInteractive('df-4786d7ce-a4a8-4c2c-8d7f-6d2f10c2aa59')\"\n",
              "            title=\"Convert this dataframe to an interactive table.\"\n",
              "            style=\"display:none;\">\n",
              "\n",
              "  <svg xmlns=\"http://www.w3.org/2000/svg\" height=\"24px\" viewBox=\"0 -960 960 960\">\n",
              "    <path d=\"M120-120v-720h720v720H120Zm60-500h600v-160H180v160Zm220 220h160v-160H400v160Zm0 220h160v-160H400v160ZM180-400h160v-160H180v160Zm440 0h160v-160H620v160ZM180-180h160v-160H180v160Zm440 0h160v-160H620v160Z\"/>\n",
              "  </svg>\n",
              "    </button>\n",
              "\n",
              "  <style>\n",
              "    .colab-df-container {\n",
              "      display:flex;\n",
              "      gap: 12px;\n",
              "    }\n",
              "\n",
              "    .colab-df-convert {\n",
              "      background-color: #E8F0FE;\n",
              "      border: none;\n",
              "      border-radius: 50%;\n",
              "      cursor: pointer;\n",
              "      display: none;\n",
              "      fill: #1967D2;\n",
              "      height: 32px;\n",
              "      padding: 0 0 0 0;\n",
              "      width: 32px;\n",
              "    }\n",
              "\n",
              "    .colab-df-convert:hover {\n",
              "      background-color: #E2EBFA;\n",
              "      box-shadow: 0px 1px 2px rgba(60, 64, 67, 0.3), 0px 1px 3px 1px rgba(60, 64, 67, 0.15);\n",
              "      fill: #174EA6;\n",
              "    }\n",
              "\n",
              "    .colab-df-buttons div {\n",
              "      margin-bottom: 4px;\n",
              "    }\n",
              "\n",
              "    [theme=dark] .colab-df-convert {\n",
              "      background-color: #3B4455;\n",
              "      fill: #D2E3FC;\n",
              "    }\n",
              "\n",
              "    [theme=dark] .colab-df-convert:hover {\n",
              "      background-color: #434B5C;\n",
              "      box-shadow: 0px 1px 3px 1px rgba(0, 0, 0, 0.15);\n",
              "      filter: drop-shadow(0px 1px 2px rgba(0, 0, 0, 0.3));\n",
              "      fill: #FFFFFF;\n",
              "    }\n",
              "  </style>\n",
              "\n",
              "    <script>\n",
              "      const buttonEl =\n",
              "        document.querySelector('#df-4786d7ce-a4a8-4c2c-8d7f-6d2f10c2aa59 button.colab-df-convert');\n",
              "      buttonEl.style.display =\n",
              "        google.colab.kernel.accessAllowed ? 'block' : 'none';\n",
              "\n",
              "      async function convertToInteractive(key) {\n",
              "        const element = document.querySelector('#df-4786d7ce-a4a8-4c2c-8d7f-6d2f10c2aa59');\n",
              "        const dataTable =\n",
              "          await google.colab.kernel.invokeFunction('convertToInteractive',\n",
              "                                                    [key], {});\n",
              "        if (!dataTable) return;\n",
              "\n",
              "        const docLinkHtml = 'Like what you see? Visit the ' +\n",
              "          '<a target=\"_blank\" href=https://colab.research.google.com/notebooks/data_table.ipynb>data table notebook</a>'\n",
              "          + ' to learn more about interactive tables.';\n",
              "        element.innerHTML = '';\n",
              "        dataTable['output_type'] = 'display_data';\n",
              "        await google.colab.output.renderOutput(dataTable, element);\n",
              "        const docLink = document.createElement('div');\n",
              "        docLink.innerHTML = docLinkHtml;\n",
              "        element.appendChild(docLink);\n",
              "      }\n",
              "    </script>\n",
              "  </div>\n",
              "\n",
              "\n",
              "<div id=\"df-eac29983-a781-48a7-a687-44a91d7357d2\">\n",
              "  <button class=\"colab-df-quickchart\" onclick=\"quickchart('df-eac29983-a781-48a7-a687-44a91d7357d2')\"\n",
              "            title=\"Suggest charts\"\n",
              "            style=\"display:none;\">\n",
              "\n",
              "<svg xmlns=\"http://www.w3.org/2000/svg\" height=\"24px\"viewBox=\"0 0 24 24\"\n",
              "     width=\"24px\">\n",
              "    <g>\n",
              "        <path d=\"M19 3H5c-1.1 0-2 .9-2 2v14c0 1.1.9 2 2 2h14c1.1 0 2-.9 2-2V5c0-1.1-.9-2-2-2zM9 17H7v-7h2v7zm4 0h-2V7h2v10zm4 0h-2v-4h2v4z\"/>\n",
              "    </g>\n",
              "</svg>\n",
              "  </button>\n",
              "\n",
              "<style>\n",
              "  .colab-df-quickchart {\n",
              "      --bg-color: #E8F0FE;\n",
              "      --fill-color: #1967D2;\n",
              "      --hover-bg-color: #E2EBFA;\n",
              "      --hover-fill-color: #174EA6;\n",
              "      --disabled-fill-color: #AAA;\n",
              "      --disabled-bg-color: #DDD;\n",
              "  }\n",
              "\n",
              "  [theme=dark] .colab-df-quickchart {\n",
              "      --bg-color: #3B4455;\n",
              "      --fill-color: #D2E3FC;\n",
              "      --hover-bg-color: #434B5C;\n",
              "      --hover-fill-color: #FFFFFF;\n",
              "      --disabled-bg-color: #3B4455;\n",
              "      --disabled-fill-color: #666;\n",
              "  }\n",
              "\n",
              "  .colab-df-quickchart {\n",
              "    background-color: var(--bg-color);\n",
              "    border: none;\n",
              "    border-radius: 50%;\n",
              "    cursor: pointer;\n",
              "    display: none;\n",
              "    fill: var(--fill-color);\n",
              "    height: 32px;\n",
              "    padding: 0;\n",
              "    width: 32px;\n",
              "  }\n",
              "\n",
              "  .colab-df-quickchart:hover {\n",
              "    background-color: var(--hover-bg-color);\n",
              "    box-shadow: 0 1px 2px rgba(60, 64, 67, 0.3), 0 1px 3px 1px rgba(60, 64, 67, 0.15);\n",
              "    fill: var(--button-hover-fill-color);\n",
              "  }\n",
              "\n",
              "  .colab-df-quickchart-complete:disabled,\n",
              "  .colab-df-quickchart-complete:disabled:hover {\n",
              "    background-color: var(--disabled-bg-color);\n",
              "    fill: var(--disabled-fill-color);\n",
              "    box-shadow: none;\n",
              "  }\n",
              "\n",
              "  .colab-df-spinner {\n",
              "    border: 2px solid var(--fill-color);\n",
              "    border-color: transparent;\n",
              "    border-bottom-color: var(--fill-color);\n",
              "    animation:\n",
              "      spin 1s steps(1) infinite;\n",
              "  }\n",
              "\n",
              "  @keyframes spin {\n",
              "    0% {\n",
              "      border-color: transparent;\n",
              "      border-bottom-color: var(--fill-color);\n",
              "      border-left-color: var(--fill-color);\n",
              "    }\n",
              "    20% {\n",
              "      border-color: transparent;\n",
              "      border-left-color: var(--fill-color);\n",
              "      border-top-color: var(--fill-color);\n",
              "    }\n",
              "    30% {\n",
              "      border-color: transparent;\n",
              "      border-left-color: var(--fill-color);\n",
              "      border-top-color: var(--fill-color);\n",
              "      border-right-color: var(--fill-color);\n",
              "    }\n",
              "    40% {\n",
              "      border-color: transparent;\n",
              "      border-right-color: var(--fill-color);\n",
              "      border-top-color: var(--fill-color);\n",
              "    }\n",
              "    60% {\n",
              "      border-color: transparent;\n",
              "      border-right-color: var(--fill-color);\n",
              "    }\n",
              "    80% {\n",
              "      border-color: transparent;\n",
              "      border-right-color: var(--fill-color);\n",
              "      border-bottom-color: var(--fill-color);\n",
              "    }\n",
              "    90% {\n",
              "      border-color: transparent;\n",
              "      border-bottom-color: var(--fill-color);\n",
              "    }\n",
              "  }\n",
              "</style>\n",
              "\n",
              "  <script>\n",
              "    async function quickchart(key) {\n",
              "      const quickchartButtonEl =\n",
              "        document.querySelector('#' + key + ' button');\n",
              "      quickchartButtonEl.disabled = true;  // To prevent multiple clicks.\n",
              "      quickchartButtonEl.classList.add('colab-df-spinner');\n",
              "      try {\n",
              "        const charts = await google.colab.kernel.invokeFunction(\n",
              "            'suggestCharts', [key], {});\n",
              "      } catch (error) {\n",
              "        console.error('Error during call to suggestCharts:', error);\n",
              "      }\n",
              "      quickchartButtonEl.classList.remove('colab-df-spinner');\n",
              "      quickchartButtonEl.classList.add('colab-df-quickchart-complete');\n",
              "    }\n",
              "    (() => {\n",
              "      let quickchartButtonEl =\n",
              "        document.querySelector('#df-eac29983-a781-48a7-a687-44a91d7357d2 button');\n",
              "      quickchartButtonEl.style.display =\n",
              "        google.colab.kernel.accessAllowed ? 'block' : 'none';\n",
              "    })();\n",
              "  </script>\n",
              "</div>\n",
              "\n",
              "    </div>\n",
              "  </div>\n"
            ],
            "application/vnd.google.colaboratory.intrinsic+json": {
              "type": "dataframe",
              "variable_name": "submission",
              "summary": "{\n  \"name\": \"submission\",\n  \"rows\": 60411,\n  \"fields\": [\n    {\n      \"column\": \"id\",\n      \"properties\": {\n        \"dtype\": \"number\",\n        \"std\": 17439,\n        \"min\": 90615,\n        \"max\": 151025,\n        \"num_unique_values\": 60411,\n        \"samples\": [\n          91344,\n          125524,\n          107704\n        ],\n        \"semantic_type\": \"\",\n        \"description\": \"\"\n      }\n    },\n    {\n      \"column\": \"Rings\",\n      \"properties\": {\n        \"dtype\": \"number\",\n        \"std\": 3.1802678381139504,\n        \"min\": -286.03317,\n        \"max\": 34.101875,\n        \"num_unique_values\": 60178,\n        \"samples\": [\n          8.315887,\n          8.997678,\n          11.30472\n        ],\n        \"semantic_type\": \"\",\n        \"description\": \"\"\n      }\n    }\n  ]\n}"
            }
          },
          "metadata": {},
          "execution_count": 125
        }
      ]
    },
    {
      "cell_type": "code",
      "source": [
        "!kaggle competitions submit -c playground-series-s4e4 -f submission.csv -m \"Neural Network Sub \""
      ],
      "metadata": {
        "colab": {
          "base_uri": "https://localhost:8080/"
        },
        "id": "bl38TFm0Zvs7",
        "outputId": "3768841a-cebb-4b3b-e346-2f36169779a6"
      },
      "execution_count": null,
      "outputs": [
        {
          "output_type": "stream",
          "name": "stdout",
          "text": [
            "Warning: Looks like you're using an outdated API Version, please consider updating (server 1.6.11 / client 1.5.16)\n",
            "100% 962k/962k [00:03<00:00, 295kB/s]\n",
            "Successfully submitted to Regression with an Abalone Dataset"
          ]
        }
      ]
    },
    {
      "cell_type": "markdown",
      "source": [
        "###Neural Network Ensemble"
      ],
      "metadata": {
        "id": "krUPKLXGC-0L"
      }
    },
    {
      "cell_type": "code",
      "source": [
        "learn.lr_find(suggest_funcs=(slide,valley))"
      ],
      "metadata": {
        "colab": {
          "base_uri": "https://localhost:8080/",
          "height": 474
        },
        "id": "MqfIgLrNCmcE",
        "outputId": "55de86e9-a161-4eef-a93c-e19d3e08dee8"
      },
      "execution_count": null,
      "outputs": [
        {
          "output_type": "display_data",
          "data": {
            "text/plain": [
              "<IPython.core.display.HTML object>"
            ],
            "text/html": [
              "\n",
              "<style>\n",
              "    /* Turns off some styling */\n",
              "    progress {\n",
              "        /* gets rid of default border in Firefox and Opera. */\n",
              "        border: none;\n",
              "        /* Needs to be in here for Safari polyfill so background images work as expected. */\n",
              "        background-size: auto;\n",
              "    }\n",
              "    progress:not([value]), progress:not([value])::-webkit-progress-bar {\n",
              "        background: repeating-linear-gradient(45deg, #7e7e7e, #7e7e7e 10px, #5c5c5c 10px, #5c5c5c 20px);\n",
              "    }\n",
              "    .progress-bar-interrupted, .progress-bar-interrupted::-webkit-progress-bar {\n",
              "        background: #F44336;\n",
              "    }\n",
              "</style>\n"
            ]
          },
          "metadata": {}
        },
        {
          "output_type": "display_data",
          "data": {
            "text/plain": [
              "<IPython.core.display.HTML object>"
            ],
            "text/html": []
          },
          "metadata": {}
        },
        {
          "output_type": "execute_result",
          "data": {
            "text/plain": [
              "SuggestedLRs(slide=2.0892961401841603e-05, valley=0.00363078061491251)"
            ]
          },
          "metadata": {},
          "execution_count": 35
        },
        {
          "output_type": "display_data",
          "data": {
            "text/plain": [
              "<Figure size 640x480 with 1 Axes>"
            ],
            "image/png": "[encoded data removed]"
          },
          "metadata": {}
        }
      ]
    },
    {
      "cell_type": "code",
      "source": [
        "dl = learn.dls.test_dl(test_df)"
      ],
      "metadata": {
        "id": "ip78WNWECmZG"
      },
      "execution_count": null,
      "outputs": []
    },
    {
      "cell_type": "code",
      "source": [
        "def ensemble():\n",
        "    learn = tabular_learner(dls, metrics=rmse)\n",
        "    with learn.no_bar(),learn.no_logging(): learn.fit(9, slice(2.0992961401841603e-03,0.00263078061491251))\n",
        "    return learn.get_preds(dl=dl)[0]"
      ],
      "metadata": {
        "id": "0GKXDJEuCmUA"
      },
      "execution_count": null,
      "outputs": []
    },
    {
      "cell_type": "code",
      "source": [
        "learns = [ensemble() for _ in range(5)]"
      ],
      "metadata": {
        "colab": {
          "base_uri": "https://localhost:8080/",
          "height": 17
        },
        "id": "ev-LufEYCmPg",
        "outputId": "246590ce-f542-4404-a6e7-233a317cbe69"
      },
      "execution_count": null,
      "outputs": [
        {
          "output_type": "display_data",
          "data": {
            "text/plain": [
              "<IPython.core.display.HTML object>"
            ],
            "text/html": [
              "\n",
              "<style>\n",
              "    /* Turns off some styling */\n",
              "    progress {\n",
              "        /* gets rid of default border in Firefox and Opera. */\n",
              "        border: none;\n",
              "        /* Needs to be in here for Safari polyfill so background images work as expected. */\n",
              "        background-size: auto;\n",
              "    }\n",
              "    progress:not([value]), progress:not([value])::-webkit-progress-bar {\n",
              "        background: repeating-linear-gradient(45deg, #7e7e7e, #7e7e7e 10px, #5c5c5c 10px, #5c5c5c 20px);\n",
              "    }\n",
              "    .progress-bar-interrupted, .progress-bar-interrupted::-webkit-progress-bar {\n",
              "        background: #F44336;\n",
              "    }\n",
              "</style>\n"
            ]
          },
          "metadata": {}
        },
        {
          "output_type": "display_data",
          "data": {
            "text/plain": [
              "<IPython.core.display.HTML object>"
            ],
            "text/html": []
          },
          "metadata": {}
        },
        {
          "output_type": "display_data",
          "data": {
            "text/plain": [
              "<IPython.core.display.HTML object>"
            ],
            "text/html": [
              "\n",
              "<style>\n",
              "    /* Turns off some styling */\n",
              "    progress {\n",
              "        /* gets rid of default border in Firefox and Opera. */\n",
              "        border: none;\n",
              "        /* Needs to be in here for Safari polyfill so background images work as expected. */\n",
              "        background-size: auto;\n",
              "    }\n",
              "    progress:not([value]), progress:not([value])::-webkit-progress-bar {\n",
              "        background: repeating-linear-gradient(45deg, #7e7e7e, #7e7e7e 10px, #5c5c5c 10px, #5c5c5c 20px);\n",
              "    }\n",
              "    .progress-bar-interrupted, .progress-bar-interrupted::-webkit-progress-bar {\n",
              "        background: #F44336;\n",
              "    }\n",
              "</style>\n"
            ]
          },
          "metadata": {}
        },
        {
          "output_type": "display_data",
          "data": {
            "text/plain": [
              "<IPython.core.display.HTML object>"
            ],
            "text/html": []
          },
          "metadata": {}
        },
        {
          "output_type": "display_data",
          "data": {
            "text/plain": [
              "<IPython.core.display.HTML object>"
            ],
            "text/html": [
              "\n",
              "<style>\n",
              "    /* Turns off some styling */\n",
              "    progress {\n",
              "        /* gets rid of default border in Firefox and Opera. */\n",
              "        border: none;\n",
              "        /* Needs to be in here for Safari polyfill so background images work as expected. */\n",
              "        background-size: auto;\n",
              "    }\n",
              "    progress:not([value]), progress:not([value])::-webkit-progress-bar {\n",
              "        background: repeating-linear-gradient(45deg, #7e7e7e, #7e7e7e 10px, #5c5c5c 10px, #5c5c5c 20px);\n",
              "    }\n",
              "    .progress-bar-interrupted, .progress-bar-interrupted::-webkit-progress-bar {\n",
              "        background: #F44336;\n",
              "    }\n",
              "</style>\n"
            ]
          },
          "metadata": {}
        },
        {
          "output_type": "display_data",
          "data": {
            "text/plain": [
              "<IPython.core.display.HTML object>"
            ],
            "text/html": []
          },
          "metadata": {}
        },
        {
          "output_type": "display_data",
          "data": {
            "text/plain": [
              "<IPython.core.display.HTML object>"
            ],
            "text/html": [
              "\n",
              "<style>\n",
              "    /* Turns off some styling */\n",
              "    progress {\n",
              "        /* gets rid of default border in Firefox and Opera. */\n",
              "        border: none;\n",
              "        /* Needs to be in here for Safari polyfill so background images work as expected. */\n",
              "        background-size: auto;\n",
              "    }\n",
              "    progress:not([value]), progress:not([value])::-webkit-progress-bar {\n",
              "        background: repeating-linear-gradient(45deg, #7e7e7e, #7e7e7e 10px, #5c5c5c 10px, #5c5c5c 20px);\n",
              "    }\n",
              "    .progress-bar-interrupted, .progress-bar-interrupted::-webkit-progress-bar {\n",
              "        background: #F44336;\n",
              "    }\n",
              "</style>\n"
            ]
          },
          "metadata": {}
        },
        {
          "output_type": "display_data",
          "data": {
            "text/plain": [
              "<IPython.core.display.HTML object>"
            ],
            "text/html": []
          },
          "metadata": {}
        },
        {
          "output_type": "display_data",
          "data": {
            "text/plain": [
              "<IPython.core.display.HTML object>"
            ],
            "text/html": [
              "\n",
              "<style>\n",
              "    /* Turns off some styling */\n",
              "    progress {\n",
              "        /* gets rid of default border in Firefox and Opera. */\n",
              "        border: none;\n",
              "        /* Needs to be in here for Safari polyfill so background images work as expected. */\n",
              "        background-size: auto;\n",
              "    }\n",
              "    progress:not([value]), progress:not([value])::-webkit-progress-bar {\n",
              "        background: repeating-linear-gradient(45deg, #7e7e7e, #7e7e7e 10px, #5c5c5c 10px, #5c5c5c 20px);\n",
              "    }\n",
              "    .progress-bar-interrupted, .progress-bar-interrupted::-webkit-progress-bar {\n",
              "        background: #F44336;\n",
              "    }\n",
              "</style>\n"
            ]
          },
          "metadata": {}
        },
        {
          "output_type": "display_data",
          "data": {
            "text/plain": [
              "<IPython.core.display.HTML object>"
            ],
            "text/html": []
          },
          "metadata": {}
        }
      ]
    },
    {
      "cell_type": "code",
      "source": [
        "ens_preds = torch.stack(learns).mean(0)"
      ],
      "metadata": {
        "id": "Q_ym5aaxB4Uw"
      },
      "execution_count": null,
      "outputs": []
    },
    {
      "cell_type": "code",
      "source": [
        "ens_preds, _ = learn.get_preds(dl=dl)"
      ],
      "metadata": {
        "colab": {
          "base_uri": "https://localhost:8080/",
          "height": 17
        },
        "id": "s3C0RC1rI2CN",
        "outputId": "4e53e303-e62a-44c9-e596-90ad4ce24650"
      },
      "execution_count": null,
      "outputs": [
        {
          "output_type": "display_data",
          "data": {
            "text/plain": [
              "<IPython.core.display.HTML object>"
            ],
            "text/html": [
              "\n",
              "<style>\n",
              "    /* Turns off some styling */\n",
              "    progress {\n",
              "        /* gets rid of default border in Firefox and Opera. */\n",
              "        border: none;\n",
              "        /* Needs to be in here for Safari polyfill so background images work as expected. */\n",
              "        background-size: auto;\n",
              "    }\n",
              "    progress:not([value]), progress:not([value])::-webkit-progress-bar {\n",
              "        background: repeating-linear-gradient(45deg, #7e7e7e, #7e7e7e 10px, #5c5c5c 10px, #5c5c5c 20px);\n",
              "    }\n",
              "    .progress-bar-interrupted, .progress-bar-interrupted::-webkit-progress-bar {\n",
              "        background: #F44336;\n",
              "    }\n",
              "</style>\n"
            ]
          },
          "metadata": {}
        },
        {
          "output_type": "display_data",
          "data": {
            "text/plain": [
              "<IPython.core.display.HTML object>"
            ],
            "text/html": []
          },
          "metadata": {}
        }
      ]
    },
    {
      "cell_type": "code",
      "source": [
        "ens_preds_y = ens_preds.squeeze(1)\n",
        "ens_preds_y"
      ],
      "metadata": {
        "colab": {
          "base_uri": "https://localhost:8080/"
        },
        "id": "0oNVKGmWI886",
        "outputId": "338824c9-8d3e-4341-db9d-8c929ba58724"
      },
      "execution_count": null,
      "outputs": [
        {
          "output_type": "execute_result",
          "data": {
            "text/plain": [
              "tensor([ 9.4949,  9.9343, 10.2973,  ..., 12.5931, 13.3690,  8.6724])"
            ]
          },
          "metadata": {},
          "execution_count": 42
        }
      ]
    },
    {
      "cell_type": "code",
      "source": [
        "ens_preds_y[0]"
      ],
      "metadata": {
        "colab": {
          "base_uri": "https://localhost:8080/"
        },
        "id": "G51mbIGM6Ed6",
        "outputId": "4d82ac7a-88bd-4a84-cbab-c34c636358f1"
      },
      "execution_count": null,
      "outputs": [
        {
          "output_type": "execute_result",
          "data": {
            "text/plain": [
              "tensor(9.4949)"
            ]
          },
          "metadata": {},
          "execution_count": 43
        }
      ]
    },
    {
      "cell_type": "code",
      "source": [
        "#target_preds = ens_preds_y[0]\n",
        "\n",
        "#test_df['Rings'] = target_preds\n",
        "\n",
        "#test_df.to_csv('submission.csv', columns=['Rings'], index=True, index_label='id')\n",
        "\n",
        "#submission = pd.read_csv('submission.csv')\n",
        "#submission.head()"
      ],
      "metadata": {
        "id": "wKuwlRrEJHF3",
        "colab": {
          "base_uri": "https://localhost:8080/",
          "height": 206
        },
        "outputId": "2061056c-214e-4a1d-9994-a9e51ef00fb5"
      },
      "execution_count": null,
      "outputs": [
        {
          "output_type": "execute_result",
          "data": {
            "text/plain": [
              "      id           Rings\n",
              "0  90615  tensor(9.4949)\n",
              "1  90616  tensor(9.4949)\n",
              "2  90617  tensor(9.4949)\n",
              "3  90618  tensor(9.4949)\n",
              "4  90619  tensor(9.4949)"
            ],
            "text/html": [
              "\n",
              "  <div id=\"df-9834cb17-2acc-4bf9-b00f-62d70f82f179\" class=\"colab-df-container\">\n",
              "    <div>\n",
              "<style scoped>\n",
              "    .dataframe tbody tr th:only-of-type {\n",
              "        vertical-align: middle;\n",
              "    }\n",
              "\n",
              "    .dataframe tbody tr th {\n",
              "        vertical-align: top;\n",
              "    }\n",
              "\n",
              "    .dataframe thead th {\n",
              "        text-align: right;\n",
              "    }\n",
              "</style>\n",
              "<table border=\"1\" class=\"dataframe\">\n",
              "  <thead>\n",
              "    <tr style=\"text-align: right;\">\n",
              "      <th></th>\n",
              "      <th>id</th>\n",
              "      <th>Rings</th>\n",
              "    </tr>\n",
              "  </thead>\n",
              "  <tbody>\n",
              "    <tr>\n",
              "      <th>0</th>\n",
              "      <td>90615</td>\n",
              "      <td>tensor(9.4949)</td>\n",
              "    </tr>\n",
              "    <tr>\n",
              "      <th>1</th>\n",
              "      <td>90616</td>\n",
              "      <td>tensor(9.4949)</td>\n",
              "    </tr>\n",
              "    <tr>\n",
              "      <th>2</th>\n",
              "      <td>90617</td>\n",
              "      <td>tensor(9.4949)</td>\n",
              "    </tr>\n",
              "    <tr>\n",
              "      <th>3</th>\n",
              "      <td>90618</td>\n",
              "      <td>tensor(9.4949)</td>\n",
              "    </tr>\n",
              "    <tr>\n",
              "      <th>4</th>\n",
              "      <td>90619</td>\n",
              "      <td>tensor(9.4949)</td>\n",
              "    </tr>\n",
              "  </tbody>\n",
              "</table>\n",
              "</div>\n",
              "    <div class=\"colab-df-buttons\">\n",
              "\n",
              "  <div class=\"colab-df-container\">\n",
              "    <button class=\"colab-df-convert\" onclick=\"convertToInteractive('df-9834cb17-2acc-4bf9-b00f-62d70f82f179')\"\n",
              "            title=\"Convert this dataframe to an interactive table.\"\n",
              "            style=\"display:none;\">\n",
              "\n",
              "  <svg xmlns=\"http://www.w3.org/2000/svg\" height=\"24px\" viewBox=\"0 -960 960 960\">\n",
              "    <path d=\"M120-120v-720h720v720H120Zm60-500h600v-160H180v160Zm220 220h160v-160H400v160Zm0 220h160v-160H400v160ZM180-400h160v-160H180v160Zm440 0h160v-160H620v160ZM180-180h160v-160H180v160Zm440 0h160v-160H620v160Z\"/>\n",
              "  </svg>\n",
              "    </button>\n",
              "\n",
              "  <style>\n",
              "    .colab-df-container {\n",
              "      display:flex;\n",
              "      gap: 12px;\n",
              "    }\n",
              "\n",
              "    .colab-df-convert {\n",
              "      background-color: #E8F0FE;\n",
              "      border: none;\n",
              "      border-radius: 50%;\n",
              "      cursor: pointer;\n",
              "      display: none;\n",
              "      fill: #1967D2;\n",
              "      height: 32px;\n",
              "      padding: 0 0 0 0;\n",
              "      width: 32px;\n",
              "    }\n",
              "\n",
              "    .colab-df-convert:hover {\n",
              "      background-color: #E2EBFA;\n",
              "      box-shadow: 0px 1px 2px rgba(60, 64, 67, 0.3), 0px 1px 3px 1px rgba(60, 64, 67, 0.15);\n",
              "      fill: #174EA6;\n",
              "    }\n",
              "\n",
              "    .colab-df-buttons div {\n",
              "      margin-bottom: 4px;\n",
              "    }\n",
              "\n",
              "    [theme=dark] .colab-df-convert {\n",
              "      background-color: #3B4455;\n",
              "      fill: #D2E3FC;\n",
              "    }\n",
              "\n",
              "    [theme=dark] .colab-df-convert:hover {\n",
              "      background-color: #434B5C;\n",
              "      box-shadow: 0px 1px 3px 1px rgba(0, 0, 0, 0.15);\n",
              "      filter: drop-shadow(0px 1px 2px rgba(0, 0, 0, 0.3));\n",
              "      fill: #FFFFFF;\n",
              "    }\n",
              "  </style>\n",
              "\n",
              "    <script>\n",
              "      const buttonEl =\n",
              "        document.querySelector('#df-9834cb17-2acc-4bf9-b00f-62d70f82f179 button.colab-df-convert');\n",
              "      buttonEl.style.display =\n",
              "        google.colab.kernel.accessAllowed ? 'block' : 'none';\n",
              "\n",
              "      async function convertToInteractive(key) {\n",
              "        const element = document.querySelector('#df-9834cb17-2acc-4bf9-b00f-62d70f82f179');\n",
              "        const dataTable =\n",
              "          await google.colab.kernel.invokeFunction('convertToInteractive',\n",
              "                                                    [key], {});\n",
              "        if (!dataTable) return;\n",
              "\n",
              "        const docLinkHtml = 'Like what you see? Visit the ' +\n",
              "          '<a target=\"_blank\" href=https://colab.research.google.com/notebooks/data_table.ipynb>data table notebook</a>'\n",
              "          + ' to learn more about interactive tables.';\n",
              "        element.innerHTML = '';\n",
              "        dataTable['output_type'] = 'display_data';\n",
              "        await google.colab.output.renderOutput(dataTable, element);\n",
              "        const docLink = document.createElement('div');\n",
              "        docLink.innerHTML = docLinkHtml;\n",
              "        element.appendChild(docLink);\n",
              "      }\n",
              "    </script>\n",
              "  </div>\n",
              "\n",
              "\n",
              "<div id=\"df-4db8a05e-7bfb-40cd-a040-846eb3449989\">\n",
              "  <button class=\"colab-df-quickchart\" onclick=\"quickchart('df-4db8a05e-7bfb-40cd-a040-846eb3449989')\"\n",
              "            title=\"Suggest charts\"\n",
              "            style=\"display:none;\">\n",
              "\n",
              "<svg xmlns=\"http://www.w3.org/2000/svg\" height=\"24px\"viewBox=\"0 0 24 24\"\n",
              "     width=\"24px\">\n",
              "    <g>\n",
              "        <path d=\"M19 3H5c-1.1 0-2 .9-2 2v14c0 1.1.9 2 2 2h14c1.1 0 2-.9 2-2V5c0-1.1-.9-2-2-2zM9 17H7v-7h2v7zm4 0h-2V7h2v10zm4 0h-2v-4h2v4z\"/>\n",
              "    </g>\n",
              "</svg>\n",
              "  </button>\n",
              "\n",
              "<style>\n",
              "  .colab-df-quickchart {\n",
              "      --bg-color: #E8F0FE;\n",
              "      --fill-color: #1967D2;\n",
              "      --hover-bg-color: #E2EBFA;\n",
              "      --hover-fill-color: #174EA6;\n",
              "      --disabled-fill-color: #AAA;\n",
              "      --disabled-bg-color: #DDD;\n",
              "  }\n",
              "\n",
              "  [theme=dark] .colab-df-quickchart {\n",
              "      --bg-color: #3B4455;\n",
              "      --fill-color: #D2E3FC;\n",
              "      --hover-bg-color: #434B5C;\n",
              "      --hover-fill-color: #FFFFFF;\n",
              "      --disabled-bg-color: #3B4455;\n",
              "      --disabled-fill-color: #666;\n",
              "  }\n",
              "\n",
              "  .colab-df-quickchart {\n",
              "    background-color: var(--bg-color);\n",
              "    border: none;\n",
              "    border-radius: 50%;\n",
              "    cursor: pointer;\n",
              "    display: none;\n",
              "    fill: var(--fill-color);\n",
              "    height: 32px;\n",
              "    padding: 0;\n",
              "    width: 32px;\n",
              "  }\n",
              "\n",
              "  .colab-df-quickchart:hover {\n",
              "    background-color: var(--hover-bg-color);\n",
              "    box-shadow: 0 1px 2px rgba(60, 64, 67, 0.3), 0 1px 3px 1px rgba(60, 64, 67, 0.15);\n",
              "    fill: var(--button-hover-fill-color);\n",
              "  }\n",
              "\n",
              "  .colab-df-quickchart-complete:disabled,\n",
              "  .colab-df-quickchart-complete:disabled:hover {\n",
              "    background-color: var(--disabled-bg-color);\n",
              "    fill: var(--disabled-fill-color);\n",
              "    box-shadow: none;\n",
              "  }\n",
              "\n",
              "  .colab-df-spinner {\n",
              "    border: 2px solid var(--fill-color);\n",
              "    border-color: transparent;\n",
              "    border-bottom-color: var(--fill-color);\n",
              "    animation:\n",
              "      spin 1s steps(1) infinite;\n",
              "  }\n",
              "\n",
              "  @keyframes spin {\n",
              "    0% {\n",
              "      border-color: transparent;\n",
              "      border-bottom-color: var(--fill-color);\n",
              "      border-left-color: var(--fill-color);\n",
              "    }\n",
              "    20% {\n",
              "      border-color: transparent;\n",
              "      border-left-color: var(--fill-color);\n",
              "      border-top-color: var(--fill-color);\n",
              "    }\n",
              "    30% {\n",
              "      border-color: transparent;\n",
              "      border-left-color: var(--fill-color);\n",
              "      border-top-color: var(--fill-color);\n",
              "      border-right-color: var(--fill-color);\n",
              "    }\n",
              "    40% {\n",
              "      border-color: transparent;\n",
              "      border-right-color: var(--fill-color);\n",
              "      border-top-color: var(--fill-color);\n",
              "    }\n",
              "    60% {\n",
              "      border-color: transparent;\n",
              "      border-right-color: var(--fill-color);\n",
              "    }\n",
              "    80% {\n",
              "      border-color: transparent;\n",
              "      border-right-color: var(--fill-color);\n",
              "      border-bottom-color: var(--fill-color);\n",
              "    }\n",
              "    90% {\n",
              "      border-color: transparent;\n",
              "      border-bottom-color: var(--fill-color);\n",
              "    }\n",
              "  }\n",
              "</style>\n",
              "\n",
              "  <script>\n",
              "    async function quickchart(key) {\n",
              "      const quickchartButtonEl =\n",
              "        document.querySelector('#' + key + ' button');\n",
              "      quickchartButtonEl.disabled = true;  // To prevent multiple clicks.\n",
              "      quickchartButtonEl.classList.add('colab-df-spinner');\n",
              "      try {\n",
              "        const charts = await google.colab.kernel.invokeFunction(\n",
              "            'suggestCharts', [key], {});\n",
              "      } catch (error) {\n",
              "        console.error('Error during call to suggestCharts:', error);\n",
              "      }\n",
              "      quickchartButtonEl.classList.remove('colab-df-spinner');\n",
              "      quickchartButtonEl.classList.add('colab-df-quickchart-complete');\n",
              "    }\n",
              "    (() => {\n",
              "      let quickchartButtonEl =\n",
              "        document.querySelector('#df-4db8a05e-7bfb-40cd-a040-846eb3449989 button');\n",
              "      quickchartButtonEl.style.display =\n",
              "        google.colab.kernel.accessAllowed ? 'block' : 'none';\n",
              "    })();\n",
              "  </script>\n",
              "</div>\n",
              "\n",
              "    </div>\n",
              "  </div>\n"
            ],
            "application/vnd.google.colaboratory.intrinsic+json": {
              "type": "dataframe",
              "variable_name": "submission",
              "summary": "{\n  \"name\": \"submission\",\n  \"rows\": 60411,\n  \"fields\": [\n    {\n      \"column\": \"id\",\n      \"properties\": {\n        \"dtype\": \"number\",\n        \"std\": 17439,\n        \"min\": 90615,\n        \"max\": 151025,\n        \"num_unique_values\": 60411,\n        \"samples\": [\n          91344,\n          125524,\n          107704\n        ],\n        \"semantic_type\": \"\",\n        \"description\": \"\"\n      }\n    },\n    {\n      \"column\": \"Rings\",\n      \"properties\": {\n        \"dtype\": \"category\",\n        \"num_unique_values\": 1,\n        \"samples\": [\n          \"tensor(9.4949)\"\n        ],\n        \"semantic_type\": \"\",\n        \"description\": \"\"\n      }\n    }\n  ]\n}"
            }
          },
          "metadata": {},
          "execution_count": 44
        }
      ]
    },
    {
      "cell_type": "code",
      "source": [
        "target_preds = ens_preds_y\n",
        "\n",
        "test_df['Rings'] = target_preds\n",
        "\n",
        "test_df.to_csv('submission.csv', columns=['Rings'], index=True, index_label='id')\n",
        "\n",
        "submission = pd.read_csv('submission.csv')\n",
        "submission.head()"
      ],
      "metadata": {
        "colab": {
          "base_uri": "https://localhost:8080/",
          "height": 206
        },
        "id": "qx2vQOQjUsBu",
        "outputId": "a77ac061-ce35-4571-f245-f55621ef3b50"
      },
      "execution_count": null,
      "outputs": [
        {
          "output_type": "execute_result",
          "data": {
            "text/plain": [
              "      id      Rings\n",
              "0  90615   9.494860\n",
              "1  90616   9.934261\n",
              "2  90617  10.297255\n",
              "3  90618   9.944864\n",
              "4  90619   7.782946"
            ],
            "text/html": [
              "\n",
              "  <div id=\"df-614e3bcf-b179-4da5-b2c2-a66ba70f85e7\" class=\"colab-df-container\">\n",
              "    <div>\n",
              "<style scoped>\n",
              "    .dataframe tbody tr th:only-of-type {\n",
              "        vertical-align: middle;\n",
              "    }\n",
              "\n",
              "    .dataframe tbody tr th {\n",
              "        vertical-align: top;\n",
              "    }\n",
              "\n",
              "    .dataframe thead th {\n",
              "        text-align: right;\n",
              "    }\n",
              "</style>\n",
              "<table border=\"1\" class=\"dataframe\">\n",
              "  <thead>\n",
              "    <tr style=\"text-align: right;\">\n",
              "      <th></th>\n",
              "      <th>id</th>\n",
              "      <th>Rings</th>\n",
              "    </tr>\n",
              "  </thead>\n",
              "  <tbody>\n",
              "    <tr>\n",
              "      <th>0</th>\n",
              "      <td>90615</td>\n",
              "      <td>9.494860</td>\n",
              "    </tr>\n",
              "    <tr>\n",
              "      <th>1</th>\n",
              "      <td>90616</td>\n",
              "      <td>9.934261</td>\n",
              "    </tr>\n",
              "    <tr>\n",
              "      <th>2</th>\n",
              "      <td>90617</td>\n",
              "      <td>10.297255</td>\n",
              "    </tr>\n",
              "    <tr>\n",
              "      <th>3</th>\n",
              "      <td>90618</td>\n",
              "      <td>9.944864</td>\n",
              "    </tr>\n",
              "    <tr>\n",
              "      <th>4</th>\n",
              "      <td>90619</td>\n",
              "      <td>7.782946</td>\n",
              "    </tr>\n",
              "  </tbody>\n",
              "</table>\n",
              "</div>\n",
              "    <div class=\"colab-df-buttons\">\n",
              "\n",
              "  <div class=\"colab-df-container\">\n",
              "    <button class=\"colab-df-convert\" onclick=\"convertToInteractive('df-614e3bcf-b179-4da5-b2c2-a66ba70f85e7')\"\n",
              "            title=\"Convert this dataframe to an interactive table.\"\n",
              "            style=\"display:none;\">\n",
              "\n",
              "  <svg xmlns=\"http://www.w3.org/2000/svg\" height=\"24px\" viewBox=\"0 -960 960 960\">\n",
              "    <path d=\"M120-120v-720h720v720H120Zm60-500h600v-160H180v160Zm220 220h160v-160H400v160Zm0 220h160v-160H400v160ZM180-400h160v-160H180v160Zm440 0h160v-160H620v160ZM180-180h160v-160H180v160Zm440 0h160v-160H620v160Z\"/>\n",
              "  </svg>\n",
              "    </button>\n",
              "\n",
              "  <style>\n",
              "    .colab-df-container {\n",
              "      display:flex;\n",
              "      gap: 12px;\n",
              "    }\n",
              "\n",
              "    .colab-df-convert {\n",
              "      background-color: #E8F0FE;\n",
              "      border: none;\n",
              "      border-radius: 50%;\n",
              "      cursor: pointer;\n",
              "      display: none;\n",
              "      fill: #1967D2;\n",
              "      height: 32px;\n",
              "      padding: 0 0 0 0;\n",
              "      width: 32px;\n",
              "    }\n",
              "\n",
              "    .colab-df-convert:hover {\n",
              "      background-color: #E2EBFA;\n",
              "      box-shadow: 0px 1px 2px rgba(60, 64, 67, 0.3), 0px 1px 3px 1px rgba(60, 64, 67, 0.15);\n",
              "      fill: #174EA6;\n",
              "    }\n",
              "\n",
              "    .colab-df-buttons div {\n",
              "      margin-bottom: 4px;\n",
              "    }\n",
              "\n",
              "    [theme=dark] .colab-df-convert {\n",
              "      background-color: #3B4455;\n",
              "      fill: #D2E3FC;\n",
              "    }\n",
              "\n",
              "    [theme=dark] .colab-df-convert:hover {\n",
              "      background-color: #434B5C;\n",
              "      box-shadow: 0px 1px 3px 1px rgba(0, 0, 0, 0.15);\n",
              "      filter: drop-shadow(0px 1px 2px rgba(0, 0, 0, 0.3));\n",
              "      fill: #FFFFFF;\n",
              "    }\n",
              "  </style>\n",
              "\n",
              "    <script>\n",
              "      const buttonEl =\n",
              "        document.querySelector('#df-614e3bcf-b179-4da5-b2c2-a66ba70f85e7 button.colab-df-convert');\n",
              "      buttonEl.style.display =\n",
              "        google.colab.kernel.accessAllowed ? 'block' : 'none';\n",
              "\n",
              "      async function convertToInteractive(key) {\n",
              "        const element = document.querySelector('#df-614e3bcf-b179-4da5-b2c2-a66ba70f85e7');\n",
              "        const dataTable =\n",
              "          await google.colab.kernel.invokeFunction('convertToInteractive',\n",
              "                                                    [key], {});\n",
              "        if (!dataTable) return;\n",
              "\n",
              "        const docLinkHtml = 'Like what you see? Visit the ' +\n",
              "          '<a target=\"_blank\" href=https://colab.research.google.com/notebooks/data_table.ipynb>data table notebook</a>'\n",
              "          + ' to learn more about interactive tables.';\n",
              "        element.innerHTML = '';\n",
              "        dataTable['output_type'] = 'display_data';\n",
              "        await google.colab.output.renderOutput(dataTable, element);\n",
              "        const docLink = document.createElement('div');\n",
              "        docLink.innerHTML = docLinkHtml;\n",
              "        element.appendChild(docLink);\n",
              "      }\n",
              "    </script>\n",
              "  </div>\n",
              "\n",
              "\n",
              "<div id=\"df-32853286-d2a7-4193-85ec-7db509a16735\">\n",
              "  <button class=\"colab-df-quickchart\" onclick=\"quickchart('df-32853286-d2a7-4193-85ec-7db509a16735')\"\n",
              "            title=\"Suggest charts\"\n",
              "            style=\"display:none;\">\n",
              "\n",
              "<svg xmlns=\"http://www.w3.org/2000/svg\" height=\"24px\"viewBox=\"0 0 24 24\"\n",
              "     width=\"24px\">\n",
              "    <g>\n",
              "        <path d=\"M19 3H5c-1.1 0-2 .9-2 2v14c0 1.1.9 2 2 2h14c1.1 0 2-.9 2-2V5c0-1.1-.9-2-2-2zM9 17H7v-7h2v7zm4 0h-2V7h2v10zm4 0h-2v-4h2v4z\"/>\n",
              "    </g>\n",
              "</svg>\n",
              "  </button>\n",
              "\n",
              "<style>\n",
              "  .colab-df-quickchart {\n",
              "      --bg-color: #E8F0FE;\n",
              "      --fill-color: #1967D2;\n",
              "      --hover-bg-color: #E2EBFA;\n",
              "      --hover-fill-color: #174EA6;\n",
              "      --disabled-fill-color: #AAA;\n",
              "      --disabled-bg-color: #DDD;\n",
              "  }\n",
              "\n",
              "  [theme=dark] .colab-df-quickchart {\n",
              "      --bg-color: #3B4455;\n",
              "      --fill-color: #D2E3FC;\n",
              "      --hover-bg-color: #434B5C;\n",
              "      --hover-fill-color: #FFFFFF;\n",
              "      --disabled-bg-color: #3B4455;\n",
              "      --disabled-fill-color: #666;\n",
              "  }\n",
              "\n",
              "  .colab-df-quickchart {\n",
              "    background-color: var(--bg-color);\n",
              "    border: none;\n",
              "    border-radius: 50%;\n",
              "    cursor: pointer;\n",
              "    display: none;\n",
              "    fill: var(--fill-color);\n",
              "    height: 32px;\n",
              "    padding: 0;\n",
              "    width: 32px;\n",
              "  }\n",
              "\n",
              "  .colab-df-quickchart:hover {\n",
              "    background-color: var(--hover-bg-color);\n",
              "    box-shadow: 0 1px 2px rgba(60, 64, 67, 0.3), 0 1px 3px 1px rgba(60, 64, 67, 0.15);\n",
              "    fill: var(--button-hover-fill-color);\n",
              "  }\n",
              "\n",
              "  .colab-df-quickchart-complete:disabled,\n",
              "  .colab-df-quickchart-complete:disabled:hover {\n",
              "    background-color: var(--disabled-bg-color);\n",
              "    fill: var(--disabled-fill-color);\n",
              "    box-shadow: none;\n",
              "  }\n",
              "\n",
              "  .colab-df-spinner {\n",
              "    border: 2px solid var(--fill-color);\n",
              "    border-color: transparent;\n",
              "    border-bottom-color: var(--fill-color);\n",
              "    animation:\n",
              "      spin 1s steps(1) infinite;\n",
              "  }\n",
              "\n",
              "  @keyframes spin {\n",
              "    0% {\n",
              "      border-color: transparent;\n",
              "      border-bottom-color: var(--fill-color);\n",
              "      border-left-color: var(--fill-color);\n",
              "    }\n",
              "    20% {\n",
              "      border-color: transparent;\n",
              "      border-left-color: var(--fill-color);\n",
              "      border-top-color: var(--fill-color);\n",
              "    }\n",
              "    30% {\n",
              "      border-color: transparent;\n",
              "      border-left-color: var(--fill-color);\n",
              "      border-top-color: var(--fill-color);\n",
              "      border-right-color: var(--fill-color);\n",
              "    }\n",
              "    40% {\n",
              "      border-color: transparent;\n",
              "      border-right-color: var(--fill-color);\n",
              "      border-top-color: var(--fill-color);\n",
              "    }\n",
              "    60% {\n",
              "      border-color: transparent;\n",
              "      border-right-color: var(--fill-color);\n",
              "    }\n",
              "    80% {\n",
              "      border-color: transparent;\n",
              "      border-right-color: var(--fill-color);\n",
              "      border-bottom-color: var(--fill-color);\n",
              "    }\n",
              "    90% {\n",
              "      border-color: transparent;\n",
              "      border-bottom-color: var(--fill-color);\n",
              "    }\n",
              "  }\n",
              "</style>\n",
              "\n",
              "  <script>\n",
              "    async function quickchart(key) {\n",
              "      const quickchartButtonEl =\n",
              "        document.querySelector('#' + key + ' button');\n",
              "      quickchartButtonEl.disabled = true;  // To prevent multiple clicks.\n",
              "      quickchartButtonEl.classList.add('colab-df-spinner');\n",
              "      try {\n",
              "        const charts = await google.colab.kernel.invokeFunction(\n",
              "            'suggestCharts', [key], {});\n",
              "      } catch (error) {\n",
              "        console.error('Error during call to suggestCharts:', error);\n",
              "      }\n",
              "      quickchartButtonEl.classList.remove('colab-df-spinner');\n",
              "      quickchartButtonEl.classList.add('colab-df-quickchart-complete');\n",
              "    }\n",
              "    (() => {\n",
              "      let quickchartButtonEl =\n",
              "        document.querySelector('#df-32853286-d2a7-4193-85ec-7db509a16735 button');\n",
              "      quickchartButtonEl.style.display =\n",
              "        google.colab.kernel.accessAllowed ? 'block' : 'none';\n",
              "    })();\n",
              "  </script>\n",
              "</div>\n",
              "\n",
              "    </div>\n",
              "  </div>\n"
            ],
            "application/vnd.google.colaboratory.intrinsic+json": {
              "type": "dataframe",
              "variable_name": "submission",
              "summary": "{\n  \"name\": \"submission\",\n  \"rows\": 60411,\n  \"fields\": [\n    {\n      \"column\": \"id\",\n      \"properties\": {\n        \"dtype\": \"number\",\n        \"std\": 17439,\n        \"min\": 90615,\n        \"max\": 151025,\n        \"num_unique_values\": 60411,\n        \"samples\": [\n          91344,\n          125524,\n          107704\n        ],\n        \"semantic_type\": \"\",\n        \"description\": \"\"\n      }\n    },\n    {\n      \"column\": \"Rings\",\n      \"properties\": {\n        \"dtype\": \"number\",\n        \"std\": 2.5789760535196073,\n        \"min\": 3.1246643,\n        \"max\": 22.940435,\n        \"num_unique_values\": 60199,\n        \"samples\": [\n          8.619631,\n          8.349764,\n          11.945152\n        ],\n        \"semantic_type\": \"\",\n        \"description\": \"\"\n      }\n    }\n  ]\n}"
            }
          },
          "metadata": {},
          "execution_count": 48
        }
      ]
    },
    {
      "cell_type": "code",
      "source": [
        "!ls"
      ],
      "metadata": {
        "colab": {
          "base_uri": "https://localhost:8080/"
        },
        "id": "CuVJ8NdChGGv",
        "outputId": "16a8c962-5ea4-4d4a-9b02-cd757f1bc0d8"
      },
      "execution_count": null,
      "outputs": [
        {
          "output_type": "stream",
          "name": "stdout",
          "text": [
            "kaggle.json  models  sample_data  submission.csv\n"
          ]
        }
      ]
    },
    {
      "cell_type": "code",
      "source": [
        "!kaggle competitions submit -c playground-series-s4e4 -f submission.csv -m \"Neural Network ensemble preds Sub 2 with no id column + no random seed \""
      ],
      "metadata": {
        "colab": {
          "base_uri": "https://localhost:8080/"
        },
        "id": "NPZteTEbKctP",
        "outputId": "350851c3-a71f-4276-d251-1b7bf940aba6"
      },
      "execution_count": null,
      "outputs": [
        {
          "output_type": "stream",
          "name": "stdout",
          "text": [
            "Warning: Looks like you're using an outdated API Version, please consider updating (server 1.6.7 / client 1.5.16)\n",
            "100% 964k/964k [00:00<00:00, 1.46MB/s]\n",
            "Successfully submitted to Regression with an Abalone Dataset"
          ]
        }
      ]
    },
    {
      "cell_type": "code",
      "source": [
        "submission = pd.DataFrame({\n",
        "     # Assuming 'Id' is the identifier column\n",
        "    'target': ens_preds\n",
        "})\n",
        "\n",
        "# Save your submission to a CSV file\n",
        "submission.to_csv('submission.csv', index=False)"
      ],
      "metadata": {
        "id": "XjWsw3vfgjEp"
      },
      "execution_count": null,
      "outputs": []
    },
    {
      "cell_type": "code",
      "source": [
        "def subm(preds, suff):\n",
        "    test_df['Rings'] = preds\n",
        "    sub_df = test_df[['id','Rings']]\n",
        "    sub_df.to_csv(f'sub{suff}.csv', index=False)\n",
        "\n",
        "subm(ens_preds, 'mission')"
      ],
      "metadata": {
        "id": "v6akMbm9KTXC"
      },
      "execution_count": null,
      "outputs": []
    },
    {
      "cell_type": "code",
      "source": [
        "#sub_df = pd.DataFrame(ens_preds, columns='Rings')\n",
        "#sub_df['id'] = test_df['id']\n",
        "\n",
        "# Reorder the columns to match the submission format\n",
        "#sub_df = sub_df[['id', 'Pastry', 'Z_Scratch', 'K_Scatch', 'Stains', 'Dirtiness', 'Bumps', 'Other_Faults']]\n",
        "\n",
        "# Save the submission DataFrame as a CSV file\n",
        "#sub_df.to_csv('rf_submission.csv', index=False)"
      ],
      "metadata": {
        "id": "ax0xXvV6FlgV"
      },
      "execution_count": null,
      "outputs": []
    },
    {
      "cell_type": "code",
      "source": [
        "#targets ='Rings'\n",
        "#test_df[targets] = ens_preds\n",
        "#sub_df['id'] = test_df['id']\n",
        "\n",
        "#test_df.to_csv('submission.csv', columns=['Rings'], index=False)\n",
        "\n",
        "#ens_sub = pd.read_csv('submission.csv')\n",
        "#ens_sub.head()"
      ],
      "metadata": {
        "id": "VlCfZn9J_cWe"
      },
      "execution_count": null,
      "outputs": []
    },
    {
      "cell_type": "markdown",
      "source": [
        "###Random Forest"
      ],
      "metadata": {
        "id": "mNykFNyteIl1"
      }
    },
    {
      "cell_type": "code",
      "source": [
        "X_train, y_train = to.train.xs, to.train.ys.values.ravel()\n",
        "X_test, y_test = to.valid.xs, to.valid.ys.values.ravel()"
      ],
      "metadata": {
        "id": "1D9MU7tqwa2O"
      },
      "execution_count": null,
      "outputs": []
    },
    {
      "cell_type": "code",
      "source": [
        "rf = RandomForestClassifier(100, min_samples_leaf=5)\n",
        "rf.fit(X_train, y_train);\n",
        "#mean_absolute_error(y_test, rf.predict(X_test))"
      ],
      "metadata": {
        "id": "DdbuBzjCwa6H"
      },
      "execution_count": null,
      "outputs": []
    },
    {
      "cell_type": "code",
      "source": [
        "mse = mean_absolute_error(y_test, rf.predict(X_test))\n",
        "rmse = np.sqrt(mse)\n",
        "rmse"
      ],
      "metadata": {
        "colab": {
          "base_uri": "https://localhost:8080/"
        },
        "id": "ObOqYc7cgGf0",
        "outputId": "d348d00b-8181-4da5-edb0-a897df2071b5"
      },
      "execution_count": null,
      "outputs": [
        {
          "output_type": "execute_result",
          "data": {
            "text/plain": [
              "1.1297983436444627"
            ]
          },
          "metadata": {},
          "execution_count": 66
        }
      ]
    },
    {
      "cell_type": "code",
      "source": [
        "#rf_preds = rf.predict(X_test)"
      ],
      "metadata": {
        "id": "_6s6L6R4eznX"
      },
      "execution_count": null,
      "outputs": []
    },
    {
      "cell_type": "code",
      "source": [
        "#rmse(rf_preds, tensor(y_test))"
      ],
      "metadata": {
        "id": "jT9m8Lu9TGzQ"
      },
      "execution_count": null,
      "outputs": []
    },
    {
      "cell_type": "markdown",
      "source": [
        "####Feature Importance"
      ],
      "metadata": {
        "id": "b_6Dvh6nwBsd"
      }
    },
    {
      "cell_type": "code",
      "source": [
        "def rf_feat_importance(m, df):\n",
        "    return pd.DataFrame({'cols':df.columns, 'imp':m.feature_importances_}\n",
        "                       ).sort_values('imp', ascending=False)"
      ],
      "metadata": {
        "id": "WA3e1wvyVDIo"
      },
      "execution_count": null,
      "outputs": []
    },
    {
      "cell_type": "code",
      "source": [
        "rf_feat_importance(rf, X_train)"
      ],
      "metadata": {
        "colab": {
          "base_uri": "https://localhost:8080/",
          "height": 300
        },
        "id": "e1o5PhpkVL37",
        "outputId": "04087fcd-3b54-446d-e4c6-af6284bfe0ba"
      },
      "execution_count": null,
      "outputs": [
        {
          "output_type": "execute_result",
          "data": {
            "text/plain": [
              "             cols       imp\n",
              "7    Shell weight  0.201675\n",
              "4    Whole weight  0.160129\n",
              "5  Whole weight.1  0.156906\n",
              "6  Whole weight.2  0.152109\n",
              "2        Diameter  0.104641\n",
              "1          Length  0.102218\n",
              "3          Height  0.093388\n",
              "0             Sex  0.028935"
            ],
            "text/html": [
              "\n",
              "  <div id=\"df-c963777e-ab69-4709-9590-1d259e19021e\" class=\"colab-df-container\">\n",
              "    <div>\n",
              "<style scoped>\n",
              "    .dataframe tbody tr th:only-of-type {\n",
              "        vertical-align: middle;\n",
              "    }\n",
              "\n",
              "    .dataframe tbody tr th {\n",
              "        vertical-align: top;\n",
              "    }\n",
              "\n",
              "    .dataframe thead th {\n",
              "        text-align: right;\n",
              "    }\n",
              "</style>\n",
              "<table border=\"1\" class=\"dataframe\">\n",
              "  <thead>\n",
              "    <tr style=\"text-align: right;\">\n",
              "      <th></th>\n",
              "      <th>cols</th>\n",
              "      <th>imp</th>\n",
              "    </tr>\n",
              "  </thead>\n",
              "  <tbody>\n",
              "    <tr>\n",
              "      <th>7</th>\n",
              "      <td>Shell weight</td>\n",
              "      <td>0.201675</td>\n",
              "    </tr>\n",
              "    <tr>\n",
              "      <th>4</th>\n",
              "      <td>Whole weight</td>\n",
              "      <td>0.160129</td>\n",
              "    </tr>\n",
              "    <tr>\n",
              "      <th>5</th>\n",
              "      <td>Whole weight.1</td>\n",
              "      <td>0.156906</td>\n",
              "    </tr>\n",
              "    <tr>\n",
              "      <th>6</th>\n",
              "      <td>Whole weight.2</td>\n",
              "      <td>0.152109</td>\n",
              "    </tr>\n",
              "    <tr>\n",
              "      <th>2</th>\n",
              "      <td>Diameter</td>\n",
              "      <td>0.104641</td>\n",
              "    </tr>\n",
              "    <tr>\n",
              "      <th>1</th>\n",
              "      <td>Length</td>\n",
              "      <td>0.102218</td>\n",
              "    </tr>\n",
              "    <tr>\n",
              "      <th>3</th>\n",
              "      <td>Height</td>\n",
              "      <td>0.093388</td>\n",
              "    </tr>\n",
              "    <tr>\n",
              "      <th>0</th>\n",
              "      <td>Sex</td>\n",
              "      <td>0.028935</td>\n",
              "    </tr>\n",
              "  </tbody>\n",
              "</table>\n",
              "</div>\n",
              "    <div class=\"colab-df-buttons\">\n",
              "\n",
              "  <div class=\"colab-df-container\">\n",
              "    <button class=\"colab-df-convert\" onclick=\"convertToInteractive('df-c963777e-ab69-4709-9590-1d259e19021e')\"\n",
              "            title=\"Convert this dataframe to an interactive table.\"\n",
              "            style=\"display:none;\">\n",
              "\n",
              "  <svg xmlns=\"http://www.w3.org/2000/svg\" height=\"24px\" viewBox=\"0 -960 960 960\">\n",
              "    <path d=\"M120-120v-720h720v720H120Zm60-500h600v-160H180v160Zm220 220h160v-160H400v160Zm0 220h160v-160H400v160ZM180-400h160v-160H180v160Zm440 0h160v-160H620v160ZM180-180h160v-160H180v160Zm440 0h160v-160H620v160Z\"/>\n",
              "  </svg>\n",
              "    </button>\n",
              "\n",
              "  <style>\n",
              "    .colab-df-container {\n",
              "      display:flex;\n",
              "      gap: 12px;\n",
              "    }\n",
              "\n",
              "    .colab-df-convert {\n",
              "      background-color: #E8F0FE;\n",
              "      border: none;\n",
              "      border-radius: 50%;\n",
              "      cursor: pointer;\n",
              "      display: none;\n",
              "      fill: #1967D2;\n",
              "      height: 32px;\n",
              "      padding: 0 0 0 0;\n",
              "      width: 32px;\n",
              "    }\n",
              "\n",
              "    .colab-df-convert:hover {\n",
              "      background-color: #E2EBFA;\n",
              "      box-shadow: 0px 1px 2px rgba(60, 64, 67, 0.3), 0px 1px 3px 1px rgba(60, 64, 67, 0.15);\n",
              "      fill: #174EA6;\n",
              "    }\n",
              "\n",
              "    .colab-df-buttons div {\n",
              "      margin-bottom: 4px;\n",
              "    }\n",
              "\n",
              "    [theme=dark] .colab-df-convert {\n",
              "      background-color: #3B4455;\n",
              "      fill: #D2E3FC;\n",
              "    }\n",
              "\n",
              "    [theme=dark] .colab-df-convert:hover {\n",
              "      background-color: #434B5C;\n",
              "      box-shadow: 0px 1px 3px 1px rgba(0, 0, 0, 0.15);\n",
              "      filter: drop-shadow(0px 1px 2px rgba(0, 0, 0, 0.3));\n",
              "      fill: #FFFFFF;\n",
              "    }\n",
              "  </style>\n",
              "\n",
              "    <script>\n",
              "      const buttonEl =\n",
              "        document.querySelector('#df-c963777e-ab69-4709-9590-1d259e19021e button.colab-df-convert');\n",
              "      buttonEl.style.display =\n",
              "        google.colab.kernel.accessAllowed ? 'block' : 'none';\n",
              "\n",
              "      async function convertToInteractive(key) {\n",
              "        const element = document.querySelector('#df-c963777e-ab69-4709-9590-1d259e19021e');\n",
              "        const dataTable =\n",
              "          await google.colab.kernel.invokeFunction('convertToInteractive',\n",
              "                                                    [key], {});\n",
              "        if (!dataTable) return;\n",
              "\n",
              "        const docLinkHtml = 'Like what you see? Visit the ' +\n",
              "          '<a target=\"_blank\" href=https://colab.research.google.com/notebooks/data_table.ipynb>data table notebook</a>'\n",
              "          + ' to learn more about interactive tables.';\n",
              "        element.innerHTML = '';\n",
              "        dataTable['output_type'] = 'display_data';\n",
              "        await google.colab.output.renderOutput(dataTable, element);\n",
              "        const docLink = document.createElement('div');\n",
              "        docLink.innerHTML = docLinkHtml;\n",
              "        element.appendChild(docLink);\n",
              "      }\n",
              "    </script>\n",
              "  </div>\n",
              "\n",
              "\n",
              "<div id=\"df-5bf4c9fb-e250-45ca-b9dc-90ddf0e44fff\">\n",
              "  <button class=\"colab-df-quickchart\" onclick=\"quickchart('df-5bf4c9fb-e250-45ca-b9dc-90ddf0e44fff')\"\n",
              "            title=\"Suggest charts\"\n",
              "            style=\"display:none;\">\n",
              "\n",
              "<svg xmlns=\"http://www.w3.org/2000/svg\" height=\"24px\"viewBox=\"0 0 24 24\"\n",
              "     width=\"24px\">\n",
              "    <g>\n",
              "        <path d=\"M19 3H5c-1.1 0-2 .9-2 2v14c0 1.1.9 2 2 2h14c1.1 0 2-.9 2-2V5c0-1.1-.9-2-2-2zM9 17H7v-7h2v7zm4 0h-2V7h2v10zm4 0h-2v-4h2v4z\"/>\n",
              "    </g>\n",
              "</svg>\n",
              "  </button>\n",
              "\n",
              "<style>\n",
              "  .colab-df-quickchart {\n",
              "      --bg-color: #E8F0FE;\n",
              "      --fill-color: #1967D2;\n",
              "      --hover-bg-color: #E2EBFA;\n",
              "      --hover-fill-color: #174EA6;\n",
              "      --disabled-fill-color: #AAA;\n",
              "      --disabled-bg-color: #DDD;\n",
              "  }\n",
              "\n",
              "  [theme=dark] .colab-df-quickchart {\n",
              "      --bg-color: #3B4455;\n",
              "      --fill-color: #D2E3FC;\n",
              "      --hover-bg-color: #434B5C;\n",
              "      --hover-fill-color: #FFFFFF;\n",
              "      --disabled-bg-color: #3B4455;\n",
              "      --disabled-fill-color: #666;\n",
              "  }\n",
              "\n",
              "  .colab-df-quickchart {\n",
              "    background-color: var(--bg-color);\n",
              "    border: none;\n",
              "    border-radius: 50%;\n",
              "    cursor: pointer;\n",
              "    display: none;\n",
              "    fill: var(--fill-color);\n",
              "    height: 32px;\n",
              "    padding: 0;\n",
              "    width: 32px;\n",
              "  }\n",
              "\n",
              "  .colab-df-quickchart:hover {\n",
              "    background-color: var(--hover-bg-color);\n",
              "    box-shadow: 0 1px 2px rgba(60, 64, 67, 0.3), 0 1px 3px 1px rgba(60, 64, 67, 0.15);\n",
              "    fill: var(--button-hover-fill-color);\n",
              "  }\n",
              "\n",
              "  .colab-df-quickchart-complete:disabled,\n",
              "  .colab-df-quickchart-complete:disabled:hover {\n",
              "    background-color: var(--disabled-bg-color);\n",
              "    fill: var(--disabled-fill-color);\n",
              "    box-shadow: none;\n",
              "  }\n",
              "\n",
              "  .colab-df-spinner {\n",
              "    border: 2px solid var(--fill-color);\n",
              "    border-color: transparent;\n",
              "    border-bottom-color: var(--fill-color);\n",
              "    animation:\n",
              "      spin 1s steps(1) infinite;\n",
              "  }\n",
              "\n",
              "  @keyframes spin {\n",
              "    0% {\n",
              "      border-color: transparent;\n",
              "      border-bottom-color: var(--fill-color);\n",
              "      border-left-color: var(--fill-color);\n",
              "    }\n",
              "    20% {\n",
              "      border-color: transparent;\n",
              "      border-left-color: var(--fill-color);\n",
              "      border-top-color: var(--fill-color);\n",
              "    }\n",
              "    30% {\n",
              "      border-color: transparent;\n",
              "      border-left-color: var(--fill-color);\n",
              "      border-top-color: var(--fill-color);\n",
              "      border-right-color: var(--fill-color);\n",
              "    }\n",
              "    40% {\n",
              "      border-color: transparent;\n",
              "      border-right-color: var(--fill-color);\n",
              "      border-top-color: var(--fill-color);\n",
              "    }\n",
              "    60% {\n",
              "      border-color: transparent;\n",
              "      border-right-color: var(--fill-color);\n",
              "    }\n",
              "    80% {\n",
              "      border-color: transparent;\n",
              "      border-right-color: var(--fill-color);\n",
              "      border-bottom-color: var(--fill-color);\n",
              "    }\n",
              "    90% {\n",
              "      border-color: transparent;\n",
              "      border-bottom-color: var(--fill-color);\n",
              "    }\n",
              "  }\n",
              "</style>\n",
              "\n",
              "  <script>\n",
              "    async function quickchart(key) {\n",
              "      const quickchartButtonEl =\n",
              "        document.querySelector('#' + key + ' button');\n",
              "      quickchartButtonEl.disabled = true;  // To prevent multiple clicks.\n",
              "      quickchartButtonEl.classList.add('colab-df-spinner');\n",
              "      try {\n",
              "        const charts = await google.colab.kernel.invokeFunction(\n",
              "            'suggestCharts', [key], {});\n",
              "      } catch (error) {\n",
              "        console.error('Error during call to suggestCharts:', error);\n",
              "      }\n",
              "      quickchartButtonEl.classList.remove('colab-df-spinner');\n",
              "      quickchartButtonEl.classList.add('colab-df-quickchart-complete');\n",
              "    }\n",
              "    (() => {\n",
              "      let quickchartButtonEl =\n",
              "        document.querySelector('#df-5bf4c9fb-e250-45ca-b9dc-90ddf0e44fff button');\n",
              "      quickchartButtonEl.style.display =\n",
              "        google.colab.kernel.accessAllowed ? 'block' : 'none';\n",
              "    })();\n",
              "  </script>\n",
              "</div>\n",
              "\n",
              "    </div>\n",
              "  </div>\n"
            ],
            "application/vnd.google.colaboratory.intrinsic+json": {
              "type": "dataframe",
              "summary": "{\n  \"name\": \"rf_feat_importance(rf, X_train)\",\n  \"rows\": 8,\n  \"fields\": [\n    {\n      \"column\": \"cols\",\n      \"properties\": {\n        \"dtype\": \"string\",\n        \"num_unique_values\": 8,\n        \"samples\": [\n          \"Whole weight\",\n          \"Length\",\n          \"Shell weight\"\n        ],\n        \"semantic_type\": \"\",\n        \"description\": \"\"\n      }\n    },\n    {\n      \"column\": \"imp\",\n      \"properties\": {\n        \"dtype\": \"number\",\n        \"std\": 0.053488522632523246,\n        \"min\": 0.028935173135905972,\n        \"max\": 0.20167453001197866,\n        \"num_unique_values\": 8,\n        \"samples\": [\n          0.16012900608063418,\n          0.10221795757742083,\n          0.20167453001197866\n        ],\n        \"semantic_type\": \"\",\n        \"description\": \"\"\n      }\n    }\n  ]\n}"
            }
          },
          "metadata": {},
          "execution_count": 24
        }
      ]
    },
    {
      "cell_type": "code",
      "source": [
        "fi = rf_feat_importance(rf, X_train)\n",
        "fi[:10]"
      ],
      "metadata": {
        "colab": {
          "base_uri": "https://localhost:8080/",
          "height": 300
        },
        "id": "0bQ_vv_bVeZ_",
        "outputId": "dae0d442-775b-4a5c-e51e-7c20ad9a4e65"
      },
      "execution_count": null,
      "outputs": [
        {
          "output_type": "execute_result",
          "data": {
            "text/plain": [
              "             cols       imp\n",
              "7    Shell weight  0.201675\n",
              "4    Whole weight  0.160129\n",
              "5  Whole weight.1  0.156906\n",
              "6  Whole weight.2  0.152109\n",
              "2        Diameter  0.104641\n",
              "1          Length  0.102218\n",
              "3          Height  0.093388\n",
              "0             Sex  0.028935"
            ],
            "text/html": [
              "\n",
              "  <div id=\"df-5eea9597-573a-4d2e-9c0d-93e831893be3\" class=\"colab-df-container\">\n",
              "    <div>\n",
              "<style scoped>\n",
              "    .dataframe tbody tr th:only-of-type {\n",
              "        vertical-align: middle;\n",
              "    }\n",
              "\n",
              "    .dataframe tbody tr th {\n",
              "        vertical-align: top;\n",
              "    }\n",
              "\n",
              "    .dataframe thead th {\n",
              "        text-align: right;\n",
              "    }\n",
              "</style>\n",
              "<table border=\"1\" class=\"dataframe\">\n",
              "  <thead>\n",
              "    <tr style=\"text-align: right;\">\n",
              "      <th></th>\n",
              "      <th>cols</th>\n",
              "      <th>imp</th>\n",
              "    </tr>\n",
              "  </thead>\n",
              "  <tbody>\n",
              "    <tr>\n",
              "      <th>7</th>\n",
              "      <td>Shell weight</td>\n",
              "      <td>0.201675</td>\n",
              "    </tr>\n",
              "    <tr>\n",
              "      <th>4</th>\n",
              "      <td>Whole weight</td>\n",
              "      <td>0.160129</td>\n",
              "    </tr>\n",
              "    <tr>\n",
              "      <th>5</th>\n",
              "      <td>Whole weight.1</td>\n",
              "      <td>0.156906</td>\n",
              "    </tr>\n",
              "    <tr>\n",
              "      <th>6</th>\n",
              "      <td>Whole weight.2</td>\n",
              "      <td>0.152109</td>\n",
              "    </tr>\n",
              "    <tr>\n",
              "      <th>2</th>\n",
              "      <td>Diameter</td>\n",
              "      <td>0.104641</td>\n",
              "    </tr>\n",
              "    <tr>\n",
              "      <th>1</th>\n",
              "      <td>Length</td>\n",
              "      <td>0.102218</td>\n",
              "    </tr>\n",
              "    <tr>\n",
              "      <th>3</th>\n",
              "      <td>Height</td>\n",
              "      <td>0.093388</td>\n",
              "    </tr>\n",
              "    <tr>\n",
              "      <th>0</th>\n",
              "      <td>Sex</td>\n",
              "      <td>0.028935</td>\n",
              "    </tr>\n",
              "  </tbody>\n",
              "</table>\n",
              "</div>\n",
              "    <div class=\"colab-df-buttons\">\n",
              "\n",
              "  <div class=\"colab-df-container\">\n",
              "    <button class=\"colab-df-convert\" onclick=\"convertToInteractive('df-5eea9597-573a-4d2e-9c0d-93e831893be3')\"\n",
              "            title=\"Convert this dataframe to an interactive table.\"\n",
              "            style=\"display:none;\">\n",
              "\n",
              "  <svg xmlns=\"http://www.w3.org/2000/svg\" height=\"24px\" viewBox=\"0 -960 960 960\">\n",
              "    <path d=\"M120-120v-720h720v720H120Zm60-500h600v-160H180v160Zm220 220h160v-160H400v160Zm0 220h160v-160H400v160ZM180-400h160v-160H180v160Zm440 0h160v-160H620v160ZM180-180h160v-160H180v160Zm440 0h160v-160H620v160Z\"/>\n",
              "  </svg>\n",
              "    </button>\n",
              "\n",
              "  <style>\n",
              "    .colab-df-container {\n",
              "      display:flex;\n",
              "      gap: 12px;\n",
              "    }\n",
              "\n",
              "    .colab-df-convert {\n",
              "      background-color: #E8F0FE;\n",
              "      border: none;\n",
              "      border-radius: 50%;\n",
              "      cursor: pointer;\n",
              "      display: none;\n",
              "      fill: #1967D2;\n",
              "      height: 32px;\n",
              "      padding: 0 0 0 0;\n",
              "      width: 32px;\n",
              "    }\n",
              "\n",
              "    .colab-df-convert:hover {\n",
              "      background-color: #E2EBFA;\n",
              "      box-shadow: 0px 1px 2px rgba(60, 64, 67, 0.3), 0px 1px 3px 1px rgba(60, 64, 67, 0.15);\n",
              "      fill: #174EA6;\n",
              "    }\n",
              "\n",
              "    .colab-df-buttons div {\n",
              "      margin-bottom: 4px;\n",
              "    }\n",
              "\n",
              "    [theme=dark] .colab-df-convert {\n",
              "      background-color: #3B4455;\n",
              "      fill: #D2E3FC;\n",
              "    }\n",
              "\n",
              "    [theme=dark] .colab-df-convert:hover {\n",
              "      background-color: #434B5C;\n",
              "      box-shadow: 0px 1px 3px 1px rgba(0, 0, 0, 0.15);\n",
              "      filter: drop-shadow(0px 1px 2px rgba(0, 0, 0, 0.3));\n",
              "      fill: #FFFFFF;\n",
              "    }\n",
              "  </style>\n",
              "\n",
              "    <script>\n",
              "      const buttonEl =\n",
              "        document.querySelector('#df-5eea9597-573a-4d2e-9c0d-93e831893be3 button.colab-df-convert');\n",
              "      buttonEl.style.display =\n",
              "        google.colab.kernel.accessAllowed ? 'block' : 'none';\n",
              "\n",
              "      async function convertToInteractive(key) {\n",
              "        const element = document.querySelector('#df-5eea9597-573a-4d2e-9c0d-93e831893be3');\n",
              "        const dataTable =\n",
              "          await google.colab.kernel.invokeFunction('convertToInteractive',\n",
              "                                                    [key], {});\n",
              "        if (!dataTable) return;\n",
              "\n",
              "        const docLinkHtml = 'Like what you see? Visit the ' +\n",
              "          '<a target=\"_blank\" href=https://colab.research.google.com/notebooks/data_table.ipynb>data table notebook</a>'\n",
              "          + ' to learn more about interactive tables.';\n",
              "        element.innerHTML = '';\n",
              "        dataTable['output_type'] = 'display_data';\n",
              "        await google.colab.output.renderOutput(dataTable, element);\n",
              "        const docLink = document.createElement('div');\n",
              "        docLink.innerHTML = docLinkHtml;\n",
              "        element.appendChild(docLink);\n",
              "      }\n",
              "    </script>\n",
              "  </div>\n",
              "\n",
              "\n",
              "<div id=\"df-f6201cdc-2d8d-4e01-aac5-4726f9e7de2a\">\n",
              "  <button class=\"colab-df-quickchart\" onclick=\"quickchart('df-f6201cdc-2d8d-4e01-aac5-4726f9e7de2a')\"\n",
              "            title=\"Suggest charts\"\n",
              "            style=\"display:none;\">\n",
              "\n",
              "<svg xmlns=\"http://www.w3.org/2000/svg\" height=\"24px\"viewBox=\"0 0 24 24\"\n",
              "     width=\"24px\">\n",
              "    <g>\n",
              "        <path d=\"M19 3H5c-1.1 0-2 .9-2 2v14c0 1.1.9 2 2 2h14c1.1 0 2-.9 2-2V5c0-1.1-.9-2-2-2zM9 17H7v-7h2v7zm4 0h-2V7h2v10zm4 0h-2v-4h2v4z\"/>\n",
              "    </g>\n",
              "</svg>\n",
              "  </button>\n",
              "\n",
              "<style>\n",
              "  .colab-df-quickchart {\n",
              "      --bg-color: #E8F0FE;\n",
              "      --fill-color: #1967D2;\n",
              "      --hover-bg-color: #E2EBFA;\n",
              "      --hover-fill-color: #174EA6;\n",
              "      --disabled-fill-color: #AAA;\n",
              "      --disabled-bg-color: #DDD;\n",
              "  }\n",
              "\n",
              "  [theme=dark] .colab-df-quickchart {\n",
              "      --bg-color: #3B4455;\n",
              "      --fill-color: #D2E3FC;\n",
              "      --hover-bg-color: #434B5C;\n",
              "      --hover-fill-color: #FFFFFF;\n",
              "      --disabled-bg-color: #3B4455;\n",
              "      --disabled-fill-color: #666;\n",
              "  }\n",
              "\n",
              "  .colab-df-quickchart {\n",
              "    background-color: var(--bg-color);\n",
              "    border: none;\n",
              "    border-radius: 50%;\n",
              "    cursor: pointer;\n",
              "    display: none;\n",
              "    fill: var(--fill-color);\n",
              "    height: 32px;\n",
              "    padding: 0;\n",
              "    width: 32px;\n",
              "  }\n",
              "\n",
              "  .colab-df-quickchart:hover {\n",
              "    background-color: var(--hover-bg-color);\n",
              "    box-shadow: 0 1px 2px rgba(60, 64, 67, 0.3), 0 1px 3px 1px rgba(60, 64, 67, 0.15);\n",
              "    fill: var(--button-hover-fill-color);\n",
              "  }\n",
              "\n",
              "  .colab-df-quickchart-complete:disabled,\n",
              "  .colab-df-quickchart-complete:disabled:hover {\n",
              "    background-color: var(--disabled-bg-color);\n",
              "    fill: var(--disabled-fill-color);\n",
              "    box-shadow: none;\n",
              "  }\n",
              "\n",
              "  .colab-df-spinner {\n",
              "    border: 2px solid var(--fill-color);\n",
              "    border-color: transparent;\n",
              "    border-bottom-color: var(--fill-color);\n",
              "    animation:\n",
              "      spin 1s steps(1) infinite;\n",
              "  }\n",
              "\n",
              "  @keyframes spin {\n",
              "    0% {\n",
              "      border-color: transparent;\n",
              "      border-bottom-color: var(--fill-color);\n",
              "      border-left-color: var(--fill-color);\n",
              "    }\n",
              "    20% {\n",
              "      border-color: transparent;\n",
              "      border-left-color: var(--fill-color);\n",
              "      border-top-color: var(--fill-color);\n",
              "    }\n",
              "    30% {\n",
              "      border-color: transparent;\n",
              "      border-left-color: var(--fill-color);\n",
              "      border-top-color: var(--fill-color);\n",
              "      border-right-color: var(--fill-color);\n",
              "    }\n",
              "    40% {\n",
              "      border-color: transparent;\n",
              "      border-right-color: var(--fill-color);\n",
              "      border-top-color: var(--fill-color);\n",
              "    }\n",
              "    60% {\n",
              "      border-color: transparent;\n",
              "      border-right-color: var(--fill-color);\n",
              "    }\n",
              "    80% {\n",
              "      border-color: transparent;\n",
              "      border-right-color: var(--fill-color);\n",
              "      border-bottom-color: var(--fill-color);\n",
              "    }\n",
              "    90% {\n",
              "      border-color: transparent;\n",
              "      border-bottom-color: var(--fill-color);\n",
              "    }\n",
              "  }\n",
              "</style>\n",
              "\n",
              "  <script>\n",
              "    async function quickchart(key) {\n",
              "      const quickchartButtonEl =\n",
              "        document.querySelector('#' + key + ' button');\n",
              "      quickchartButtonEl.disabled = true;  // To prevent multiple clicks.\n",
              "      quickchartButtonEl.classList.add('colab-df-spinner');\n",
              "      try {\n",
              "        const charts = await google.colab.kernel.invokeFunction(\n",
              "            'suggestCharts', [key], {});\n",
              "      } catch (error) {\n",
              "        console.error('Error during call to suggestCharts:', error);\n",
              "      }\n",
              "      quickchartButtonEl.classList.remove('colab-df-spinner');\n",
              "      quickchartButtonEl.classList.add('colab-df-quickchart-complete');\n",
              "    }\n",
              "    (() => {\n",
              "      let quickchartButtonEl =\n",
              "        document.querySelector('#df-f6201cdc-2d8d-4e01-aac5-4726f9e7de2a button');\n",
              "      quickchartButtonEl.style.display =\n",
              "        google.colab.kernel.accessAllowed ? 'block' : 'none';\n",
              "    })();\n",
              "  </script>\n",
              "</div>\n",
              "\n",
              "    </div>\n",
              "  </div>\n"
            ],
            "application/vnd.google.colaboratory.intrinsic+json": {
              "type": "dataframe",
              "summary": "{\n  \"name\": \"fi[:10]\",\n  \"rows\": 8,\n  \"fields\": [\n    {\n      \"column\": \"cols\",\n      \"properties\": {\n        \"dtype\": \"string\",\n        \"num_unique_values\": 8,\n        \"samples\": [\n          \"Whole weight\",\n          \"Length\",\n          \"Shell weight\"\n        ],\n        \"semantic_type\": \"\",\n        \"description\": \"\"\n      }\n    },\n    {\n      \"column\": \"imp\",\n      \"properties\": {\n        \"dtype\": \"number\",\n        \"std\": 0.053488522632523246,\n        \"min\": 0.028935173135905972,\n        \"max\": 0.20167453001197866,\n        \"num_unique_values\": 8,\n        \"samples\": [\n          0.16012900608063418,\n          0.10221795757742083,\n          0.20167453001197866\n        ],\n        \"semantic_type\": \"\",\n        \"description\": \"\"\n      }\n    }\n  ]\n}"
            }
          },
          "metadata": {},
          "execution_count": 27
        }
      ]
    },
    {
      "cell_type": "code",
      "source": [
        "def plot_fi(fi):\n",
        "    return fi.plot('cols', 'imp', 'barh', figsize=(12,7), legend=False)\n",
        "\n",
        "plot_fi(fi[:30]);"
      ],
      "metadata": {
        "colab": {
          "base_uri": "https://localhost:8080/",
          "height": 599
        },
        "id": "lVl87QhFVZdy",
        "outputId": "581df2db-b318-446f-854f-333fc5706175"
      },
      "execution_count": null,
      "outputs": [
        {
          "output_type": "display_data",
          "data": {
            "text/plain": [
              "<Figure size 1200x700 with 1 Axes>"
            ],
            "image/png": "[encoded data removed]"
          },
          "metadata": {}
        }
      ]
    },
    {
      "cell_type": "code",
      "source": [
        "pd.DataFrame(dict(cols=X_train.columns, imp=rf.feature_importances_)).plot('cols', 'imp', 'barh');"
      ],
      "metadata": {
        "colab": {
          "base_uri": "https://localhost:8080/",
          "height": 430
        },
        "id": "qzGG6QhTwD5A",
        "outputId": "9db7795d-e335-4c80-fe81-84611c6b8e75"
      },
      "execution_count": null,
      "outputs": [
        {
          "output_type": "display_data",
          "data": {
            "text/plain": [
              "<Figure size 640x480 with 1 Axes>"
            ],
            "image/png": "[encoded data removed]"
          },
          "metadata": {}
        }
      ]
    },
    {
      "cell_type": "code",
      "source": [
        "fi = rf_feat_importance(rf, X_train)\n",
        "fi[:10]"
      ],
      "metadata": {
        "id": "IT9xZ0PCPp59"
      },
      "execution_count": null,
      "outputs": []
    },
    {
      "cell_type": "markdown",
      "source": [
        "####Remove low importance variables"
      ],
      "metadata": {
        "id": "P8AqgF4cV0sM"
      }
    },
    {
      "cell_type": "code",
      "source": [
        "to_keep = fi[fi.imp>0.05].cols\n",
        "len(to_keep)\n"
      ],
      "metadata": {
        "colab": {
          "base_uri": "https://localhost:8080/"
        },
        "id": "Z4taIHHFVzIF",
        "outputId": "1369bfe2-e83c-4408-bc35-17a3662fb97f"
      },
      "execution_count": null,
      "outputs": [
        {
          "output_type": "execute_result",
          "data": {
            "text/plain": [
              "7"
            ]
          },
          "metadata": {},
          "execution_count": 67
        }
      ]
    },
    {
      "cell_type": "code",
      "source": [
        "to_keep"
      ],
      "metadata": {
        "colab": {
          "base_uri": "https://localhost:8080/"
        },
        "id": "nDBdDmdodfdP",
        "outputId": "3f740809-90ac-49df-f565-534989432e5c"
      },
      "execution_count": null,
      "outputs": [
        {
          "output_type": "execute_result",
          "data": {
            "text/plain": [
              "7      Shell weight\n",
              "4      Whole weight\n",
              "5    Whole weight.1\n",
              "6    Whole weight.2\n",
              "2          Diameter\n",
              "1            Length\n",
              "3            Height\n",
              "Name: cols, dtype: object"
            ]
          },
          "metadata": {},
          "execution_count": 68
        }
      ]
    },
    {
      "cell_type": "code",
      "source": [
        "X_imp = X_train[to_keep]\n",
        "X_test_new = X_test[to_keep]"
      ],
      "metadata": {
        "id": "9wQXm431bJNs"
      },
      "execution_count": null,
      "outputs": []
    },
    {
      "cell_type": "code",
      "source": [
        "rf.fit(X_imp, y_train);\n",
        "#m = rf(X_imp, y)"
      ],
      "metadata": {
        "id": "POCaxgOtbXqd"
      },
      "execution_count": null,
      "outputs": []
    },
    {
      "cell_type": "code",
      "source": [
        "rf_preds = rf.predict(X_test_new)"
      ],
      "metadata": {
        "id": "bLJXB2NtfSIH"
      },
      "execution_count": null,
      "outputs": []
    },
    {
      "cell_type": "code",
      "source": [
        "mse = mean_absolute_error(y_test, rf.predict(X_test_new))\n",
        "mse"
      ],
      "metadata": {
        "colab": {
          "base_uri": "https://localhost:8080/"
        },
        "id": "jF0PxbIGfxgp",
        "outputId": "6f1b61d6-0843-4ec1-8c7e-8d0737740d65"
      },
      "execution_count": null,
      "outputs": [
        {
          "output_type": "execute_result",
          "data": {
            "text/plain": [
              "1.2799205429564642"
            ]
          },
          "metadata": {},
          "execution_count": 72
        }
      ]
    },
    {
      "cell_type": "code",
      "source": [
        "rmse = np.sqrt(mse)\n",
        "rmse"
      ],
      "metadata": {
        "colab": {
          "base_uri": "https://localhost:8080/"
        },
        "id": "mQgoC8QTf2yl",
        "outputId": "d36cc3b9-23ff-4a0f-c71b-3588397d7223"
      },
      "execution_count": null,
      "outputs": [
        {
          "output_type": "execute_result",
          "data": {
            "text/plain": [
              "1.1313357339695693"
            ]
          },
          "metadata": {},
          "execution_count": 73
        }
      ]
    },
    {
      "cell_type": "code",
      "source": [
        "#rf_preds = rf.predict(X_test_new)\n",
        "#rmse(rf_preds, tensor(y_test))"
      ],
      "metadata": {
        "id": "_4sJhYdHdBgY"
      },
      "execution_count": null,
      "outputs": []
    },
    {
      "cell_type": "code",
      "source": [
        "X_test"
      ],
      "metadata": {
        "colab": {
          "base_uri": "https://localhost:8080/",
          "height": 455
        },
        "id": "tdAjEaPbdXqS",
        "outputId": "717b95ba-5307-4c40-a549-61617a0d10c1"
      },
      "execution_count": null,
      "outputs": [
        {
          "output_type": "execute_result",
          "data": {
            "text/plain": [
              "       Sex    Length  Diameter    Height  Whole weight  Whole weight.1  \\\n",
              "id                                                                       \n",
              "52749    1  1.674945  1.513727  1.429005      1.859805        1.838260   \n",
              "32890    3  0.320698  0.237822  0.118091      0.356832       -0.231195   \n",
              "77236    2 -1.245150 -1.293265 -0.930640     -1.218389       -1.143325   \n",
              "54127    1  0.828541  0.952328  0.642457      0.643633        0.553432   \n",
              "8283     2  0.109097 -0.017359  0.118091     -0.055857       -0.152732   \n",
              "...    ...       ...       ...       ...           ...             ...   \n",
              "32011    2 -1.541391 -1.446373 -1.455006     -1.351938       -1.273278   \n",
              "29572    2  0.828541  0.748183  0.642457      0.746532        0.933486   \n",
              "1212     3  1.209423  1.309582  1.166823      1.530311        1.879943   \n",
              "26482    2 -0.821948 -0.680830 -0.537366     -0.983037       -1.020727   \n",
              "62074    2 -1.499071 -1.548446 -1.586097     -1.336613       -1.241403   \n",
              "\n",
              "       Whole weight.2  Shell weight  \n",
              "id                                   \n",
              "52749        1.904996      1.952858  \n",
              "32890        0.069793      0.645919  \n",
              "77236       -1.125568     -1.083853  \n",
              "54127        1.111395      0.607480  \n",
              "8283        -0.287327     -0.341973  \n",
              "...               ...           ...  \n",
              "32011       -1.319008     -1.329865  \n",
              "29572        0.302914      0.711266  \n",
              "1212         1.170915      1.541556  \n",
              "26482       -0.852768     -1.018506  \n",
              "62074       -1.314049     -1.314489  \n",
              "\n",
              "[18123 rows x 8 columns]"
            ],
            "text/html": [
              "\n",
              "  <div id=\"df-cb70389f-30a1-402c-8798-1f5985b76eab\" class=\"colab-df-container\">\n",
              "    <div>\n",
              "<style scoped>\n",
              "    .dataframe tbody tr th:only-of-type {\n",
              "        vertical-align: middle;\n",
              "    }\n",
              "\n",
              "    .dataframe tbody tr th {\n",
              "        vertical-align: top;\n",
              "    }\n",
              "\n",
              "    .dataframe thead th {\n",
              "        text-align: right;\n",
              "    }\n",
              "</style>\n",
              "<table border=\"1\" class=\"dataframe\">\n",
              "  <thead>\n",
              "    <tr style=\"text-align: right;\">\n",
              "      <th></th>\n",
              "      <th>Sex</th>\n",
              "      <th>Length</th>\n",
              "      <th>Diameter</th>\n",
              "      <th>Height</th>\n",
              "      <th>Whole weight</th>\n",
              "      <th>Whole weight.1</th>\n",
              "      <th>Whole weight.2</th>\n",
              "      <th>Shell weight</th>\n",
              "    </tr>\n",
              "    <tr>\n",
              "      <th>id</th>\n",
              "      <th></th>\n",
              "      <th></th>\n",
              "      <th></th>\n",
              "      <th></th>\n",
              "      <th></th>\n",
              "      <th></th>\n",
              "      <th></th>\n",
              "      <th></th>\n",
              "    </tr>\n",
              "  </thead>\n",
              "  <tbody>\n",
              "    <tr>\n",
              "      <th>52749</th>\n",
              "      <td>1</td>\n",
              "      <td>1.674945</td>\n",
              "      <td>1.513727</td>\n",
              "      <td>1.429005</td>\n",
              "      <td>1.859805</td>\n",
              "      <td>1.838260</td>\n",
              "      <td>1.904996</td>\n",
              "      <td>1.952858</td>\n",
              "    </tr>\n",
              "    <tr>\n",
              "      <th>32890</th>\n",
              "      <td>3</td>\n",
              "      <td>0.320698</td>\n",
              "      <td>0.237822</td>\n",
              "      <td>0.118091</td>\n",
              "      <td>0.356832</td>\n",
              "      <td>-0.231195</td>\n",
              "      <td>0.069793</td>\n",
              "      <td>0.645919</td>\n",
              "    </tr>\n",
              "    <tr>\n",
              "      <th>77236</th>\n",
              "      <td>2</td>\n",
              "      <td>-1.245150</td>\n",
              "      <td>-1.293265</td>\n",
              "      <td>-0.930640</td>\n",
              "      <td>-1.218389</td>\n",
              "      <td>-1.143325</td>\n",
              "      <td>-1.125568</td>\n",
              "      <td>-1.083853</td>\n",
              "    </tr>\n",
              "    <tr>\n",
              "      <th>54127</th>\n",
              "      <td>1</td>\n",
              "      <td>0.828541</td>\n",
              "      <td>0.952328</td>\n",
              "      <td>0.642457</td>\n",
              "      <td>0.643633</td>\n",
              "      <td>0.553432</td>\n",
              "      <td>1.111395</td>\n",
              "      <td>0.607480</td>\n",
              "    </tr>\n",
              "    <tr>\n",
              "      <th>8283</th>\n",
              "      <td>2</td>\n",
              "      <td>0.109097</td>\n",
              "      <td>-0.017359</td>\n",
              "      <td>0.118091</td>\n",
              "      <td>-0.055857</td>\n",
              "      <td>-0.152732</td>\n",
              "      <td>-0.287327</td>\n",
              "      <td>-0.341973</td>\n",
              "    </tr>\n",
              "    <tr>\n",
              "      <th>...</th>\n",
              "      <td>...</td>\n",
              "      <td>...</td>\n",
              "      <td>...</td>\n",
              "      <td>...</td>\n",
              "      <td>...</td>\n",
              "      <td>...</td>\n",
              "      <td>...</td>\n",
              "      <td>...</td>\n",
              "    </tr>\n",
              "    <tr>\n",
              "      <th>32011</th>\n",
              "      <td>2</td>\n",
              "      <td>-1.541391</td>\n",
              "      <td>-1.446373</td>\n",
              "      <td>-1.455006</td>\n",
              "      <td>-1.351938</td>\n",
              "      <td>-1.273278</td>\n",
              "      <td>-1.319008</td>\n",
              "      <td>-1.329865</td>\n",
              "    </tr>\n",
              "    <tr>\n",
              "      <th>29572</th>\n",
              "      <td>2</td>\n",
              "      <td>0.828541</td>\n",
              "      <td>0.748183</td>\n",
              "      <td>0.642457</td>\n",
              "      <td>0.746532</td>\n",
              "      <td>0.933486</td>\n",
              "      <td>0.302914</td>\n",
              "      <td>0.711266</td>\n",
              "    </tr>\n",
              "    <tr>\n",
              "      <th>1212</th>\n",
              "      <td>3</td>\n",
              "      <td>1.209423</td>\n",
              "      <td>1.309582</td>\n",
              "      <td>1.166823</td>\n",
              "      <td>1.530311</td>\n",
              "      <td>1.879943</td>\n",
              "      <td>1.170915</td>\n",
              "      <td>1.541556</td>\n",
              "    </tr>\n",
              "    <tr>\n",
              "      <th>26482</th>\n",
              "      <td>2</td>\n",
              "      <td>-0.821948</td>\n",
              "      <td>-0.680830</td>\n",
              "      <td>-0.537366</td>\n",
              "      <td>-0.983037</td>\n",
              "      <td>-1.020727</td>\n",
              "      <td>-0.852768</td>\n",
              "      <td>-1.018506</td>\n",
              "    </tr>\n",
              "    <tr>\n",
              "      <th>62074</th>\n",
              "      <td>2</td>\n",
              "      <td>-1.499071</td>\n",
              "      <td>-1.548446</td>\n",
              "      <td>-1.586097</td>\n",
              "      <td>-1.336613</td>\n",
              "      <td>-1.241403</td>\n",
              "      <td>-1.314049</td>\n",
              "      <td>-1.314489</td>\n",
              "    </tr>\n",
              "  </tbody>\n",
              "</table>\n",
              "<p>18123 rows × 8 columns</p>\n",
              "</div>\n",
              "    <div class=\"colab-df-buttons\">\n",
              "\n",
              "  <div class=\"colab-df-container\">\n",
              "    <button class=\"colab-df-convert\" onclick=\"convertToInteractive('df-cb70389f-30a1-402c-8798-1f5985b76eab')\"\n",
              "            title=\"Convert this dataframe to an interactive table.\"\n",
              "            style=\"display:none;\">\n",
              "\n",
              "  <svg xmlns=\"http://www.w3.org/2000/svg\" height=\"24px\" viewBox=\"0 -960 960 960\">\n",
              "    <path d=\"M120-120v-720h720v720H120Zm60-500h600v-160H180v160Zm220 220h160v-160H400v160Zm0 220h160v-160H400v160ZM180-400h160v-160H180v160Zm440 0h160v-160H620v160ZM180-180h160v-160H180v160Zm440 0h160v-160H620v160Z\"/>\n",
              "  </svg>\n",
              "    </button>\n",
              "\n",
              "  <style>\n",
              "    .colab-df-container {\n",
              "      display:flex;\n",
              "      gap: 12px;\n",
              "    }\n",
              "\n",
              "    .colab-df-convert {\n",
              "      background-color: #E8F0FE;\n",
              "      border: none;\n",
              "      border-radius: 50%;\n",
              "      cursor: pointer;\n",
              "      display: none;\n",
              "      fill: #1967D2;\n",
              "      height: 32px;\n",
              "      padding: 0 0 0 0;\n",
              "      width: 32px;\n",
              "    }\n",
              "\n",
              "    .colab-df-convert:hover {\n",
              "      background-color: #E2EBFA;\n",
              "      box-shadow: 0px 1px 2px rgba(60, 64, 67, 0.3), 0px 1px 3px 1px rgba(60, 64, 67, 0.15);\n",
              "      fill: #174EA6;\n",
              "    }\n",
              "\n",
              "    .colab-df-buttons div {\n",
              "      margin-bottom: 4px;\n",
              "    }\n",
              "\n",
              "    [theme=dark] .colab-df-convert {\n",
              "      background-color: #3B4455;\n",
              "      fill: #D2E3FC;\n",
              "    }\n",
              "\n",
              "    [theme=dark] .colab-df-convert:hover {\n",
              "      background-color: #434B5C;\n",
              "      box-shadow: 0px 1px 3px 1px rgba(0, 0, 0, 0.15);\n",
              "      filter: drop-shadow(0px 1px 2px rgba(0, 0, 0, 0.3));\n",
              "      fill: #FFFFFF;\n",
              "    }\n",
              "  </style>\n",
              "\n",
              "    <script>\n",
              "      const buttonEl =\n",
              "        document.querySelector('#df-cb70389f-30a1-402c-8798-1f5985b76eab button.colab-df-convert');\n",
              "      buttonEl.style.display =\n",
              "        google.colab.kernel.accessAllowed ? 'block' : 'none';\n",
              "\n",
              "      async function convertToInteractive(key) {\n",
              "        const element = document.querySelector('#df-cb70389f-30a1-402c-8798-1f5985b76eab');\n",
              "        const dataTable =\n",
              "          await google.colab.kernel.invokeFunction('convertToInteractive',\n",
              "                                                    [key], {});\n",
              "        if (!dataTable) return;\n",
              "\n",
              "        const docLinkHtml = 'Like what you see? Visit the ' +\n",
              "          '<a target=\"_blank\" href=https://colab.research.google.com/notebooks/data_table.ipynb>data table notebook</a>'\n",
              "          + ' to learn more about interactive tables.';\n",
              "        element.innerHTML = '';\n",
              "        dataTable['output_type'] = 'display_data';\n",
              "        await google.colab.output.renderOutput(dataTable, element);\n",
              "        const docLink = document.createElement('div');\n",
              "        docLink.innerHTML = docLinkHtml;\n",
              "        element.appendChild(docLink);\n",
              "      }\n",
              "    </script>\n",
              "  </div>\n",
              "\n",
              "\n",
              "<div id=\"df-a59d7b20-6405-4d46-ba06-223ab1b75b73\">\n",
              "  <button class=\"colab-df-quickchart\" onclick=\"quickchart('df-a59d7b20-6405-4d46-ba06-223ab1b75b73')\"\n",
              "            title=\"Suggest charts\"\n",
              "            style=\"display:none;\">\n",
              "\n",
              "<svg xmlns=\"http://www.w3.org/2000/svg\" height=\"24px\"viewBox=\"0 0 24 24\"\n",
              "     width=\"24px\">\n",
              "    <g>\n",
              "        <path d=\"M19 3H5c-1.1 0-2 .9-2 2v14c0 1.1.9 2 2 2h14c1.1 0 2-.9 2-2V5c0-1.1-.9-2-2-2zM9 17H7v-7h2v7zm4 0h-2V7h2v10zm4 0h-2v-4h2v4z\"/>\n",
              "    </g>\n",
              "</svg>\n",
              "  </button>\n",
              "\n",
              "<style>\n",
              "  .colab-df-quickchart {\n",
              "      --bg-color: #E8F0FE;\n",
              "      --fill-color: #1967D2;\n",
              "      --hover-bg-color: #E2EBFA;\n",
              "      --hover-fill-color: #174EA6;\n",
              "      --disabled-fill-color: #AAA;\n",
              "      --disabled-bg-color: #DDD;\n",
              "  }\n",
              "\n",
              "  [theme=dark] .colab-df-quickchart {\n",
              "      --bg-color: #3B4455;\n",
              "      --fill-color: #D2E3FC;\n",
              "      --hover-bg-color: #434B5C;\n",
              "      --hover-fill-color: #FFFFFF;\n",
              "      --disabled-bg-color: #3B4455;\n",
              "      --disabled-fill-color: #666;\n",
              "  }\n",
              "\n",
              "  .colab-df-quickchart {\n",
              "    background-color: var(--bg-color);\n",
              "    border: none;\n",
              "    border-radius: 50%;\n",
              "    cursor: pointer;\n",
              "    display: none;\n",
              "    fill: var(--fill-color);\n",
              "    height: 32px;\n",
              "    padding: 0;\n",
              "    width: 32px;\n",
              "  }\n",
              "\n",
              "  .colab-df-quickchart:hover {\n",
              "    background-color: var(--hover-bg-color);\n",
              "    box-shadow: 0 1px 2px rgba(60, 64, 67, 0.3), 0 1px 3px 1px rgba(60, 64, 67, 0.15);\n",
              "    fill: var(--button-hover-fill-color);\n",
              "  }\n",
              "\n",
              "  .colab-df-quickchart-complete:disabled,\n",
              "  .colab-df-quickchart-complete:disabled:hover {\n",
              "    background-color: var(--disabled-bg-color);\n",
              "    fill: var(--disabled-fill-color);\n",
              "    box-shadow: none;\n",
              "  }\n",
              "\n",
              "  .colab-df-spinner {\n",
              "    border: 2px solid var(--fill-color);\n",
              "    border-color: transparent;\n",
              "    border-bottom-color: var(--fill-color);\n",
              "    animation:\n",
              "      spin 1s steps(1) infinite;\n",
              "  }\n",
              "\n",
              "  @keyframes spin {\n",
              "    0% {\n",
              "      border-color: transparent;\n",
              "      border-bottom-color: var(--fill-color);\n",
              "      border-left-color: var(--fill-color);\n",
              "    }\n",
              "    20% {\n",
              "      border-color: transparent;\n",
              "      border-left-color: var(--fill-color);\n",
              "      border-top-color: var(--fill-color);\n",
              "    }\n",
              "    30% {\n",
              "      border-color: transparent;\n",
              "      border-left-color: var(--fill-color);\n",
              "      border-top-color: var(--fill-color);\n",
              "      border-right-color: var(--fill-color);\n",
              "    }\n",
              "    40% {\n",
              "      border-color: transparent;\n",
              "      border-right-color: var(--fill-color);\n",
              "      border-top-color: var(--fill-color);\n",
              "    }\n",
              "    60% {\n",
              "      border-color: transparent;\n",
              "      border-right-color: var(--fill-color);\n",
              "    }\n",
              "    80% {\n",
              "      border-color: transparent;\n",
              "      border-right-color: var(--fill-color);\n",
              "      border-bottom-color: var(--fill-color);\n",
              "    }\n",
              "    90% {\n",
              "      border-color: transparent;\n",
              "      border-bottom-color: var(--fill-color);\n",
              "    }\n",
              "  }\n",
              "</style>\n",
              "\n",
              "  <script>\n",
              "    async function quickchart(key) {\n",
              "      const quickchartButtonEl =\n",
              "        document.querySelector('#' + key + ' button');\n",
              "      quickchartButtonEl.disabled = true;  // To prevent multiple clicks.\n",
              "      quickchartButtonEl.classList.add('colab-df-spinner');\n",
              "      try {\n",
              "        const charts = await google.colab.kernel.invokeFunction(\n",
              "            'suggestCharts', [key], {});\n",
              "      } catch (error) {\n",
              "        console.error('Error during call to suggestCharts:', error);\n",
              "      }\n",
              "      quickchartButtonEl.classList.remove('colab-df-spinner');\n",
              "      quickchartButtonEl.classList.add('colab-df-quickchart-complete');\n",
              "    }\n",
              "    (() => {\n",
              "      let quickchartButtonEl =\n",
              "        document.querySelector('#df-a59d7b20-6405-4d46-ba06-223ab1b75b73 button');\n",
              "      quickchartButtonEl.style.display =\n",
              "        google.colab.kernel.accessAllowed ? 'block' : 'none';\n",
              "    })();\n",
              "  </script>\n",
              "</div>\n",
              "\n",
              "  <div id=\"id_075a2ad3-eefd-4428-ad3e-c78360266f85\">\n",
              "    <style>\n",
              "      .colab-df-generate {\n",
              "        background-color: #E8F0FE;\n",
              "        border: none;\n",
              "        border-radius: 50%;\n",
              "        cursor: pointer;\n",
              "        display: none;\n",
              "        fill: #1967D2;\n",
              "        height: 32px;\n",
              "        padding: 0 0 0 0;\n",
              "        width: 32px;\n",
              "      }\n",
              "\n",
              "      .colab-df-generate:hover {\n",
              "        background-color: #E2EBFA;\n",
              "        box-shadow: 0px 1px 2px rgba(60, 64, 67, 0.3), 0px 1px 3px 1px rgba(60, 64, 67, 0.15);\n",
              "        fill: #174EA6;\n",
              "      }\n",
              "\n",
              "      [theme=dark] .colab-df-generate {\n",
              "        background-color: #3B4455;\n",
              "        fill: #D2E3FC;\n",
              "      }\n",
              "\n",
              "      [theme=dark] .colab-df-generate:hover {\n",
              "        background-color: #434B5C;\n",
              "        box-shadow: 0px 1px 3px 1px rgba(0, 0, 0, 0.15);\n",
              "        filter: drop-shadow(0px 1px 2px rgba(0, 0, 0, 0.3));\n",
              "        fill: #FFFFFF;\n",
              "      }\n",
              "    </style>\n",
              "    <button class=\"colab-df-generate\" onclick=\"generateWithVariable('X_test')\"\n",
              "            title=\"Generate code using this dataframe.\"\n",
              "            style=\"display:none;\">\n",
              "\n",
              "  <svg xmlns=\"http://www.w3.org/2000/svg\" height=\"24px\"viewBox=\"0 0 24 24\"\n",
              "       width=\"24px\">\n",
              "    <path d=\"M7,19H8.4L18.45,9,17,7.55,7,17.6ZM5,21V16.75L18.45,3.32a2,2,0,0,1,2.83,0l1.4,1.43a1.91,1.91,0,0,1,.58,1.4,1.91,1.91,0,0,1-.58,1.4L9.25,21ZM18.45,9,17,7.55Zm-12,3A5.31,5.31,0,0,0,4.9,8.1,5.31,5.31,0,0,0,1,6.5,5.31,5.31,0,0,0,4.9,4.9,5.31,5.31,0,0,0,6.5,1,5.31,5.31,0,0,0,8.1,4.9,5.31,5.31,0,0,0,12,6.5,5.46,5.46,0,0,0,6.5,12Z\"/>\n",
              "  </svg>\n",
              "    </button>\n",
              "    <script>\n",
              "      (() => {\n",
              "      const buttonEl =\n",
              "        document.querySelector('#id_075a2ad3-eefd-4428-ad3e-c78360266f85 button.colab-df-generate');\n",
              "      buttonEl.style.display =\n",
              "        google.colab.kernel.accessAllowed ? 'block' : 'none';\n",
              "\n",
              "      buttonEl.onclick = () => {\n",
              "        google.colab.notebook.generateWithVariable('X_test');\n",
              "      }\n",
              "      })();\n",
              "    </script>\n",
              "  </div>\n",
              "\n",
              "    </div>\n",
              "  </div>\n"
            ],
            "application/vnd.google.colaboratory.intrinsic+json": {
              "type": "dataframe",
              "variable_name": "X_test",
              "summary": "{\n  \"name\": \"X_test\",\n  \"rows\": 18123,\n  \"fields\": [\n    {\n      \"column\": \"id\",\n      \"properties\": {\n        \"dtype\": \"number\",\n        \"std\": 26151,\n        \"min\": 6,\n        \"max\": 90608,\n        \"num_unique_values\": 18123,\n        \"samples\": [\n          5233,\n          7604,\n          23192\n        ],\n        \"semantic_type\": \"\",\n        \"description\": \"\"\n      }\n    },\n    {\n      \"column\": \"Sex\",\n      \"properties\": {\n        \"dtype\": \"int8\",\n        \"num_unique_values\": 3,\n        \"samples\": [\n          1,\n          3,\n          2\n        ],\n        \"semantic_type\": \"\",\n        \"description\": \"\"\n      }\n    },\n    {\n      \"column\": \"Length\",\n      \"properties\": {\n        \"dtype\": \"float32\",\n        \"num_unique_values\": 142,\n        \"samples\": [\n          1.9457941055297852,\n          -0.5680264830589294,\n          -0.8642679452896118\n        ],\n        \"semantic_type\": \"\",\n        \"description\": \"\"\n      }\n    },\n    {\n      \"column\": \"Diameter\",\n      \"properties\": {\n        \"dtype\": \"float32\",\n        \"num_unique_values\": 109,\n        \"samples\": [\n          -2.1608800888061523,\n          0.7481834888458252,\n          -0.017359448596835136\n        ],\n        \"semantic_type\": \"\",\n        \"description\": \"\"\n      }\n    },\n    {\n      \"column\": \"Height\",\n      \"properties\": {\n        \"dtype\": \"float32\",\n        \"num_unique_values\": 61,\n        \"samples\": [\n          1.4290052652359009,\n          -0.27518293261528015,\n          -3.0281026363372803\n        ],\n        \"semantic_type\": \"\",\n        \"description\": \"\"\n      }\n    },\n    {\n      \"column\": \"Whole weight\",\n      \"properties\": {\n        \"dtype\": \"float32\",\n        \"num_unique_values\": 2564,\n        \"samples\": [\n          0.038284480571746826,\n          -0.33937448263168335,\n          1.2675917148590088\n        ],\n        \"semantic_type\": \"\",\n        \"description\": \"\"\n      }\n    },\n    {\n      \"column\": \"Whole weight.1\",\n      \"properties\": {\n        \"dtype\": \"float32\",\n        \"num_unique_values\": 1534,\n        \"samples\": [\n          -0.7730785012245178,\n          -0.21648341417312622,\n          -1.511118769645691\n        ],\n        \"semantic_type\": \"\",\n        \"description\": \"\"\n      }\n    },\n    {\n      \"column\": \"Whole weight.2\",\n      \"properties\": {\n        \"dtype\": \"float32\",\n        \"num_unique_values\": 865,\n        \"samples\": [\n          0.6451543569564819,\n          1.2304352521896362,\n          0.5509141087532043\n        ],\n        \"semantic_type\": \"\",\n        \"description\": \"\"\n      }\n    },\n    {\n      \"column\": \"Shell weight\",\n      \"properties\": {\n        \"dtype\": \"float32\",\n        \"num_unique_values\": 961,\n        \"samples\": [\n          -0.6917711496353149,\n          -0.4534471333026886,\n          0.34993574023246765\n        ],\n        \"semantic_type\": \"\",\n        \"description\": \"\"\n      }\n    }\n  ]\n}"
            }
          },
          "metadata": {},
          "execution_count": 50
        }
      ]
    },
    {
      "cell_type": "code",
      "source": [
        "rf = RandomForestClassifier(100, min_samples_leaf=5)\n",
        "rf.fit(X_train, y_train);\n",
        "#mean_absolute_error(y_test, rf.predict(X_test))\n",
        "\n",
        "def rf_feat_importance(m, df):\n",
        "    return pd.DataFrame({'cols':df.columns, 'imp':m.feature_importances_}\n",
        "                       ).sort_values('imp', ascending=False)\n",
        "\n",
        "fi = rf_feat_importance(rf, X_train)\n",
        "\n",
        "def plot_fi(fi):\n",
        "    return fi.plot('cols', 'imp', 'barh', figsize=(12,7), legend=False)\n",
        "\n",
        "to_keep = fi[fi.imp>0.005].cols"
      ],
      "metadata": {
        "id": "KA3OsMRIXOMW"
      },
      "execution_count": null,
      "outputs": []
    },
    {
      "cell_type": "code",
      "source": [
        "X_test_new\n"
      ],
      "metadata": {
        "colab": {
          "base_uri": "https://localhost:8080/",
          "height": 455
        },
        "id": "yPI_QI59dZFU",
        "outputId": "1a146a26-f622-4263-eef4-edc23ed77061"
      },
      "execution_count": null,
      "outputs": [
        {
          "output_type": "execute_result",
          "data": {
            "text/plain": [
              "       Shell weight  Whole weight  Whole weight.1  Whole weight.2  Diameter  \\\n",
              "id                                                                            \n",
              "52749      1.952858      1.859805        1.838260        1.904996  1.513727   \n",
              "32890      0.645919      0.356832       -0.231195        0.069793  0.237822   \n",
              "77236     -1.083853     -1.218389       -1.143325       -1.125568 -1.293265   \n",
              "54127      0.607480      0.643633        0.553432        1.111395  0.952328   \n",
              "8283      -0.341973     -0.055857       -0.152732       -0.287327 -0.017359   \n",
              "...             ...           ...             ...             ...       ...   \n",
              "32011     -1.329865     -1.351938       -1.273278       -1.319008 -1.446373   \n",
              "29572      0.711266      0.746532        0.933486        0.302914  0.748183   \n",
              "1212       1.541556      1.530311        1.879943        1.170915  1.309582   \n",
              "26482     -1.018506     -0.983037       -1.020727       -0.852768 -0.680830   \n",
              "62074     -1.314489     -1.336613       -1.241403       -1.314049 -1.548446   \n",
              "\n",
              "         Length    Height  \n",
              "id                         \n",
              "52749  1.674945  1.429005  \n",
              "32890  0.320698  0.118091  \n",
              "77236 -1.245150 -0.930640  \n",
              "54127  0.828541  0.642457  \n",
              "8283   0.109097  0.118091  \n",
              "...         ...       ...  \n",
              "32011 -1.541391 -1.455006  \n",
              "29572  0.828541  0.642457  \n",
              "1212   1.209423  1.166823  \n",
              "26482 -0.821948 -0.537366  \n",
              "62074 -1.499071 -1.586097  \n",
              "\n",
              "[18123 rows x 7 columns]"
            ],
            "text/html": [
              "\n",
              "  <div id=\"df-9028ae6c-ceb9-45eb-b22d-80077e892b3a\" class=\"colab-df-container\">\n",
              "    <div>\n",
              "<style scoped>\n",
              "    .dataframe tbody tr th:only-of-type {\n",
              "        vertical-align: middle;\n",
              "    }\n",
              "\n",
              "    .dataframe tbody tr th {\n",
              "        vertical-align: top;\n",
              "    }\n",
              "\n",
              "    .dataframe thead th {\n",
              "        text-align: right;\n",
              "    }\n",
              "</style>\n",
              "<table border=\"1\" class=\"dataframe\">\n",
              "  <thead>\n",
              "    <tr style=\"text-align: right;\">\n",
              "      <th></th>\n",
              "      <th>Shell weight</th>\n",
              "      <th>Whole weight</th>\n",
              "      <th>Whole weight.1</th>\n",
              "      <th>Whole weight.2</th>\n",
              "      <th>Diameter</th>\n",
              "      <th>Length</th>\n",
              "      <th>Height</th>\n",
              "    </tr>\n",
              "    <tr>\n",
              "      <th>id</th>\n",
              "      <th></th>\n",
              "      <th></th>\n",
              "      <th></th>\n",
              "      <th></th>\n",
              "      <th></th>\n",
              "      <th></th>\n",
              "      <th></th>\n",
              "    </tr>\n",
              "  </thead>\n",
              "  <tbody>\n",
              "    <tr>\n",
              "      <th>52749</th>\n",
              "      <td>1.952858</td>\n",
              "      <td>1.859805</td>\n",
              "      <td>1.838260</td>\n",
              "      <td>1.904996</td>\n",
              "      <td>1.513727</td>\n",
              "      <td>1.674945</td>\n",
              "      <td>1.429005</td>\n",
              "    </tr>\n",
              "    <tr>\n",
              "      <th>32890</th>\n",
              "      <td>0.645919</td>\n",
              "      <td>0.356832</td>\n",
              "      <td>-0.231195</td>\n",
              "      <td>0.069793</td>\n",
              "      <td>0.237822</td>\n",
              "      <td>0.320698</td>\n",
              "      <td>0.118091</td>\n",
              "    </tr>\n",
              "    <tr>\n",
              "      <th>77236</th>\n",
              "      <td>-1.083853</td>\n",
              "      <td>-1.218389</td>\n",
              "      <td>-1.143325</td>\n",
              "      <td>-1.125568</td>\n",
              "      <td>-1.293265</td>\n",
              "      <td>-1.245150</td>\n",
              "      <td>-0.930640</td>\n",
              "    </tr>\n",
              "    <tr>\n",
              "      <th>54127</th>\n",
              "      <td>0.607480</td>\n",
              "      <td>0.643633</td>\n",
              "      <td>0.553432</td>\n",
              "      <td>1.111395</td>\n",
              "      <td>0.952328</td>\n",
              "      <td>0.828541</td>\n",
              "      <td>0.642457</td>\n",
              "    </tr>\n",
              "    <tr>\n",
              "      <th>8283</th>\n",
              "      <td>-0.341973</td>\n",
              "      <td>-0.055857</td>\n",
              "      <td>-0.152732</td>\n",
              "      <td>-0.287327</td>\n",
              "      <td>-0.017359</td>\n",
              "      <td>0.109097</td>\n",
              "      <td>0.118091</td>\n",
              "    </tr>\n",
              "    <tr>\n",
              "      <th>...</th>\n",
              "      <td>...</td>\n",
              "      <td>...</td>\n",
              "      <td>...</td>\n",
              "      <td>...</td>\n",
              "      <td>...</td>\n",
              "      <td>...</td>\n",
              "      <td>...</td>\n",
              "    </tr>\n",
              "    <tr>\n",
              "      <th>32011</th>\n",
              "      <td>-1.329865</td>\n",
              "      <td>-1.351938</td>\n",
              "      <td>-1.273278</td>\n",
              "      <td>-1.319008</td>\n",
              "      <td>-1.446373</td>\n",
              "      <td>-1.541391</td>\n",
              "      <td>-1.455006</td>\n",
              "    </tr>\n",
              "    <tr>\n",
              "      <th>29572</th>\n",
              "      <td>0.711266</td>\n",
              "      <td>0.746532</td>\n",
              "      <td>0.933486</td>\n",
              "      <td>0.302914</td>\n",
              "      <td>0.748183</td>\n",
              "      <td>0.828541</td>\n",
              "      <td>0.642457</td>\n",
              "    </tr>\n",
              "    <tr>\n",
              "      <th>1212</th>\n",
              "      <td>1.541556</td>\n",
              "      <td>1.530311</td>\n",
              "      <td>1.879943</td>\n",
              "      <td>1.170915</td>\n",
              "      <td>1.309582</td>\n",
              "      <td>1.209423</td>\n",
              "      <td>1.166823</td>\n",
              "    </tr>\n",
              "    <tr>\n",
              "      <th>26482</th>\n",
              "      <td>-1.018506</td>\n",
              "      <td>-0.983037</td>\n",
              "      <td>-1.020727</td>\n",
              "      <td>-0.852768</td>\n",
              "      <td>-0.680830</td>\n",
              "      <td>-0.821948</td>\n",
              "      <td>-0.537366</td>\n",
              "    </tr>\n",
              "    <tr>\n",
              "      <th>62074</th>\n",
              "      <td>-1.314489</td>\n",
              "      <td>-1.336613</td>\n",
              "      <td>-1.241403</td>\n",
              "      <td>-1.314049</td>\n",
              "      <td>-1.548446</td>\n",
              "      <td>-1.499071</td>\n",
              "      <td>-1.586097</td>\n",
              "    </tr>\n",
              "  </tbody>\n",
              "</table>\n",
              "<p>18123 rows × 7 columns</p>\n",
              "</div>\n",
              "    <div class=\"colab-df-buttons\">\n",
              "\n",
              "  <div class=\"colab-df-container\">\n",
              "    <button class=\"colab-df-convert\" onclick=\"convertToInteractive('df-9028ae6c-ceb9-45eb-b22d-80077e892b3a')\"\n",
              "            title=\"Convert this dataframe to an interactive table.\"\n",
              "            style=\"display:none;\">\n",
              "\n",
              "  <svg xmlns=\"http://www.w3.org/2000/svg\" height=\"24px\" viewBox=\"0 -960 960 960\">\n",
              "    <path d=\"M120-120v-720h720v720H120Zm60-500h600v-160H180v160Zm220 220h160v-160H400v160Zm0 220h160v-160H400v160ZM180-400h160v-160H180v160Zm440 0h160v-160H620v160ZM180-180h160v-160H180v160Zm440 0h160v-160H620v160Z\"/>\n",
              "  </svg>\n",
              "    </button>\n",
              "\n",
              "  <style>\n",
              "    .colab-df-container {\n",
              "      display:flex;\n",
              "      gap: 12px;\n",
              "    }\n",
              "\n",
              "    .colab-df-convert {\n",
              "      background-color: #E8F0FE;\n",
              "      border: none;\n",
              "      border-radius: 50%;\n",
              "      cursor: pointer;\n",
              "      display: none;\n",
              "      fill: #1967D2;\n",
              "      height: 32px;\n",
              "      padding: 0 0 0 0;\n",
              "      width: 32px;\n",
              "    }\n",
              "\n",
              "    .colab-df-convert:hover {\n",
              "      background-color: #E2EBFA;\n",
              "      box-shadow: 0px 1px 2px rgba(60, 64, 67, 0.3), 0px 1px 3px 1px rgba(60, 64, 67, 0.15);\n",
              "      fill: #174EA6;\n",
              "    }\n",
              "\n",
              "    .colab-df-buttons div {\n",
              "      margin-bottom: 4px;\n",
              "    }\n",
              "\n",
              "    [theme=dark] .colab-df-convert {\n",
              "      background-color: #3B4455;\n",
              "      fill: #D2E3FC;\n",
              "    }\n",
              "\n",
              "    [theme=dark] .colab-df-convert:hover {\n",
              "      background-color: #434B5C;\n",
              "      box-shadow: 0px 1px 3px 1px rgba(0, 0, 0, 0.15);\n",
              "      filter: drop-shadow(0px 1px 2px rgba(0, 0, 0, 0.3));\n",
              "      fill: #FFFFFF;\n",
              "    }\n",
              "  </style>\n",
              "\n",
              "    <script>\n",
              "      const buttonEl =\n",
              "        document.querySelector('#df-9028ae6c-ceb9-45eb-b22d-80077e892b3a button.colab-df-convert');\n",
              "      buttonEl.style.display =\n",
              "        google.colab.kernel.accessAllowed ? 'block' : 'none';\n",
              "\n",
              "      async function convertToInteractive(key) {\n",
              "        const element = document.querySelector('#df-9028ae6c-ceb9-45eb-b22d-80077e892b3a');\n",
              "        const dataTable =\n",
              "          await google.colab.kernel.invokeFunction('convertToInteractive',\n",
              "                                                    [key], {});\n",
              "        if (!dataTable) return;\n",
              "\n",
              "        const docLinkHtml = 'Like what you see? Visit the ' +\n",
              "          '<a target=\"_blank\" href=https://colab.research.google.com/notebooks/data_table.ipynb>data table notebook</a>'\n",
              "          + ' to learn more about interactive tables.';\n",
              "        element.innerHTML = '';\n",
              "        dataTable['output_type'] = 'display_data';\n",
              "        await google.colab.output.renderOutput(dataTable, element);\n",
              "        const docLink = document.createElement('div');\n",
              "        docLink.innerHTML = docLinkHtml;\n",
              "        element.appendChild(docLink);\n",
              "      }\n",
              "    </script>\n",
              "  </div>\n",
              "\n",
              "\n",
              "<div id=\"df-b16690e8-d0bd-4680-b7ce-c633d759284e\">\n",
              "  <button class=\"colab-df-quickchart\" onclick=\"quickchart('df-b16690e8-d0bd-4680-b7ce-c633d759284e')\"\n",
              "            title=\"Suggest charts\"\n",
              "            style=\"display:none;\">\n",
              "\n",
              "<svg xmlns=\"http://www.w3.org/2000/svg\" height=\"24px\"viewBox=\"0 0 24 24\"\n",
              "     width=\"24px\">\n",
              "    <g>\n",
              "        <path d=\"M19 3H5c-1.1 0-2 .9-2 2v14c0 1.1.9 2 2 2h14c1.1 0 2-.9 2-2V5c0-1.1-.9-2-2-2zM9 17H7v-7h2v7zm4 0h-2V7h2v10zm4 0h-2v-4h2v4z\"/>\n",
              "    </g>\n",
              "</svg>\n",
              "  </button>\n",
              "\n",
              "<style>\n",
              "  .colab-df-quickchart {\n",
              "      --bg-color: #E8F0FE;\n",
              "      --fill-color: #1967D2;\n",
              "      --hover-bg-color: #E2EBFA;\n",
              "      --hover-fill-color: #174EA6;\n",
              "      --disabled-fill-color: #AAA;\n",
              "      --disabled-bg-color: #DDD;\n",
              "  }\n",
              "\n",
              "  [theme=dark] .colab-df-quickchart {\n",
              "      --bg-color: #3B4455;\n",
              "      --fill-color: #D2E3FC;\n",
              "      --hover-bg-color: #434B5C;\n",
              "      --hover-fill-color: #FFFFFF;\n",
              "      --disabled-bg-color: #3B4455;\n",
              "      --disabled-fill-color: #666;\n",
              "  }\n",
              "\n",
              "  .colab-df-quickchart {\n",
              "    background-color: var(--bg-color);\n",
              "    border: none;\n",
              "    border-radius: 50%;\n",
              "    cursor: pointer;\n",
              "    display: none;\n",
              "    fill: var(--fill-color);\n",
              "    height: 32px;\n",
              "    padding: 0;\n",
              "    width: 32px;\n",
              "  }\n",
              "\n",
              "  .colab-df-quickchart:hover {\n",
              "    background-color: var(--hover-bg-color);\n",
              "    box-shadow: 0 1px 2px rgba(60, 64, 67, 0.3), 0 1px 3px 1px rgba(60, 64, 67, 0.15);\n",
              "    fill: var(--button-hover-fill-color);\n",
              "  }\n",
              "\n",
              "  .colab-df-quickchart-complete:disabled,\n",
              "  .colab-df-quickchart-complete:disabled:hover {\n",
              "    background-color: var(--disabled-bg-color);\n",
              "    fill: var(--disabled-fill-color);\n",
              "    box-shadow: none;\n",
              "  }\n",
              "\n",
              "  .colab-df-spinner {\n",
              "    border: 2px solid var(--fill-color);\n",
              "    border-color: transparent;\n",
              "    border-bottom-color: var(--fill-color);\n",
              "    animation:\n",
              "      spin 1s steps(1) infinite;\n",
              "  }\n",
              "\n",
              "  @keyframes spin {\n",
              "    0% {\n",
              "      border-color: transparent;\n",
              "      border-bottom-color: var(--fill-color);\n",
              "      border-left-color: var(--fill-color);\n",
              "    }\n",
              "    20% {\n",
              "      border-color: transparent;\n",
              "      border-left-color: var(--fill-color);\n",
              "      border-top-color: var(--fill-color);\n",
              "    }\n",
              "    30% {\n",
              "      border-color: transparent;\n",
              "      border-left-color: var(--fill-color);\n",
              "      border-top-color: var(--fill-color);\n",
              "      border-right-color: var(--fill-color);\n",
              "    }\n",
              "    40% {\n",
              "      border-color: transparent;\n",
              "      border-right-color: var(--fill-color);\n",
              "      border-top-color: var(--fill-color);\n",
              "    }\n",
              "    60% {\n",
              "      border-color: transparent;\n",
              "      border-right-color: var(--fill-color);\n",
              "    }\n",
              "    80% {\n",
              "      border-color: transparent;\n",
              "      border-right-color: var(--fill-color);\n",
              "      border-bottom-color: var(--fill-color);\n",
              "    }\n",
              "    90% {\n",
              "      border-color: transparent;\n",
              "      border-bottom-color: var(--fill-color);\n",
              "    }\n",
              "  }\n",
              "</style>\n",
              "\n",
              "  <script>\n",
              "    async function quickchart(key) {\n",
              "      const quickchartButtonEl =\n",
              "        document.querySelector('#' + key + ' button');\n",
              "      quickchartButtonEl.disabled = true;  // To prevent multiple clicks.\n",
              "      quickchartButtonEl.classList.add('colab-df-spinner');\n",
              "      try {\n",
              "        const charts = await google.colab.kernel.invokeFunction(\n",
              "            'suggestCharts', [key], {});\n",
              "      } catch (error) {\n",
              "        console.error('Error during call to suggestCharts:', error);\n",
              "      }\n",
              "      quickchartButtonEl.classList.remove('colab-df-spinner');\n",
              "      quickchartButtonEl.classList.add('colab-df-quickchart-complete');\n",
              "    }\n",
              "    (() => {\n",
              "      let quickchartButtonEl =\n",
              "        document.querySelector('#df-b16690e8-d0bd-4680-b7ce-c633d759284e button');\n",
              "      quickchartButtonEl.style.display =\n",
              "        google.colab.kernel.accessAllowed ? 'block' : 'none';\n",
              "    })();\n",
              "  </script>\n",
              "</div>\n",
              "\n",
              "  <div id=\"id_7f647699-a000-49f4-97aa-95b0419c3d72\">\n",
              "    <style>\n",
              "      .colab-df-generate {\n",
              "        background-color: #E8F0FE;\n",
              "        border: none;\n",
              "        border-radius: 50%;\n",
              "        cursor: pointer;\n",
              "        display: none;\n",
              "        fill: #1967D2;\n",
              "        height: 32px;\n",
              "        padding: 0 0 0 0;\n",
              "        width: 32px;\n",
              "      }\n",
              "\n",
              "      .colab-df-generate:hover {\n",
              "        background-color: #E2EBFA;\n",
              "        box-shadow: 0px 1px 2px rgba(60, 64, 67, 0.3), 0px 1px 3px 1px rgba(60, 64, 67, 0.15);\n",
              "        fill: #174EA6;\n",
              "      }\n",
              "\n",
              "      [theme=dark] .colab-df-generate {\n",
              "        background-color: #3B4455;\n",
              "        fill: #D2E3FC;\n",
              "      }\n",
              "\n",
              "      [theme=dark] .colab-df-generate:hover {\n",
              "        background-color: #434B5C;\n",
              "        box-shadow: 0px 1px 3px 1px rgba(0, 0, 0, 0.15);\n",
              "        filter: drop-shadow(0px 1px 2px rgba(0, 0, 0, 0.3));\n",
              "        fill: #FFFFFF;\n",
              "      }\n",
              "    </style>\n",
              "    <button class=\"colab-df-generate\" onclick=\"generateWithVariable('X_test_new')\"\n",
              "            title=\"Generate code using this dataframe.\"\n",
              "            style=\"display:none;\">\n",
              "\n",
              "  <svg xmlns=\"http://www.w3.org/2000/svg\" height=\"24px\"viewBox=\"0 0 24 24\"\n",
              "       width=\"24px\">\n",
              "    <path d=\"M7,19H8.4L18.45,9,17,7.55,7,17.6ZM5,21V16.75L18.45,3.32a2,2,0,0,1,2.83,0l1.4,1.43a1.91,1.91,0,0,1,.58,1.4,1.91,1.91,0,0,1-.58,1.4L9.25,21ZM18.45,9,17,7.55Zm-12,3A5.31,5.31,0,0,0,4.9,8.1,5.31,5.31,0,0,0,1,6.5,5.31,5.31,0,0,0,4.9,4.9,5.31,5.31,0,0,0,6.5,1,5.31,5.31,0,0,0,8.1,4.9,5.31,5.31,0,0,0,12,6.5,5.46,5.46,0,0,0,6.5,12Z\"/>\n",
              "  </svg>\n",
              "    </button>\n",
              "    <script>\n",
              "      (() => {\n",
              "      const buttonEl =\n",
              "        document.querySelector('#id_7f647699-a000-49f4-97aa-95b0419c3d72 button.colab-df-generate');\n",
              "      buttonEl.style.display =\n",
              "        google.colab.kernel.accessAllowed ? 'block' : 'none';\n",
              "\n",
              "      buttonEl.onclick = () => {\n",
              "        google.colab.notebook.generateWithVariable('X_test_new');\n",
              "      }\n",
              "      })();\n",
              "    </script>\n",
              "  </div>\n",
              "\n",
              "    </div>\n",
              "  </div>\n"
            ],
            "application/vnd.google.colaboratory.intrinsic+json": {
              "type": "dataframe",
              "variable_name": "X_test_new",
              "summary": "{\n  \"name\": \"X_test_new\",\n  \"rows\": 18123,\n  \"fields\": [\n    {\n      \"column\": \"id\",\n      \"properties\": {\n        \"dtype\": \"number\",\n        \"std\": 26151,\n        \"min\": 6,\n        \"max\": 90608,\n        \"num_unique_values\": 18123,\n        \"samples\": [\n          5233,\n          7604,\n          23192\n        ],\n        \"semantic_type\": \"\",\n        \"description\": \"\"\n      }\n    },\n    {\n      \"column\": \"Shell weight\",\n      \"properties\": {\n        \"dtype\": \"float32\",\n        \"num_unique_values\": 961,\n        \"samples\": [\n          -0.6917711496353149,\n          -0.4534471333026886,\n          0.34993574023246765\n        ],\n        \"semantic_type\": \"\",\n        \"description\": \"\"\n      }\n    },\n    {\n      \"column\": \"Whole weight\",\n      \"properties\": {\n        \"dtype\": \"float32\",\n        \"num_unique_values\": 2564,\n        \"samples\": [\n          0.038284480571746826,\n          -0.33937448263168335,\n          1.2675917148590088\n        ],\n        \"semantic_type\": \"\",\n        \"description\": \"\"\n      }\n    },\n    {\n      \"column\": \"Whole weight.1\",\n      \"properties\": {\n        \"dtype\": \"float32\",\n        \"num_unique_values\": 1534,\n        \"samples\": [\n          -0.7730785012245178,\n          -0.21648341417312622,\n          -1.511118769645691\n        ],\n        \"semantic_type\": \"\",\n        \"description\": \"\"\n      }\n    },\n    {\n      \"column\": \"Whole weight.2\",\n      \"properties\": {\n        \"dtype\": \"float32\",\n        \"num_unique_values\": 865,\n        \"samples\": [\n          0.6451543569564819,\n          1.2304352521896362,\n          0.5509141087532043\n        ],\n        \"semantic_type\": \"\",\n        \"description\": \"\"\n      }\n    },\n    {\n      \"column\": \"Diameter\",\n      \"properties\": {\n        \"dtype\": \"float32\",\n        \"num_unique_values\": 109,\n        \"samples\": [\n          -2.1608800888061523,\n          0.7481834888458252,\n          -0.017359448596835136\n        ],\n        \"semantic_type\": \"\",\n        \"description\": \"\"\n      }\n    },\n    {\n      \"column\": \"Length\",\n      \"properties\": {\n        \"dtype\": \"float32\",\n        \"num_unique_values\": 142,\n        \"samples\": [\n          1.9457941055297852,\n          -0.5680264830589294,\n          -0.8642679452896118\n        ],\n        \"semantic_type\": \"\",\n        \"description\": \"\"\n      }\n    },\n    {\n      \"column\": \"Height\",\n      \"properties\": {\n        \"dtype\": \"float32\",\n        \"num_unique_values\": 61,\n        \"samples\": [\n          1.4290052652359009,\n          -0.27518293261528015,\n          -3.0281026363372803\n        ],\n        \"semantic_type\": \"\",\n        \"description\": \"\"\n      }\n    }\n  ]\n}"
            }
          },
          "metadata": {},
          "execution_count": 55
        }
      ]
    },
    {
      "cell_type": "code",
      "source": [],
      "metadata": {
        "id": "iliBXjA9dzUB"
      },
      "execution_count": null,
      "outputs": []
    },
    {
      "cell_type": "markdown",
      "source": [
        "Shell weight and Whole weight seem to be the most importatant features closely followed by Whole Weight. 1 And Whole Weight. 2.\n",
        "\n",
        "Sex seems to be the least important predictor."
      ],
      "metadata": {
        "id": "ocWt7RSYweiR"
      }
    },
    {
      "cell_type": "code",
      "source": [
        "# Training dataset\n",
        "numeric_columns_train = X_train.select_dtypes(include=np.number)\n",
        "corr_train = numeric_columns_train.corr(method='pearson')\n",
        "mask_train = np.triu(np.ones_like(corr_train))\n",
        "sns.heatmap(corr_train, annot=True, fmt='.2f', mask=mask_train, cmap='Spectral', cbar=None, linewidth=2)\n",
        "plt.tight_layout()\n",
        "plt.show()"
      ],
      "metadata": {
        "colab": {
          "base_uri": "https://localhost:8080/",
          "height": 487
        },
        "id": "ZEdGIoyA0Epa",
        "outputId": "7457e2e9-1eef-41ef-8504-ccbf89882625"
      },
      "execution_count": null,
      "outputs": [
        {
          "output_type": "display_data",
          "data": {
            "text/plain": [
              "<Figure size 640x480 with 1 Axes>"
            ],
            "image/png": "[encoded data removed]"
          },
          "metadata": {}
        }
      ]
    },
    {
      "cell_type": "markdown",
      "source": [
        "Darker Colors: Indicate stronger correlations. The closer the color is to the maximum intensity (e.g., red or orange for positive correlations, blue or green for negative correlations), the stronger the correlation 1.\n",
        "\n",
        "\n",
        "Lighter Colors: Indicate weaker correlations. The closer the color is to the minimum intensity (e.g., white or light blue), the weaker the correlation 1."
      ],
      "metadata": {
        "id": "_LHZshr601je"
      }
    },
    {
      "cell_type": "markdown",
      "source": [
        "Try dropping sex column.\n",
        "or Diameter\n",
        "or diameter and whole weight"
      ],
      "metadata": {
        "id": "2oWB3RPY1Zwn"
      }
    },
    {
      "cell_type": "code",
      "source": [
        "from fastai.tabular.all import cluster_columns"
      ],
      "metadata": {
        "id": "K_f5v2Ev2zDw"
      },
      "execution_count": null,
      "outputs": []
    },
    {
      "cell_type": "code",
      "source": [
        "cluster_columns(xs_imp)"
      ],
      "metadata": {
        "colab": {
          "base_uri": "https://localhost:8080/",
          "height": 141
        },
        "id": "yaMWhS4CwD1C",
        "outputId": "277059d6-2512-45ce-8c8b-bbb83bf1e24b"
      },
      "execution_count": null,
      "outputs": [
        {
          "output_type": "error",
          "ename": "NameError",
          "evalue": "name 'cluster_columns' is not defined",
          "traceback": [
            "\u001b[0;31m---------------------------------------------------------------------------\u001b[0m",
            "\u001b[0;31mNameError\u001b[0m                                 Traceback (most recent call last)",
            "\u001b[0;32m<ipython-input-35-05dcf5e53bab>\u001b[0m in \u001b[0;36m<cell line: 1>\u001b[0;34m()\u001b[0m\n\u001b[0;32m----> 1\u001b[0;31m \u001b[0mcluster_columns\u001b[0m\u001b[0;34m(\u001b[0m\u001b[0mxs_imp\u001b[0m\u001b[0;34m)\u001b[0m\u001b[0;34m\u001b[0m\u001b[0;34m\u001b[0m\u001b[0m\n\u001b[0m",
            "\u001b[0;31mNameError\u001b[0m: name 'cluster_columns' is not defined"
          ]
        }
      ]
    },
    {
      "cell_type": "markdown",
      "source": [
        "####  Making Predictions"
      ],
      "metadata": {
        "id": "xjSJznLLcnJg"
      }
    },
    {
      "cell_type": "code",
      "source": [
        "dls = to.dataloaders(bs=64)"
      ],
      "metadata": {
        "id": "o0fPW8_ae0VO"
      },
      "execution_count": null,
      "outputs": []
    },
    {
      "cell_type": "code",
      "source": [
        "!ls"
      ],
      "metadata": {
        "colab": {
          "base_uri": "https://localhost:8080/"
        },
        "id": "hJ8-k4mQfDD8",
        "outputId": "3e25b16b-e8c6-40a9-bb14-33bad32a0ebd"
      },
      "execution_count": null,
      "outputs": [
        {
          "output_type": "stream",
          "name": "stdout",
          "text": [
            "kaggle.json  sample_data\n"
          ]
        }
      ]
    },
    {
      "cell_type": "markdown",
      "source": [
        "  Drop sex from test_df"
      ],
      "metadata": {
        "id": "NX96AOjlhFNM"
      }
    },
    {
      "cell_type": "code",
      "source": [
        "columns_to_drop = ['Sex']"
      ],
      "metadata": {
        "id": "Oe71QaCao2in"
      },
      "execution_count": null,
      "outputs": []
    },
    {
      "cell_type": "code",
      "source": [
        "test_dl = dls.test_dl(test_df)"
      ],
      "metadata": {
        "id": "DFb27-ype0Rm",
        "colab": {
          "base_uri": "https://localhost:8080/",
          "height": 141
        },
        "outputId": "2831af1b-b94c-468f-d720-880d016c739f"
      },
      "execution_count": null,
      "outputs": [
        {
          "output_type": "error",
          "ename": "NameError",
          "evalue": "name 'dls' is not defined",
          "traceback": [
            "\u001b[0;31m---------------------------------------------------------------------------\u001b[0m",
            "\u001b[0;31mNameError\u001b[0m                                 Traceback (most recent call last)",
            "\u001b[0;32m<ipython-input-1-8263f1d60f15>\u001b[0m in \u001b[0;36m<cell line: 1>\u001b[0;34m()\u001b[0m\n\u001b[0;32m----> 1\u001b[0;31m \u001b[0mtest_dl\u001b[0m \u001b[0;34m=\u001b[0m \u001b[0mdls\u001b[0m\u001b[0;34m.\u001b[0m\u001b[0mtest_dl\u001b[0m\u001b[0;34m(\u001b[0m\u001b[0mtest_df\u001b[0m\u001b[0;34m)\u001b[0m\u001b[0;34m\u001b[0m\u001b[0;34m\u001b[0m\u001b[0m\n\u001b[0m",
            "\u001b[0;31mNameError\u001b[0m: name 'dls' is not defined"
          ]
        }
      ]
    },
    {
      "cell_type": "code",
      "source": [
        "preds = tensor(rf.predict(test_dl.xs))\n",
        "rf_preds = preds"
      ],
      "metadata": {
        "id": "A-glLiWIe0Ot",
        "colab": {
          "base_uri": "https://localhost:8080/",
          "height": 339
        },
        "outputId": "1f7fca0e-2a28-4d49-c99a-682485dca6d3"
      },
      "execution_count": null,
      "outputs": [
        {
          "output_type": "error",
          "ename": "ValueError",
          "evalue": "The feature names should match those that were passed during fit.\nFeature names unseen at fit time:\n- Sex\n",
          "traceback": [
            "\u001b[0;31m---------------------------------------------------------------------------\u001b[0m",
            "\u001b[0;31mValueError\u001b[0m                                Traceback (most recent call last)",
            "\u001b[0;32m<ipython-input-78-76e1cdf0de3b>\u001b[0m in \u001b[0;36m<cell line: 1>\u001b[0;34m()\u001b[0m\n\u001b[0;32m----> 1\u001b[0;31m \u001b[0mpreds\u001b[0m \u001b[0;34m=\u001b[0m \u001b[0mtensor\u001b[0m\u001b[0;34m(\u001b[0m\u001b[0mrf\u001b[0m\u001b[0;34m.\u001b[0m\u001b[0mpredict\u001b[0m\u001b[0;34m(\u001b[0m\u001b[0mtest_dl\u001b[0m\u001b[0;34m.\u001b[0m\u001b[0mxs\u001b[0m\u001b[0;34m)\u001b[0m\u001b[0;34m)\u001b[0m\u001b[0;34m\u001b[0m\u001b[0;34m\u001b[0m\u001b[0m\n\u001b[0m\u001b[1;32m      2\u001b[0m \u001b[0mrf_preds\u001b[0m \u001b[0;34m=\u001b[0m \u001b[0mpreds\u001b[0m\u001b[0;34m\u001b[0m\u001b[0;34m\u001b[0m\u001b[0m\n",
            "\u001b[0;32m/usr/local/lib/python3.10/dist-packages/sklearn/ensemble/_forest.py\u001b[0m in \u001b[0;36mpredict\u001b[0;34m(self, X)\u001b[0m\n\u001b[1;32m    818\u001b[0m             \u001b[0mThe\u001b[0m \u001b[0mpredicted\u001b[0m \u001b[0mclasses\u001b[0m\u001b[0;34m.\u001b[0m\u001b[0;34m\u001b[0m\u001b[0;34m\u001b[0m\u001b[0m\n\u001b[1;32m    819\u001b[0m         \"\"\"\n\u001b[0;32m--> 820\u001b[0;31m         \u001b[0mproba\u001b[0m \u001b[0;34m=\u001b[0m \u001b[0mself\u001b[0m\u001b[0;34m.\u001b[0m\u001b[0mpredict_proba\u001b[0m\u001b[0;34m(\u001b[0m\u001b[0mX\u001b[0m\u001b[0;34m)\u001b[0m\u001b[0;34m\u001b[0m\u001b[0;34m\u001b[0m\u001b[0m\n\u001b[0m\u001b[1;32m    821\u001b[0m \u001b[0;34m\u001b[0m\u001b[0m\n\u001b[1;32m    822\u001b[0m         \u001b[0;32mif\u001b[0m \u001b[0mself\u001b[0m\u001b[0;34m.\u001b[0m\u001b[0mn_outputs_\u001b[0m \u001b[0;34m==\u001b[0m \u001b[0;36m1\u001b[0m\u001b[0;34m:\u001b[0m\u001b[0;34m\u001b[0m\u001b[0;34m\u001b[0m\u001b[0m\n",
            "\u001b[0;32m/usr/local/lib/python3.10/dist-packages/sklearn/ensemble/_forest.py\u001b[0m in \u001b[0;36mpredict_proba\u001b[0;34m(self, X)\u001b[0m\n\u001b[1;32m    860\u001b[0m         \u001b[0mcheck_is_fitted\u001b[0m\u001b[0;34m(\u001b[0m\u001b[0mself\u001b[0m\u001b[0;34m)\u001b[0m\u001b[0;34m\u001b[0m\u001b[0;34m\u001b[0m\u001b[0m\n\u001b[1;32m    861\u001b[0m         \u001b[0;31m# Check data\u001b[0m\u001b[0;34m\u001b[0m\u001b[0;34m\u001b[0m\u001b[0m\n\u001b[0;32m--> 862\u001b[0;31m         \u001b[0mX\u001b[0m \u001b[0;34m=\u001b[0m \u001b[0mself\u001b[0m\u001b[0;34m.\u001b[0m\u001b[0m_validate_X_predict\u001b[0m\u001b[0;34m(\u001b[0m\u001b[0mX\u001b[0m\u001b[0;34m)\u001b[0m\u001b[0;34m\u001b[0m\u001b[0;34m\u001b[0m\u001b[0m\n\u001b[0m\u001b[1;32m    863\u001b[0m \u001b[0;34m\u001b[0m\u001b[0m\n\u001b[1;32m    864\u001b[0m         \u001b[0;31m# Assign chunk of trees to jobs\u001b[0m\u001b[0;34m\u001b[0m\u001b[0;34m\u001b[0m\u001b[0m\n",
            "\u001b[0;32m/usr/local/lib/python3.10/dist-packages/sklearn/ensemble/_forest.py\u001b[0m in \u001b[0;36m_validate_X_predict\u001b[0;34m(self, X)\u001b[0m\n\u001b[1;32m    600\u001b[0m         Validate X whenever one tries to predict, apply, predict_proba.\"\"\"\n\u001b[1;32m    601\u001b[0m         \u001b[0mcheck_is_fitted\u001b[0m\u001b[0;34m(\u001b[0m\u001b[0mself\u001b[0m\u001b[0;34m)\u001b[0m\u001b[0;34m\u001b[0m\u001b[0;34m\u001b[0m\u001b[0m\n\u001b[0;32m--> 602\u001b[0;31m         \u001b[0mX\u001b[0m \u001b[0;34m=\u001b[0m \u001b[0mself\u001b[0m\u001b[0;34m.\u001b[0m\u001b[0m_validate_data\u001b[0m\u001b[0;34m(\u001b[0m\u001b[0mX\u001b[0m\u001b[0;34m,\u001b[0m \u001b[0mdtype\u001b[0m\u001b[0;34m=\u001b[0m\u001b[0mDTYPE\u001b[0m\u001b[0;34m,\u001b[0m \u001b[0maccept_sparse\u001b[0m\u001b[0;34m=\u001b[0m\u001b[0;34m\"csr\"\u001b[0m\u001b[0;34m,\u001b[0m \u001b[0mreset\u001b[0m\u001b[0;34m=\u001b[0m\u001b[0;32mFalse\u001b[0m\u001b[0;34m)\u001b[0m\u001b[0;34m\u001b[0m\u001b[0;34m\u001b[0m\u001b[0m\n\u001b[0m\u001b[1;32m    603\u001b[0m         \u001b[0;32mif\u001b[0m \u001b[0missparse\u001b[0m\u001b[0;34m(\u001b[0m\u001b[0mX\u001b[0m\u001b[0;34m)\u001b[0m \u001b[0;32mand\u001b[0m \u001b[0;34m(\u001b[0m\u001b[0mX\u001b[0m\u001b[0;34m.\u001b[0m\u001b[0mindices\u001b[0m\u001b[0;34m.\u001b[0m\u001b[0mdtype\u001b[0m \u001b[0;34m!=\u001b[0m \u001b[0mnp\u001b[0m\u001b[0;34m.\u001b[0m\u001b[0mintc\u001b[0m \u001b[0;32mor\u001b[0m \u001b[0mX\u001b[0m\u001b[0;34m.\u001b[0m\u001b[0mindptr\u001b[0m\u001b[0;34m.\u001b[0m\u001b[0mdtype\u001b[0m \u001b[0;34m!=\u001b[0m \u001b[0mnp\u001b[0m\u001b[0;34m.\u001b[0m\u001b[0mintc\u001b[0m\u001b[0;34m)\u001b[0m\u001b[0;34m:\u001b[0m\u001b[0;34m\u001b[0m\u001b[0;34m\u001b[0m\u001b[0m\n\u001b[1;32m    604\u001b[0m             \u001b[0;32mraise\u001b[0m \u001b[0mValueError\u001b[0m\u001b[0;34m(\u001b[0m\u001b[0;34m\"No support for np.int64 index based sparse matrices\"\u001b[0m\u001b[0;34m)\u001b[0m\u001b[0;34m\u001b[0m\u001b[0;34m\u001b[0m\u001b[0m\n",
            "\u001b[0;32m/usr/local/lib/python3.10/dist-packages/sklearn/base.py\u001b[0m in \u001b[0;36m_validate_data\u001b[0;34m(self, X, y, reset, validate_separately, **check_params)\u001b[0m\n\u001b[1;32m    546\u001b[0m             \u001b[0mvalidated\u001b[0m\u001b[0;34m.\u001b[0m\u001b[0;34m\u001b[0m\u001b[0;34m\u001b[0m\u001b[0m\n\u001b[1;32m    547\u001b[0m         \"\"\"\n\u001b[0;32m--> 548\u001b[0;31m         \u001b[0mself\u001b[0m\u001b[0;34m.\u001b[0m\u001b[0m_check_feature_names\u001b[0m\u001b[0;34m(\u001b[0m\u001b[0mX\u001b[0m\u001b[0;34m,\u001b[0m \u001b[0mreset\u001b[0m\u001b[0;34m=\u001b[0m\u001b[0mreset\u001b[0m\u001b[0;34m)\u001b[0m\u001b[0;34m\u001b[0m\u001b[0;34m\u001b[0m\u001b[0m\n\u001b[0m\u001b[1;32m    549\u001b[0m \u001b[0;34m\u001b[0m\u001b[0m\n\u001b[1;32m    550\u001b[0m         \u001b[0;32mif\u001b[0m \u001b[0my\u001b[0m \u001b[0;32mis\u001b[0m \u001b[0;32mNone\u001b[0m \u001b[0;32mand\u001b[0m \u001b[0mself\u001b[0m\u001b[0;34m.\u001b[0m\u001b[0m_get_tags\u001b[0m\u001b[0;34m(\u001b[0m\u001b[0;34m)\u001b[0m\u001b[0;34m[\u001b[0m\u001b[0;34m\"requires_y\"\u001b[0m\u001b[0;34m]\u001b[0m\u001b[0;34m:\u001b[0m\u001b[0;34m\u001b[0m\u001b[0;34m\u001b[0m\u001b[0m\n",
            "\u001b[0;32m/usr/local/lib/python3.10/dist-packages/sklearn/base.py\u001b[0m in \u001b[0;36m_check_feature_names\u001b[0;34m(self, X, reset)\u001b[0m\n\u001b[1;32m    479\u001b[0m                 )\n\u001b[1;32m    480\u001b[0m \u001b[0;34m\u001b[0m\u001b[0m\n\u001b[0;32m--> 481\u001b[0;31m             \u001b[0;32mraise\u001b[0m \u001b[0mValueError\u001b[0m\u001b[0;34m(\u001b[0m\u001b[0mmessage\u001b[0m\u001b[0;34m)\u001b[0m\u001b[0;34m\u001b[0m\u001b[0;34m\u001b[0m\u001b[0m\n\u001b[0m\u001b[1;32m    482\u001b[0m \u001b[0;34m\u001b[0m\u001b[0m\n\u001b[1;32m    483\u001b[0m     def _validate_data(\n",
            "\u001b[0;31mValueError\u001b[0m: The feature names should match those that were passed during fit.\nFeature names unseen at fit time:\n- Sex\n"
          ]
        }
      ]
    },
    {
      "cell_type": "code",
      "source": [
        "#rmse(rf_preds, tensor(y_test))"
      ],
      "metadata": {
        "id": "wBzdu1ffctmX"
      },
      "execution_count": null,
      "outputs": []
    },
    {
      "cell_type": "markdown",
      "source": [
        "Kaggle submission code from\n",
        "\n",
        "\n",
        "https://www.kaggle.com/code/nguyncaoduy/fastai-tabular-regression-model-nn-xgb\n",
        "\n"
      ],
      "metadata": {
        "id": "0esqYPUre7Je"
      }
    },
    {
      "cell_type": "code",
      "source": [
        "submit = pd.read_csv(path/'sample_submission.csv')\n",
        "submit['Rings'] = rf_preds # nn_preds\n",
        "submit.head()"
      ],
      "metadata": {
        "colab": {
          "base_uri": "https://localhost:8080/",
          "height": 206
        },
        "id": "Wbikjn-Ve0MG",
        "outputId": "ee434ac2-3460-47fe-f726-d4027a1c50cb"
      },
      "execution_count": null,
      "outputs": [
        {
          "output_type": "execute_result",
          "data": {
            "text/plain": [
              "      id  Rings\n",
              "0  90615     10\n",
              "1  90616      9\n",
              "2  90617      9\n",
              "3  90618      9\n",
              "4  90619      8"
            ],
            "text/html": [
              "\n",
              "  <div id=\"df-7135b831-e493-4a87-acac-e9066592ddad\" class=\"colab-df-container\">\n",
              "    <div>\n",
              "<style scoped>\n",
              "    .dataframe tbody tr th:only-of-type {\n",
              "        vertical-align: middle;\n",
              "    }\n",
              "\n",
              "    .dataframe tbody tr th {\n",
              "        vertical-align: top;\n",
              "    }\n",
              "\n",
              "    .dataframe thead th {\n",
              "        text-align: right;\n",
              "    }\n",
              "</style>\n",
              "<table border=\"1\" class=\"dataframe\">\n",
              "  <thead>\n",
              "    <tr style=\"text-align: right;\">\n",
              "      <th></th>\n",
              "      <th>id</th>\n",
              "      <th>Rings</th>\n",
              "    </tr>\n",
              "  </thead>\n",
              "  <tbody>\n",
              "    <tr>\n",
              "      <th>0</th>\n",
              "      <td>90615</td>\n",
              "      <td>10</td>\n",
              "    </tr>\n",
              "    <tr>\n",
              "      <th>1</th>\n",
              "      <td>90616</td>\n",
              "      <td>9</td>\n",
              "    </tr>\n",
              "    <tr>\n",
              "      <th>2</th>\n",
              "      <td>90617</td>\n",
              "      <td>9</td>\n",
              "    </tr>\n",
              "    <tr>\n",
              "      <th>3</th>\n",
              "      <td>90618</td>\n",
              "      <td>9</td>\n",
              "    </tr>\n",
              "    <tr>\n",
              "      <th>4</th>\n",
              "      <td>90619</td>\n",
              "      <td>8</td>\n",
              "    </tr>\n",
              "  </tbody>\n",
              "</table>\n",
              "</div>\n",
              "    <div class=\"colab-df-buttons\">\n",
              "\n",
              "  <div class=\"colab-df-container\">\n",
              "    <button class=\"colab-df-convert\" onclick=\"convertToInteractive('df-7135b831-e493-4a87-acac-e9066592ddad')\"\n",
              "            title=\"Convert this dataframe to an interactive table.\"\n",
              "            style=\"display:none;\">\n",
              "\n",
              "  <svg xmlns=\"http://www.w3.org/2000/svg\" height=\"24px\" viewBox=\"0 -960 960 960\">\n",
              "    <path d=\"M120-120v-720h720v720H120Zm60-500h600v-160H180v160Zm220 220h160v-160H400v160Zm0 220h160v-160H400v160ZM180-400h160v-160H180v160Zm440 0h160v-160H620v160ZM180-180h160v-160H180v160Zm440 0h160v-160H620v160Z\"/>\n",
              "  </svg>\n",
              "    </button>\n",
              "\n",
              "  <style>\n",
              "    .colab-df-container {\n",
              "      display:flex;\n",
              "      gap: 12px;\n",
              "    }\n",
              "\n",
              "    .colab-df-convert {\n",
              "      background-color: #E8F0FE;\n",
              "      border: none;\n",
              "      border-radius: 50%;\n",
              "      cursor: pointer;\n",
              "      display: none;\n",
              "      fill: #1967D2;\n",
              "      height: 32px;\n",
              "      padding: 0 0 0 0;\n",
              "      width: 32px;\n",
              "    }\n",
              "\n",
              "    .colab-df-convert:hover {\n",
              "      background-color: #E2EBFA;\n",
              "      box-shadow: 0px 1px 2px rgba(60, 64, 67, 0.3), 0px 1px 3px 1px rgba(60, 64, 67, 0.15);\n",
              "      fill: #174EA6;\n",
              "    }\n",
              "\n",
              "    .colab-df-buttons div {\n",
              "      margin-bottom: 4px;\n",
              "    }\n",
              "\n",
              "    [theme=dark] .colab-df-convert {\n",
              "      background-color: #3B4455;\n",
              "      fill: #D2E3FC;\n",
              "    }\n",
              "\n",
              "    [theme=dark] .colab-df-convert:hover {\n",
              "      background-color: #434B5C;\n",
              "      box-shadow: 0px 1px 3px 1px rgba(0, 0, 0, 0.15);\n",
              "      filter: drop-shadow(0px 1px 2px rgba(0, 0, 0, 0.3));\n",
              "      fill: #FFFFFF;\n",
              "    }\n",
              "  </style>\n",
              "\n",
              "    <script>\n",
              "      const buttonEl =\n",
              "        document.querySelector('#df-7135b831-e493-4a87-acac-e9066592ddad button.colab-df-convert');\n",
              "      buttonEl.style.display =\n",
              "        google.colab.kernel.accessAllowed ? 'block' : 'none';\n",
              "\n",
              "      async function convertToInteractive(key) {\n",
              "        const element = document.querySelector('#df-7135b831-e493-4a87-acac-e9066592ddad');\n",
              "        const dataTable =\n",
              "          await google.colab.kernel.invokeFunction('convertToInteractive',\n",
              "                                                    [key], {});\n",
              "        if (!dataTable) return;\n",
              "\n",
              "        const docLinkHtml = 'Like what you see? Visit the ' +\n",
              "          '<a target=\"_blank\" href=https://colab.research.google.com/notebooks/data_table.ipynb>data table notebook</a>'\n",
              "          + ' to learn more about interactive tables.';\n",
              "        element.innerHTML = '';\n",
              "        dataTable['output_type'] = 'display_data';\n",
              "        await google.colab.output.renderOutput(dataTable, element);\n",
              "        const docLink = document.createElement('div');\n",
              "        docLink.innerHTML = docLinkHtml;\n",
              "        element.appendChild(docLink);\n",
              "      }\n",
              "    </script>\n",
              "  </div>\n",
              "\n",
              "\n",
              "<div id=\"df-78de046f-d542-4f7d-9d61-1707f86de0e7\">\n",
              "  <button class=\"colab-df-quickchart\" onclick=\"quickchart('df-78de046f-d542-4f7d-9d61-1707f86de0e7')\"\n",
              "            title=\"Suggest charts\"\n",
              "            style=\"display:none;\">\n",
              "\n",
              "<svg xmlns=\"http://www.w3.org/2000/svg\" height=\"24px\"viewBox=\"0 0 24 24\"\n",
              "     width=\"24px\">\n",
              "    <g>\n",
              "        <path d=\"M19 3H5c-1.1 0-2 .9-2 2v14c0 1.1.9 2 2 2h14c1.1 0 2-.9 2-2V5c0-1.1-.9-2-2-2zM9 17H7v-7h2v7zm4 0h-2V7h2v10zm4 0h-2v-4h2v4z\"/>\n",
              "    </g>\n",
              "</svg>\n",
              "  </button>\n",
              "\n",
              "<style>\n",
              "  .colab-df-quickchart {\n",
              "      --bg-color: #E8F0FE;\n",
              "      --fill-color: #1967D2;\n",
              "      --hover-bg-color: #E2EBFA;\n",
              "      --hover-fill-color: #174EA6;\n",
              "      --disabled-fill-color: #AAA;\n",
              "      --disabled-bg-color: #DDD;\n",
              "  }\n",
              "\n",
              "  [theme=dark] .colab-df-quickchart {\n",
              "      --bg-color: #3B4455;\n",
              "      --fill-color: #D2E3FC;\n",
              "      --hover-bg-color: #434B5C;\n",
              "      --hover-fill-color: #FFFFFF;\n",
              "      --disabled-bg-color: #3B4455;\n",
              "      --disabled-fill-color: #666;\n",
              "  }\n",
              "\n",
              "  .colab-df-quickchart {\n",
              "    background-color: var(--bg-color);\n",
              "    border: none;\n",
              "    border-radius: 50%;\n",
              "    cursor: pointer;\n",
              "    display: none;\n",
              "    fill: var(--fill-color);\n",
              "    height: 32px;\n",
              "    padding: 0;\n",
              "    width: 32px;\n",
              "  }\n",
              "\n",
              "  .colab-df-quickchart:hover {\n",
              "    background-color: var(--hover-bg-color);\n",
              "    box-shadow: 0 1px 2px rgba(60, 64, 67, 0.3), 0 1px 3px 1px rgba(60, 64, 67, 0.15);\n",
              "    fill: var(--button-hover-fill-color);\n",
              "  }\n",
              "\n",
              "  .colab-df-quickchart-complete:disabled,\n",
              "  .colab-df-quickchart-complete:disabled:hover {\n",
              "    background-color: var(--disabled-bg-color);\n",
              "    fill: var(--disabled-fill-color);\n",
              "    box-shadow: none;\n",
              "  }\n",
              "\n",
              "  .colab-df-spinner {\n",
              "    border: 2px solid var(--fill-color);\n",
              "    border-color: transparent;\n",
              "    border-bottom-color: var(--fill-color);\n",
              "    animation:\n",
              "      spin 1s steps(1) infinite;\n",
              "  }\n",
              "\n",
              "  @keyframes spin {\n",
              "    0% {\n",
              "      border-color: transparent;\n",
              "      border-bottom-color: var(--fill-color);\n",
              "      border-left-color: var(--fill-color);\n",
              "    }\n",
              "    20% {\n",
              "      border-color: transparent;\n",
              "      border-left-color: var(--fill-color);\n",
              "      border-top-color: var(--fill-color);\n",
              "    }\n",
              "    30% {\n",
              "      border-color: transparent;\n",
              "      border-left-color: var(--fill-color);\n",
              "      border-top-color: var(--fill-color);\n",
              "      border-right-color: var(--fill-color);\n",
              "    }\n",
              "    40% {\n",
              "      border-color: transparent;\n",
              "      border-right-color: var(--fill-color);\n",
              "      border-top-color: var(--fill-color);\n",
              "    }\n",
              "    60% {\n",
              "      border-color: transparent;\n",
              "      border-right-color: var(--fill-color);\n",
              "    }\n",
              "    80% {\n",
              "      border-color: transparent;\n",
              "      border-right-color: var(--fill-color);\n",
              "      border-bottom-color: var(--fill-color);\n",
              "    }\n",
              "    90% {\n",
              "      border-color: transparent;\n",
              "      border-bottom-color: var(--fill-color);\n",
              "    }\n",
              "  }\n",
              "</style>\n",
              "\n",
              "  <script>\n",
              "    async function quickchart(key) {\n",
              "      const quickchartButtonEl =\n",
              "        document.querySelector('#' + key + ' button');\n",
              "      quickchartButtonEl.disabled = true;  // To prevent multiple clicks.\n",
              "      quickchartButtonEl.classList.add('colab-df-spinner');\n",
              "      try {\n",
              "        const charts = await google.colab.kernel.invokeFunction(\n",
              "            'suggestCharts', [key], {});\n",
              "      } catch (error) {\n",
              "        console.error('Error during call to suggestCharts:', error);\n",
              "      }\n",
              "      quickchartButtonEl.classList.remove('colab-df-spinner');\n",
              "      quickchartButtonEl.classList.add('colab-df-quickchart-complete');\n",
              "    }\n",
              "    (() => {\n",
              "      let quickchartButtonEl =\n",
              "        document.querySelector('#df-78de046f-d542-4f7d-9d61-1707f86de0e7 button');\n",
              "      quickchartButtonEl.style.display =\n",
              "        google.colab.kernel.accessAllowed ? 'block' : 'none';\n",
              "    })();\n",
              "  </script>\n",
              "</div>\n",
              "\n",
              "    </div>\n",
              "  </div>\n"
            ],
            "application/vnd.google.colaboratory.intrinsic+json": {
              "type": "dataframe",
              "variable_name": "submit",
              "summary": "{\n  \"name\": \"submit\",\n  \"rows\": 60411,\n  \"fields\": [\n    {\n      \"column\": \"id\",\n      \"properties\": {\n        \"dtype\": \"number\",\n        \"std\": 17439,\n        \"min\": 90615,\n        \"max\": 151025,\n        \"num_unique_values\": 60411,\n        \"samples\": [\n          91344,\n          125524,\n          107704\n        ],\n        \"semantic_type\": \"\",\n        \"description\": \"\"\n      }\n    },\n    {\n      \"column\": \"Rings\",\n      \"properties\": {\n        \"dtype\": \"int8\",\n        \"num_unique_values\": 19,\n        \"samples\": [\n          10,\n          13,\n          14\n        ],\n        \"semantic_type\": \"\",\n        \"description\": \"\"\n      }\n    }\n  ]\n}"
            }
          },
          "metadata": {},
          "execution_count": 39
        }
      ]
    },
    {
      "cell_type": "code",
      "source": [
        "submit.to_csv('submission.csv', index=False)"
      ],
      "metadata": {
        "id": "YqNfPeLQfI2s"
      },
      "execution_count": null,
      "outputs": []
    },
    {
      "cell_type": "code",
      "source": [
        "!ls"
      ],
      "metadata": {
        "colab": {
          "base_uri": "https://localhost:8080/"
        },
        "id": "22_vgDRufN7l",
        "outputId": "31b49056-8ba5-4329-b09f-c2f32a05d7a2"
      },
      "execution_count": null,
      "outputs": [
        {
          "output_type": "stream",
          "name": "stdout",
          "text": [
            "'kaggle (1).json'   kaggle.json   models   sample_data\t submission.csv\n"
          ]
        }
      ]
    },
    {
      "cell_type": "code",
      "source": [
        "sub = pd.read_csv('submission.csv')\n",
        "sub.head()"
      ],
      "metadata": {
        "colab": {
          "base_uri": "https://localhost:8080/",
          "height": 206
        },
        "id": "SFxD5F8QfLtn",
        "outputId": "baf8b75a-19e4-4fd3-fd3e-62600319c8dc"
      },
      "execution_count": null,
      "outputs": [
        {
          "output_type": "execute_result",
          "data": {
            "text/plain": [
              "      id  Rings\n",
              "0  90615     10\n",
              "1  90616      9\n",
              "2  90617      9\n",
              "3  90618      9\n",
              "4  90619      8"
            ],
            "text/html": [
              "\n",
              "  <div id=\"df-a70f7c9a-c6a9-41c5-98bf-193d4ff25e72\" class=\"colab-df-container\">\n",
              "    <div>\n",
              "<style scoped>\n",
              "    .dataframe tbody tr th:only-of-type {\n",
              "        vertical-align: middle;\n",
              "    }\n",
              "\n",
              "    .dataframe tbody tr th {\n",
              "        vertical-align: top;\n",
              "    }\n",
              "\n",
              "    .dataframe thead th {\n",
              "        text-align: right;\n",
              "    }\n",
              "</style>\n",
              "<table border=\"1\" class=\"dataframe\">\n",
              "  <thead>\n",
              "    <tr style=\"text-align: right;\">\n",
              "      <th></th>\n",
              "      <th>id</th>\n",
              "      <th>Rings</th>\n",
              "    </tr>\n",
              "  </thead>\n",
              "  <tbody>\n",
              "    <tr>\n",
              "      <th>0</th>\n",
              "      <td>90615</td>\n",
              "      <td>10</td>\n",
              "    </tr>\n",
              "    <tr>\n",
              "      <th>1</th>\n",
              "      <td>90616</td>\n",
              "      <td>9</td>\n",
              "    </tr>\n",
              "    <tr>\n",
              "      <th>2</th>\n",
              "      <td>90617</td>\n",
              "      <td>9</td>\n",
              "    </tr>\n",
              "    <tr>\n",
              "      <th>3</th>\n",
              "      <td>90618</td>\n",
              "      <td>9</td>\n",
              "    </tr>\n",
              "    <tr>\n",
              "      <th>4</th>\n",
              "      <td>90619</td>\n",
              "      <td>8</td>\n",
              "    </tr>\n",
              "  </tbody>\n",
              "</table>\n",
              "</div>\n",
              "    <div class=\"colab-df-buttons\">\n",
              "\n",
              "  <div class=\"colab-df-container\">\n",
              "    <button class=\"colab-df-convert\" onclick=\"convertToInteractive('df-a70f7c9a-c6a9-41c5-98bf-193d4ff25e72')\"\n",
              "            title=\"Convert this dataframe to an interactive table.\"\n",
              "            style=\"display:none;\">\n",
              "\n",
              "  <svg xmlns=\"http://www.w3.org/2000/svg\" height=\"24px\" viewBox=\"0 -960 960 960\">\n",
              "    <path d=\"M120-120v-720h720v720H120Zm60-500h600v-160H180v160Zm220 220h160v-160H400v160Zm0 220h160v-160H400v160ZM180-400h160v-160H180v160Zm440 0h160v-160H620v160ZM180-180h160v-160H180v160Zm440 0h160v-160H620v160Z\"/>\n",
              "  </svg>\n",
              "    </button>\n",
              "\n",
              "  <style>\n",
              "    .colab-df-container {\n",
              "      display:flex;\n",
              "      gap: 12px;\n",
              "    }\n",
              "\n",
              "    .colab-df-convert {\n",
              "      background-color: #E8F0FE;\n",
              "      border: none;\n",
              "      border-radius: 50%;\n",
              "      cursor: pointer;\n",
              "      display: none;\n",
              "      fill: #1967D2;\n",
              "      height: 32px;\n",
              "      padding: 0 0 0 0;\n",
              "      width: 32px;\n",
              "    }\n",
              "\n",
              "    .colab-df-convert:hover {\n",
              "      background-color: #E2EBFA;\n",
              "      box-shadow: 0px 1px 2px rgba(60, 64, 67, 0.3), 0px 1px 3px 1px rgba(60, 64, 67, 0.15);\n",
              "      fill: #174EA6;\n",
              "    }\n",
              "\n",
              "    .colab-df-buttons div {\n",
              "      margin-bottom: 4px;\n",
              "    }\n",
              "\n",
              "    [theme=dark] .colab-df-convert {\n",
              "      background-color: #3B4455;\n",
              "      fill: #D2E3FC;\n",
              "    }\n",
              "\n",
              "    [theme=dark] .colab-df-convert:hover {\n",
              "      background-color: #434B5C;\n",
              "      box-shadow: 0px 1px 3px 1px rgba(0, 0, 0, 0.15);\n",
              "      filter: drop-shadow(0px 1px 2px rgba(0, 0, 0, 0.3));\n",
              "      fill: #FFFFFF;\n",
              "    }\n",
              "  </style>\n",
              "\n",
              "    <script>\n",
              "      const buttonEl =\n",
              "        document.querySelector('#df-a70f7c9a-c6a9-41c5-98bf-193d4ff25e72 button.colab-df-convert');\n",
              "      buttonEl.style.display =\n",
              "        google.colab.kernel.accessAllowed ? 'block' : 'none';\n",
              "\n",
              "      async function convertToInteractive(key) {\n",
              "        const element = document.querySelector('#df-a70f7c9a-c6a9-41c5-98bf-193d4ff25e72');\n",
              "        const dataTable =\n",
              "          await google.colab.kernel.invokeFunction('convertToInteractive',\n",
              "                                                    [key], {});\n",
              "        if (!dataTable) return;\n",
              "\n",
              "        const docLinkHtml = 'Like what you see? Visit the ' +\n",
              "          '<a target=\"_blank\" href=https://colab.research.google.com/notebooks/data_table.ipynb>data table notebook</a>'\n",
              "          + ' to learn more about interactive tables.';\n",
              "        element.innerHTML = '';\n",
              "        dataTable['output_type'] = 'display_data';\n",
              "        await google.colab.output.renderOutput(dataTable, element);\n",
              "        const docLink = document.createElement('div');\n",
              "        docLink.innerHTML = docLinkHtml;\n",
              "        element.appendChild(docLink);\n",
              "      }\n",
              "    </script>\n",
              "  </div>\n",
              "\n",
              "\n",
              "<div id=\"df-ec7731ae-fa47-4b8e-8ba0-69122444adc5\">\n",
              "  <button class=\"colab-df-quickchart\" onclick=\"quickchart('df-ec7731ae-fa47-4b8e-8ba0-69122444adc5')\"\n",
              "            title=\"Suggest charts\"\n",
              "            style=\"display:none;\">\n",
              "\n",
              "<svg xmlns=\"http://www.w3.org/2000/svg\" height=\"24px\"viewBox=\"0 0 24 24\"\n",
              "     width=\"24px\">\n",
              "    <g>\n",
              "        <path d=\"M19 3H5c-1.1 0-2 .9-2 2v14c0 1.1.9 2 2 2h14c1.1 0 2-.9 2-2V5c0-1.1-.9-2-2-2zM9 17H7v-7h2v7zm4 0h-2V7h2v10zm4 0h-2v-4h2v4z\"/>\n",
              "    </g>\n",
              "</svg>\n",
              "  </button>\n",
              "\n",
              "<style>\n",
              "  .colab-df-quickchart {\n",
              "      --bg-color: #E8F0FE;\n",
              "      --fill-color: #1967D2;\n",
              "      --hover-bg-color: #E2EBFA;\n",
              "      --hover-fill-color: #174EA6;\n",
              "      --disabled-fill-color: #AAA;\n",
              "      --disabled-bg-color: #DDD;\n",
              "  }\n",
              "\n",
              "  [theme=dark] .colab-df-quickchart {\n",
              "      --bg-color: #3B4455;\n",
              "      --fill-color: #D2E3FC;\n",
              "      --hover-bg-color: #434B5C;\n",
              "      --hover-fill-color: #FFFFFF;\n",
              "      --disabled-bg-color: #3B4455;\n",
              "      --disabled-fill-color: #666;\n",
              "  }\n",
              "\n",
              "  .colab-df-quickchart {\n",
              "    background-color: var(--bg-color);\n",
              "    border: none;\n",
              "    border-radius: 50%;\n",
              "    cursor: pointer;\n",
              "    display: none;\n",
              "    fill: var(--fill-color);\n",
              "    height: 32px;\n",
              "    padding: 0;\n",
              "    width: 32px;\n",
              "  }\n",
              "\n",
              "  .colab-df-quickchart:hover {\n",
              "    background-color: var(--hover-bg-color);\n",
              "    box-shadow: 0 1px 2px rgba(60, 64, 67, 0.3), 0 1px 3px 1px rgba(60, 64, 67, 0.15);\n",
              "    fill: var(--button-hover-fill-color);\n",
              "  }\n",
              "\n",
              "  .colab-df-quickchart-complete:disabled,\n",
              "  .colab-df-quickchart-complete:disabled:hover {\n",
              "    background-color: var(--disabled-bg-color);\n",
              "    fill: var(--disabled-fill-color);\n",
              "    box-shadow: none;\n",
              "  }\n",
              "\n",
              "  .colab-df-spinner {\n",
              "    border: 2px solid var(--fill-color);\n",
              "    border-color: transparent;\n",
              "    border-bottom-color: var(--fill-color);\n",
              "    animation:\n",
              "      spin 1s steps(1) infinite;\n",
              "  }\n",
              "\n",
              "  @keyframes spin {\n",
              "    0% {\n",
              "      border-color: transparent;\n",
              "      border-bottom-color: var(--fill-color);\n",
              "      border-left-color: var(--fill-color);\n",
              "    }\n",
              "    20% {\n",
              "      border-color: transparent;\n",
              "      border-left-color: var(--fill-color);\n",
              "      border-top-color: var(--fill-color);\n",
              "    }\n",
              "    30% {\n",
              "      border-color: transparent;\n",
              "      border-left-color: var(--fill-color);\n",
              "      border-top-color: var(--fill-color);\n",
              "      border-right-color: var(--fill-color);\n",
              "    }\n",
              "    40% {\n",
              "      border-color: transparent;\n",
              "      border-right-color: var(--fill-color);\n",
              "      border-top-color: var(--fill-color);\n",
              "    }\n",
              "    60% {\n",
              "      border-color: transparent;\n",
              "      border-right-color: var(--fill-color);\n",
              "    }\n",
              "    80% {\n",
              "      border-color: transparent;\n",
              "      border-right-color: var(--fill-color);\n",
              "      border-bottom-color: var(--fill-color);\n",
              "    }\n",
              "    90% {\n",
              "      border-color: transparent;\n",
              "      border-bottom-color: var(--fill-color);\n",
              "    }\n",
              "  }\n",
              "</style>\n",
              "\n",
              "  <script>\n",
              "    async function quickchart(key) {\n",
              "      const quickchartButtonEl =\n",
              "        document.querySelector('#' + key + ' button');\n",
              "      quickchartButtonEl.disabled = true;  // To prevent multiple clicks.\n",
              "      quickchartButtonEl.classList.add('colab-df-spinner');\n",
              "      try {\n",
              "        const charts = await google.colab.kernel.invokeFunction(\n",
              "            'suggestCharts', [key], {});\n",
              "      } catch (error) {\n",
              "        console.error('Error during call to suggestCharts:', error);\n",
              "      }\n",
              "      quickchartButtonEl.classList.remove('colab-df-spinner');\n",
              "      quickchartButtonEl.classList.add('colab-df-quickchart-complete');\n",
              "    }\n",
              "    (() => {\n",
              "      let quickchartButtonEl =\n",
              "        document.querySelector('#df-ec7731ae-fa47-4b8e-8ba0-69122444adc5 button');\n",
              "      quickchartButtonEl.style.display =\n",
              "        google.colab.kernel.accessAllowed ? 'block' : 'none';\n",
              "    })();\n",
              "  </script>\n",
              "</div>\n",
              "\n",
              "    </div>\n",
              "  </div>\n"
            ],
            "application/vnd.google.colaboratory.intrinsic+json": {
              "type": "dataframe",
              "variable_name": "sub",
              "summary": "{\n  \"name\": \"sub\",\n  \"rows\": 60411,\n  \"fields\": [\n    {\n      \"column\": \"id\",\n      \"properties\": {\n        \"dtype\": \"number\",\n        \"std\": 17439,\n        \"min\": 90615,\n        \"max\": 151025,\n        \"num_unique_values\": 60411,\n        \"samples\": [\n          91344,\n          125524,\n          107704\n        ],\n        \"semantic_type\": \"\",\n        \"description\": \"\"\n      }\n    },\n    {\n      \"column\": \"Rings\",\n      \"properties\": {\n        \"dtype\": \"number\",\n        \"std\": 2,\n        \"min\": 3,\n        \"max\": 21,\n        \"num_unique_values\": 19,\n        \"samples\": [\n          10,\n          13,\n          14\n        ],\n        \"semantic_type\": \"\",\n        \"description\": \"\"\n      }\n    }\n  ]\n}"
            }
          },
          "metadata": {},
          "execution_count": 42
        }
      ]
    },
    {
      "cell_type": "code",
      "source": [
        "!kaggle competitions submit -c playground-series-s4e4 -f submission.csv -m \"random forest initial subm trial 3 with no id column in general model nb\""
      ],
      "metadata": {
        "colab": {
          "base_uri": "https://localhost:8080/"
        },
        "id": "z1_fvd9rfOf7",
        "outputId": "096696e3-b80a-4811-b428-8b49e58ddcc4"
      },
      "execution_count": null,
      "outputs": [
        {
          "output_type": "stream",
          "name": "stdout",
          "text": [
            "Warning: Looks like you're using an outdated API Version, please consider updating (server 1.6.7 / client 1.5.16)\n",
            "100% 542k/542k [00:00<00:00, 796kB/s]\n",
            "Successfully submitted to Regression with an Abalone Dataset"
          ]
        }
      ]
    },
    {
      "cell_type": "markdown",
      "source": [
        "###XGBoost"
      ],
      "metadata": {
        "id": "JgJkgHN4frpq"
      }
    },
    {
      "cell_type": "code",
      "source": [
        "model = xgb.XGBRegressor(n_estimators = 200, max_depth=6, learning_rate=0.15, subsample=0.5)"
      ],
      "metadata": {
        "id": "TEAH2_XUfVSf"
      },
      "execution_count": null,
      "outputs": []
    },
    {
      "cell_type": "code",
      "source": [
        "xgb_model = model.fit(X_train, y_train)"
      ],
      "metadata": {
        "id": "apmVNTpMftwS"
      },
      "execution_count": null,
      "outputs": []
    },
    {
      "cell_type": "markdown",
      "source": [
        "XGBoost Feature Importance"
      ],
      "metadata": {
        "id": "x_wrXSyRxH0c"
      }
    },
    {
      "cell_type": "code",
      "source": [
        "plot_importance(xgb_model)"
      ],
      "metadata": {
        "colab": {
          "base_uri": "https://localhost:8080/",
          "height": 489
        },
        "id": "nAcnKQfcxHgE",
        "outputId": "e8389f83-54e0-4653-a609-c4df9a064a42"
      },
      "execution_count": null,
      "outputs": [
        {
          "output_type": "execute_result",
          "data": {
            "text/plain": [
              "<Axes: title={'center': 'Feature importance'}, xlabel='F score', ylabel='Features'>"
            ]
          },
          "metadata": {},
          "execution_count": 74
        },
        {
          "output_type": "display_data",
          "data": {
            "text/plain": [
              "<Figure size 640x480 with 1 Axes>"
            ],
            "image/png": "[encoded data removed]"
          },
          "metadata": {}
        }
      ]
    },
    {
      "cell_type": "markdown",
      "source": [
        "Similar to the random forest, sex seems to be the least important predictor.\n",
        "Length seems to be the only differing facotr factor from the Random forst in importance."
      ],
      "metadata": {
        "id": "FUP0RGglxfE1"
      }
    },
    {
      "cell_type": "code",
      "source": [
        "#xgb_preds = tensor(model.predict(X_test))"
      ],
      "metadata": {
        "id": "txzILX7yfts1"
      },
      "execution_count": null,
      "outputs": []
    },
    {
      "cell_type": "code",
      "source": [
        "#rmse(xgb_preds, tensor(y_test))"
      ],
      "metadata": {
        "id": "3lCBWTZ3ftqY"
      },
      "execution_count": null,
      "outputs": []
    },
    {
      "cell_type": "code",
      "source": [
        "dls = to.dataloaders(bs=64)"
      ],
      "metadata": {
        "id": "StOdRRe_ftnj"
      },
      "execution_count": null,
      "outputs": []
    },
    {
      "cell_type": "code",
      "source": [
        "test_dl = dls.test_dl(test_df)"
      ],
      "metadata": {
        "id": "u3mVzBK8ftk_"
      },
      "execution_count": null,
      "outputs": []
    },
    {
      "cell_type": "code",
      "source": [
        "preds = tensor(model.predict(test_dl.xs))\n",
        "xgb_preds = preds"
      ],
      "metadata": {
        "id": "ZoqEG-dUfth9"
      },
      "execution_count": null,
      "outputs": []
    },
    {
      "cell_type": "code",
      "source": [
        "xgb_preds"
      ],
      "metadata": {
        "colab": {
          "base_uri": "https://localhost:8080/"
        },
        "id": "j1uY9jaxYXpu",
        "outputId": "7c8c8d8a-d8cb-418b-df33-71d3e21882ef"
      },
      "execution_count": null,
      "outputs": [
        {
          "output_type": "execute_result",
          "data": {
            "text/plain": [
              "tensor([10.0737,  9.7286, 10.1581,  ..., 12.1526, 13.2365,  8.4007])"
            ]
          },
          "metadata": {},
          "execution_count": 78
        }
      ]
    },
    {
      "cell_type": "code",
      "source": [],
      "metadata": {
        "id": "FTgvTN9ZaQ8H"
      },
      "execution_count": null,
      "outputs": []
    },
    {
      "cell_type": "code",
      "source": [
        "mse = mean_absolute_error(y_test, model.predict(X_test))\n",
        "rmse = np.sqrt(mse)\n",
        "rmse"
      ],
      "metadata": {
        "colab": {
          "base_uri": "https://localhost:8080/"
        },
        "id": "CFLfchYEZUgo",
        "outputId": "807f3dc2-fc71-44ff-ca4c-29dee8b54e2d"
      },
      "execution_count": null,
      "outputs": [
        {
          "output_type": "execute_result",
          "data": {
            "text/plain": [
              "1.1300371"
            ]
          },
          "metadata": {},
          "execution_count": 26
        }
      ]
    },
    {
      "cell_type": "code",
      "source": [
        "#more depth\n",
        "mse = mean_absolute_error(y_test, model.predict(X_test))\n",
        "rmse = np.sqrt(mse)\n",
        "rmse"
      ],
      "metadata": {
        "colab": {
          "base_uri": "https://localhost:8080/"
        },
        "id": "EyB6Bn0tZl_p",
        "outputId": "fb5e9529-0c3e-47cb-9278-1308e531fbea"
      },
      "execution_count": null,
      "outputs": [
        {
          "output_type": "execute_result",
          "data": {
            "text/plain": [
              "1.154268"
            ]
          },
          "metadata": {},
          "execution_count": 34
        }
      ]
    },
    {
      "cell_type": "code",
      "source": [
        "#max_depth-6\n",
        "mse = mean_absolute_error(y_test, model.predict(X_test))\n",
        "rmse = np.sqrt(mse)\n",
        "rmse"
      ],
      "metadata": {
        "colab": {
          "base_uri": "https://localhost:8080/"
        },
        "id": "gEzl75aMZ4WI",
        "outputId": "141bfe36-48a1-47e3-92d3-d6c21c1f8ea6"
      },
      "execution_count": null,
      "outputs": [
        {
          "output_type": "execute_result",
          "data": {
            "text/plain": [
              "1.118001"
            ]
          },
          "metadata": {},
          "execution_count": 41
        }
      ]
    },
    {
      "cell_type": "code",
      "source": [
        "mse = mean_absolute_error(y_test, model.predict(X_test))\n",
        "rmse = np.sqrt(mse)\n",
        "rmse"
      ],
      "metadata": {
        "colab": {
          "base_uri": "https://localhost:8080/"
        },
        "id": "dMFb0Y7kaR25",
        "outputId": "a095a069-4330-49c9-8d15-215534217747"
      },
      "execution_count": null,
      "outputs": [
        {
          "output_type": "execute_result",
          "data": {
            "text/plain": [
              "1.1184986"
            ]
          },
          "metadata": {},
          "execution_count": 51
        }
      ]
    },
    {
      "cell_type": "code",
      "source": [
        "mse = mean_absolute_error(y_test, model.predict(X_test))\n",
        "rmse = np.sqrt(mse)\n",
        "rmse"
      ],
      "metadata": {
        "colab": {
          "base_uri": "https://localhost:8080/"
        },
        "id": "7VgEEvkdacHE",
        "outputId": "d116138b-0a01-4310-c826-40afde487a5f"
      },
      "execution_count": null,
      "outputs": [
        {
          "output_type": "execute_result",
          "data": {
            "text/plain": [
              "1.1175646"
            ]
          },
          "metadata": {},
          "execution_count": 61
        }
      ]
    },
    {
      "cell_type": "code",
      "source": [
        "mse = mean_absolute_error(y_test, model.predict(X_test))\n",
        "rmse = np.sqrt(mse)\n",
        "rmse"
      ],
      "metadata": {
        "colab": {
          "base_uri": "https://localhost:8080/"
        },
        "id": "f4aymEHgajex",
        "outputId": "4d99a458-a27b-4da1-8d85-976ed9f908b9"
      },
      "execution_count": null,
      "outputs": [
        {
          "output_type": "execute_result",
          "data": {
            "text/plain": [
              "1.1208676"
            ]
          },
          "metadata": {},
          "execution_count": 71
        }
      ]
    },
    {
      "cell_type": "code",
      "source": [
        "mse = mean_absolute_error(y_test, model.predict(X_test))\n",
        "rmse = np.sqrt(mse)\n",
        "rmse"
      ],
      "metadata": {
        "colab": {
          "base_uri": "https://localhost:8080/"
        },
        "id": "vjFaQKm7axxA",
        "outputId": "e8e40933-8e72-485d-b199-34b23a434b03"
      },
      "execution_count": null,
      "outputs": [
        {
          "output_type": "execute_result",
          "data": {
            "text/plain": [
              "1.1175646"
            ]
          },
          "metadata": {},
          "execution_count": 79
        }
      ]
    },
    {
      "cell_type": "markdown",
      "source": [
        "XGBoost Submission code"
      ],
      "metadata": {
        "id": "DIwRnOENhYGT"
      }
    },
    {
      "cell_type": "code",
      "source": [
        "submit = pd.read_csv(path/'sample_submission.csv')\n",
        "submit['Rings'] = xgb_preds # nn_preds\n",
        "submit.head()"
      ],
      "metadata": {
        "id": "aoYiyyrThioR",
        "colab": {
          "base_uri": "https://localhost:8080/",
          "height": 206
        },
        "outputId": "ccab5c40-4997-4805-85d3-18e35a1a4df6"
      },
      "execution_count": null,
      "outputs": [
        {
          "output_type": "execute_result",
          "data": {
            "text/plain": [
              "      id      Rings\n",
              "0  90615  10.073746\n",
              "1  90616   9.728607\n",
              "2  90617  10.158137\n",
              "3  90618  10.729393\n",
              "4  90619   7.586835"
            ],
            "text/html": [
              "\n",
              "  <div id=\"df-9c22e23f-5d0e-43e3-bbe7-2beb2cfb0f70\" class=\"colab-df-container\">\n",
              "    <div>\n",
              "<style scoped>\n",
              "    .dataframe tbody tr th:only-of-type {\n",
              "        vertical-align: middle;\n",
              "    }\n",
              "\n",
              "    .dataframe tbody tr th {\n",
              "        vertical-align: top;\n",
              "    }\n",
              "\n",
              "    .dataframe thead th {\n",
              "        text-align: right;\n",
              "    }\n",
              "</style>\n",
              "<table border=\"1\" class=\"dataframe\">\n",
              "  <thead>\n",
              "    <tr style=\"text-align: right;\">\n",
              "      <th></th>\n",
              "      <th>id</th>\n",
              "      <th>Rings</th>\n",
              "    </tr>\n",
              "  </thead>\n",
              "  <tbody>\n",
              "    <tr>\n",
              "      <th>0</th>\n",
              "      <td>90615</td>\n",
              "      <td>10.073746</td>\n",
              "    </tr>\n",
              "    <tr>\n",
              "      <th>1</th>\n",
              "      <td>90616</td>\n",
              "      <td>9.728607</td>\n",
              "    </tr>\n",
              "    <tr>\n",
              "      <th>2</th>\n",
              "      <td>90617</td>\n",
              "      <td>10.158137</td>\n",
              "    </tr>\n",
              "    <tr>\n",
              "      <th>3</th>\n",
              "      <td>90618</td>\n",
              "      <td>10.729393</td>\n",
              "    </tr>\n",
              "    <tr>\n",
              "      <th>4</th>\n",
              "      <td>90619</td>\n",
              "      <td>7.586835</td>\n",
              "    </tr>\n",
              "  </tbody>\n",
              "</table>\n",
              "</div>\n",
              "    <div class=\"colab-df-buttons\">\n",
              "\n",
              "  <div class=\"colab-df-container\">\n",
              "    <button class=\"colab-df-convert\" onclick=\"convertToInteractive('df-9c22e23f-5d0e-43e3-bbe7-2beb2cfb0f70')\"\n",
              "            title=\"Convert this dataframe to an interactive table.\"\n",
              "            style=\"display:none;\">\n",
              "\n",
              "  <svg xmlns=\"http://www.w3.org/2000/svg\" height=\"24px\" viewBox=\"0 -960 960 960\">\n",
              "    <path d=\"M120-120v-720h720v720H120Zm60-500h600v-160H180v160Zm220 220h160v-160H400v160Zm0 220h160v-160H400v160ZM180-400h160v-160H180v160Zm440 0h160v-160H620v160ZM180-180h160v-160H180v160Zm440 0h160v-160H620v160Z\"/>\n",
              "  </svg>\n",
              "    </button>\n",
              "\n",
              "  <style>\n",
              "    .colab-df-container {\n",
              "      display:flex;\n",
              "      gap: 12px;\n",
              "    }\n",
              "\n",
              "    .colab-df-convert {\n",
              "      background-color: #E8F0FE;\n",
              "      border: none;\n",
              "      border-radius: 50%;\n",
              "      cursor: pointer;\n",
              "      display: none;\n",
              "      fill: #1967D2;\n",
              "      height: 32px;\n",
              "      padding: 0 0 0 0;\n",
              "      width: 32px;\n",
              "    }\n",
              "\n",
              "    .colab-df-convert:hover {\n",
              "      background-color: #E2EBFA;\n",
              "      box-shadow: 0px 1px 2px rgba(60, 64, 67, 0.3), 0px 1px 3px 1px rgba(60, 64, 67, 0.15);\n",
              "      fill: #174EA6;\n",
              "    }\n",
              "\n",
              "    .colab-df-buttons div {\n",
              "      margin-bottom: 4px;\n",
              "    }\n",
              "\n",
              "    [theme=dark] .colab-df-convert {\n",
              "      background-color: #3B4455;\n",
              "      fill: #D2E3FC;\n",
              "    }\n",
              "\n",
              "    [theme=dark] .colab-df-convert:hover {\n",
              "      background-color: #434B5C;\n",
              "      box-shadow: 0px 1px 3px 1px rgba(0, 0, 0, 0.15);\n",
              "      filter: drop-shadow(0px 1px 2px rgba(0, 0, 0, 0.3));\n",
              "      fill: #FFFFFF;\n",
              "    }\n",
              "  </style>\n",
              "\n",
              "    <script>\n",
              "      const buttonEl =\n",
              "        document.querySelector('#df-9c22e23f-5d0e-43e3-bbe7-2beb2cfb0f70 button.colab-df-convert');\n",
              "      buttonEl.style.display =\n",
              "        google.colab.kernel.accessAllowed ? 'block' : 'none';\n",
              "\n",
              "      async function convertToInteractive(key) {\n",
              "        const element = document.querySelector('#df-9c22e23f-5d0e-43e3-bbe7-2beb2cfb0f70');\n",
              "        const dataTable =\n",
              "          await google.colab.kernel.invokeFunction('convertToInteractive',\n",
              "                                                    [key], {});\n",
              "        if (!dataTable) return;\n",
              "\n",
              "        const docLinkHtml = 'Like what you see? Visit the ' +\n",
              "          '<a target=\"_blank\" href=https://colab.research.google.com/notebooks/data_table.ipynb>data table notebook</a>'\n",
              "          + ' to learn more about interactive tables.';\n",
              "        element.innerHTML = '';\n",
              "        dataTable['output_type'] = 'display_data';\n",
              "        await google.colab.output.renderOutput(dataTable, element);\n",
              "        const docLink = document.createElement('div');\n",
              "        docLink.innerHTML = docLinkHtml;\n",
              "        element.appendChild(docLink);\n",
              "      }\n",
              "    </script>\n",
              "  </div>\n",
              "\n",
              "\n",
              "<div id=\"df-6098609c-82e8-44a4-87fb-5f9075e61373\">\n",
              "  <button class=\"colab-df-quickchart\" onclick=\"quickchart('df-6098609c-82e8-44a4-87fb-5f9075e61373')\"\n",
              "            title=\"Suggest charts\"\n",
              "            style=\"display:none;\">\n",
              "\n",
              "<svg xmlns=\"http://www.w3.org/2000/svg\" height=\"24px\"viewBox=\"0 0 24 24\"\n",
              "     width=\"24px\">\n",
              "    <g>\n",
              "        <path d=\"M19 3H5c-1.1 0-2 .9-2 2v14c0 1.1.9 2 2 2h14c1.1 0 2-.9 2-2V5c0-1.1-.9-2-2-2zM9 17H7v-7h2v7zm4 0h-2V7h2v10zm4 0h-2v-4h2v4z\"/>\n",
              "    </g>\n",
              "</svg>\n",
              "  </button>\n",
              "\n",
              "<style>\n",
              "  .colab-df-quickchart {\n",
              "      --bg-color: #E8F0FE;\n",
              "      --fill-color: #1967D2;\n",
              "      --hover-bg-color: #E2EBFA;\n",
              "      --hover-fill-color: #174EA6;\n",
              "      --disabled-fill-color: #AAA;\n",
              "      --disabled-bg-color: #DDD;\n",
              "  }\n",
              "\n",
              "  [theme=dark] .colab-df-quickchart {\n",
              "      --bg-color: #3B4455;\n",
              "      --fill-color: #D2E3FC;\n",
              "      --hover-bg-color: #434B5C;\n",
              "      --hover-fill-color: #FFFFFF;\n",
              "      --disabled-bg-color: #3B4455;\n",
              "      --disabled-fill-color: #666;\n",
              "  }\n",
              "\n",
              "  .colab-df-quickchart {\n",
              "    background-color: var(--bg-color);\n",
              "    border: none;\n",
              "    border-radius: 50%;\n",
              "    cursor: pointer;\n",
              "    display: none;\n",
              "    fill: var(--fill-color);\n",
              "    height: 32px;\n",
              "    padding: 0;\n",
              "    width: 32px;\n",
              "  }\n",
              "\n",
              "  .colab-df-quickchart:hover {\n",
              "    background-color: var(--hover-bg-color);\n",
              "    box-shadow: 0 1px 2px rgba(60, 64, 67, 0.3), 0 1px 3px 1px rgba(60, 64, 67, 0.15);\n",
              "    fill: var(--button-hover-fill-color);\n",
              "  }\n",
              "\n",
              "  .colab-df-quickchart-complete:disabled,\n",
              "  .colab-df-quickchart-complete:disabled:hover {\n",
              "    background-color: var(--disabled-bg-color);\n",
              "    fill: var(--disabled-fill-color);\n",
              "    box-shadow: none;\n",
              "  }\n",
              "\n",
              "  .colab-df-spinner {\n",
              "    border: 2px solid var(--fill-color);\n",
              "    border-color: transparent;\n",
              "    border-bottom-color: var(--fill-color);\n",
              "    animation:\n",
              "      spin 1s steps(1) infinite;\n",
              "  }\n",
              "\n",
              "  @keyframes spin {\n",
              "    0% {\n",
              "      border-color: transparent;\n",
              "      border-bottom-color: var(--fill-color);\n",
              "      border-left-color: var(--fill-color);\n",
              "    }\n",
              "    20% {\n",
              "      border-color: transparent;\n",
              "      border-left-color: var(--fill-color);\n",
              "      border-top-color: var(--fill-color);\n",
              "    }\n",
              "    30% {\n",
              "      border-color: transparent;\n",
              "      border-left-color: var(--fill-color);\n",
              "      border-top-color: var(--fill-color);\n",
              "      border-right-color: var(--fill-color);\n",
              "    }\n",
              "    40% {\n",
              "      border-color: transparent;\n",
              "      border-right-color: var(--fill-color);\n",
              "      border-top-color: var(--fill-color);\n",
              "    }\n",
              "    60% {\n",
              "      border-color: transparent;\n",
              "      border-right-color: var(--fill-color);\n",
              "    }\n",
              "    80% {\n",
              "      border-color: transparent;\n",
              "      border-right-color: var(--fill-color);\n",
              "      border-bottom-color: var(--fill-color);\n",
              "    }\n",
              "    90% {\n",
              "      border-color: transparent;\n",
              "      border-bottom-color: var(--fill-color);\n",
              "    }\n",
              "  }\n",
              "</style>\n",
              "\n",
              "  <script>\n",
              "    async function quickchart(key) {\n",
              "      const quickchartButtonEl =\n",
              "        document.querySelector('#' + key + ' button');\n",
              "      quickchartButtonEl.disabled = true;  // To prevent multiple clicks.\n",
              "      quickchartButtonEl.classList.add('colab-df-spinner');\n",
              "      try {\n",
              "        const charts = await google.colab.kernel.invokeFunction(\n",
              "            'suggestCharts', [key], {});\n",
              "      } catch (error) {\n",
              "        console.error('Error during call to suggestCharts:', error);\n",
              "      }\n",
              "      quickchartButtonEl.classList.remove('colab-df-spinner');\n",
              "      quickchartButtonEl.classList.add('colab-df-quickchart-complete');\n",
              "    }\n",
              "    (() => {\n",
              "      let quickchartButtonEl =\n",
              "        document.querySelector('#df-6098609c-82e8-44a4-87fb-5f9075e61373 button');\n",
              "      quickchartButtonEl.style.display =\n",
              "        google.colab.kernel.accessAllowed ? 'block' : 'none';\n",
              "    })();\n",
              "  </script>\n",
              "</div>\n",
              "\n",
              "    </div>\n",
              "  </div>\n"
            ],
            "application/vnd.google.colaboratory.intrinsic+json": {
              "type": "dataframe",
              "variable_name": "submit",
              "summary": "{\n  \"name\": \"submit\",\n  \"rows\": 60411,\n  \"fields\": [\n    {\n      \"column\": \"id\",\n      \"properties\": {\n        \"dtype\": \"number\",\n        \"std\": 17439,\n        \"min\": 90615,\n        \"max\": 151025,\n        \"num_unique_values\": 60411,\n        \"samples\": [\n          91344,\n          125524,\n          107704\n        ],\n        \"semantic_type\": \"\",\n        \"description\": \"\"\n      }\n    },\n    {\n      \"column\": \"Rings\",\n      \"properties\": {\n        \"dtype\": \"float32\",\n        \"num_unique_values\": 53754,\n        \"samples\": [\n          8.614906311035156,\n          12.43016242980957,\n          19.502384185791016\n        ],\n        \"semantic_type\": \"\",\n        \"description\": \"\"\n      }\n    }\n  ]\n}"
            }
          },
          "metadata": {},
          "execution_count": 80
        }
      ]
    },
    {
      "cell_type": "code",
      "source": [
        "submit.to_csv('submission.csv', index=False)"
      ],
      "metadata": {
        "id": "Jy4_96Bxd78Y"
      },
      "execution_count": null,
      "outputs": []
    },
    {
      "cell_type": "code",
      "source": [
        "!ls"
      ],
      "metadata": {
        "id": "aRW5hqY4hiiZ",
        "colab": {
          "base_uri": "https://localhost:8080/"
        },
        "outputId": "5270f38d-5fde-4742-abe8-2303ad14d23b"
      },
      "execution_count": null,
      "outputs": [
        {
          "output_type": "stream",
          "name": "stdout",
          "text": [
            "kaggle.json  sample_data  submission.csv\n"
          ]
        }
      ]
    },
    {
      "cell_type": "code",
      "source": [
        "sub = pd.read_csv('submission.csv')\n",
        "sub.head()"
      ],
      "metadata": {
        "id": "oJnAn-xmhnwJ",
        "colab": {
          "base_uri": "https://localhost:8080/",
          "height": 206
        },
        "outputId": "35a7cccb-cd56-4951-8e15-f5026d3752bf"
      },
      "execution_count": null,
      "outputs": [
        {
          "output_type": "execute_result",
          "data": {
            "text/plain": [
              "      id      Rings\n",
              "0  90615  10.073746\n",
              "1  90616   9.728607\n",
              "2  90617  10.158137\n",
              "3  90618  10.729393\n",
              "4  90619   7.586835"
            ],
            "text/html": [
              "\n",
              "  <div id=\"df-61925d33-ec45-4bcb-ad72-ac0946e8eb7c\" class=\"colab-df-container\">\n",
              "    <div>\n",
              "<style scoped>\n",
              "    .dataframe tbody tr th:only-of-type {\n",
              "        vertical-align: middle;\n",
              "    }\n",
              "\n",
              "    .dataframe tbody tr th {\n",
              "        vertical-align: top;\n",
              "    }\n",
              "\n",
              "    .dataframe thead th {\n",
              "        text-align: right;\n",
              "    }\n",
              "</style>\n",
              "<table border=\"1\" class=\"dataframe\">\n",
              "  <thead>\n",
              "    <tr style=\"text-align: right;\">\n",
              "      <th></th>\n",
              "      <th>id</th>\n",
              "      <th>Rings</th>\n",
              "    </tr>\n",
              "  </thead>\n",
              "  <tbody>\n",
              "    <tr>\n",
              "      <th>0</th>\n",
              "      <td>90615</td>\n",
              "      <td>10.073746</td>\n",
              "    </tr>\n",
              "    <tr>\n",
              "      <th>1</th>\n",
              "      <td>90616</td>\n",
              "      <td>9.728607</td>\n",
              "    </tr>\n",
              "    <tr>\n",
              "      <th>2</th>\n",
              "      <td>90617</td>\n",
              "      <td>10.158137</td>\n",
              "    </tr>\n",
              "    <tr>\n",
              "      <th>3</th>\n",
              "      <td>90618</td>\n",
              "      <td>10.729393</td>\n",
              "    </tr>\n",
              "    <tr>\n",
              "      <th>4</th>\n",
              "      <td>90619</td>\n",
              "      <td>7.586835</td>\n",
              "    </tr>\n",
              "  </tbody>\n",
              "</table>\n",
              "</div>\n",
              "    <div class=\"colab-df-buttons\">\n",
              "\n",
              "  <div class=\"colab-df-container\">\n",
              "    <button class=\"colab-df-convert\" onclick=\"convertToInteractive('df-61925d33-ec45-4bcb-ad72-ac0946e8eb7c')\"\n",
              "            title=\"Convert this dataframe to an interactive table.\"\n",
              "            style=\"display:none;\">\n",
              "\n",
              "  <svg xmlns=\"http://www.w3.org/2000/svg\" height=\"24px\" viewBox=\"0 -960 960 960\">\n",
              "    <path d=\"M120-120v-720h720v720H120Zm60-500h600v-160H180v160Zm220 220h160v-160H400v160Zm0 220h160v-160H400v160ZM180-400h160v-160H180v160Zm440 0h160v-160H620v160ZM180-180h160v-160H180v160Zm440 0h160v-160H620v160Z\"/>\n",
              "  </svg>\n",
              "    </button>\n",
              "\n",
              "  <style>\n",
              "    .colab-df-container {\n",
              "      display:flex;\n",
              "      gap: 12px;\n",
              "    }\n",
              "\n",
              "    .colab-df-convert {\n",
              "      background-color: #E8F0FE;\n",
              "      border: none;\n",
              "      border-radius: 50%;\n",
              "      cursor: pointer;\n",
              "      display: none;\n",
              "      fill: #1967D2;\n",
              "      height: 32px;\n",
              "      padding: 0 0 0 0;\n",
              "      width: 32px;\n",
              "    }\n",
              "\n",
              "    .colab-df-convert:hover {\n",
              "      background-color: #E2EBFA;\n",
              "      box-shadow: 0px 1px 2px rgba(60, 64, 67, 0.3), 0px 1px 3px 1px rgba(60, 64, 67, 0.15);\n",
              "      fill: #174EA6;\n",
              "    }\n",
              "\n",
              "    .colab-df-buttons div {\n",
              "      margin-bottom: 4px;\n",
              "    }\n",
              "\n",
              "    [theme=dark] .colab-df-convert {\n",
              "      background-color: #3B4455;\n",
              "      fill: #D2E3FC;\n",
              "    }\n",
              "\n",
              "    [theme=dark] .colab-df-convert:hover {\n",
              "      background-color: #434B5C;\n",
              "      box-shadow: 0px 1px 3px 1px rgba(0, 0, 0, 0.15);\n",
              "      filter: drop-shadow(0px 1px 2px rgba(0, 0, 0, 0.3));\n",
              "      fill: #FFFFFF;\n",
              "    }\n",
              "  </style>\n",
              "\n",
              "    <script>\n",
              "      const buttonEl =\n",
              "        document.querySelector('#df-61925d33-ec45-4bcb-ad72-ac0946e8eb7c button.colab-df-convert');\n",
              "      buttonEl.style.display =\n",
              "        google.colab.kernel.accessAllowed ? 'block' : 'none';\n",
              "\n",
              "      async function convertToInteractive(key) {\n",
              "        const element = document.querySelector('#df-61925d33-ec45-4bcb-ad72-ac0946e8eb7c');\n",
              "        const dataTable =\n",
              "          await google.colab.kernel.invokeFunction('convertToInteractive',\n",
              "                                                    [key], {});\n",
              "        if (!dataTable) return;\n",
              "\n",
              "        const docLinkHtml = 'Like what you see? Visit the ' +\n",
              "          '<a target=\"_blank\" href=https://colab.research.google.com/notebooks/data_table.ipynb>data table notebook</a>'\n",
              "          + ' to learn more about interactive tables.';\n",
              "        element.innerHTML = '';\n",
              "        dataTable['output_type'] = 'display_data';\n",
              "        await google.colab.output.renderOutput(dataTable, element);\n",
              "        const docLink = document.createElement('div');\n",
              "        docLink.innerHTML = docLinkHtml;\n",
              "        element.appendChild(docLink);\n",
              "      }\n",
              "    </script>\n",
              "  </div>\n",
              "\n",
              "\n",
              "<div id=\"df-c930705b-49dc-4d3b-9e50-ab795db207c8\">\n",
              "  <button class=\"colab-df-quickchart\" onclick=\"quickchart('df-c930705b-49dc-4d3b-9e50-ab795db207c8')\"\n",
              "            title=\"Suggest charts\"\n",
              "            style=\"display:none;\">\n",
              "\n",
              "<svg xmlns=\"http://www.w3.org/2000/svg\" height=\"24px\"viewBox=\"0 0 24 24\"\n",
              "     width=\"24px\">\n",
              "    <g>\n",
              "        <path d=\"M19 3H5c-1.1 0-2 .9-2 2v14c0 1.1.9 2 2 2h14c1.1 0 2-.9 2-2V5c0-1.1-.9-2-2-2zM9 17H7v-7h2v7zm4 0h-2V7h2v10zm4 0h-2v-4h2v4z\"/>\n",
              "    </g>\n",
              "</svg>\n",
              "  </button>\n",
              "\n",
              "<style>\n",
              "  .colab-df-quickchart {\n",
              "      --bg-color: #E8F0FE;\n",
              "      --fill-color: #1967D2;\n",
              "      --hover-bg-color: #E2EBFA;\n",
              "      --hover-fill-color: #174EA6;\n",
              "      --disabled-fill-color: #AAA;\n",
              "      --disabled-bg-color: #DDD;\n",
              "  }\n",
              "\n",
              "  [theme=dark] .colab-df-quickchart {\n",
              "      --bg-color: #3B4455;\n",
              "      --fill-color: #D2E3FC;\n",
              "      --hover-bg-color: #434B5C;\n",
              "      --hover-fill-color: #FFFFFF;\n",
              "      --disabled-bg-color: #3B4455;\n",
              "      --disabled-fill-color: #666;\n",
              "  }\n",
              "\n",
              "  .colab-df-quickchart {\n",
              "    background-color: var(--bg-color);\n",
              "    border: none;\n",
              "    border-radius: 50%;\n",
              "    cursor: pointer;\n",
              "    display: none;\n",
              "    fill: var(--fill-color);\n",
              "    height: 32px;\n",
              "    padding: 0;\n",
              "    width: 32px;\n",
              "  }\n",
              "\n",
              "  .colab-df-quickchart:hover {\n",
              "    background-color: var(--hover-bg-color);\n",
              "    box-shadow: 0 1px 2px rgba(60, 64, 67, 0.3), 0 1px 3px 1px rgba(60, 64, 67, 0.15);\n",
              "    fill: var(--button-hover-fill-color);\n",
              "  }\n",
              "\n",
              "  .colab-df-quickchart-complete:disabled,\n",
              "  .colab-df-quickchart-complete:disabled:hover {\n",
              "    background-color: var(--disabled-bg-color);\n",
              "    fill: var(--disabled-fill-color);\n",
              "    box-shadow: none;\n",
              "  }\n",
              "\n",
              "  .colab-df-spinner {\n",
              "    border: 2px solid var(--fill-color);\n",
              "    border-color: transparent;\n",
              "    border-bottom-color: var(--fill-color);\n",
              "    animation:\n",
              "      spin 1s steps(1) infinite;\n",
              "  }\n",
              "\n",
              "  @keyframes spin {\n",
              "    0% {\n",
              "      border-color: transparent;\n",
              "      border-bottom-color: var(--fill-color);\n",
              "      border-left-color: var(--fill-color);\n",
              "    }\n",
              "    20% {\n",
              "      border-color: transparent;\n",
              "      border-left-color: var(--fill-color);\n",
              "      border-top-color: var(--fill-color);\n",
              "    }\n",
              "    30% {\n",
              "      border-color: transparent;\n",
              "      border-left-color: var(--fill-color);\n",
              "      border-top-color: var(--fill-color);\n",
              "      border-right-color: var(--fill-color);\n",
              "    }\n",
              "    40% {\n",
              "      border-color: transparent;\n",
              "      border-right-color: var(--fill-color);\n",
              "      border-top-color: var(--fill-color);\n",
              "    }\n",
              "    60% {\n",
              "      border-color: transparent;\n",
              "      border-right-color: var(--fill-color);\n",
              "    }\n",
              "    80% {\n",
              "      border-color: transparent;\n",
              "      border-right-color: var(--fill-color);\n",
              "      border-bottom-color: var(--fill-color);\n",
              "    }\n",
              "    90% {\n",
              "      border-color: transparent;\n",
              "      border-bottom-color: var(--fill-color);\n",
              "    }\n",
              "  }\n",
              "</style>\n",
              "\n",
              "  <script>\n",
              "    async function quickchart(key) {\n",
              "      const quickchartButtonEl =\n",
              "        document.querySelector('#' + key + ' button');\n",
              "      quickchartButtonEl.disabled = true;  // To prevent multiple clicks.\n",
              "      quickchartButtonEl.classList.add('colab-df-spinner');\n",
              "      try {\n",
              "        const charts = await google.colab.kernel.invokeFunction(\n",
              "            'suggestCharts', [key], {});\n",
              "      } catch (error) {\n",
              "        console.error('Error during call to suggestCharts:', error);\n",
              "      }\n",
              "      quickchartButtonEl.classList.remove('colab-df-spinner');\n",
              "      quickchartButtonEl.classList.add('colab-df-quickchart-complete');\n",
              "    }\n",
              "    (() => {\n",
              "      let quickchartButtonEl =\n",
              "        document.querySelector('#df-c930705b-49dc-4d3b-9e50-ab795db207c8 button');\n",
              "      quickchartButtonEl.style.display =\n",
              "        google.colab.kernel.accessAllowed ? 'block' : 'none';\n",
              "    })();\n",
              "  </script>\n",
              "</div>\n",
              "\n",
              "    </div>\n",
              "  </div>\n"
            ],
            "application/vnd.google.colaboratory.intrinsic+json": {
              "type": "dataframe",
              "variable_name": "sub",
              "summary": "{\n  \"name\": \"sub\",\n  \"rows\": 60411,\n  \"fields\": [\n    {\n      \"column\": \"id\",\n      \"properties\": {\n        \"dtype\": \"number\",\n        \"std\": 17439,\n        \"min\": 90615,\n        \"max\": 151025,\n        \"num_unique_values\": 60411,\n        \"samples\": [\n          91344,\n          125524,\n          107704\n        ],\n        \"semantic_type\": \"\",\n        \"description\": \"\"\n      }\n    },\n    {\n      \"column\": \"Rings\",\n      \"properties\": {\n        \"dtype\": \"number\",\n        \"std\": 2.6396266511164876,\n        \"min\": 3.9335022,\n        \"max\": 24.597883,\n        \"num_unique_values\": 53754,\n        \"samples\": [\n          8.614906,\n          12.430162,\n          19.502384\n        ],\n        \"semantic_type\": \"\",\n        \"description\": \"\"\n      }\n    }\n  ]\n}"
            }
          },
          "metadata": {},
          "execution_count": 84
        }
      ]
    },
    {
      "cell_type": "code",
      "source": [
        "!kaggle competitions submit -c playground-series-s4e4 -f submission.csv -m \"xgboost subm with n_estimators = 200, max_depth=6, learning_rate=0.15\""
      ],
      "metadata": {
        "id": "kgCUkMRPhntD",
        "colab": {
          "base_uri": "https://localhost:8080/"
        },
        "outputId": "d5f7b568-e60a-4be5-9e35-abbc939172af"
      },
      "execution_count": null,
      "outputs": [
        {
          "output_type": "stream",
          "name": "stdout",
          "text": [
            "Warning: Looks like you're using an outdated API Version, please consider updating (server 1.6.11 / client 1.5.16)\n",
            "100% 963k/963k [00:02<00:00, 341kB/s] \n",
            "Successfully submitted to Regression with an Abalone Dataset"
          ]
        }
      ]
    },
    {
      "cell_type": "markdown",
      "source": [
        "###General Model Ensemble"
      ],
      "metadata": {
        "id": "M_tZVhOkhw7G"
      }
    },
    {
      "cell_type": "markdown",
      "source": [
        "XGBoost + Random Forest"
      ],
      "metadata": {
        "id": "9ORmPBfQi9op"
      }
    },
    {
      "cell_type": "code",
      "source": [
        "avgs = (xgb_preds + rf_preds) / 2"
      ],
      "metadata": {
        "id": "bGBCMId7hnp0"
      },
      "execution_count": null,
      "outputs": []
    },
    {
      "cell_type": "code",
      "source": [
        "avgs = (xgb_preds + nn_preds_y) / 2"
      ],
      "metadata": {
        "id": "mzaF4TVTWZAl"
      },
      "execution_count": null,
      "outputs": []
    },
    {
      "cell_type": "code",
      "source": [
        "xgb_preds.shape,rf_preds.shape,nn_preds_y.shape"
      ],
      "metadata": {
        "colab": {
          "base_uri": "https://localhost:8080/"
        },
        "id": "dYF8xD8se8AB",
        "outputId": "28b6bd64-7e22-47f6-c4c7-68aca98dfcbb"
      },
      "execution_count": null,
      "outputs": [
        {
          "output_type": "execute_result",
          "data": {
            "text/plain": [
              "(torch.Size([60411]), torch.Size([60411]), torch.Size([60411]))"
            ]
          },
          "metadata": {},
          "execution_count": 66
        }
      ]
    },
    {
      "cell_type": "code",
      "source": [
        "avgs = (xgb_preds + nn_preds_y + rf_preds) / 3"
      ],
      "metadata": {
        "id": "3zm_yu-XUlUz"
      },
      "execution_count": null,
      "outputs": []
    },
    {
      "cell_type": "code",
      "source": [
        "ens_preds_y"
      ],
      "metadata": {
        "id": "-6igstjLKixF"
      },
      "execution_count": null,
      "outputs": []
    },
    {
      "cell_type": "code",
      "source": [
        "avgs_ens = (xgb_preds + ens_preds_y + rf_preds) / 3"
      ],
      "metadata": {
        "id": "4qWqVNH2Kkk2"
      },
      "execution_count": null,
      "outputs": []
    },
    {
      "cell_type": "markdown",
      "source": [
        "avgs_ens submission"
      ],
      "metadata": {
        "id": "v-OjMY9QKwDT"
      }
    },
    {
      "cell_type": "code",
      "source": [
        "submit = pd.read_csv(path/'sample_submission.csv')\n",
        "submit['Rings'] = avgs_ens # nn_preds\n",
        "submit.head()"
      ],
      "metadata": {
        "id": "df6Yq7X1Kt7I"
      },
      "execution_count": null,
      "outputs": []
    },
    {
      "cell_type": "code",
      "source": [
        "submit.to_csv('submission.csv', index=False)"
      ],
      "metadata": {
        "id": "N6IDyRceK7Da"
      },
      "execution_count": null,
      "outputs": []
    },
    {
      "cell_type": "code",
      "source": [
        "!ls"
      ],
      "metadata": {
        "colab": {
          "base_uri": "https://localhost:8080/"
        },
        "id": "SKs96EqgK_qd",
        "outputId": "05f3bf4f-c7f3-4160-edd2-a0cf3c7447a8"
      },
      "execution_count": null,
      "outputs": [
        {
          "output_type": "stream",
          "name": "stdout",
          "text": [
            "models\tsample_data\n"
          ]
        }
      ]
    },
    {
      "cell_type": "code",
      "source": [
        "sub = pd.read_csv('submission.csv')\n",
        "sub.head()"
      ],
      "metadata": {
        "id": "fYLf5I0XK-8Z"
      },
      "execution_count": null,
      "outputs": []
    },
    {
      "cell_type": "code",
      "source": [
        "avgs.shape"
      ],
      "metadata": {
        "colab": {
          "base_uri": "https://localhost:8080/"
        },
        "id": "oVXqmog7VKvL",
        "outputId": "be2cfde4-49eb-4659-978b-d8c811263f94"
      },
      "execution_count": null,
      "outputs": [
        {
          "output_type": "execute_result",
          "data": {
            "text/plain": [
              "torch.Size([60411])"
            ]
          },
          "metadata": {},
          "execution_count": 70
        }
      ]
    },
    {
      "cell_type": "code",
      "source": [
        "!ls"
      ],
      "metadata": {
        "colab": {
          "base_uri": "https://localhost:8080/"
        },
        "id": "22iKBSkSV9iM",
        "outputId": "a80edf58-855a-46a8-dab7-4cc7465b8dcc"
      },
      "execution_count": null,
      "outputs": [
        {
          "output_type": "stream",
          "name": "stdout",
          "text": [
            "kaggle.json  models  sample_data\n"
          ]
        }
      ]
    },
    {
      "cell_type": "markdown",
      "source": [
        "avgs submission"
      ],
      "metadata": {
        "id": "8u1_trrGK011"
      }
    },
    {
      "cell_type": "code",
      "source": [
        "submit = pd.read_csv(path/'sample_submission.csv')\n",
        "submit['Rings'] = avgs # nn_preds\n",
        "submit.head()"
      ],
      "metadata": {
        "colab": {
          "base_uri": "https://localhost:8080/",
          "height": 206
        },
        "id": "BONnuZIpitBh",
        "outputId": "eabbcb9e-de5f-43c4-95c9-bc770a4c2b40"
      },
      "execution_count": null,
      "outputs": [
        {
          "output_type": "execute_result",
          "data": {
            "text/plain": [
              "      id      Rings\n",
              "0  90615   9.829519\n",
              "1  90616   9.643656\n",
              "2  90617  10.170307\n",
              "3  90618  10.413305\n",
              "4  90619   7.633772"
            ],
            "text/html": [
              "\n",
              "  <div id=\"df-3397d1db-81be-455c-b354-72032829373e\" class=\"colab-df-container\">\n",
              "    <div>\n",
              "<style scoped>\n",
              "    .dataframe tbody tr th:only-of-type {\n",
              "        vertical-align: middle;\n",
              "    }\n",
              "\n",
              "    .dataframe tbody tr th {\n",
              "        vertical-align: top;\n",
              "    }\n",
              "\n",
              "    .dataframe thead th {\n",
              "        text-align: right;\n",
              "    }\n",
              "</style>\n",
              "<table border=\"1\" class=\"dataframe\">\n",
              "  <thead>\n",
              "    <tr style=\"text-align: right;\">\n",
              "      <th></th>\n",
              "      <th>id</th>\n",
              "      <th>Rings</th>\n",
              "    </tr>\n",
              "  </thead>\n",
              "  <tbody>\n",
              "    <tr>\n",
              "      <th>0</th>\n",
              "      <td>90615</td>\n",
              "      <td>9.829519</td>\n",
              "    </tr>\n",
              "    <tr>\n",
              "      <th>1</th>\n",
              "      <td>90616</td>\n",
              "      <td>9.643656</td>\n",
              "    </tr>\n",
              "    <tr>\n",
              "      <th>2</th>\n",
              "      <td>90617</td>\n",
              "      <td>10.170307</td>\n",
              "    </tr>\n",
              "    <tr>\n",
              "      <th>3</th>\n",
              "      <td>90618</td>\n",
              "      <td>10.413305</td>\n",
              "    </tr>\n",
              "    <tr>\n",
              "      <th>4</th>\n",
              "      <td>90619</td>\n",
              "      <td>7.633772</td>\n",
              "    </tr>\n",
              "  </tbody>\n",
              "</table>\n",
              "</div>\n",
              "    <div class=\"colab-df-buttons\">\n",
              "\n",
              "  <div class=\"colab-df-container\">\n",
              "    <button class=\"colab-df-convert\" onclick=\"convertToInteractive('df-3397d1db-81be-455c-b354-72032829373e')\"\n",
              "            title=\"Convert this dataframe to an interactive table.\"\n",
              "            style=\"display:none;\">\n",
              "\n",
              "  <svg xmlns=\"http://www.w3.org/2000/svg\" height=\"24px\" viewBox=\"0 -960 960 960\">\n",
              "    <path d=\"M120-120v-720h720v720H120Zm60-500h600v-160H180v160Zm220 220h160v-160H400v160Zm0 220h160v-160H400v160ZM180-400h160v-160H180v160Zm440 0h160v-160H620v160ZM180-180h160v-160H180v160Zm440 0h160v-160H620v160Z\"/>\n",
              "  </svg>\n",
              "    </button>\n",
              "\n",
              "  <style>\n",
              "    .colab-df-container {\n",
              "      display:flex;\n",
              "      gap: 12px;\n",
              "    }\n",
              "\n",
              "    .colab-df-convert {\n",
              "      background-color: #E8F0FE;\n",
              "      border: none;\n",
              "      border-radius: 50%;\n",
              "      cursor: pointer;\n",
              "      display: none;\n",
              "      fill: #1967D2;\n",
              "      height: 32px;\n",
              "      padding: 0 0 0 0;\n",
              "      width: 32px;\n",
              "    }\n",
              "\n",
              "    .colab-df-convert:hover {\n",
              "      background-color: #E2EBFA;\n",
              "      box-shadow: 0px 1px 2px rgba(60, 64, 67, 0.3), 0px 1px 3px 1px rgba(60, 64, 67, 0.15);\n",
              "      fill: #174EA6;\n",
              "    }\n",
              "\n",
              "    .colab-df-buttons div {\n",
              "      margin-bottom: 4px;\n",
              "    }\n",
              "\n",
              "    [theme=dark] .colab-df-convert {\n",
              "      background-color: #3B4455;\n",
              "      fill: #D2E3FC;\n",
              "    }\n",
              "\n",
              "    [theme=dark] .colab-df-convert:hover {\n",
              "      background-color: #434B5C;\n",
              "      box-shadow: 0px 1px 3px 1px rgba(0, 0, 0, 0.15);\n",
              "      filter: drop-shadow(0px 1px 2px rgba(0, 0, 0, 0.3));\n",
              "      fill: #FFFFFF;\n",
              "    }\n",
              "  </style>\n",
              "\n",
              "    <script>\n",
              "      const buttonEl =\n",
              "        document.querySelector('#df-3397d1db-81be-455c-b354-72032829373e button.colab-df-convert');\n",
              "      buttonEl.style.display =\n",
              "        google.colab.kernel.accessAllowed ? 'block' : 'none';\n",
              "\n",
              "      async function convertToInteractive(key) {\n",
              "        const element = document.querySelector('#df-3397d1db-81be-455c-b354-72032829373e');\n",
              "        const dataTable =\n",
              "          await google.colab.kernel.invokeFunction('convertToInteractive',\n",
              "                                                    [key], {});\n",
              "        if (!dataTable) return;\n",
              "\n",
              "        const docLinkHtml = 'Like what you see? Visit the ' +\n",
              "          '<a target=\"_blank\" href=https://colab.research.google.com/notebooks/data_table.ipynb>data table notebook</a>'\n",
              "          + ' to learn more about interactive tables.';\n",
              "        element.innerHTML = '';\n",
              "        dataTable['output_type'] = 'display_data';\n",
              "        await google.colab.output.renderOutput(dataTable, element);\n",
              "        const docLink = document.createElement('div');\n",
              "        docLink.innerHTML = docLinkHtml;\n",
              "        element.appendChild(docLink);\n",
              "      }\n",
              "    </script>\n",
              "  </div>\n",
              "\n",
              "\n",
              "<div id=\"df-843dd94b-0286-4b11-90f5-40fa9beb0824\">\n",
              "  <button class=\"colab-df-quickchart\" onclick=\"quickchart('df-843dd94b-0286-4b11-90f5-40fa9beb0824')\"\n",
              "            title=\"Suggest charts\"\n",
              "            style=\"display:none;\">\n",
              "\n",
              "<svg xmlns=\"http://www.w3.org/2000/svg\" height=\"24px\"viewBox=\"0 0 24 24\"\n",
              "     width=\"24px\">\n",
              "    <g>\n",
              "        <path d=\"M19 3H5c-1.1 0-2 .9-2 2v14c0 1.1.9 2 2 2h14c1.1 0 2-.9 2-2V5c0-1.1-.9-2-2-2zM9 17H7v-7h2v7zm4 0h-2V7h2v10zm4 0h-2v-4h2v4z\"/>\n",
              "    </g>\n",
              "</svg>\n",
              "  </button>\n",
              "\n",
              "<style>\n",
              "  .colab-df-quickchart {\n",
              "      --bg-color: #E8F0FE;\n",
              "      --fill-color: #1967D2;\n",
              "      --hover-bg-color: #E2EBFA;\n",
              "      --hover-fill-color: #174EA6;\n",
              "      --disabled-fill-color: #AAA;\n",
              "      --disabled-bg-color: #DDD;\n",
              "  }\n",
              "\n",
              "  [theme=dark] .colab-df-quickchart {\n",
              "      --bg-color: #3B4455;\n",
              "      --fill-color: #D2E3FC;\n",
              "      --hover-bg-color: #434B5C;\n",
              "      --hover-fill-color: #FFFFFF;\n",
              "      --disabled-bg-color: #3B4455;\n",
              "      --disabled-fill-color: #666;\n",
              "  }\n",
              "\n",
              "  .colab-df-quickchart {\n",
              "    background-color: var(--bg-color);\n",
              "    border: none;\n",
              "    border-radius: 50%;\n",
              "    cursor: pointer;\n",
              "    display: none;\n",
              "    fill: var(--fill-color);\n",
              "    height: 32px;\n",
              "    padding: 0;\n",
              "    width: 32px;\n",
              "  }\n",
              "\n",
              "  .colab-df-quickchart:hover {\n",
              "    background-color: var(--hover-bg-color);\n",
              "    box-shadow: 0 1px 2px rgba(60, 64, 67, 0.3), 0 1px 3px 1px rgba(60, 64, 67, 0.15);\n",
              "    fill: var(--button-hover-fill-color);\n",
              "  }\n",
              "\n",
              "  .colab-df-quickchart-complete:disabled,\n",
              "  .colab-df-quickchart-complete:disabled:hover {\n",
              "    background-color: var(--disabled-bg-color);\n",
              "    fill: var(--disabled-fill-color);\n",
              "    box-shadow: none;\n",
              "  }\n",
              "\n",
              "  .colab-df-spinner {\n",
              "    border: 2px solid var(--fill-color);\n",
              "    border-color: transparent;\n",
              "    border-bottom-color: var(--fill-color);\n",
              "    animation:\n",
              "      spin 1s steps(1) infinite;\n",
              "  }\n",
              "\n",
              "  @keyframes spin {\n",
              "    0% {\n",
              "      border-color: transparent;\n",
              "      border-bottom-color: var(--fill-color);\n",
              "      border-left-color: var(--fill-color);\n",
              "    }\n",
              "    20% {\n",
              "      border-color: transparent;\n",
              "      border-left-color: var(--fill-color);\n",
              "      border-top-color: var(--fill-color);\n",
              "    }\n",
              "    30% {\n",
              "      border-color: transparent;\n",
              "      border-left-color: var(--fill-color);\n",
              "      border-top-color: var(--fill-color);\n",
              "      border-right-color: var(--fill-color);\n",
              "    }\n",
              "    40% {\n",
              "      border-color: transparent;\n",
              "      border-right-color: var(--fill-color);\n",
              "      border-top-color: var(--fill-color);\n",
              "    }\n",
              "    60% {\n",
              "      border-color: transparent;\n",
              "      border-right-color: var(--fill-color);\n",
              "    }\n",
              "    80% {\n",
              "      border-color: transparent;\n",
              "      border-right-color: var(--fill-color);\n",
              "      border-bottom-color: var(--fill-color);\n",
              "    }\n",
              "    90% {\n",
              "      border-color: transparent;\n",
              "      border-bottom-color: var(--fill-color);\n",
              "    }\n",
              "  }\n",
              "</style>\n",
              "\n",
              "  <script>\n",
              "    async function quickchart(key) {\n",
              "      const quickchartButtonEl =\n",
              "        document.querySelector('#' + key + ' button');\n",
              "      quickchartButtonEl.disabled = true;  // To prevent multiple clicks.\n",
              "      quickchartButtonEl.classList.add('colab-df-spinner');\n",
              "      try {\n",
              "        const charts = await google.colab.kernel.invokeFunction(\n",
              "            'suggestCharts', [key], {});\n",
              "      } catch (error) {\n",
              "        console.error('Error during call to suggestCharts:', error);\n",
              "      }\n",
              "      quickchartButtonEl.classList.remove('colab-df-spinner');\n",
              "      quickchartButtonEl.classList.add('colab-df-quickchart-complete');\n",
              "    }\n",
              "    (() => {\n",
              "      let quickchartButtonEl =\n",
              "        document.querySelector('#df-843dd94b-0286-4b11-90f5-40fa9beb0824 button');\n",
              "      quickchartButtonEl.style.display =\n",
              "        google.colab.kernel.accessAllowed ? 'block' : 'none';\n",
              "    })();\n",
              "  </script>\n",
              "</div>\n",
              "\n",
              "    </div>\n",
              "  </div>\n"
            ],
            "application/vnd.google.colaboratory.intrinsic+json": {
              "type": "dataframe",
              "variable_name": "submit",
              "summary": "{\n  \"name\": \"submit\",\n  \"rows\": 60411,\n  \"fields\": [\n    {\n      \"column\": \"id\",\n      \"properties\": {\n        \"dtype\": \"number\",\n        \"std\": 17439,\n        \"min\": 90615,\n        \"max\": 151025,\n        \"num_unique_values\": 60411,\n        \"samples\": [\n          91344,\n          125524,\n          107704\n        ],\n        \"semantic_type\": \"\",\n        \"description\": \"\"\n      }\n    },\n    {\n      \"column\": \"Rings\",\n      \"properties\": {\n        \"dtype\": \"float32\",\n        \"num_unique_values\": 60164,\n        \"samples\": [\n          8.926462173461914,\n          10.153745651245117,\n          9.776947021484375\n        ],\n        \"semantic_type\": \"\",\n        \"description\": \"\"\n      }\n    }\n  ]\n}"
            }
          },
          "metadata": {},
          "execution_count": 131
        }
      ]
    },
    {
      "cell_type": "code",
      "source": [
        "submit.to_csv('submission.csv', index=False)"
      ],
      "metadata": {
        "id": "8M6SbM3Qi8sJ"
      },
      "execution_count": null,
      "outputs": []
    },
    {
      "cell_type": "code",
      "source": [
        "!ls"
      ],
      "metadata": {
        "colab": {
          "base_uri": "https://localhost:8080/"
        },
        "id": "S5O1JC7MjFZ6",
        "outputId": "2b9cdfa1-eb76-4851-befc-25fa98f2b993"
      },
      "execution_count": null,
      "outputs": [
        {
          "output_type": "stream",
          "name": "stdout",
          "text": [
            "kaggle.json  models  sample_data  submission.csv\n"
          ]
        }
      ]
    },
    {
      "cell_type": "code",
      "source": [
        "sub = pd.read_csv('submission.csv')\n",
        "sub.head()"
      ],
      "metadata": {
        "colab": {
          "base_uri": "https://localhost:8080/",
          "height": 206
        },
        "id": "Ify4ZcR1jGxx",
        "outputId": "3fd08304-030a-47a3-f47d-6a88c48b23d6"
      },
      "execution_count": null,
      "outputs": [
        {
          "output_type": "execute_result",
          "data": {
            "text/plain": [
              "      id      Rings\n",
              "0  90615   9.829519\n",
              "1  90616   9.643656\n",
              "2  90617  10.170307\n",
              "3  90618  10.413305\n",
              "4  90619   7.633772"
            ],
            "text/html": [
              "\n",
              "  <div id=\"df-37168ac8-00c5-499f-8d85-7cec90c2355e\" class=\"colab-df-container\">\n",
              "    <div>\n",
              "<style scoped>\n",
              "    .dataframe tbody tr th:only-of-type {\n",
              "        vertical-align: middle;\n",
              "    }\n",
              "\n",
              "    .dataframe tbody tr th {\n",
              "        vertical-align: top;\n",
              "    }\n",
              "\n",
              "    .dataframe thead th {\n",
              "        text-align: right;\n",
              "    }\n",
              "</style>\n",
              "<table border=\"1\" class=\"dataframe\">\n",
              "  <thead>\n",
              "    <tr style=\"text-align: right;\">\n",
              "      <th></th>\n",
              "      <th>id</th>\n",
              "      <th>Rings</th>\n",
              "    </tr>\n",
              "  </thead>\n",
              "  <tbody>\n",
              "    <tr>\n",
              "      <th>0</th>\n",
              "      <td>90615</td>\n",
              "      <td>9.829519</td>\n",
              "    </tr>\n",
              "    <tr>\n",
              "      <th>1</th>\n",
              "      <td>90616</td>\n",
              "      <td>9.643656</td>\n",
              "    </tr>\n",
              "    <tr>\n",
              "      <th>2</th>\n",
              "      <td>90617</td>\n",
              "      <td>10.170307</td>\n",
              "    </tr>\n",
              "    <tr>\n",
              "      <th>3</th>\n",
              "      <td>90618</td>\n",
              "      <td>10.413305</td>\n",
              "    </tr>\n",
              "    <tr>\n",
              "      <th>4</th>\n",
              "      <td>90619</td>\n",
              "      <td>7.633772</td>\n",
              "    </tr>\n",
              "  </tbody>\n",
              "</table>\n",
              "</div>\n",
              "    <div class=\"colab-df-buttons\">\n",
              "\n",
              "  <div class=\"colab-df-container\">\n",
              "    <button class=\"colab-df-convert\" onclick=\"convertToInteractive('df-37168ac8-00c5-499f-8d85-7cec90c2355e')\"\n",
              "            title=\"Convert this dataframe to an interactive table.\"\n",
              "            style=\"display:none;\">\n",
              "\n",
              "  <svg xmlns=\"http://www.w3.org/2000/svg\" height=\"24px\" viewBox=\"0 -960 960 960\">\n",
              "    <path d=\"M120-120v-720h720v720H120Zm60-500h600v-160H180v160Zm220 220h160v-160H400v160Zm0 220h160v-160H400v160ZM180-400h160v-160H180v160Zm440 0h160v-160H620v160ZM180-180h160v-160H180v160Zm440 0h160v-160H620v160Z\"/>\n",
              "  </svg>\n",
              "    </button>\n",
              "\n",
              "  <style>\n",
              "    .colab-df-container {\n",
              "      display:flex;\n",
              "      gap: 12px;\n",
              "    }\n",
              "\n",
              "    .colab-df-convert {\n",
              "      background-color: #E8F0FE;\n",
              "      border: none;\n",
              "      border-radius: 50%;\n",
              "      cursor: pointer;\n",
              "      display: none;\n",
              "      fill: #1967D2;\n",
              "      height: 32px;\n",
              "      padding: 0 0 0 0;\n",
              "      width: 32px;\n",
              "    }\n",
              "\n",
              "    .colab-df-convert:hover {\n",
              "      background-color: #E2EBFA;\n",
              "      box-shadow: 0px 1px 2px rgba(60, 64, 67, 0.3), 0px 1px 3px 1px rgba(60, 64, 67, 0.15);\n",
              "      fill: #174EA6;\n",
              "    }\n",
              "\n",
              "    .colab-df-buttons div {\n",
              "      margin-bottom: 4px;\n",
              "    }\n",
              "\n",
              "    [theme=dark] .colab-df-convert {\n",
              "      background-color: #3B4455;\n",
              "      fill: #D2E3FC;\n",
              "    }\n",
              "\n",
              "    [theme=dark] .colab-df-convert:hover {\n",
              "      background-color: #434B5C;\n",
              "      box-shadow: 0px 1px 3px 1px rgba(0, 0, 0, 0.15);\n",
              "      filter: drop-shadow(0px 1px 2px rgba(0, 0, 0, 0.3));\n",
              "      fill: #FFFFFF;\n",
              "    }\n",
              "  </style>\n",
              "\n",
              "    <script>\n",
              "      const buttonEl =\n",
              "        document.querySelector('#df-37168ac8-00c5-499f-8d85-7cec90c2355e button.colab-df-convert');\n",
              "      buttonEl.style.display =\n",
              "        google.colab.kernel.accessAllowed ? 'block' : 'none';\n",
              "\n",
              "      async function convertToInteractive(key) {\n",
              "        const element = document.querySelector('#df-37168ac8-00c5-499f-8d85-7cec90c2355e');\n",
              "        const dataTable =\n",
              "          await google.colab.kernel.invokeFunction('convertToInteractive',\n",
              "                                                    [key], {});\n",
              "        if (!dataTable) return;\n",
              "\n",
              "        const docLinkHtml = 'Like what you see? Visit the ' +\n",
              "          '<a target=\"_blank\" href=https://colab.research.google.com/notebooks/data_table.ipynb>data table notebook</a>'\n",
              "          + ' to learn more about interactive tables.';\n",
              "        element.innerHTML = '';\n",
              "        dataTable['output_type'] = 'display_data';\n",
              "        await google.colab.output.renderOutput(dataTable, element);\n",
              "        const docLink = document.createElement('div');\n",
              "        docLink.innerHTML = docLinkHtml;\n",
              "        element.appendChild(docLink);\n",
              "      }\n",
              "    </script>\n",
              "  </div>\n",
              "\n",
              "\n",
              "<div id=\"df-606b7c7e-aae4-42a5-bbac-4b99c6171890\">\n",
              "  <button class=\"colab-df-quickchart\" onclick=\"quickchart('df-606b7c7e-aae4-42a5-bbac-4b99c6171890')\"\n",
              "            title=\"Suggest charts\"\n",
              "            style=\"display:none;\">\n",
              "\n",
              "<svg xmlns=\"http://www.w3.org/2000/svg\" height=\"24px\"viewBox=\"0 0 24 24\"\n",
              "     width=\"24px\">\n",
              "    <g>\n",
              "        <path d=\"M19 3H5c-1.1 0-2 .9-2 2v14c0 1.1.9 2 2 2h14c1.1 0 2-.9 2-2V5c0-1.1-.9-2-2-2zM9 17H7v-7h2v7zm4 0h-2V7h2v10zm4 0h-2v-4h2v4z\"/>\n",
              "    </g>\n",
              "</svg>\n",
              "  </button>\n",
              "\n",
              "<style>\n",
              "  .colab-df-quickchart {\n",
              "      --bg-color: #E8F0FE;\n",
              "      --fill-color: #1967D2;\n",
              "      --hover-bg-color: #E2EBFA;\n",
              "      --hover-fill-color: #174EA6;\n",
              "      --disabled-fill-color: #AAA;\n",
              "      --disabled-bg-color: #DDD;\n",
              "  }\n",
              "\n",
              "  [theme=dark] .colab-df-quickchart {\n",
              "      --bg-color: #3B4455;\n",
              "      --fill-color: #D2E3FC;\n",
              "      --hover-bg-color: #434B5C;\n",
              "      --hover-fill-color: #FFFFFF;\n",
              "      --disabled-bg-color: #3B4455;\n",
              "      --disabled-fill-color: #666;\n",
              "  }\n",
              "\n",
              "  .colab-df-quickchart {\n",
              "    background-color: var(--bg-color);\n",
              "    border: none;\n",
              "    border-radius: 50%;\n",
              "    cursor: pointer;\n",
              "    display: none;\n",
              "    fill: var(--fill-color);\n",
              "    height: 32px;\n",
              "    padding: 0;\n",
              "    width: 32px;\n",
              "  }\n",
              "\n",
              "  .colab-df-quickchart:hover {\n",
              "    background-color: var(--hover-bg-color);\n",
              "    box-shadow: 0 1px 2px rgba(60, 64, 67, 0.3), 0 1px 3px 1px rgba(60, 64, 67, 0.15);\n",
              "    fill: var(--button-hover-fill-color);\n",
              "  }\n",
              "\n",
              "  .colab-df-quickchart-complete:disabled,\n",
              "  .colab-df-quickchart-complete:disabled:hover {\n",
              "    background-color: var(--disabled-bg-color);\n",
              "    fill: var(--disabled-fill-color);\n",
              "    box-shadow: none;\n",
              "  }\n",
              "\n",
              "  .colab-df-spinner {\n",
              "    border: 2px solid var(--fill-color);\n",
              "    border-color: transparent;\n",
              "    border-bottom-color: var(--fill-color);\n",
              "    animation:\n",
              "      spin 1s steps(1) infinite;\n",
              "  }\n",
              "\n",
              "  @keyframes spin {\n",
              "    0% {\n",
              "      border-color: transparent;\n",
              "      border-bottom-color: var(--fill-color);\n",
              "      border-left-color: var(--fill-color);\n",
              "    }\n",
              "    20% {\n",
              "      border-color: transparent;\n",
              "      border-left-color: var(--fill-color);\n",
              "      border-top-color: var(--fill-color);\n",
              "    }\n",
              "    30% {\n",
              "      border-color: transparent;\n",
              "      border-left-color: var(--fill-color);\n",
              "      border-top-color: var(--fill-color);\n",
              "      border-right-color: var(--fill-color);\n",
              "    }\n",
              "    40% {\n",
              "      border-color: transparent;\n",
              "      border-right-color: var(--fill-color);\n",
              "      border-top-color: var(--fill-color);\n",
              "    }\n",
              "    60% {\n",
              "      border-color: transparent;\n",
              "      border-right-color: var(--fill-color);\n",
              "    }\n",
              "    80% {\n",
              "      border-color: transparent;\n",
              "      border-right-color: var(--fill-color);\n",
              "      border-bottom-color: var(--fill-color);\n",
              "    }\n",
              "    90% {\n",
              "      border-color: transparent;\n",
              "      border-bottom-color: var(--fill-color);\n",
              "    }\n",
              "  }\n",
              "</style>\n",
              "\n",
              "  <script>\n",
              "    async function quickchart(key) {\n",
              "      const quickchartButtonEl =\n",
              "        document.querySelector('#' + key + ' button');\n",
              "      quickchartButtonEl.disabled = true;  // To prevent multiple clicks.\n",
              "      quickchartButtonEl.classList.add('colab-df-spinner');\n",
              "      try {\n",
              "        const charts = await google.colab.kernel.invokeFunction(\n",
              "            'suggestCharts', [key], {});\n",
              "      } catch (error) {\n",
              "        console.error('Error during call to suggestCharts:', error);\n",
              "      }\n",
              "      quickchartButtonEl.classList.remove('colab-df-spinner');\n",
              "      quickchartButtonEl.classList.add('colab-df-quickchart-complete');\n",
              "    }\n",
              "    (() => {\n",
              "      let quickchartButtonEl =\n",
              "        document.querySelector('#df-606b7c7e-aae4-42a5-bbac-4b99c6171890 button');\n",
              "      quickchartButtonEl.style.display =\n",
              "        google.colab.kernel.accessAllowed ? 'block' : 'none';\n",
              "    })();\n",
              "  </script>\n",
              "</div>\n",
              "\n",
              "    </div>\n",
              "  </div>\n"
            ],
            "application/vnd.google.colaboratory.intrinsic+json": {
              "type": "dataframe",
              "variable_name": "sub",
              "summary": "{\n  \"name\": \"sub\",\n  \"rows\": 60411,\n  \"fields\": [\n    {\n      \"column\": \"id\",\n      \"properties\": {\n        \"dtype\": \"number\",\n        \"std\": 17439,\n        \"min\": 90615,\n        \"max\": 151025,\n        \"num_unique_values\": 60411,\n        \"samples\": [\n          91344,\n          125524,\n          107704\n        ],\n        \"semantic_type\": \"\",\n        \"description\": \"\"\n      }\n    },\n    {\n      \"column\": \"Rings\",\n      \"properties\": {\n        \"dtype\": \"number\",\n        \"std\": 2.7300136321913553,\n        \"min\": -139.37251,\n        \"max\": 23.07782,\n        \"num_unique_values\": 60164,\n        \"samples\": [\n          8.926462,\n          10.153746,\n          9.776947\n        ],\n        \"semantic_type\": \"\",\n        \"description\": \"\"\n      }\n    }\n  ]\n}"
            }
          },
          "metadata": {},
          "execution_count": 134
        }
      ]
    },
    {
      "cell_type": "code",
      "source": [
        "!kaggle competitions submit -c playground-series-s4e4 -f submission.csv -m \"rf preds + xgb_preds sub 1 with no id column all adjustment to test set preds\""
      ],
      "metadata": {
        "colab": {
          "base_uri": "https://localhost:8080/"
        },
        "id": "8XP9iPsoXnJy",
        "outputId": "65e6f5fa-a78a-4c3b-c6f6-c999a574e232"
      },
      "execution_count": null,
      "outputs": [
        {
          "output_type": "stream",
          "name": "stdout",
          "text": [
            "Warning: Looks like you're using an outdated API Version, please consider updating (server 1.6.11 / client 1.5.16)\n",
            "100% 963k/963k [00:02<00:00, 399kB/s]\n",
            "Successfully submitted to Regression with an Abalone Dataset"
          ]
        }
      ]
    },
    {
      "cell_type": "code",
      "source": [
        "!kaggle competitions submit -c playground-series-s4e4 -f submission.csv -m \"xgboost preds, nn_preds sub 1 with no id column all adjustment to test set preds\""
      ],
      "metadata": {
        "colab": {
          "base_uri": "https://localhost:8080/"
        },
        "id": "3U_EmvZzWr05",
        "outputId": "e3994eb9-1696-475e-9896-c21f21eabe15"
      },
      "execution_count": null,
      "outputs": [
        {
          "output_type": "stream",
          "name": "stdout",
          "text": [
            "Warning: Looks like you're using an outdated API Version, please consider updating (server 1.6.7 / client 1.5.16)\n",
            "100% 963k/963k [00:01<00:00, 773kB/s]\n",
            "Successfully submitted to Regression with an Abalone Dataset"
          ]
        }
      ]
    },
    {
      "cell_type": "code",
      "source": [
        "#!kaggle competitions submit -c playground-series-s4e4 -f submission.csv -m \"xgboost preds, nn_preds + random forest preds sub 3 with no id column all adjustment to test set preds\""
      ],
      "metadata": {
        "colab": {
          "base_uri": "https://localhost:8080/"
        },
        "id": "5ytbzIGhhie5",
        "outputId": "8fa2947b-38a7-4a55-9d4b-bd7e1746d682"
      },
      "execution_count": null,
      "outputs": [
        {
          "output_type": "stream",
          "name": "stdout",
          "text": [
            "Warning: Looks like you're using an outdated API Version, please consider updating (server 1.6.7 / client 1.5.16)\n",
            "100% 961k/961k [00:00<00:00, 2.28MB/s]\n",
            "Successfully submitted to Regression with an Abalone Dataset"
          ]
        }
      ]
    },
    {
      "cell_type": "code",
      "source": [],
      "metadata": {
        "id": "P5dZkB7vhicV"
      },
      "execution_count": null,
      "outputs": []
    }
  ]
}